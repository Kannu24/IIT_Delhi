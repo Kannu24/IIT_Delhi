{
 "cells": [
  {
   "cell_type": "code",
   "execution_count": 2,
   "metadata": {},
   "outputs": [],
   "source": [
    "import os\n",
    "import sagemaker\n",
    "from sagemaker.tuner import (\n",
    "    IntegerParameter,\n",
    "    CategoricalParameter,\n",
    "    ContinuousParameter,\n",
    "    HyperparameterTuner,\n",
    ")\n",
    "from sagemaker import get_execution_role\n",
    "import boto3\n",
    "from sagemaker.amazon.amazon_estimator import get_image_uri \n",
    "from sagemaker.session import s3_input, Session\n",
    "sagemaker_session = sagemaker.Session()\n",
    "role = get_execution_role()\n",
    "my_region = sagemaker_session.boto_session.region_name\n",
    "import statsmodels.formula.api as smf"
   ]
  },
  {
   "cell_type": "code",
   "execution_count": 3,
   "metadata": {},
   "outputs": [
    {
     "data": {
      "text/plain": [
       "'ap-south-1'"
      ]
     },
     "execution_count": 3,
     "metadata": {},
     "output_type": "execute_result"
    }
   ],
   "source": [
    "my_region"
   ]
  },
  {
   "cell_type": "code",
   "execution_count": 4,
   "metadata": {},
   "outputs": [],
   "source": [
    "training_data_uri = 'Latest_CV_DATA(2) (3).csv'.format(my_region)"
   ]
  },
  {
   "cell_type": "code",
   "execution_count": 5,
   "metadata": {},
   "outputs": [
    {
     "data": {
      "text/plain": [
       "'Latest_CV_DATA(2) (3).csv'"
      ]
     },
     "execution_count": 5,
     "metadata": {},
     "output_type": "execute_result"
    }
   ],
   "source": [
    "training_data_uri"
   ]
  },
  {
   "cell_type": "code",
   "execution_count": null,
   "metadata": {},
   "outputs": [],
   "source": []
  },
  {
   "cell_type": "code",
   "execution_count": 6,
   "metadata": {},
   "outputs": [],
   "source": [
    "import pandas as pd\n",
    "import numpy as np\n",
    "import matplotlib.pyplot as plt\n",
    "import seaborn as sns\n",
    "from sklearn.model_selection import train_test_split\n",
    "from sklearn.preprocessing import OneHotEncoder\n",
    "from sklearn.model_selection import RandomizedSearchCV\n",
    "pd.set_option('display.float_format', lambda x: '%0.3f' % x)\n",
    "pd.set_option('display.max_columns',100)\n",
    "pd.set_option('display.max_rows',1000)\n",
    "import warnings\n",
    "warnings.filterwarnings('ignore')"
   ]
  },
  {
   "cell_type": "code",
   "execution_count": 7,
   "metadata": {},
   "outputs": [],
   "source": [
    "df = pd.read_csv(\"Latest_CV_DATA(2) (3).csv\",encoding='latin-1')"
   ]
  },
  {
   "cell_type": "code",
   "execution_count": 8,
   "metadata": {},
   "outputs": [
    {
     "data": {
      "text/html": [
       "<div>\n",
       "<style scoped>\n",
       "    .dataframe tbody tr th:only-of-type {\n",
       "        vertical-align: middle;\n",
       "    }\n",
       "\n",
       "    .dataframe tbody tr th {\n",
       "        vertical-align: top;\n",
       "    }\n",
       "\n",
       "    .dataframe thead th {\n",
       "        text-align: right;\n",
       "    }\n",
       "</style>\n",
       "<table border=\"1\" class=\"dataframe\">\n",
       "  <thead>\n",
       "    <tr style=\"text-align: right;\">\n",
       "      <th></th>\n",
       "      <th>SRNO</th>\n",
       "      <th>UNIQUESERIALNO</th>\n",
       "      <th>SOLD_DATE</th>\n",
       "      <th>MAKEYEAR</th>\n",
       "      <th>Make_Clean</th>\n",
       "      <th>CLEANEDModel</th>\n",
       "      <th>CLEANEDVariant</th>\n",
       "      <th>CLEANEDfueltype</th>\n",
       "      <th>mixmmvfuelcleaned</th>\n",
       "      <th>BODYTYPE</th>\n",
       "      <th>SUBBODYTYPE</th>\n",
       "      <th>CLEANEDWHEEL</th>\n",
       "      <th>CLEANEDGVW/SEATING CAPACITY</th>\n",
       "      <th>SOLDAMOUNT</th>\n",
       "      <th>STATE_MAPPED</th>\n",
       "      <th>VEHICLENO</th>\n",
       "      <th>METERREADING</th>\n",
       "      <th>UCR</th>\n",
       "      <th>SHROTCOND_MAPPED</th>\n",
       "      <th>INSDT</th>\n",
       "      <th>TAX</th>\n",
       "      <th>PERMIT_MAPPED</th>\n",
       "      <th>SELLERCORPORATENAME</th>\n",
       "      <th>SELLERID</th>\n",
       "      <th>SELLERNAME</th>\n",
       "      <th>KEYREFNUMBER</th>\n",
       "      <th>INV_H_RC_STATUS_CLEANED_MAPPED</th>\n",
       "      <th>Vehicle_Codition</th>\n",
       "      <th>SELLER SEGMENT</th>\n",
       "      <th>Meter_Reading</th>\n",
       "    </tr>\n",
       "  </thead>\n",
       "  <tbody>\n",
       "    <tr>\n",
       "      <th>0</th>\n",
       "      <td>1</td>\n",
       "      <td>S20091800155</td>\n",
       "      <td>26-11-2020</td>\n",
       "      <td>2013</td>\n",
       "      <td>AMW</td>\n",
       "      <td>2516HL</td>\n",
       "      <td>6X2CARGOTRUCK</td>\n",
       "      <td>DIESEL</td>\n",
       "      <td>AMW2516HL6X2CARGOTRUCKDIESEL</td>\n",
       "      <td>HAULAGE TRUCK</td>\n",
       "      <td>10 WHEELS / GVW 25000KG TO 28500KG /RIGID BODY</td>\n",
       "      <td>10</td>\n",
       "      <td>25000</td>\n",
       "      <td>445000</td>\n",
       "      <td>Gujarat</td>\n",
       "      <td>GJ16Z6727</td>\n",
       "      <td>246368</td>\n",
       "      <td>20%</td>\n",
       "      <td>FAIR</td>\n",
       "      <td>Live : 28/02/2021</td>\n",
       "      <td>Expired : 30/09/2019</td>\n",
       "      <td>NOT AVAILABLE</td>\n",
       "      <td>a9</td>\n",
       "      <td>AP000337591</td>\n",
       "      <td>JAYESHBHAI  ZAVERBHAI PATEL</td>\n",
       "      <td>BHARUO608090001</td>\n",
       "      <td>ORIGINAL RC</td>\n",
       "      <td>MOVABLE</td>\n",
       "      <td>RETAIL</td>\n",
       "      <td>490620.000</td>\n",
       "    </tr>\n",
       "    <tr>\n",
       "      <th>1</th>\n",
       "      <td>2</td>\n",
       "      <td>S21092900303</td>\n",
       "      <td>09-11-2021</td>\n",
       "      <td>2010</td>\n",
       "      <td>AMW</td>\n",
       "      <td>2516HL</td>\n",
       "      <td>6X2CARGOTRUCK</td>\n",
       "      <td>DIESEL</td>\n",
       "      <td>AMW2516HL6X2CARGOTRUCKDIESEL</td>\n",
       "      <td>HAULAGE TRUCK</td>\n",
       "      <td>10 WHEELS / GVW 25000KG TO 28500KG /RIGID BODY</td>\n",
       "      <td>10</td>\n",
       "      <td>25000</td>\n",
       "      <td>315000</td>\n",
       "      <td>TamilNadu</td>\n",
       "      <td>TN22BT4664</td>\n",
       "      <td>NaN</td>\n",
       "      <td>0.2</td>\n",
       "      <td>FAIR</td>\n",
       "      <td>Live : 29/03/2022</td>\n",
       "      <td>Expired : 31/03/2021</td>\n",
       "      <td>NOT AVAILABLE</td>\n",
       "      <td>a9</td>\n",
       "      <td>AC000156811</td>\n",
       "      <td>CHINNAVELLAI  CHINNAVELLAI</td>\n",
       "      <td>ARUPKT908140010</td>\n",
       "      <td>Original RC</td>\n",
       "      <td>IMMOVABLE</td>\n",
       "      <td>Insurance</td>\n",
       "      <td>736100.000</td>\n",
       "    </tr>\n",
       "    <tr>\n",
       "      <th>2</th>\n",
       "      <td>3</td>\n",
       "      <td>MKTCV1</td>\n",
       "      <td>01-01-2022</td>\n",
       "      <td>2005</td>\n",
       "      <td>AMW</td>\n",
       "      <td>2516HL</td>\n",
       "      <td>6X2CARGOTRUCK</td>\n",
       "      <td>DIESEL</td>\n",
       "      <td>AMW2516HL6X2CARGOTRUCKDIESEL</td>\n",
       "      <td>HAULAGE TRUCK</td>\n",
       "      <td>10 WHEELS / GVW 25000KG TO 28500KG /RIGID BODY</td>\n",
       "      <td>10</td>\n",
       "      <td>25000</td>\n",
       "      <td>231646</td>\n",
       "      <td>Madhya Pradesh</td>\n",
       "      <td>NaN</td>\n",
       "      <td>NaN</td>\n",
       "      <td>40-50%</td>\n",
       "      <td>GOOD</td>\n",
       "      <td>LIVE</td>\n",
       "      <td>VALID</td>\n",
       "      <td>VALID</td>\n",
       "      <td>NaN</td>\n",
       "      <td>NaN</td>\n",
       "      <td>NaN</td>\n",
       "      <td>NaN</td>\n",
       "      <td>ORIGINAL RC</td>\n",
       "      <td>MOVABLE</td>\n",
       "      <td>OEM</td>\n",
       "      <td>1112310.000</td>\n",
       "    </tr>\n",
       "    <tr>\n",
       "      <th>3</th>\n",
       "      <td>4</td>\n",
       "      <td>MKTCV2</td>\n",
       "      <td>01-01-2021</td>\n",
       "      <td>2005</td>\n",
       "      <td>AMW</td>\n",
       "      <td>2516HL</td>\n",
       "      <td>6X2CARGOTRUCK</td>\n",
       "      <td>DIESEL</td>\n",
       "      <td>AMW2516HL6X2CARGOTRUCKDIESEL</td>\n",
       "      <td>HAULAGE TRUCK</td>\n",
       "      <td>10 WHEELS / GVW 25000KG TO 28500KG /RIGID BODY</td>\n",
       "      <td>10</td>\n",
       "      <td>25000</td>\n",
       "      <td>243837</td>\n",
       "      <td>Bihar</td>\n",
       "      <td>NaN</td>\n",
       "      <td>NaN</td>\n",
       "      <td>40-50%</td>\n",
       "      <td>GOOD</td>\n",
       "      <td>LIVE</td>\n",
       "      <td>VALID</td>\n",
       "      <td>VALID</td>\n",
       "      <td>NaN</td>\n",
       "      <td>NaN</td>\n",
       "      <td>NaN</td>\n",
       "      <td>NaN</td>\n",
       "      <td>ORIGINAL RC</td>\n",
       "      <td>MOVABLE</td>\n",
       "      <td>OEM</td>\n",
       "      <td>1050260.000</td>\n",
       "    </tr>\n",
       "    <tr>\n",
       "      <th>4</th>\n",
       "      <td>5</td>\n",
       "      <td>MKTCV3</td>\n",
       "      <td>01-01-2022</td>\n",
       "      <td>2006</td>\n",
       "      <td>AMW</td>\n",
       "      <td>2516HL</td>\n",
       "      <td>6X2CARGOTRUCK</td>\n",
       "      <td>DIESEL</td>\n",
       "      <td>AMW2516HL6X2CARGOTRUCKDIESEL</td>\n",
       "      <td>HAULAGE TRUCK</td>\n",
       "      <td>10 WHEELS / GVW 25000KG TO 28500KG /RIGID BODY</td>\n",
       "      <td>10</td>\n",
       "      <td>25000</td>\n",
       "      <td>243837</td>\n",
       "      <td>Haryana</td>\n",
       "      <td>NaN</td>\n",
       "      <td>NaN</td>\n",
       "      <td>40-50%</td>\n",
       "      <td>GOOD</td>\n",
       "      <td>LIVE</td>\n",
       "      <td>VALID</td>\n",
       "      <td>VALID</td>\n",
       "      <td>NaN</td>\n",
       "      <td>NaN</td>\n",
       "      <td>NaN</td>\n",
       "      <td>NaN</td>\n",
       "      <td>ORIGINAL RC</td>\n",
       "      <td>MOVABLE</td>\n",
       "      <td>OEM</td>\n",
       "      <td>1050260.000</td>\n",
       "    </tr>\n",
       "  </tbody>\n",
       "</table>\n",
       "</div>"
      ],
      "text/plain": [
       "   SRNO UNIQUESERIALNO   SOLD_DATE  MAKEYEAR Make_Clean CLEANEDModel  \\\n",
       "0     1   S20091800155  26-11-2020      2013        AMW       2516HL   \n",
       "1     2   S21092900303  09-11-2021      2010        AMW       2516HL   \n",
       "2     3         MKTCV1  01-01-2022      2005        AMW       2516HL   \n",
       "3     4         MKTCV2  01-01-2021      2005        AMW       2516HL   \n",
       "4     5         MKTCV3  01-01-2022      2006        AMW       2516HL   \n",
       "\n",
       "  CLEANEDVariant CLEANEDfueltype             mixmmvfuelcleaned       BODYTYPE  \\\n",
       "0  6X2CARGOTRUCK          DIESEL  AMW2516HL6X2CARGOTRUCKDIESEL  HAULAGE TRUCK   \n",
       "1  6X2CARGOTRUCK          DIESEL  AMW2516HL6X2CARGOTRUCKDIESEL  HAULAGE TRUCK   \n",
       "2  6X2CARGOTRUCK          DIESEL  AMW2516HL6X2CARGOTRUCKDIESEL  HAULAGE TRUCK   \n",
       "3  6X2CARGOTRUCK          DIESEL  AMW2516HL6X2CARGOTRUCKDIESEL  HAULAGE TRUCK   \n",
       "4  6X2CARGOTRUCK          DIESEL  AMW2516HL6X2CARGOTRUCKDIESEL  HAULAGE TRUCK   \n",
       "\n",
       "                                      SUBBODYTYPE CLEANEDWHEEL  \\\n",
       "0  10 WHEELS / GVW 25000KG TO 28500KG /RIGID BODY           10   \n",
       "1  10 WHEELS / GVW 25000KG TO 28500KG /RIGID BODY           10   \n",
       "2  10 WHEELS / GVW 25000KG TO 28500KG /RIGID BODY           10   \n",
       "3  10 WHEELS / GVW 25000KG TO 28500KG /RIGID BODY           10   \n",
       "4  10 WHEELS / GVW 25000KG TO 28500KG /RIGID BODY           10   \n",
       "\n",
       "  CLEANEDGVW/SEATING CAPACITY  SOLDAMOUNT    STATE_MAPPED   VEHICLENO  \\\n",
       "0                       25000      445000         Gujarat   GJ16Z6727   \n",
       "1                       25000      315000       TamilNadu  TN22BT4664   \n",
       "2                       25000      231646  Madhya Pradesh         NaN   \n",
       "3                       25000      243837           Bihar         NaN   \n",
       "4                       25000      243837         Haryana         NaN   \n",
       "\n",
       "  METERREADING     UCR SHROTCOND_MAPPED              INSDT  \\\n",
       "0       246368     20%             FAIR  Live : 28/02/2021   \n",
       "1          NaN     0.2             FAIR  Live : 29/03/2022   \n",
       "2          NaN  40-50%             GOOD               LIVE   \n",
       "3          NaN  40-50%             GOOD               LIVE   \n",
       "4          NaN  40-50%             GOOD               LIVE   \n",
       "\n",
       "                    TAX  PERMIT_MAPPED SELLERCORPORATENAME     SELLERID  \\\n",
       "0  Expired : 30/09/2019  NOT AVAILABLE                  a9  AP000337591   \n",
       "1  Expired : 31/03/2021  NOT AVAILABLE                  a9  AC000156811   \n",
       "2                 VALID          VALID                 NaN          NaN   \n",
       "3                 VALID          VALID                 NaN          NaN   \n",
       "4                 VALID          VALID                 NaN          NaN   \n",
       "\n",
       "                    SELLERNAME     KEYREFNUMBER  \\\n",
       "0  JAYESHBHAI  ZAVERBHAI PATEL  BHARUO608090001   \n",
       "1   CHINNAVELLAI  CHINNAVELLAI  ARUPKT908140010   \n",
       "2                          NaN              NaN   \n",
       "3                          NaN              NaN   \n",
       "4                          NaN              NaN   \n",
       "\n",
       "  INV_H_RC_STATUS_CLEANED_MAPPED Vehicle_Codition SELLER SEGMENT  \\\n",
       "0                    ORIGINAL RC          MOVABLE         RETAIL   \n",
       "1                    Original RC        IMMOVABLE      Insurance   \n",
       "2                    ORIGINAL RC          MOVABLE            OEM   \n",
       "3                    ORIGINAL RC          MOVABLE            OEM   \n",
       "4                    ORIGINAL RC          MOVABLE            OEM   \n",
       "\n",
       "   Meter_Reading  \n",
       "0     490620.000  \n",
       "1     736100.000  \n",
       "2    1112310.000  \n",
       "3    1050260.000  \n",
       "4    1050260.000  "
      ]
     },
     "execution_count": 8,
     "metadata": {},
     "output_type": "execute_result"
    }
   ],
   "source": [
    "df.head()"
   ]
  },
  {
   "cell_type": "code",
   "execution_count": 9,
   "metadata": {},
   "outputs": [
    {
     "data": {
      "text/plain": [
       "(403890, 30)"
      ]
     },
     "execution_count": 9,
     "metadata": {},
     "output_type": "execute_result"
    }
   ],
   "source": [
    "df.shape"
   ]
  },
  {
   "cell_type": "code",
   "execution_count": 10,
   "metadata": {},
   "outputs": [
    {
     "data": {
      "text/html": [
       "<div>\n",
       "<style scoped>\n",
       "    .dataframe tbody tr th:only-of-type {\n",
       "        vertical-align: middle;\n",
       "    }\n",
       "\n",
       "    .dataframe tbody tr th {\n",
       "        vertical-align: top;\n",
       "    }\n",
       "\n",
       "    .dataframe thead th {\n",
       "        text-align: right;\n",
       "    }\n",
       "</style>\n",
       "<table border=\"1\" class=\"dataframe\">\n",
       "  <thead>\n",
       "    <tr style=\"text-align: right;\">\n",
       "      <th></th>\n",
       "      <th>SRNO</th>\n",
       "      <th>MAKEYEAR</th>\n",
       "      <th>SOLDAMOUNT</th>\n",
       "      <th>Meter_Reading</th>\n",
       "    </tr>\n",
       "  </thead>\n",
       "  <tbody>\n",
       "    <tr>\n",
       "      <th>count</th>\n",
       "      <td>403890.000</td>\n",
       "      <td>403890.000</td>\n",
       "      <td>403890.000</td>\n",
       "      <td>403867.000</td>\n",
       "    </tr>\n",
       "    <tr>\n",
       "      <th>mean</th>\n",
       "      <td>189375.979</td>\n",
       "      <td>2010.978</td>\n",
       "      <td>381405.631</td>\n",
       "      <td>349146.631</td>\n",
       "    </tr>\n",
       "    <tr>\n",
       "      <th>std</th>\n",
       "      <td>111435.326</td>\n",
       "      <td>14.693</td>\n",
       "      <td>513702.556</td>\n",
       "      <td>305155.394</td>\n",
       "    </tr>\n",
       "    <tr>\n",
       "      <th>min</th>\n",
       "      <td>1.000</td>\n",
       "      <td>0.000</td>\n",
       "      <td>33.000</td>\n",
       "      <td>3040.000</td>\n",
       "    </tr>\n",
       "    <tr>\n",
       "      <th>25%</th>\n",
       "      <td>90500.000</td>\n",
       "      <td>2008.000</td>\n",
       "      <td>95000.000</td>\n",
       "      <td>133700.000</td>\n",
       "    </tr>\n",
       "    <tr>\n",
       "      <th>50%</th>\n",
       "      <td>185353.500</td>\n",
       "      <td>2011.000</td>\n",
       "      <td>185000.000</td>\n",
       "      <td>229950.000</td>\n",
       "    </tr>\n",
       "    <tr>\n",
       "      <th>75%</th>\n",
       "      <td>286325.750</td>\n",
       "      <td>2015.000</td>\n",
       "      <td>441055.000</td>\n",
       "      <td>491470.000</td>\n",
       "    </tr>\n",
       "    <tr>\n",
       "      <th>max</th>\n",
       "      <td>387298.000</td>\n",
       "      <td>2022.000</td>\n",
       "      <td>9728000.000</td>\n",
       "      <td>2862120.000</td>\n",
       "    </tr>\n",
       "  </tbody>\n",
       "</table>\n",
       "</div>"
      ],
      "text/plain": [
       "            SRNO   MAKEYEAR  SOLDAMOUNT  Meter_Reading\n",
       "count 403890.000 403890.000  403890.000     403867.000\n",
       "mean  189375.979   2010.978  381405.631     349146.631\n",
       "std   111435.326     14.693  513702.556     305155.394\n",
       "min        1.000      0.000      33.000       3040.000\n",
       "25%    90500.000   2008.000   95000.000     133700.000\n",
       "50%   185353.500   2011.000  185000.000     229950.000\n",
       "75%   286325.750   2015.000  441055.000     491470.000\n",
       "max   387298.000   2022.000 9728000.000    2862120.000"
      ]
     },
     "execution_count": 10,
     "metadata": {},
     "output_type": "execute_result"
    }
   ],
   "source": [
    "df.describe()"
   ]
  },
  {
   "cell_type": "code",
   "execution_count": 11,
   "metadata": {},
   "outputs": [
    {
     "data": {
      "text/plain": [
       "array(['AMW', 'ASHOKLEYLAND', 'ASHOK LEYLAND', 'BAJAJTEMPO', 'BHARATBENZ',\n",
       "       'DECANAUTO', 'EICHER', 'Eicher', 'FORCE', 'FORCEMAN', 'Force',\n",
       "       'FUEL', 'HINDUSTAN', 'ICML', 'MAHINDRA', 'Mahindra', 'MARUTI',\n",
       "       'MARUTISUZUKI', 'MITSUBISHI', 'PIAGGIO', 'PREMIER', 'SCANIA',\n",
       "       'SMLISUZU', 'SWARAJMAZDA', 'TATA', 'TOYOTA', 'TRATEC', 'URAL',\n",
       "       'VOLVO'], dtype=object)"
      ]
     },
     "execution_count": 11,
     "metadata": {},
     "output_type": "execute_result"
    }
   ],
   "source": [
    "df['Make_Clean'].unique()"
   ]
  },
  {
   "cell_type": "code",
   "execution_count": 12,
   "metadata": {},
   "outputs": [],
   "source": [
    "df['Make_Clean'].replace({'ASHOK LEYLAND':'ASHOKLEYLAND'},inplace = True)"
   ]
  },
  {
   "cell_type": "code",
   "execution_count": 13,
   "metadata": {},
   "outputs": [
    {
     "data": {
      "text/plain": [
       "array(['AMW', 'ASHOKLEYLAND', 'BAJAJTEMPO', 'BHARATBENZ', 'DECANAUTO',\n",
       "       'EICHER', 'Eicher', 'FORCE', 'FORCEMAN', 'Force', 'FUEL',\n",
       "       'HINDUSTAN', 'ICML', 'MAHINDRA', 'Mahindra', 'MARUTI',\n",
       "       'MARUTISUZUKI', 'MITSUBISHI', 'PIAGGIO', 'PREMIER', 'SCANIA',\n",
       "       'SMLISUZU', 'SWARAJMAZDA', 'TATA', 'TOYOTA', 'TRATEC', 'URAL',\n",
       "       'VOLVO'], dtype=object)"
      ]
     },
     "execution_count": 13,
     "metadata": {},
     "output_type": "execute_result"
    }
   ],
   "source": [
    "df['Make_Clean'].unique()"
   ]
  },
  {
   "cell_type": "code",
   "execution_count": null,
   "metadata": {},
   "outputs": [],
   "source": []
  },
  {
   "cell_type": "code",
   "execution_count": 164,
   "metadata": {},
   "outputs": [
    {
     "data": {
      "text/plain": [
       "TamilNadu                 69602\n",
       "Andhra Pradesh            69350\n",
       "Karnataka                 38034\n",
       "Maharashtra               23227\n",
       "UttarPradesh              19787\n",
       "Chandigarh                12064\n",
       "Gujarat                   11929\n",
       "Rajasthan                 11883\n",
       "Madhya Pradesh            11655\n",
       "Kerala                    10798\n",
       "WestBengal                 9037\n",
       "Haryana                    8127\n",
       "Himachal Pradesh           5762\n",
       "Jharkhand                  5605\n",
       "ODISHA                     5278\n",
       "Bihar                      5205\n",
       "Assam                      5143\n",
       "Puducherry                 5081\n",
       "Delhi                      4516\n",
       "Jammu & Kashmir            4326\n",
       "Punjab                     4247\n",
       "Uttarakhand                4011\n",
       "Nagaland                   3717\n",
       "Goa                        3545\n",
       "Tripura                    3493\n",
       "Dadar And Nagar Haveli     3492\n",
       "Mizoram                    3419\n",
       "Arunachal Pradesh          3419\n",
       "Sikkim                     3417\n",
       "Meghalaya                  3411\n",
       "Telangana                  3409\n",
       "Lakshadweep                3397\n",
       "Daman and Diu              3395\n",
       "Manipur                    3394\n",
       "BIHAR and JKD              1394\n",
       "UTTAR PRADESH              1066\n",
       "WEST BENGAL                1015\n",
       "PUNE                        916\n",
       "CHENNAI                     851\n",
       "NORTH EAST                  789\n",
       "MADHYA PRADESH              734\n",
       "KERALA                      680\n",
       "COIMBATORE                  662\n",
       "VIJAYAWADA                  657\n",
       "PUNJAB HP and JK            606\n",
       "CHATTISGARH                 589\n",
       "NAGPUR                      557\n",
       "MUMBAI and GOA              549\n",
       "MADURAI                     547\n",
       "PUDUCHERRY                  523\n",
       "RAJASTHAN                   494\n",
       "UTTARAKHAND                 465\n",
       "TRICHY                      428\n",
       "MANGALORE                   419\n",
       "HUBLI                       418\n",
       "SECUNDERABAD                402\n",
       "HYDERABAD                   389\n",
       "GUJARAT                     355\n",
       "TELANGANA                   339\n",
       "KURNOOL                     313\n",
       "WARANGAL                    304\n",
       "JHARKHAND                   265\n",
       "BANGALORE                   226\n",
       "HARYANA                     199\n",
       "BIHAR                       197\n",
       "KARNATAKA                   156\n",
       "TAMILNADU                    85\n",
       "DELHI and NCR                75\n",
       "Daman And Diu                23\n",
       "MAHARASHTRA                  20\n",
       "GOA                           7\n",
       "DELHI                         1\n",
       "Name: STATE_MAPPED, dtype: int64"
      ]
     },
     "execution_count": 164,
     "metadata": {},
     "output_type": "execute_result"
    }
   ],
   "source": [
    "df['STATE_MAPPED'].value_counts()"
   ]
  },
  {
   "cell_type": "code",
   "execution_count": 165,
   "metadata": {},
   "outputs": [
    {
     "data": {
      "text/plain": [
       "Insurance    142444\n",
       "RETAIL       130957\n",
       "OEM           73604\n",
       "Leasing       40274\n",
       "BANK&NBFC     16611\n",
       "Name: SELLER SEGMENT, dtype: int64"
      ]
     },
     "execution_count": 165,
     "metadata": {},
     "output_type": "execute_result"
    }
   ],
   "source": [
    "df['SELLER SEGMENT'].value_counts()"
   ]
  },
  {
   "cell_type": "code",
   "execution_count": 166,
   "metadata": {},
   "outputs": [],
   "source": [
    "data=df.copy()"
   ]
  },
  {
   "cell_type": "code",
   "execution_count": 167,
   "metadata": {},
   "outputs": [
    {
     "data": {
      "text/plain": [
       "(403890, 30)"
      ]
     },
     "execution_count": 167,
     "metadata": {},
     "output_type": "execute_result"
    }
   ],
   "source": [
    "data.shape"
   ]
  },
  {
   "cell_type": "code",
   "execution_count": 168,
   "metadata": {},
   "outputs": [],
   "source": [
    "def uppper(df,col):\n",
    "    df[col]=df[col].str.upper()\n",
    "    df[col]=df[col].str.replace(' ','')\n",
    "    return df[col]"
   ]
  },
  {
   "cell_type": "code",
   "execution_count": 169,
   "metadata": {},
   "outputs": [],
   "source": [
    "def encoding(data,col,col_1,model):\n",
    "    print(model.head())\n",
    "    temp = pd.read_csv(data+'.csv',encoding='CP1252')\n",
    "    temp[col]=uppper(temp,col)\n",
    "    model_temp = pd.DataFrame()\n",
    "    labels_temp_map = dict(zip(temp[col],temp['Id (Encoding)']))\n",
    "    model_temp[col_1] = model[col_1].map(labels_temp_map)\n",
    "    print(model.head())\n",
    "    return model_temp[col_1]"
   ]
  },
  {
   "cell_type": "code",
   "execution_count": 170,
   "metadata": {},
   "outputs": [],
   "source": [
    "def df_reset(df):\n",
    "    return pd.DataFrame()"
   ]
  },
  {
   "cell_type": "code",
   "execution_count": 171,
   "metadata": {},
   "outputs": [],
   "source": [
    "data.rename(columns={'CLEANEDMake':'Make_Clean'},inplace=True)\n",
    "data.rename(columns={'CLEANEDModel':'Model_Clean'},inplace=True)\n",
    "data.rename(columns={'CLEANEDVariant':'Variant_Clean'},inplace=True)"
   ]
  },
  {
   "cell_type": "code",
   "execution_count": 172,
   "metadata": {},
   "outputs": [],
   "source": [
    "data.rename(columns={'CLEANEDfueltype':'Fuel_Clean'},inplace=True)\n",
    "data.rename(columns={'STATE_MAPPED':'CV_State_Clean'},inplace=True)\n",
    "data.rename(columns={'MAKEYEAR':'MAKE_YEAR'},inplace=True)"
   ]
  },
  {
   "cell_type": "code",
   "execution_count": 173,
   "metadata": {},
   "outputs": [],
   "source": [
    "data['Make_Clean']=uppper(data,'Make_Clean')\n",
    "data['Model_Clean']=uppper(data,'Model_Clean')\n",
    "data['Variant_Clean']=uppper(data,'Variant_Clean')\n",
    "data['Fuel_Clean']=uppper(data,'Fuel_Clean')\n",
    "data['CV_State_Clean']=uppper(data,'CV_State_Clean')"
   ]
  },
  {
   "cell_type": "code",
   "execution_count": 174,
   "metadata": {},
   "outputs": [
    {
     "data": {
      "text/plain": [
       "SRNO                                   0\n",
       "UNIQUESERIALNO                         0\n",
       "SOLD_DATE                              0\n",
       "MAKE_YEAR                              0\n",
       "Make_Clean                             0\n",
       "Model_Clean                            0\n",
       "Variant_Clean                          0\n",
       "Fuel_Clean                             0\n",
       "mixmmvfuelcleaned                      0\n",
       "BODYTYPE                               0\n",
       "SUBBODYTYPE                            0\n",
       "CLEANEDWHEEL                           0\n",
       "CLEANEDGVW/SEATING CAPACITY           10\n",
       "SOLDAMOUNT                             0\n",
       "CV_State_Clean                         0\n",
       "VEHICLENO                         113878\n",
       "METERREADING                      291934\n",
       "UCR                               115772\n",
       "SHROTCOND_MAPPED                       4\n",
       "INSDT                                591\n",
       "TAX                                   85\n",
       "PERMIT_MAPPED                      10636\n",
       "SELLERCORPORATENAME               173054\n",
       "SELLERID                          113883\n",
       "SELLERNAME                        113878\n",
       "KEYREFNUMBER                      114469\n",
       "INV_H_RC_STATUS_CLEANED_MAPPED         1\n",
       "Vehicle_Codition                       0\n",
       "SELLER SEGMENT                         0\n",
       "Meter_Reading                         23\n",
       "dtype: int64"
      ]
     },
     "execution_count": 174,
     "metadata": {},
     "output_type": "execute_result"
    }
   ],
   "source": [
    "data.isnull().sum()"
   ]
  },
  {
   "cell_type": "code",
   "execution_count": 175,
   "metadata": {},
   "outputs": [],
   "source": [
    "data['MMV']= data['Make_Clean']+'_'+data['Model_Clean']+'_'+data['Variant_Clean']"
   ]
  },
  {
   "cell_type": "code",
   "execution_count": 176,
   "metadata": {},
   "outputs": [],
   "source": [
    "df_1= data.copy()"
   ]
  },
  {
   "cell_type": "code",
   "execution_count": 177,
   "metadata": {},
   "outputs": [
    {
     "data": {
      "text/plain": [
       "(403890, 31)"
      ]
     },
     "execution_count": 177,
     "metadata": {},
     "output_type": "execute_result"
    }
   ],
   "source": [
    "df_1.shape"
   ]
  },
  {
   "cell_type": "code",
   "execution_count": 178,
   "metadata": {},
   "outputs": [
    {
     "data": {
      "text/plain": [
       "33"
      ]
     },
     "execution_count": 178,
     "metadata": {},
     "output_type": "execute_result"
    }
   ],
   "source": [
    "df_1['SOLDAMOUNT'].min()"
   ]
  },
  {
   "cell_type": "code",
   "execution_count": 179,
   "metadata": {},
   "outputs": [
    {
     "data": {
      "text/plain": [
       "9728000"
      ]
     },
     "execution_count": 179,
     "metadata": {},
     "output_type": "execute_result"
    }
   ],
   "source": [
    "df_1['SOLDAMOUNT'].max()"
   ]
  },
  {
   "cell_type": "code",
   "execution_count": 180,
   "metadata": {},
   "outputs": [],
   "source": [
    "df_3 = df_1[df_1['MMV'].map(df_1['MMV'].value_counts()) >=10]"
   ]
  },
  {
   "cell_type": "code",
   "execution_count": 181,
   "metadata": {},
   "outputs": [
    {
     "data": {
      "text/plain": [
       "(403631, 31)"
      ]
     },
     "execution_count": 181,
     "metadata": {},
     "output_type": "execute_result"
    }
   ],
   "source": [
    "df_3.shape"
   ]
  },
  {
   "cell_type": "code",
   "execution_count": 182,
   "metadata": {},
   "outputs": [],
   "source": [
    "df_4 = df_3[df_3['MAKE_YEAR']>=2005]"
   ]
  },
  {
   "cell_type": "code",
   "execution_count": 183,
   "metadata": {},
   "outputs": [
    {
     "data": {
      "text/plain": [
       "(372622, 31)"
      ]
     },
     "execution_count": 183,
     "metadata": {},
     "output_type": "execute_result"
    }
   ],
   "source": [
    "df_4.shape"
   ]
  },
  {
   "cell_type": "code",
   "execution_count": 184,
   "metadata": {},
   "outputs": [
    {
     "data": {
      "text/html": [
       "<div>\n",
       "<style scoped>\n",
       "    .dataframe tbody tr th:only-of-type {\n",
       "        vertical-align: middle;\n",
       "    }\n",
       "\n",
       "    .dataframe tbody tr th {\n",
       "        vertical-align: top;\n",
       "    }\n",
       "\n",
       "    .dataframe thead th {\n",
       "        text-align: right;\n",
       "    }\n",
       "</style>\n",
       "<table border=\"1\" class=\"dataframe\">\n",
       "  <thead>\n",
       "    <tr style=\"text-align: right;\">\n",
       "      <th></th>\n",
       "      <th>SRNO</th>\n",
       "      <th>UNIQUESERIALNO</th>\n",
       "      <th>SOLD_DATE</th>\n",
       "      <th>MAKE_YEAR</th>\n",
       "      <th>Make_Clean</th>\n",
       "      <th>Model_Clean</th>\n",
       "      <th>Variant_Clean</th>\n",
       "      <th>Fuel_Clean</th>\n",
       "      <th>mixmmvfuelcleaned</th>\n",
       "      <th>BODYTYPE</th>\n",
       "      <th>SUBBODYTYPE</th>\n",
       "      <th>CLEANEDWHEEL</th>\n",
       "      <th>CLEANEDGVW/SEATING CAPACITY</th>\n",
       "      <th>SOLDAMOUNT</th>\n",
       "      <th>CV_State_Clean</th>\n",
       "      <th>VEHICLENO</th>\n",
       "      <th>METERREADING</th>\n",
       "      <th>UCR</th>\n",
       "      <th>SHROTCOND_MAPPED</th>\n",
       "      <th>INSDT</th>\n",
       "      <th>TAX</th>\n",
       "      <th>PERMIT_MAPPED</th>\n",
       "      <th>SELLERCORPORATENAME</th>\n",
       "      <th>SELLERID</th>\n",
       "      <th>SELLERNAME</th>\n",
       "      <th>KEYREFNUMBER</th>\n",
       "      <th>INV_H_RC_STATUS_CLEANED_MAPPED</th>\n",
       "      <th>Vehicle_Codition</th>\n",
       "      <th>SELLER SEGMENT</th>\n",
       "      <th>Meter_Reading</th>\n",
       "      <th>MMV</th>\n",
       "    </tr>\n",
       "  </thead>\n",
       "  <tbody>\n",
       "    <tr>\n",
       "      <th>0</th>\n",
       "      <td>1</td>\n",
       "      <td>S20091800155</td>\n",
       "      <td>26-11-2020</td>\n",
       "      <td>2013</td>\n",
       "      <td>AMW</td>\n",
       "      <td>2516HL</td>\n",
       "      <td>6X2CARGOTRUCK</td>\n",
       "      <td>DIESEL</td>\n",
       "      <td>AMW2516HL6X2CARGOTRUCKDIESEL</td>\n",
       "      <td>HAULAGE TRUCK</td>\n",
       "      <td>10 WHEELS / GVW 25000KG TO 28500KG /RIGID BODY</td>\n",
       "      <td>10</td>\n",
       "      <td>25000</td>\n",
       "      <td>445000</td>\n",
       "      <td>GUJARAT</td>\n",
       "      <td>GJ16Z6727</td>\n",
       "      <td>246368</td>\n",
       "      <td>20%</td>\n",
       "      <td>FAIR</td>\n",
       "      <td>Live : 28/02/2021</td>\n",
       "      <td>Expired : 30/09/2019</td>\n",
       "      <td>NOT AVAILABLE</td>\n",
       "      <td>a9</td>\n",
       "      <td>AP000337591</td>\n",
       "      <td>JAYESHBHAI  ZAVERBHAI PATEL</td>\n",
       "      <td>BHARUO608090001</td>\n",
       "      <td>ORIGINAL RC</td>\n",
       "      <td>MOVABLE</td>\n",
       "      <td>RETAIL</td>\n",
       "      <td>490620.000</td>\n",
       "      <td>AMW_2516HL_6X2CARGOTRUCK</td>\n",
       "    </tr>\n",
       "    <tr>\n",
       "      <th>1</th>\n",
       "      <td>2</td>\n",
       "      <td>S21092900303</td>\n",
       "      <td>09-11-2021</td>\n",
       "      <td>2010</td>\n",
       "      <td>AMW</td>\n",
       "      <td>2516HL</td>\n",
       "      <td>6X2CARGOTRUCK</td>\n",
       "      <td>DIESEL</td>\n",
       "      <td>AMW2516HL6X2CARGOTRUCKDIESEL</td>\n",
       "      <td>HAULAGE TRUCK</td>\n",
       "      <td>10 WHEELS / GVW 25000KG TO 28500KG /RIGID BODY</td>\n",
       "      <td>10</td>\n",
       "      <td>25000</td>\n",
       "      <td>315000</td>\n",
       "      <td>TAMILNADU</td>\n",
       "      <td>TN22BT4664</td>\n",
       "      <td>NaN</td>\n",
       "      <td>0.2</td>\n",
       "      <td>FAIR</td>\n",
       "      <td>Live : 29/03/2022</td>\n",
       "      <td>Expired : 31/03/2021</td>\n",
       "      <td>NOT AVAILABLE</td>\n",
       "      <td>a9</td>\n",
       "      <td>AC000156811</td>\n",
       "      <td>CHINNAVELLAI  CHINNAVELLAI</td>\n",
       "      <td>ARUPKT908140010</td>\n",
       "      <td>Original RC</td>\n",
       "      <td>IMMOVABLE</td>\n",
       "      <td>Insurance</td>\n",
       "      <td>736100.000</td>\n",
       "      <td>AMW_2516HL_6X2CARGOTRUCK</td>\n",
       "    </tr>\n",
       "    <tr>\n",
       "      <th>2</th>\n",
       "      <td>3</td>\n",
       "      <td>MKTCV1</td>\n",
       "      <td>01-01-2022</td>\n",
       "      <td>2005</td>\n",
       "      <td>AMW</td>\n",
       "      <td>2516HL</td>\n",
       "      <td>6X2CARGOTRUCK</td>\n",
       "      <td>DIESEL</td>\n",
       "      <td>AMW2516HL6X2CARGOTRUCKDIESEL</td>\n",
       "      <td>HAULAGE TRUCK</td>\n",
       "      <td>10 WHEELS / GVW 25000KG TO 28500KG /RIGID BODY</td>\n",
       "      <td>10</td>\n",
       "      <td>25000</td>\n",
       "      <td>231646</td>\n",
       "      <td>MADHYAPRADESH</td>\n",
       "      <td>NaN</td>\n",
       "      <td>NaN</td>\n",
       "      <td>40-50%</td>\n",
       "      <td>GOOD</td>\n",
       "      <td>LIVE</td>\n",
       "      <td>VALID</td>\n",
       "      <td>VALID</td>\n",
       "      <td>NaN</td>\n",
       "      <td>NaN</td>\n",
       "      <td>NaN</td>\n",
       "      <td>NaN</td>\n",
       "      <td>ORIGINAL RC</td>\n",
       "      <td>MOVABLE</td>\n",
       "      <td>OEM</td>\n",
       "      <td>1112310.000</td>\n",
       "      <td>AMW_2516HL_6X2CARGOTRUCK</td>\n",
       "    </tr>\n",
       "    <tr>\n",
       "      <th>3</th>\n",
       "      <td>4</td>\n",
       "      <td>MKTCV2</td>\n",
       "      <td>01-01-2021</td>\n",
       "      <td>2005</td>\n",
       "      <td>AMW</td>\n",
       "      <td>2516HL</td>\n",
       "      <td>6X2CARGOTRUCK</td>\n",
       "      <td>DIESEL</td>\n",
       "      <td>AMW2516HL6X2CARGOTRUCKDIESEL</td>\n",
       "      <td>HAULAGE TRUCK</td>\n",
       "      <td>10 WHEELS / GVW 25000KG TO 28500KG /RIGID BODY</td>\n",
       "      <td>10</td>\n",
       "      <td>25000</td>\n",
       "      <td>243837</td>\n",
       "      <td>BIHAR</td>\n",
       "      <td>NaN</td>\n",
       "      <td>NaN</td>\n",
       "      <td>40-50%</td>\n",
       "      <td>GOOD</td>\n",
       "      <td>LIVE</td>\n",
       "      <td>VALID</td>\n",
       "      <td>VALID</td>\n",
       "      <td>NaN</td>\n",
       "      <td>NaN</td>\n",
       "      <td>NaN</td>\n",
       "      <td>NaN</td>\n",
       "      <td>ORIGINAL RC</td>\n",
       "      <td>MOVABLE</td>\n",
       "      <td>OEM</td>\n",
       "      <td>1050260.000</td>\n",
       "      <td>AMW_2516HL_6X2CARGOTRUCK</td>\n",
       "    </tr>\n",
       "    <tr>\n",
       "      <th>4</th>\n",
       "      <td>5</td>\n",
       "      <td>MKTCV3</td>\n",
       "      <td>01-01-2022</td>\n",
       "      <td>2006</td>\n",
       "      <td>AMW</td>\n",
       "      <td>2516HL</td>\n",
       "      <td>6X2CARGOTRUCK</td>\n",
       "      <td>DIESEL</td>\n",
       "      <td>AMW2516HL6X2CARGOTRUCKDIESEL</td>\n",
       "      <td>HAULAGE TRUCK</td>\n",
       "      <td>10 WHEELS / GVW 25000KG TO 28500KG /RIGID BODY</td>\n",
       "      <td>10</td>\n",
       "      <td>25000</td>\n",
       "      <td>243837</td>\n",
       "      <td>HARYANA</td>\n",
       "      <td>NaN</td>\n",
       "      <td>NaN</td>\n",
       "      <td>40-50%</td>\n",
       "      <td>GOOD</td>\n",
       "      <td>LIVE</td>\n",
       "      <td>VALID</td>\n",
       "      <td>VALID</td>\n",
       "      <td>NaN</td>\n",
       "      <td>NaN</td>\n",
       "      <td>NaN</td>\n",
       "      <td>NaN</td>\n",
       "      <td>ORIGINAL RC</td>\n",
       "      <td>MOVABLE</td>\n",
       "      <td>OEM</td>\n",
       "      <td>1050260.000</td>\n",
       "      <td>AMW_2516HL_6X2CARGOTRUCK</td>\n",
       "    </tr>\n",
       "  </tbody>\n",
       "</table>\n",
       "</div>"
      ],
      "text/plain": [
       "   SRNO UNIQUESERIALNO   SOLD_DATE  MAKE_YEAR Make_Clean Model_Clean  \\\n",
       "0     1   S20091800155  26-11-2020       2013        AMW      2516HL   \n",
       "1     2   S21092900303  09-11-2021       2010        AMW      2516HL   \n",
       "2     3         MKTCV1  01-01-2022       2005        AMW      2516HL   \n",
       "3     4         MKTCV2  01-01-2021       2005        AMW      2516HL   \n",
       "4     5         MKTCV3  01-01-2022       2006        AMW      2516HL   \n",
       "\n",
       "   Variant_Clean Fuel_Clean             mixmmvfuelcleaned       BODYTYPE  \\\n",
       "0  6X2CARGOTRUCK     DIESEL  AMW2516HL6X2CARGOTRUCKDIESEL  HAULAGE TRUCK   \n",
       "1  6X2CARGOTRUCK     DIESEL  AMW2516HL6X2CARGOTRUCKDIESEL  HAULAGE TRUCK   \n",
       "2  6X2CARGOTRUCK     DIESEL  AMW2516HL6X2CARGOTRUCKDIESEL  HAULAGE TRUCK   \n",
       "3  6X2CARGOTRUCK     DIESEL  AMW2516HL6X2CARGOTRUCKDIESEL  HAULAGE TRUCK   \n",
       "4  6X2CARGOTRUCK     DIESEL  AMW2516HL6X2CARGOTRUCKDIESEL  HAULAGE TRUCK   \n",
       "\n",
       "                                      SUBBODYTYPE CLEANEDWHEEL  \\\n",
       "0  10 WHEELS / GVW 25000KG TO 28500KG /RIGID BODY           10   \n",
       "1  10 WHEELS / GVW 25000KG TO 28500KG /RIGID BODY           10   \n",
       "2  10 WHEELS / GVW 25000KG TO 28500KG /RIGID BODY           10   \n",
       "3  10 WHEELS / GVW 25000KG TO 28500KG /RIGID BODY           10   \n",
       "4  10 WHEELS / GVW 25000KG TO 28500KG /RIGID BODY           10   \n",
       "\n",
       "  CLEANEDGVW/SEATING CAPACITY  SOLDAMOUNT CV_State_Clean   VEHICLENO  \\\n",
       "0                       25000      445000        GUJARAT   GJ16Z6727   \n",
       "1                       25000      315000      TAMILNADU  TN22BT4664   \n",
       "2                       25000      231646  MADHYAPRADESH         NaN   \n",
       "3                       25000      243837          BIHAR         NaN   \n",
       "4                       25000      243837        HARYANA         NaN   \n",
       "\n",
       "  METERREADING     UCR SHROTCOND_MAPPED              INSDT  \\\n",
       "0       246368     20%             FAIR  Live : 28/02/2021   \n",
       "1          NaN     0.2             FAIR  Live : 29/03/2022   \n",
       "2          NaN  40-50%             GOOD               LIVE   \n",
       "3          NaN  40-50%             GOOD               LIVE   \n",
       "4          NaN  40-50%             GOOD               LIVE   \n",
       "\n",
       "                    TAX  PERMIT_MAPPED SELLERCORPORATENAME     SELLERID  \\\n",
       "0  Expired : 30/09/2019  NOT AVAILABLE                  a9  AP000337591   \n",
       "1  Expired : 31/03/2021  NOT AVAILABLE                  a9  AC000156811   \n",
       "2                 VALID          VALID                 NaN          NaN   \n",
       "3                 VALID          VALID                 NaN          NaN   \n",
       "4                 VALID          VALID                 NaN          NaN   \n",
       "\n",
       "                    SELLERNAME     KEYREFNUMBER  \\\n",
       "0  JAYESHBHAI  ZAVERBHAI PATEL  BHARUO608090001   \n",
       "1   CHINNAVELLAI  CHINNAVELLAI  ARUPKT908140010   \n",
       "2                          NaN              NaN   \n",
       "3                          NaN              NaN   \n",
       "4                          NaN              NaN   \n",
       "\n",
       "  INV_H_RC_STATUS_CLEANED_MAPPED Vehicle_Codition SELLER SEGMENT  \\\n",
       "0                    ORIGINAL RC          MOVABLE         RETAIL   \n",
       "1                    Original RC        IMMOVABLE      Insurance   \n",
       "2                    ORIGINAL RC          MOVABLE            OEM   \n",
       "3                    ORIGINAL RC          MOVABLE            OEM   \n",
       "4                    ORIGINAL RC          MOVABLE            OEM   \n",
       "\n",
       "   Meter_Reading                       MMV  \n",
       "0     490620.000  AMW_2516HL_6X2CARGOTRUCK  \n",
       "1     736100.000  AMW_2516HL_6X2CARGOTRUCK  \n",
       "2    1112310.000  AMW_2516HL_6X2CARGOTRUCK  \n",
       "3    1050260.000  AMW_2516HL_6X2CARGOTRUCK  \n",
       "4    1050260.000  AMW_2516HL_6X2CARGOTRUCK  "
      ]
     },
     "execution_count": 184,
     "metadata": {},
     "output_type": "execute_result"
    }
   ],
   "source": [
    "df_4.head()"
   ]
  },
  {
   "cell_type": "code",
   "execution_count": 185,
   "metadata": {},
   "outputs": [],
   "source": [
    "df_4.SOLD_DATE=pd.to_datetime(df_4.SOLD_DATE)"
   ]
  },
  {
   "cell_type": "code",
   "execution_count": 186,
   "metadata": {},
   "outputs": [],
   "source": [
    "df_4[\"Year_sell\"] = df_4.SOLD_DATE.dt.year"
   ]
  },
  {
   "cell_type": "code",
   "execution_count": 187,
   "metadata": {},
   "outputs": [],
   "source": [
    "df_4[\"Sell_Month\"] = df_4.SOLD_DATE.dt.month"
   ]
  },
  {
   "cell_type": "code",
   "execution_count": 188,
   "metadata": {},
   "outputs": [],
   "source": [
    "df_4[\"Sell_Day\"] = df_4.SOLD_DATE.dt.day"
   ]
  },
  {
   "cell_type": "code",
   "execution_count": 189,
   "metadata": {},
   "outputs": [],
   "source": [
    "df_4[\"CV_Age\"] = df_4[\"Year_sell\"] - df_4['MAKE_YEAR']"
   ]
  },
  {
   "cell_type": "code",
   "execution_count": 190,
   "metadata": {},
   "outputs": [],
   "source": [
    "df_5 = df_4[df_4[\"CV_Age\"]>=0]"
   ]
  },
  {
   "cell_type": "code",
   "execution_count": 191,
   "metadata": {},
   "outputs": [
    {
     "data": {
      "text/html": [
       "<div>\n",
       "<style scoped>\n",
       "    .dataframe tbody tr th:only-of-type {\n",
       "        vertical-align: middle;\n",
       "    }\n",
       "\n",
       "    .dataframe tbody tr th {\n",
       "        vertical-align: top;\n",
       "    }\n",
       "\n",
       "    .dataframe thead th {\n",
       "        text-align: right;\n",
       "    }\n",
       "</style>\n",
       "<table border=\"1\" class=\"dataframe\">\n",
       "  <thead>\n",
       "    <tr style=\"text-align: right;\">\n",
       "      <th></th>\n",
       "      <th>SRNO</th>\n",
       "      <th>UNIQUESERIALNO</th>\n",
       "      <th>SOLD_DATE</th>\n",
       "      <th>MAKE_YEAR</th>\n",
       "      <th>Make_Clean</th>\n",
       "      <th>Model_Clean</th>\n",
       "      <th>Variant_Clean</th>\n",
       "      <th>Fuel_Clean</th>\n",
       "      <th>mixmmvfuelcleaned</th>\n",
       "      <th>BODYTYPE</th>\n",
       "      <th>SUBBODYTYPE</th>\n",
       "      <th>CLEANEDWHEEL</th>\n",
       "      <th>CLEANEDGVW/SEATING CAPACITY</th>\n",
       "      <th>SOLDAMOUNT</th>\n",
       "      <th>CV_State_Clean</th>\n",
       "      <th>VEHICLENO</th>\n",
       "      <th>METERREADING</th>\n",
       "      <th>UCR</th>\n",
       "      <th>SHROTCOND_MAPPED</th>\n",
       "      <th>INSDT</th>\n",
       "      <th>TAX</th>\n",
       "      <th>PERMIT_MAPPED</th>\n",
       "      <th>SELLERCORPORATENAME</th>\n",
       "      <th>SELLERID</th>\n",
       "      <th>SELLERNAME</th>\n",
       "      <th>KEYREFNUMBER</th>\n",
       "      <th>INV_H_RC_STATUS_CLEANED_MAPPED</th>\n",
       "      <th>Vehicle_Codition</th>\n",
       "      <th>SELLER SEGMENT</th>\n",
       "      <th>Meter_Reading</th>\n",
       "      <th>MMV</th>\n",
       "      <th>Year_sell</th>\n",
       "      <th>Sell_Month</th>\n",
       "      <th>Sell_Day</th>\n",
       "      <th>CV_Age</th>\n",
       "    </tr>\n",
       "  </thead>\n",
       "  <tbody>\n",
       "    <tr>\n",
       "      <th>0</th>\n",
       "      <td>1</td>\n",
       "      <td>S20091800155</td>\n",
       "      <td>2020-11-26</td>\n",
       "      <td>2013</td>\n",
       "      <td>AMW</td>\n",
       "      <td>2516HL</td>\n",
       "      <td>6X2CARGOTRUCK</td>\n",
       "      <td>DIESEL</td>\n",
       "      <td>AMW2516HL6X2CARGOTRUCKDIESEL</td>\n",
       "      <td>HAULAGE TRUCK</td>\n",
       "      <td>10 WHEELS / GVW 25000KG TO 28500KG /RIGID BODY</td>\n",
       "      <td>10</td>\n",
       "      <td>25000</td>\n",
       "      <td>445000</td>\n",
       "      <td>GUJARAT</td>\n",
       "      <td>GJ16Z6727</td>\n",
       "      <td>246368</td>\n",
       "      <td>20%</td>\n",
       "      <td>FAIR</td>\n",
       "      <td>Live : 28/02/2021</td>\n",
       "      <td>Expired : 30/09/2019</td>\n",
       "      <td>NOT AVAILABLE</td>\n",
       "      <td>a9</td>\n",
       "      <td>AP000337591</td>\n",
       "      <td>JAYESHBHAI  ZAVERBHAI PATEL</td>\n",
       "      <td>BHARUO608090001</td>\n",
       "      <td>ORIGINAL RC</td>\n",
       "      <td>MOVABLE</td>\n",
       "      <td>RETAIL</td>\n",
       "      <td>490620.000</td>\n",
       "      <td>AMW_2516HL_6X2CARGOTRUCK</td>\n",
       "      <td>2020</td>\n",
       "      <td>11</td>\n",
       "      <td>26</td>\n",
       "      <td>7</td>\n",
       "    </tr>\n",
       "    <tr>\n",
       "      <th>1</th>\n",
       "      <td>2</td>\n",
       "      <td>S21092900303</td>\n",
       "      <td>2021-09-11</td>\n",
       "      <td>2010</td>\n",
       "      <td>AMW</td>\n",
       "      <td>2516HL</td>\n",
       "      <td>6X2CARGOTRUCK</td>\n",
       "      <td>DIESEL</td>\n",
       "      <td>AMW2516HL6X2CARGOTRUCKDIESEL</td>\n",
       "      <td>HAULAGE TRUCK</td>\n",
       "      <td>10 WHEELS / GVW 25000KG TO 28500KG /RIGID BODY</td>\n",
       "      <td>10</td>\n",
       "      <td>25000</td>\n",
       "      <td>315000</td>\n",
       "      <td>TAMILNADU</td>\n",
       "      <td>TN22BT4664</td>\n",
       "      <td>NaN</td>\n",
       "      <td>0.2</td>\n",
       "      <td>FAIR</td>\n",
       "      <td>Live : 29/03/2022</td>\n",
       "      <td>Expired : 31/03/2021</td>\n",
       "      <td>NOT AVAILABLE</td>\n",
       "      <td>a9</td>\n",
       "      <td>AC000156811</td>\n",
       "      <td>CHINNAVELLAI  CHINNAVELLAI</td>\n",
       "      <td>ARUPKT908140010</td>\n",
       "      <td>Original RC</td>\n",
       "      <td>IMMOVABLE</td>\n",
       "      <td>Insurance</td>\n",
       "      <td>736100.000</td>\n",
       "      <td>AMW_2516HL_6X2CARGOTRUCK</td>\n",
       "      <td>2021</td>\n",
       "      <td>9</td>\n",
       "      <td>11</td>\n",
       "      <td>11</td>\n",
       "    </tr>\n",
       "    <tr>\n",
       "      <th>2</th>\n",
       "      <td>3</td>\n",
       "      <td>MKTCV1</td>\n",
       "      <td>2022-01-01</td>\n",
       "      <td>2005</td>\n",
       "      <td>AMW</td>\n",
       "      <td>2516HL</td>\n",
       "      <td>6X2CARGOTRUCK</td>\n",
       "      <td>DIESEL</td>\n",
       "      <td>AMW2516HL6X2CARGOTRUCKDIESEL</td>\n",
       "      <td>HAULAGE TRUCK</td>\n",
       "      <td>10 WHEELS / GVW 25000KG TO 28500KG /RIGID BODY</td>\n",
       "      <td>10</td>\n",
       "      <td>25000</td>\n",
       "      <td>231646</td>\n",
       "      <td>MADHYAPRADESH</td>\n",
       "      <td>NaN</td>\n",
       "      <td>NaN</td>\n",
       "      <td>40-50%</td>\n",
       "      <td>GOOD</td>\n",
       "      <td>LIVE</td>\n",
       "      <td>VALID</td>\n",
       "      <td>VALID</td>\n",
       "      <td>NaN</td>\n",
       "      <td>NaN</td>\n",
       "      <td>NaN</td>\n",
       "      <td>NaN</td>\n",
       "      <td>ORIGINAL RC</td>\n",
       "      <td>MOVABLE</td>\n",
       "      <td>OEM</td>\n",
       "      <td>1112310.000</td>\n",
       "      <td>AMW_2516HL_6X2CARGOTRUCK</td>\n",
       "      <td>2022</td>\n",
       "      <td>1</td>\n",
       "      <td>1</td>\n",
       "      <td>17</td>\n",
       "    </tr>\n",
       "    <tr>\n",
       "      <th>3</th>\n",
       "      <td>4</td>\n",
       "      <td>MKTCV2</td>\n",
       "      <td>2021-01-01</td>\n",
       "      <td>2005</td>\n",
       "      <td>AMW</td>\n",
       "      <td>2516HL</td>\n",
       "      <td>6X2CARGOTRUCK</td>\n",
       "      <td>DIESEL</td>\n",
       "      <td>AMW2516HL6X2CARGOTRUCKDIESEL</td>\n",
       "      <td>HAULAGE TRUCK</td>\n",
       "      <td>10 WHEELS / GVW 25000KG TO 28500KG /RIGID BODY</td>\n",
       "      <td>10</td>\n",
       "      <td>25000</td>\n",
       "      <td>243837</td>\n",
       "      <td>BIHAR</td>\n",
       "      <td>NaN</td>\n",
       "      <td>NaN</td>\n",
       "      <td>40-50%</td>\n",
       "      <td>GOOD</td>\n",
       "      <td>LIVE</td>\n",
       "      <td>VALID</td>\n",
       "      <td>VALID</td>\n",
       "      <td>NaN</td>\n",
       "      <td>NaN</td>\n",
       "      <td>NaN</td>\n",
       "      <td>NaN</td>\n",
       "      <td>ORIGINAL RC</td>\n",
       "      <td>MOVABLE</td>\n",
       "      <td>OEM</td>\n",
       "      <td>1050260.000</td>\n",
       "      <td>AMW_2516HL_6X2CARGOTRUCK</td>\n",
       "      <td>2021</td>\n",
       "      <td>1</td>\n",
       "      <td>1</td>\n",
       "      <td>16</td>\n",
       "    </tr>\n",
       "    <tr>\n",
       "      <th>4</th>\n",
       "      <td>5</td>\n",
       "      <td>MKTCV3</td>\n",
       "      <td>2022-01-01</td>\n",
       "      <td>2006</td>\n",
       "      <td>AMW</td>\n",
       "      <td>2516HL</td>\n",
       "      <td>6X2CARGOTRUCK</td>\n",
       "      <td>DIESEL</td>\n",
       "      <td>AMW2516HL6X2CARGOTRUCKDIESEL</td>\n",
       "      <td>HAULAGE TRUCK</td>\n",
       "      <td>10 WHEELS / GVW 25000KG TO 28500KG /RIGID BODY</td>\n",
       "      <td>10</td>\n",
       "      <td>25000</td>\n",
       "      <td>243837</td>\n",
       "      <td>HARYANA</td>\n",
       "      <td>NaN</td>\n",
       "      <td>NaN</td>\n",
       "      <td>40-50%</td>\n",
       "      <td>GOOD</td>\n",
       "      <td>LIVE</td>\n",
       "      <td>VALID</td>\n",
       "      <td>VALID</td>\n",
       "      <td>NaN</td>\n",
       "      <td>NaN</td>\n",
       "      <td>NaN</td>\n",
       "      <td>NaN</td>\n",
       "      <td>ORIGINAL RC</td>\n",
       "      <td>MOVABLE</td>\n",
       "      <td>OEM</td>\n",
       "      <td>1050260.000</td>\n",
       "      <td>AMW_2516HL_6X2CARGOTRUCK</td>\n",
       "      <td>2022</td>\n",
       "      <td>1</td>\n",
       "      <td>1</td>\n",
       "      <td>16</td>\n",
       "    </tr>\n",
       "    <tr>\n",
       "      <th>...</th>\n",
       "      <td>...</td>\n",
       "      <td>...</td>\n",
       "      <td>...</td>\n",
       "      <td>...</td>\n",
       "      <td>...</td>\n",
       "      <td>...</td>\n",
       "      <td>...</td>\n",
       "      <td>...</td>\n",
       "      <td>...</td>\n",
       "      <td>...</td>\n",
       "      <td>...</td>\n",
       "      <td>...</td>\n",
       "      <td>...</td>\n",
       "      <td>...</td>\n",
       "      <td>...</td>\n",
       "      <td>...</td>\n",
       "      <td>...</td>\n",
       "      <td>...</td>\n",
       "      <td>...</td>\n",
       "      <td>...</td>\n",
       "      <td>...</td>\n",
       "      <td>...</td>\n",
       "      <td>...</td>\n",
       "      <td>...</td>\n",
       "      <td>...</td>\n",
       "      <td>...</td>\n",
       "      <td>...</td>\n",
       "      <td>...</td>\n",
       "      <td>...</td>\n",
       "      <td>...</td>\n",
       "      <td>...</td>\n",
       "      <td>...</td>\n",
       "      <td>...</td>\n",
       "      <td>...</td>\n",
       "      <td>...</td>\n",
       "    </tr>\n",
       "    <tr>\n",
       "      <th>403885</th>\n",
       "      <td>387294</td>\n",
       "      <td>MKTCV113870</td>\n",
       "      <td>2021-01-01</td>\n",
       "      <td>2020</td>\n",
       "      <td>VOLVO</td>\n",
       "      <td>FM440</td>\n",
       "      <td>6X4TRUCKTRACTOR</td>\n",
       "      <td>DIESEL</td>\n",
       "      <td>VOLVOFM4406X4TRUCKTRACTORDIESEL</td>\n",
       "      <td>TRACTOR TRAILER</td>\n",
       "      <td>22 WHEELS SEMI TRAILER- 10WHEELS DRIVE TRACTOR...</td>\n",
       "      <td>22</td>\n",
       "      <td>125000</td>\n",
       "      <td>6923303</td>\n",
       "      <td>KERALA</td>\n",
       "      <td>NaN</td>\n",
       "      <td>NaN</td>\n",
       "      <td>40-50%</td>\n",
       "      <td>GOOD</td>\n",
       "      <td>LIVE</td>\n",
       "      <td>VALID</td>\n",
       "      <td>VALID</td>\n",
       "      <td>NaN</td>\n",
       "      <td>NaN</td>\n",
       "      <td>NaN</td>\n",
       "      <td>NaN</td>\n",
       "      <td>ORIGINAL RC</td>\n",
       "      <td>MOVABLE</td>\n",
       "      <td>Leasing</td>\n",
       "      <td>119000.000</td>\n",
       "      <td>VOLVO_FM440_6X4TRUCKTRACTOR</td>\n",
       "      <td>2021</td>\n",
       "      <td>1</td>\n",
       "      <td>1</td>\n",
       "      <td>1</td>\n",
       "    </tr>\n",
       "    <tr>\n",
       "      <th>403886</th>\n",
       "      <td>387295</td>\n",
       "      <td>MKTCV113871</td>\n",
       "      <td>2020-01-01</td>\n",
       "      <td>2020</td>\n",
       "      <td>VOLVO</td>\n",
       "      <td>FM440</td>\n",
       "      <td>6X4TRUCKTRACTOR</td>\n",
       "      <td>DIESEL</td>\n",
       "      <td>VOLVOFM4406X4TRUCKTRACTORDIESEL</td>\n",
       "      <td>TRACTOR TRAILER</td>\n",
       "      <td>22 WHEELS SEMI TRAILER- 10WHEELS DRIVE TRACTOR...</td>\n",
       "      <td>22</td>\n",
       "      <td>125000</td>\n",
       "      <td>7287688</td>\n",
       "      <td>TRIPURA</td>\n",
       "      <td>NaN</td>\n",
       "      <td>NaN</td>\n",
       "      <td>40-50%</td>\n",
       "      <td>GOOD</td>\n",
       "      <td>LIVE</td>\n",
       "      <td>VALID</td>\n",
       "      <td>VALID</td>\n",
       "      <td>NaN</td>\n",
       "      <td>NaN</td>\n",
       "      <td>NaN</td>\n",
       "      <td>NaN</td>\n",
       "      <td>ORIGINAL RC</td>\n",
       "      <td>MOVABLE</td>\n",
       "      <td>Leasing</td>\n",
       "      <td>56950.000</td>\n",
       "      <td>VOLVO_FM440_6X4TRUCKTRACTOR</td>\n",
       "      <td>2020</td>\n",
       "      <td>1</td>\n",
       "      <td>1</td>\n",
       "      <td>0</td>\n",
       "    </tr>\n",
       "    <tr>\n",
       "      <th>403887</th>\n",
       "      <td>387296</td>\n",
       "      <td>MKTCV113872</td>\n",
       "      <td>2022-01-01</td>\n",
       "      <td>2021</td>\n",
       "      <td>VOLVO</td>\n",
       "      <td>FM440</td>\n",
       "      <td>6X4TRUCKTRACTOR</td>\n",
       "      <td>DIESEL</td>\n",
       "      <td>VOLVOFM4406X4TRUCKTRACTORDIESEL</td>\n",
       "      <td>TRACTOR TRAILER</td>\n",
       "      <td>22 WHEELS SEMI TRAILER- 10WHEELS DRIVE TRACTOR...</td>\n",
       "      <td>22</td>\n",
       "      <td>125000</td>\n",
       "      <td>7287688</td>\n",
       "      <td>UTTARPRADESH</td>\n",
       "      <td>NaN</td>\n",
       "      <td>NaN</td>\n",
       "      <td>40-50%</td>\n",
       "      <td>GOOD</td>\n",
       "      <td>LIVE</td>\n",
       "      <td>VALID</td>\n",
       "      <td>VALID</td>\n",
       "      <td>NaN</td>\n",
       "      <td>NaN</td>\n",
       "      <td>NaN</td>\n",
       "      <td>NaN</td>\n",
       "      <td>ORIGINAL RC</td>\n",
       "      <td>MOVABLE</td>\n",
       "      <td>Leasing</td>\n",
       "      <td>118830.000</td>\n",
       "      <td>VOLVO_FM440_6X4TRUCKTRACTOR</td>\n",
       "      <td>2022</td>\n",
       "      <td>1</td>\n",
       "      <td>1</td>\n",
       "      <td>1</td>\n",
       "    </tr>\n",
       "    <tr>\n",
       "      <th>403888</th>\n",
       "      <td>387297</td>\n",
       "      <td>MKTCV113873</td>\n",
       "      <td>2021-01-01</td>\n",
       "      <td>2021</td>\n",
       "      <td>VOLVO</td>\n",
       "      <td>FM440</td>\n",
       "      <td>6X4TRUCKTRACTOR</td>\n",
       "      <td>DIESEL</td>\n",
       "      <td>VOLVOFM4406X4TRUCKTRACTORDIESEL</td>\n",
       "      <td>TRACTOR TRAILER</td>\n",
       "      <td>22 WHEELS SEMI TRAILER- 10WHEELS DRIVE TRACTOR...</td>\n",
       "      <td>22</td>\n",
       "      <td>125000</td>\n",
       "      <td>7671250</td>\n",
       "      <td>GUJARAT</td>\n",
       "      <td>NaN</td>\n",
       "      <td>NaN</td>\n",
       "      <td>40-50%</td>\n",
       "      <td>GOOD</td>\n",
       "      <td>LIVE</td>\n",
       "      <td>VALID</td>\n",
       "      <td>VALID</td>\n",
       "      <td>NaN</td>\n",
       "      <td>NaN</td>\n",
       "      <td>NaN</td>\n",
       "      <td>NaN</td>\n",
       "      <td>ORIGINAL RC</td>\n",
       "      <td>MOVABLE</td>\n",
       "      <td>Leasing</td>\n",
       "      <td>56780.000</td>\n",
       "      <td>VOLVO_FM440_6X4TRUCKTRACTOR</td>\n",
       "      <td>2021</td>\n",
       "      <td>1</td>\n",
       "      <td>1</td>\n",
       "      <td>0</td>\n",
       "    </tr>\n",
       "    <tr>\n",
       "      <th>403889</th>\n",
       "      <td>387298</td>\n",
       "      <td>MKTCV113874</td>\n",
       "      <td>2022-01-01</td>\n",
       "      <td>2022</td>\n",
       "      <td>VOLVO</td>\n",
       "      <td>FM440</td>\n",
       "      <td>6X4TRUCKTRACTOR</td>\n",
       "      <td>DIESEL</td>\n",
       "      <td>VOLVOFM4406X4TRUCKTRACTORDIESEL</td>\n",
       "      <td>TRACTOR TRAILER</td>\n",
       "      <td>22 WHEELS SEMI TRAILER- 10WHEELS DRIVE TRACTOR...</td>\n",
       "      <td>22</td>\n",
       "      <td>125000</td>\n",
       "      <td>8075000</td>\n",
       "      <td>MAHARASHTRA</td>\n",
       "      <td>NaN</td>\n",
       "      <td>NaN</td>\n",
       "      <td>40-50%</td>\n",
       "      <td>GOOD</td>\n",
       "      <td>LIVE</td>\n",
       "      <td>VALID</td>\n",
       "      <td>VALID</td>\n",
       "      <td>NaN</td>\n",
       "      <td>NaN</td>\n",
       "      <td>NaN</td>\n",
       "      <td>NaN</td>\n",
       "      <td>ORIGINAL RC</td>\n",
       "      <td>MOVABLE</td>\n",
       "      <td>Leasing</td>\n",
       "      <td>56780.000</td>\n",
       "      <td>VOLVO_FM440_6X4TRUCKTRACTOR</td>\n",
       "      <td>2022</td>\n",
       "      <td>1</td>\n",
       "      <td>1</td>\n",
       "      <td>0</td>\n",
       "    </tr>\n",
       "  </tbody>\n",
       "</table>\n",
       "<p>372456 rows × 35 columns</p>\n",
       "</div>"
      ],
      "text/plain": [
       "          SRNO UNIQUESERIALNO  SOLD_DATE  MAKE_YEAR Make_Clean Model_Clean  \\\n",
       "0            1   S20091800155 2020-11-26       2013        AMW      2516HL   \n",
       "1            2   S21092900303 2021-09-11       2010        AMW      2516HL   \n",
       "2            3         MKTCV1 2022-01-01       2005        AMW      2516HL   \n",
       "3            4         MKTCV2 2021-01-01       2005        AMW      2516HL   \n",
       "4            5         MKTCV3 2022-01-01       2006        AMW      2516HL   \n",
       "...        ...            ...        ...        ...        ...         ...   \n",
       "403885  387294    MKTCV113870 2021-01-01       2020      VOLVO       FM440   \n",
       "403886  387295    MKTCV113871 2020-01-01       2020      VOLVO       FM440   \n",
       "403887  387296    MKTCV113872 2022-01-01       2021      VOLVO       FM440   \n",
       "403888  387297    MKTCV113873 2021-01-01       2021      VOLVO       FM440   \n",
       "403889  387298    MKTCV113874 2022-01-01       2022      VOLVO       FM440   \n",
       "\n",
       "          Variant_Clean Fuel_Clean                mixmmvfuelcleaned  \\\n",
       "0         6X2CARGOTRUCK     DIESEL     AMW2516HL6X2CARGOTRUCKDIESEL   \n",
       "1         6X2CARGOTRUCK     DIESEL     AMW2516HL6X2CARGOTRUCKDIESEL   \n",
       "2         6X2CARGOTRUCK     DIESEL     AMW2516HL6X2CARGOTRUCKDIESEL   \n",
       "3         6X2CARGOTRUCK     DIESEL     AMW2516HL6X2CARGOTRUCKDIESEL   \n",
       "4         6X2CARGOTRUCK     DIESEL     AMW2516HL6X2CARGOTRUCKDIESEL   \n",
       "...                 ...        ...                              ...   \n",
       "403885  6X4TRUCKTRACTOR     DIESEL  VOLVOFM4406X4TRUCKTRACTORDIESEL   \n",
       "403886  6X4TRUCKTRACTOR     DIESEL  VOLVOFM4406X4TRUCKTRACTORDIESEL   \n",
       "403887  6X4TRUCKTRACTOR     DIESEL  VOLVOFM4406X4TRUCKTRACTORDIESEL   \n",
       "403888  6X4TRUCKTRACTOR     DIESEL  VOLVOFM4406X4TRUCKTRACTORDIESEL   \n",
       "403889  6X4TRUCKTRACTOR     DIESEL  VOLVOFM4406X4TRUCKTRACTORDIESEL   \n",
       "\n",
       "               BODYTYPE                                        SUBBODYTYPE  \\\n",
       "0         HAULAGE TRUCK     10 WHEELS / GVW 25000KG TO 28500KG /RIGID BODY   \n",
       "1         HAULAGE TRUCK     10 WHEELS / GVW 25000KG TO 28500KG /RIGID BODY   \n",
       "2         HAULAGE TRUCK     10 WHEELS / GVW 25000KG TO 28500KG /RIGID BODY   \n",
       "3         HAULAGE TRUCK     10 WHEELS / GVW 25000KG TO 28500KG /RIGID BODY   \n",
       "4         HAULAGE TRUCK     10 WHEELS / GVW 25000KG TO 28500KG /RIGID BODY   \n",
       "...                 ...                                                ...   \n",
       "403885  TRACTOR TRAILER  22 WHEELS SEMI TRAILER- 10WHEELS DRIVE TRACTOR...   \n",
       "403886  TRACTOR TRAILER  22 WHEELS SEMI TRAILER- 10WHEELS DRIVE TRACTOR...   \n",
       "403887  TRACTOR TRAILER  22 WHEELS SEMI TRAILER- 10WHEELS DRIVE TRACTOR...   \n",
       "403888  TRACTOR TRAILER  22 WHEELS SEMI TRAILER- 10WHEELS DRIVE TRACTOR...   \n",
       "403889  TRACTOR TRAILER  22 WHEELS SEMI TRAILER- 10WHEELS DRIVE TRACTOR...   \n",
       "\n",
       "       CLEANEDWHEEL CLEANEDGVW/SEATING CAPACITY  SOLDAMOUNT CV_State_Clean  \\\n",
       "0                10                       25000      445000        GUJARAT   \n",
       "1                10                       25000      315000      TAMILNADU   \n",
       "2                10                       25000      231646  MADHYAPRADESH   \n",
       "3                10                       25000      243837          BIHAR   \n",
       "4                10                       25000      243837        HARYANA   \n",
       "...             ...                         ...         ...            ...   \n",
       "403885           22                      125000     6923303         KERALA   \n",
       "403886           22                      125000     7287688        TRIPURA   \n",
       "403887           22                      125000     7287688   UTTARPRADESH   \n",
       "403888           22                      125000     7671250        GUJARAT   \n",
       "403889           22                      125000     8075000    MAHARASHTRA   \n",
       "\n",
       "         VEHICLENO METERREADING     UCR SHROTCOND_MAPPED              INSDT  \\\n",
       "0        GJ16Z6727       246368     20%             FAIR  Live : 28/02/2021   \n",
       "1       TN22BT4664          NaN     0.2             FAIR  Live : 29/03/2022   \n",
       "2              NaN          NaN  40-50%             GOOD               LIVE   \n",
       "3              NaN          NaN  40-50%             GOOD               LIVE   \n",
       "4              NaN          NaN  40-50%             GOOD               LIVE   \n",
       "...            ...          ...     ...              ...                ...   \n",
       "403885         NaN          NaN  40-50%             GOOD               LIVE   \n",
       "403886         NaN          NaN  40-50%             GOOD               LIVE   \n",
       "403887         NaN          NaN  40-50%             GOOD               LIVE   \n",
       "403888         NaN          NaN  40-50%             GOOD               LIVE   \n",
       "403889         NaN          NaN  40-50%             GOOD               LIVE   \n",
       "\n",
       "                         TAX  PERMIT_MAPPED SELLERCORPORATENAME     SELLERID  \\\n",
       "0       Expired : 30/09/2019  NOT AVAILABLE                  a9  AP000337591   \n",
       "1       Expired : 31/03/2021  NOT AVAILABLE                  a9  AC000156811   \n",
       "2                      VALID          VALID                 NaN          NaN   \n",
       "3                      VALID          VALID                 NaN          NaN   \n",
       "4                      VALID          VALID                 NaN          NaN   \n",
       "...                      ...            ...                 ...          ...   \n",
       "403885                 VALID          VALID                 NaN          NaN   \n",
       "403886                 VALID          VALID                 NaN          NaN   \n",
       "403887                 VALID          VALID                 NaN          NaN   \n",
       "403888                 VALID          VALID                 NaN          NaN   \n",
       "403889                 VALID          VALID                 NaN          NaN   \n",
       "\n",
       "                         SELLERNAME     KEYREFNUMBER  \\\n",
       "0       JAYESHBHAI  ZAVERBHAI PATEL  BHARUO608090001   \n",
       "1        CHINNAVELLAI  CHINNAVELLAI  ARUPKT908140010   \n",
       "2                               NaN              NaN   \n",
       "3                               NaN              NaN   \n",
       "4                               NaN              NaN   \n",
       "...                             ...              ...   \n",
       "403885                          NaN              NaN   \n",
       "403886                          NaN              NaN   \n",
       "403887                          NaN              NaN   \n",
       "403888                          NaN              NaN   \n",
       "403889                          NaN              NaN   \n",
       "\n",
       "       INV_H_RC_STATUS_CLEANED_MAPPED Vehicle_Codition SELLER SEGMENT  \\\n",
       "0                         ORIGINAL RC          MOVABLE         RETAIL   \n",
       "1                         Original RC        IMMOVABLE      Insurance   \n",
       "2                         ORIGINAL RC          MOVABLE            OEM   \n",
       "3                         ORIGINAL RC          MOVABLE            OEM   \n",
       "4                         ORIGINAL RC          MOVABLE            OEM   \n",
       "...                               ...              ...            ...   \n",
       "403885                    ORIGINAL RC          MOVABLE        Leasing   \n",
       "403886                    ORIGINAL RC          MOVABLE        Leasing   \n",
       "403887                    ORIGINAL RC          MOVABLE        Leasing   \n",
       "403888                    ORIGINAL RC          MOVABLE        Leasing   \n",
       "403889                    ORIGINAL RC          MOVABLE        Leasing   \n",
       "\n",
       "        Meter_Reading                          MMV  Year_sell  Sell_Month  \\\n",
       "0          490620.000     AMW_2516HL_6X2CARGOTRUCK       2020          11   \n",
       "1          736100.000     AMW_2516HL_6X2CARGOTRUCK       2021           9   \n",
       "2         1112310.000     AMW_2516HL_6X2CARGOTRUCK       2022           1   \n",
       "3         1050260.000     AMW_2516HL_6X2CARGOTRUCK       2021           1   \n",
       "4         1050260.000     AMW_2516HL_6X2CARGOTRUCK       2022           1   \n",
       "...               ...                          ...        ...         ...   \n",
       "403885     119000.000  VOLVO_FM440_6X4TRUCKTRACTOR       2021           1   \n",
       "403886      56950.000  VOLVO_FM440_6X4TRUCKTRACTOR       2020           1   \n",
       "403887     118830.000  VOLVO_FM440_6X4TRUCKTRACTOR       2022           1   \n",
       "403888      56780.000  VOLVO_FM440_6X4TRUCKTRACTOR       2021           1   \n",
       "403889      56780.000  VOLVO_FM440_6X4TRUCKTRACTOR       2022           1   \n",
       "\n",
       "        Sell_Day  CV_Age  \n",
       "0             26       7  \n",
       "1             11      11  \n",
       "2              1      17  \n",
       "3              1      16  \n",
       "4              1      16  \n",
       "...          ...     ...  \n",
       "403885         1       1  \n",
       "403886         1       0  \n",
       "403887         1       1  \n",
       "403888         1       0  \n",
       "403889         1       0  \n",
       "\n",
       "[372456 rows x 35 columns]"
      ]
     },
     "execution_count": 191,
     "metadata": {},
     "output_type": "execute_result"
    }
   ],
   "source": [
    "df_5"
   ]
  },
  {
   "cell_type": "code",
   "execution_count": 192,
   "metadata": {},
   "outputs": [
    {
     "data": {
      "text/plain": [
       "2022"
      ]
     },
     "execution_count": 192,
     "metadata": {},
     "output_type": "execute_result"
    }
   ],
   "source": [
    "df_5['MAKE_YEAR'].max()"
   ]
  },
  {
   "cell_type": "code",
   "execution_count": 193,
   "metadata": {},
   "outputs": [
    {
     "data": {
      "text/plain": [
       "(372456, 35)"
      ]
     },
     "execution_count": 193,
     "metadata": {},
     "output_type": "execute_result"
    }
   ],
   "source": [
    "df_5.shape"
   ]
  },
  {
   "cell_type": "code",
   "execution_count": 194,
   "metadata": {},
   "outputs": [
    {
     "data": {
      "text/plain": [
       "Index(['SRNO', 'UNIQUESERIALNO', 'SOLD_DATE', 'MAKE_YEAR', 'Make_Clean',\n",
       "       'Model_Clean', 'Variant_Clean', 'Fuel_Clean', 'mixmmvfuelcleaned',\n",
       "       'BODYTYPE', 'SUBBODYTYPE', 'CLEANEDWHEEL',\n",
       "       'CLEANEDGVW/SEATING CAPACITY', 'SOLDAMOUNT', 'CV_State_Clean',\n",
       "       'VEHICLENO', 'METERREADING', 'UCR', 'SHROTCOND_MAPPED', 'INSDT', 'TAX',\n",
       "       'PERMIT_MAPPED', 'SELLERCORPORATENAME', 'SELLERID', 'SELLERNAME',\n",
       "       'KEYREFNUMBER', 'INV_H_RC_STATUS_CLEANED_MAPPED', 'Vehicle_Codition',\n",
       "       'SELLER SEGMENT', 'Meter_Reading', 'MMV', 'Year_sell', 'Sell_Month',\n",
       "       'Sell_Day', 'CV_Age'],\n",
       "      dtype='object')"
      ]
     },
     "execution_count": 194,
     "metadata": {},
     "output_type": "execute_result"
    }
   ],
   "source": [
    "df_5.columns"
   ]
  },
  {
   "cell_type": "code",
   "execution_count": 195,
   "metadata": {},
   "outputs": [
    {
     "data": {
      "text/plain": [
       "count    372435.000\n",
       "mean     294762.411\n",
       "std      231579.190\n",
       "min        3240.000\n",
       "25%      126070.000\n",
       "50%      209860.000\n",
       "75%      402050.000\n",
       "max     1112310.000\n",
       "Name: Meter_Reading, dtype: float64"
      ]
     },
     "execution_count": 195,
     "metadata": {},
     "output_type": "execute_result"
    }
   ],
   "source": [
    "df_5['Meter_Reading'].describe()"
   ]
  },
  {
   "cell_type": "code",
   "execution_count": 196,
   "metadata": {},
   "outputs": [
    {
     "data": {
      "text/plain": [
       "SRNO                             0.000\n",
       "UNIQUESERIALNO                   0.000\n",
       "SOLD_DATE                        0.000\n",
       "MAKE_YEAR                        0.000\n",
       "Make_Clean                       0.000\n",
       "Model_Clean                      0.000\n",
       "Variant_Clean                    0.000\n",
       "Fuel_Clean                       0.000\n",
       "mixmmvfuelcleaned                0.000\n",
       "BODYTYPE                         0.000\n",
       "SUBBODYTYPE                      0.000\n",
       "CLEANEDWHEEL                     0.000\n",
       "CLEANEDGVW/SEATING CAPACITY      0.000\n",
       "SOLDAMOUNT                       0.000\n",
       "CV_State_Clean                   0.000\n",
       "VEHICLENO                        0.284\n",
       "METERREADING                     0.720\n",
       "UCR                              0.279\n",
       "SHROTCOND_MAPPED                 0.000\n",
       "INSDT                            0.001\n",
       "TAX                              0.000\n",
       "PERMIT_MAPPED                    0.026\n",
       "SELLERCORPORATENAME              0.438\n",
       "SELLERID                         0.284\n",
       "SELLERNAME                       0.284\n",
       "KEYREFNUMBER                     0.285\n",
       "INV_H_RC_STATUS_CLEANED_MAPPED   0.000\n",
       "Vehicle_Codition                 0.000\n",
       "SELLER SEGMENT                   0.000\n",
       "Meter_Reading                    0.000\n",
       "MMV                              0.000\n",
       "Year_sell                        0.000\n",
       "Sell_Month                       0.000\n",
       "Sell_Day                         0.000\n",
       "CV_Age                           0.000\n",
       "dtype: float64"
      ]
     },
     "execution_count": 196,
     "metadata": {},
     "output_type": "execute_result"
    }
   ],
   "source": [
    "df_5.isnull().sum()/len(df_5)"
   ]
  },
  {
   "cell_type": "code",
   "execution_count": 197,
   "metadata": {},
   "outputs": [],
   "source": [
    "df_5.columns=[c.replace(\" \",\"_\")for c in df_5.columns]"
   ]
  },
  {
   "cell_type": "code",
   "execution_count": 198,
   "metadata": {},
   "outputs": [
    {
     "data": {
      "text/plain": [
       "3240.0"
      ]
     },
     "execution_count": 198,
     "metadata": {},
     "output_type": "execute_result"
    }
   ],
   "source": [
    "df_5['Meter_Reading'].min()"
   ]
  },
  {
   "cell_type": "code",
   "execution_count": 199,
   "metadata": {},
   "outputs": [
    {
     "data": {
      "text/plain": [
       "9728000"
      ]
     },
     "execution_count": 199,
     "metadata": {},
     "output_type": "execute_result"
    }
   ],
   "source": [
    "df_5['SOLDAMOUNT'].max()"
   ]
  },
  {
   "cell_type": "code",
   "execution_count": 200,
   "metadata": {},
   "outputs": [
    {
     "data": {
      "text/plain": [
       "500"
      ]
     },
     "execution_count": 200,
     "metadata": {},
     "output_type": "execute_result"
    }
   ],
   "source": [
    "df_5['SOLDAMOUNT'].min()"
   ]
  },
  {
   "cell_type": "code",
   "execution_count": 201,
   "metadata": {},
   "outputs": [],
   "source": [
    "pct_null = df_5.isnull().sum() / len(df_5)\n",
    "missing_features = pct_null[pct_null > 0.70].index\n",
    "# df.drop(missing_features, axis=1, inplace=True)"
   ]
  },
  {
   "cell_type": "code",
   "execution_count": 202,
   "metadata": {},
   "outputs": [
    {
     "data": {
      "text/plain": [
       "Index(['METERREADING'], dtype='object')"
      ]
     },
     "execution_count": 202,
     "metadata": {},
     "output_type": "execute_result"
    }
   ],
   "source": [
    "missing_features"
   ]
  },
  {
   "cell_type": "code",
   "execution_count": 203,
   "metadata": {},
   "outputs": [],
   "source": [
    "inp1=df_5.select_dtypes(exclude='object')"
   ]
  },
  {
   "cell_type": "code",
   "execution_count": 204,
   "metadata": {},
   "outputs": [
    {
     "data": {
      "text/plain": [
       "(372456, 9)"
      ]
     },
     "execution_count": 204,
     "metadata": {},
     "output_type": "execute_result"
    }
   ],
   "source": [
    "inp1.shape"
   ]
  },
  {
   "cell_type": "code",
   "execution_count": 205,
   "metadata": {},
   "outputs": [
    {
     "data": {
      "text/html": [
       "<div>\n",
       "<style scoped>\n",
       "    .dataframe tbody tr th:only-of-type {\n",
       "        vertical-align: middle;\n",
       "    }\n",
       "\n",
       "    .dataframe tbody tr th {\n",
       "        vertical-align: top;\n",
       "    }\n",
       "\n",
       "    .dataframe thead th {\n",
       "        text-align: right;\n",
       "    }\n",
       "</style>\n",
       "<table border=\"1\" class=\"dataframe\">\n",
       "  <thead>\n",
       "    <tr style=\"text-align: right;\">\n",
       "      <th></th>\n",
       "      <th>SRNO</th>\n",
       "      <th>SOLD_DATE</th>\n",
       "      <th>MAKE_YEAR</th>\n",
       "      <th>SOLDAMOUNT</th>\n",
       "      <th>Meter_Reading</th>\n",
       "      <th>Year_sell</th>\n",
       "      <th>Sell_Month</th>\n",
       "      <th>Sell_Day</th>\n",
       "      <th>CV_Age</th>\n",
       "    </tr>\n",
       "  </thead>\n",
       "  <tbody>\n",
       "    <tr>\n",
       "      <th>0</th>\n",
       "      <td>1</td>\n",
       "      <td>2020-11-26</td>\n",
       "      <td>2013</td>\n",
       "      <td>445000</td>\n",
       "      <td>490620.000</td>\n",
       "      <td>2020</td>\n",
       "      <td>11</td>\n",
       "      <td>26</td>\n",
       "      <td>7</td>\n",
       "    </tr>\n",
       "    <tr>\n",
       "      <th>1</th>\n",
       "      <td>2</td>\n",
       "      <td>2021-09-11</td>\n",
       "      <td>2010</td>\n",
       "      <td>315000</td>\n",
       "      <td>736100.000</td>\n",
       "      <td>2021</td>\n",
       "      <td>9</td>\n",
       "      <td>11</td>\n",
       "      <td>11</td>\n",
       "    </tr>\n",
       "    <tr>\n",
       "      <th>2</th>\n",
       "      <td>3</td>\n",
       "      <td>2022-01-01</td>\n",
       "      <td>2005</td>\n",
       "      <td>231646</td>\n",
       "      <td>1112310.000</td>\n",
       "      <td>2022</td>\n",
       "      <td>1</td>\n",
       "      <td>1</td>\n",
       "      <td>17</td>\n",
       "    </tr>\n",
       "    <tr>\n",
       "      <th>3</th>\n",
       "      <td>4</td>\n",
       "      <td>2021-01-01</td>\n",
       "      <td>2005</td>\n",
       "      <td>243837</td>\n",
       "      <td>1050260.000</td>\n",
       "      <td>2021</td>\n",
       "      <td>1</td>\n",
       "      <td>1</td>\n",
       "      <td>16</td>\n",
       "    </tr>\n",
       "    <tr>\n",
       "      <th>4</th>\n",
       "      <td>5</td>\n",
       "      <td>2022-01-01</td>\n",
       "      <td>2006</td>\n",
       "      <td>243837</td>\n",
       "      <td>1050260.000</td>\n",
       "      <td>2022</td>\n",
       "      <td>1</td>\n",
       "      <td>1</td>\n",
       "      <td>16</td>\n",
       "    </tr>\n",
       "    <tr>\n",
       "      <th>...</th>\n",
       "      <td>...</td>\n",
       "      <td>...</td>\n",
       "      <td>...</td>\n",
       "      <td>...</td>\n",
       "      <td>...</td>\n",
       "      <td>...</td>\n",
       "      <td>...</td>\n",
       "      <td>...</td>\n",
       "      <td>...</td>\n",
       "    </tr>\n",
       "    <tr>\n",
       "      <th>403885</th>\n",
       "      <td>387294</td>\n",
       "      <td>2021-01-01</td>\n",
       "      <td>2020</td>\n",
       "      <td>6923303</td>\n",
       "      <td>119000.000</td>\n",
       "      <td>2021</td>\n",
       "      <td>1</td>\n",
       "      <td>1</td>\n",
       "      <td>1</td>\n",
       "    </tr>\n",
       "    <tr>\n",
       "      <th>403886</th>\n",
       "      <td>387295</td>\n",
       "      <td>2020-01-01</td>\n",
       "      <td>2020</td>\n",
       "      <td>7287688</td>\n",
       "      <td>56950.000</td>\n",
       "      <td>2020</td>\n",
       "      <td>1</td>\n",
       "      <td>1</td>\n",
       "      <td>0</td>\n",
       "    </tr>\n",
       "    <tr>\n",
       "      <th>403887</th>\n",
       "      <td>387296</td>\n",
       "      <td>2022-01-01</td>\n",
       "      <td>2021</td>\n",
       "      <td>7287688</td>\n",
       "      <td>118830.000</td>\n",
       "      <td>2022</td>\n",
       "      <td>1</td>\n",
       "      <td>1</td>\n",
       "      <td>1</td>\n",
       "    </tr>\n",
       "    <tr>\n",
       "      <th>403888</th>\n",
       "      <td>387297</td>\n",
       "      <td>2021-01-01</td>\n",
       "      <td>2021</td>\n",
       "      <td>7671250</td>\n",
       "      <td>56780.000</td>\n",
       "      <td>2021</td>\n",
       "      <td>1</td>\n",
       "      <td>1</td>\n",
       "      <td>0</td>\n",
       "    </tr>\n",
       "    <tr>\n",
       "      <th>403889</th>\n",
       "      <td>387298</td>\n",
       "      <td>2022-01-01</td>\n",
       "      <td>2022</td>\n",
       "      <td>8075000</td>\n",
       "      <td>56780.000</td>\n",
       "      <td>2022</td>\n",
       "      <td>1</td>\n",
       "      <td>1</td>\n",
       "      <td>0</td>\n",
       "    </tr>\n",
       "  </tbody>\n",
       "</table>\n",
       "<p>372456 rows × 9 columns</p>\n",
       "</div>"
      ],
      "text/plain": [
       "          SRNO  SOLD_DATE  MAKE_YEAR  SOLDAMOUNT  Meter_Reading  Year_sell  \\\n",
       "0            1 2020-11-26       2013      445000     490620.000       2020   \n",
       "1            2 2021-09-11       2010      315000     736100.000       2021   \n",
       "2            3 2022-01-01       2005      231646    1112310.000       2022   \n",
       "3            4 2021-01-01       2005      243837    1050260.000       2021   \n",
       "4            5 2022-01-01       2006      243837    1050260.000       2022   \n",
       "...        ...        ...        ...         ...            ...        ...   \n",
       "403885  387294 2021-01-01       2020     6923303     119000.000       2021   \n",
       "403886  387295 2020-01-01       2020     7287688      56950.000       2020   \n",
       "403887  387296 2022-01-01       2021     7287688     118830.000       2022   \n",
       "403888  387297 2021-01-01       2021     7671250      56780.000       2021   \n",
       "403889  387298 2022-01-01       2022     8075000      56780.000       2022   \n",
       "\n",
       "        Sell_Month  Sell_Day  CV_Age  \n",
       "0               11        26       7  \n",
       "1                9        11      11  \n",
       "2                1         1      17  \n",
       "3                1         1      16  \n",
       "4                1         1      16  \n",
       "...            ...       ...     ...  \n",
       "403885           1         1       1  \n",
       "403886           1         1       0  \n",
       "403887           1         1       1  \n",
       "403888           1         1       0  \n",
       "403889           1         1       0  \n",
       "\n",
       "[372456 rows x 9 columns]"
      ]
     },
     "execution_count": 205,
     "metadata": {},
     "output_type": "execute_result"
    }
   ],
   "source": [
    "inp1"
   ]
  },
  {
   "cell_type": "code",
   "execution_count": 206,
   "metadata": {},
   "outputs": [],
   "source": [
    "#from scipy.stats import gaussian_kde\n",
    "#fig = plt.figure(figsize=(18,5))\n",
    "#\n",
    "#\n",
    "#for i,b in enumerate(list(inp1.columns)):\n",
    "#    \n",
    "#    i +=1\n",
    "#    ax = fig.add_subplot(1,13,i)\n",
    "#    sns.kdeplot(inp1[b])\n",
    "#\n",
    "#    ax.set_title(b)\n",
    "#\n",
    "#sns.set_style(\"whitegrid\")\n",
    "#plt.tight_layout()\n",
    "#plt.legend()\n",
    "#plt.show()"
   ]
  },
  {
   "cell_type": "code",
   "execution_count": 207,
   "metadata": {},
   "outputs": [
    {
     "data": {
      "image/png": "[encoded data removed]",
      "text/plain": [
       "<Figure size 3000x1500 with 9 Axes>"
      ]
     },
     "metadata": {},
     "output_type": "display_data"
    }
   ],
   "source": [
    "plt.subplots(figsize=(30,15))\n",
    " \n",
    "for i, col in enumerate(inp1):\n",
    "  plt.subplot(3,9,i+1)\n",
    "  sns.distplot(inp1[col])\n",
    "plt.subplots_adjust(hspace=1.5) \n",
    "plt.show()"
   ]
  },
  {
   "cell_type": "code",
   "execution_count": 208,
   "metadata": {},
   "outputs": [
    {
     "data": {
      "image/png": "[encoded data removed]",
      "text/plain": [
       "<Figure size 1500x700 with 9 Axes>"
      ]
     },
     "metadata": {},
     "output_type": "display_data"
    }
   ],
   "source": [
    "plt.subplots(figsize=(15,7))\n",
    " \n",
    "for i, col in enumerate(inp1):\n",
    "  plt.subplot(3,3,i+1)\n",
    "  sns.distplot(inp1[col])\n",
    "plt.show()"
   ]
  },
  {
   "cell_type": "code",
   "execution_count": 209,
   "metadata": {},
   "outputs": [],
   "source": [
    "#features = ['MAKE_YEAR', 'Make_Clean', 'Model_Clean', 'Variant_Clean', 'Fuel_Clean', 'CV_State_Clean', 'SELLER_SEGMENT']\n",
    "#\n",
    "#for feature in features:\n",
    "#    grouped_data = highly_wrong_predictions.groupby(feature).agg({'Actual': 'mean', 'Predicted': 'mean'})\n",
    "#    grouped_data.plot(kind='bar', figsize=(10, 6))"
   ]
  },
  {
   "cell_type": "code",
   "execution_count": 210,
   "metadata": {},
   "outputs": [],
   "source": [
    "\n",
    "#fig, axes = plt.subplots(nrows=3, ncols=9, figsize=(30, 15))\n",
    "#\n",
    "#for i, col in enumerate(inp1):\n",
    "#    ax = axes[i // 9, i % 9]  # Get the appropriate subplot axes\n",
    "#    sns.distplot(inp1[col], ax=ax)\n",
    "#    ax.set_title(col)  # Set the title for each subplot\n",
    "#\n",
    "#plt.subplots_adjust(hspace=0.5)  # Adjust the vertical spacing between subplots\n",
    "#plt.show()"
   ]
  },
  {
   "cell_type": "code",
   "execution_count": 211,
   "metadata": {},
   "outputs": [
    {
     "data": {
      "image/png": "[encoded data removed]",
      "text/plain": [
       "<Figure size 800x800 with 2 Axes>"
      ]
     },
     "metadata": {},
     "output_type": "display_data"
    }
   ],
   "source": [
    "# Let's see the correlation matrix \n",
    "plt.figure(figsize = (8,8))        # Size of the figure\n",
    "sns.heatmap(inp1.corr(),annot = True)\n",
    "plt.show()"
   ]
  },
  {
   "cell_type": "code",
   "execution_count": 212,
   "metadata": {},
   "outputs": [
    {
     "data": {
      "text/plain": [
       "(372456, 35)"
      ]
     },
     "execution_count": 212,
     "metadata": {},
     "output_type": "execute_result"
    }
   ],
   "source": [
    "df_5.shape"
   ]
  },
  {
   "cell_type": "code",
   "execution_count": 213,
   "metadata": {},
   "outputs": [
    {
     "data": {
      "text/html": [
       "<div>\n",
       "<style scoped>\n",
       "    .dataframe tbody tr th:only-of-type {\n",
       "        vertical-align: middle;\n",
       "    }\n",
       "\n",
       "    .dataframe tbody tr th {\n",
       "        vertical-align: top;\n",
       "    }\n",
       "\n",
       "    .dataframe thead th {\n",
       "        text-align: right;\n",
       "    }\n",
       "</style>\n",
       "<table border=\"1\" class=\"dataframe\">\n",
       "  <thead>\n",
       "    <tr style=\"text-align: right;\">\n",
       "      <th></th>\n",
       "      <th>SRNO</th>\n",
       "      <th>UNIQUESERIALNO</th>\n",
       "      <th>SOLD_DATE</th>\n",
       "      <th>MAKE_YEAR</th>\n",
       "      <th>Make_Clean</th>\n",
       "      <th>Model_Clean</th>\n",
       "      <th>Variant_Clean</th>\n",
       "      <th>Fuel_Clean</th>\n",
       "      <th>mixmmvfuelcleaned</th>\n",
       "      <th>BODYTYPE</th>\n",
       "      <th>SUBBODYTYPE</th>\n",
       "      <th>CLEANEDWHEEL</th>\n",
       "      <th>CLEANEDGVW/SEATING_CAPACITY</th>\n",
       "      <th>SOLDAMOUNT</th>\n",
       "      <th>CV_State_Clean</th>\n",
       "      <th>VEHICLENO</th>\n",
       "      <th>METERREADING</th>\n",
       "      <th>UCR</th>\n",
       "      <th>SHROTCOND_MAPPED</th>\n",
       "      <th>INSDT</th>\n",
       "      <th>TAX</th>\n",
       "      <th>PERMIT_MAPPED</th>\n",
       "      <th>SELLERCORPORATENAME</th>\n",
       "      <th>SELLERID</th>\n",
       "      <th>SELLERNAME</th>\n",
       "      <th>KEYREFNUMBER</th>\n",
       "      <th>INV_H_RC_STATUS_CLEANED_MAPPED</th>\n",
       "      <th>Vehicle_Codition</th>\n",
       "      <th>SELLER_SEGMENT</th>\n",
       "      <th>Meter_Reading</th>\n",
       "      <th>MMV</th>\n",
       "      <th>Year_sell</th>\n",
       "      <th>Sell_Month</th>\n",
       "      <th>Sell_Day</th>\n",
       "      <th>CV_Age</th>\n",
       "    </tr>\n",
       "  </thead>\n",
       "  <tbody>\n",
       "    <tr>\n",
       "      <th>0</th>\n",
       "      <td>1</td>\n",
       "      <td>S20091800155</td>\n",
       "      <td>2020-11-26</td>\n",
       "      <td>2013</td>\n",
       "      <td>AMW</td>\n",
       "      <td>2516HL</td>\n",
       "      <td>6X2CARGOTRUCK</td>\n",
       "      <td>DIESEL</td>\n",
       "      <td>AMW2516HL6X2CARGOTRUCKDIESEL</td>\n",
       "      <td>HAULAGE TRUCK</td>\n",
       "      <td>10 WHEELS / GVW 25000KG TO 28500KG /RIGID BODY</td>\n",
       "      <td>10</td>\n",
       "      <td>25000</td>\n",
       "      <td>445000</td>\n",
       "      <td>GUJARAT</td>\n",
       "      <td>GJ16Z6727</td>\n",
       "      <td>246368</td>\n",
       "      <td>20%</td>\n",
       "      <td>FAIR</td>\n",
       "      <td>Live : 28/02/2021</td>\n",
       "      <td>Expired : 30/09/2019</td>\n",
       "      <td>NOT AVAILABLE</td>\n",
       "      <td>a9</td>\n",
       "      <td>AP000337591</td>\n",
       "      <td>JAYESHBHAI  ZAVERBHAI PATEL</td>\n",
       "      <td>BHARUO608090001</td>\n",
       "      <td>ORIGINAL RC</td>\n",
       "      <td>MOVABLE</td>\n",
       "      <td>RETAIL</td>\n",
       "      <td>490620.000</td>\n",
       "      <td>AMW_2516HL_6X2CARGOTRUCK</td>\n",
       "      <td>2020</td>\n",
       "      <td>11</td>\n",
       "      <td>26</td>\n",
       "      <td>7</td>\n",
       "    </tr>\n",
       "    <tr>\n",
       "      <th>1</th>\n",
       "      <td>2</td>\n",
       "      <td>S21092900303</td>\n",
       "      <td>2021-09-11</td>\n",
       "      <td>2010</td>\n",
       "      <td>AMW</td>\n",
       "      <td>2516HL</td>\n",
       "      <td>6X2CARGOTRUCK</td>\n",
       "      <td>DIESEL</td>\n",
       "      <td>AMW2516HL6X2CARGOTRUCKDIESEL</td>\n",
       "      <td>HAULAGE TRUCK</td>\n",
       "      <td>10 WHEELS / GVW 25000KG TO 28500KG /RIGID BODY</td>\n",
       "      <td>10</td>\n",
       "      <td>25000</td>\n",
       "      <td>315000</td>\n",
       "      <td>TAMILNADU</td>\n",
       "      <td>TN22BT4664</td>\n",
       "      <td>NaN</td>\n",
       "      <td>0.2</td>\n",
       "      <td>FAIR</td>\n",
       "      <td>Live : 29/03/2022</td>\n",
       "      <td>Expired : 31/03/2021</td>\n",
       "      <td>NOT AVAILABLE</td>\n",
       "      <td>a9</td>\n",
       "      <td>AC000156811</td>\n",
       "      <td>CHINNAVELLAI  CHINNAVELLAI</td>\n",
       "      <td>ARUPKT908140010</td>\n",
       "      <td>Original RC</td>\n",
       "      <td>IMMOVABLE</td>\n",
       "      <td>Insurance</td>\n",
       "      <td>736100.000</td>\n",
       "      <td>AMW_2516HL_6X2CARGOTRUCK</td>\n",
       "      <td>2021</td>\n",
       "      <td>9</td>\n",
       "      <td>11</td>\n",
       "      <td>11</td>\n",
       "    </tr>\n",
       "    <tr>\n",
       "      <th>2</th>\n",
       "      <td>3</td>\n",
       "      <td>MKTCV1</td>\n",
       "      <td>2022-01-01</td>\n",
       "      <td>2005</td>\n",
       "      <td>AMW</td>\n",
       "      <td>2516HL</td>\n",
       "      <td>6X2CARGOTRUCK</td>\n",
       "      <td>DIESEL</td>\n",
       "      <td>AMW2516HL6X2CARGOTRUCKDIESEL</td>\n",
       "      <td>HAULAGE TRUCK</td>\n",
       "      <td>10 WHEELS / GVW 25000KG TO 28500KG /RIGID BODY</td>\n",
       "      <td>10</td>\n",
       "      <td>25000</td>\n",
       "      <td>231646</td>\n",
       "      <td>MADHYAPRADESH</td>\n",
       "      <td>NaN</td>\n",
       "      <td>NaN</td>\n",
       "      <td>40-50%</td>\n",
       "      <td>GOOD</td>\n",
       "      <td>LIVE</td>\n",
       "      <td>VALID</td>\n",
       "      <td>VALID</td>\n",
       "      <td>NaN</td>\n",
       "      <td>NaN</td>\n",
       "      <td>NaN</td>\n",
       "      <td>NaN</td>\n",
       "      <td>ORIGINAL RC</td>\n",
       "      <td>MOVABLE</td>\n",
       "      <td>OEM</td>\n",
       "      <td>1112310.000</td>\n",
       "      <td>AMW_2516HL_6X2CARGOTRUCK</td>\n",
       "      <td>2022</td>\n",
       "      <td>1</td>\n",
       "      <td>1</td>\n",
       "      <td>17</td>\n",
       "    </tr>\n",
       "    <tr>\n",
       "      <th>3</th>\n",
       "      <td>4</td>\n",
       "      <td>MKTCV2</td>\n",
       "      <td>2021-01-01</td>\n",
       "      <td>2005</td>\n",
       "      <td>AMW</td>\n",
       "      <td>2516HL</td>\n",
       "      <td>6X2CARGOTRUCK</td>\n",
       "      <td>DIESEL</td>\n",
       "      <td>AMW2516HL6X2CARGOTRUCKDIESEL</td>\n",
       "      <td>HAULAGE TRUCK</td>\n",
       "      <td>10 WHEELS / GVW 25000KG TO 28500KG /RIGID BODY</td>\n",
       "      <td>10</td>\n",
       "      <td>25000</td>\n",
       "      <td>243837</td>\n",
       "      <td>BIHAR</td>\n",
       "      <td>NaN</td>\n",
       "      <td>NaN</td>\n",
       "      <td>40-50%</td>\n",
       "      <td>GOOD</td>\n",
       "      <td>LIVE</td>\n",
       "      <td>VALID</td>\n",
       "      <td>VALID</td>\n",
       "      <td>NaN</td>\n",
       "      <td>NaN</td>\n",
       "      <td>NaN</td>\n",
       "      <td>NaN</td>\n",
       "      <td>ORIGINAL RC</td>\n",
       "      <td>MOVABLE</td>\n",
       "      <td>OEM</td>\n",
       "      <td>1050260.000</td>\n",
       "      <td>AMW_2516HL_6X2CARGOTRUCK</td>\n",
       "      <td>2021</td>\n",
       "      <td>1</td>\n",
       "      <td>1</td>\n",
       "      <td>16</td>\n",
       "    </tr>\n",
       "    <tr>\n",
       "      <th>4</th>\n",
       "      <td>5</td>\n",
       "      <td>MKTCV3</td>\n",
       "      <td>2022-01-01</td>\n",
       "      <td>2006</td>\n",
       "      <td>AMW</td>\n",
       "      <td>2516HL</td>\n",
       "      <td>6X2CARGOTRUCK</td>\n",
       "      <td>DIESEL</td>\n",
       "      <td>AMW2516HL6X2CARGOTRUCKDIESEL</td>\n",
       "      <td>HAULAGE TRUCK</td>\n",
       "      <td>10 WHEELS / GVW 25000KG TO 28500KG /RIGID BODY</td>\n",
       "      <td>10</td>\n",
       "      <td>25000</td>\n",
       "      <td>243837</td>\n",
       "      <td>HARYANA</td>\n",
       "      <td>NaN</td>\n",
       "      <td>NaN</td>\n",
       "      <td>40-50%</td>\n",
       "      <td>GOOD</td>\n",
       "      <td>LIVE</td>\n",
       "      <td>VALID</td>\n",
       "      <td>VALID</td>\n",
       "      <td>NaN</td>\n",
       "      <td>NaN</td>\n",
       "      <td>NaN</td>\n",
       "      <td>NaN</td>\n",
       "      <td>ORIGINAL RC</td>\n",
       "      <td>MOVABLE</td>\n",
       "      <td>OEM</td>\n",
       "      <td>1050260.000</td>\n",
       "      <td>AMW_2516HL_6X2CARGOTRUCK</td>\n",
       "      <td>2022</td>\n",
       "      <td>1</td>\n",
       "      <td>1</td>\n",
       "      <td>16</td>\n",
       "    </tr>\n",
       "  </tbody>\n",
       "</table>\n",
       "</div>"
      ],
      "text/plain": [
       "   SRNO UNIQUESERIALNO  SOLD_DATE  MAKE_YEAR Make_Clean Model_Clean  \\\n",
       "0     1   S20091800155 2020-11-26       2013        AMW      2516HL   \n",
       "1     2   S21092900303 2021-09-11       2010        AMW      2516HL   \n",
       "2     3         MKTCV1 2022-01-01       2005        AMW      2516HL   \n",
       "3     4         MKTCV2 2021-01-01       2005        AMW      2516HL   \n",
       "4     5         MKTCV3 2022-01-01       2006        AMW      2516HL   \n",
       "\n",
       "   Variant_Clean Fuel_Clean             mixmmvfuelcleaned       BODYTYPE  \\\n",
       "0  6X2CARGOTRUCK     DIESEL  AMW2516HL6X2CARGOTRUCKDIESEL  HAULAGE TRUCK   \n",
       "1  6X2CARGOTRUCK     DIESEL  AMW2516HL6X2CARGOTRUCKDIESEL  HAULAGE TRUCK   \n",
       "2  6X2CARGOTRUCK     DIESEL  AMW2516HL6X2CARGOTRUCKDIESEL  HAULAGE TRUCK   \n",
       "3  6X2CARGOTRUCK     DIESEL  AMW2516HL6X2CARGOTRUCKDIESEL  HAULAGE TRUCK   \n",
       "4  6X2CARGOTRUCK     DIESEL  AMW2516HL6X2CARGOTRUCKDIESEL  HAULAGE TRUCK   \n",
       "\n",
       "                                      SUBBODYTYPE CLEANEDWHEEL  \\\n",
       "0  10 WHEELS / GVW 25000KG TO 28500KG /RIGID BODY           10   \n",
       "1  10 WHEELS / GVW 25000KG TO 28500KG /RIGID BODY           10   \n",
       "2  10 WHEELS / GVW 25000KG TO 28500KG /RIGID BODY           10   \n",
       "3  10 WHEELS / GVW 25000KG TO 28500KG /RIGID BODY           10   \n",
       "4  10 WHEELS / GVW 25000KG TO 28500KG /RIGID BODY           10   \n",
       "\n",
       "  CLEANEDGVW/SEATING_CAPACITY  SOLDAMOUNT CV_State_Clean   VEHICLENO  \\\n",
       "0                       25000      445000        GUJARAT   GJ16Z6727   \n",
       "1                       25000      315000      TAMILNADU  TN22BT4664   \n",
       "2                       25000      231646  MADHYAPRADESH         NaN   \n",
       "3                       25000      243837          BIHAR         NaN   \n",
       "4                       25000      243837        HARYANA         NaN   \n",
       "\n",
       "  METERREADING     UCR SHROTCOND_MAPPED              INSDT  \\\n",
       "0       246368     20%             FAIR  Live : 28/02/2021   \n",
       "1          NaN     0.2             FAIR  Live : 29/03/2022   \n",
       "2          NaN  40-50%             GOOD               LIVE   \n",
       "3          NaN  40-50%             GOOD               LIVE   \n",
       "4          NaN  40-50%             GOOD               LIVE   \n",
       "\n",
       "                    TAX  PERMIT_MAPPED SELLERCORPORATENAME     SELLERID  \\\n",
       "0  Expired : 30/09/2019  NOT AVAILABLE                  a9  AP000337591   \n",
       "1  Expired : 31/03/2021  NOT AVAILABLE                  a9  AC000156811   \n",
       "2                 VALID          VALID                 NaN          NaN   \n",
       "3                 VALID          VALID                 NaN          NaN   \n",
       "4                 VALID          VALID                 NaN          NaN   \n",
       "\n",
       "                    SELLERNAME     KEYREFNUMBER  \\\n",
       "0  JAYESHBHAI  ZAVERBHAI PATEL  BHARUO608090001   \n",
       "1   CHINNAVELLAI  CHINNAVELLAI  ARUPKT908140010   \n",
       "2                          NaN              NaN   \n",
       "3                          NaN              NaN   \n",
       "4                          NaN              NaN   \n",
       "\n",
       "  INV_H_RC_STATUS_CLEANED_MAPPED Vehicle_Codition SELLER_SEGMENT  \\\n",
       "0                    ORIGINAL RC          MOVABLE         RETAIL   \n",
       "1                    Original RC        IMMOVABLE      Insurance   \n",
       "2                    ORIGINAL RC          MOVABLE            OEM   \n",
       "3                    ORIGINAL RC          MOVABLE            OEM   \n",
       "4                    ORIGINAL RC          MOVABLE            OEM   \n",
       "\n",
       "   Meter_Reading                       MMV  Year_sell  Sell_Month  Sell_Day  \\\n",
       "0     490620.000  AMW_2516HL_6X2CARGOTRUCK       2020          11        26   \n",
       "1     736100.000  AMW_2516HL_6X2CARGOTRUCK       2021           9        11   \n",
       "2    1112310.000  AMW_2516HL_6X2CARGOTRUCK       2022           1         1   \n",
       "3    1050260.000  AMW_2516HL_6X2CARGOTRUCK       2021           1         1   \n",
       "4    1050260.000  AMW_2516HL_6X2CARGOTRUCK       2022           1         1   \n",
       "\n",
       "   CV_Age  \n",
       "0       7  \n",
       "1      11  \n",
       "2      17  \n",
       "3      16  \n",
       "4      16  "
      ]
     },
     "execution_count": 213,
     "metadata": {},
     "output_type": "execute_result"
    }
   ],
   "source": [
    "df_5.head()"
   ]
  },
  {
   "cell_type": "code",
   "execution_count": 214,
   "metadata": {},
   "outputs": [
    {
     "data": {
      "text/plain": [
       "Index(['SRNO', 'UNIQUESERIALNO', 'SOLD_DATE', 'MAKE_YEAR', 'Make_Clean',\n",
       "       'Model_Clean', 'Variant_Clean', 'Fuel_Clean', 'mixmmvfuelcleaned',\n",
       "       'BODYTYPE', 'SUBBODYTYPE', 'CLEANEDWHEEL',\n",
       "       'CLEANEDGVW/SEATING_CAPACITY', 'SOLDAMOUNT', 'CV_State_Clean',\n",
       "       'VEHICLENO', 'METERREADING', 'UCR', 'SHROTCOND_MAPPED', 'INSDT', 'TAX',\n",
       "       'PERMIT_MAPPED', 'SELLERCORPORATENAME', 'SELLERID', 'SELLERNAME',\n",
       "       'KEYREFNUMBER', 'INV_H_RC_STATUS_CLEANED_MAPPED', 'Vehicle_Codition',\n",
       "       'SELLER_SEGMENT', 'Meter_Reading', 'MMV', 'Year_sell', 'Sell_Month',\n",
       "       'Sell_Day', 'CV_Age'],\n",
       "      dtype='object')"
      ]
     },
     "execution_count": 214,
     "metadata": {},
     "output_type": "execute_result"
    }
   ],
   "source": [
    "df_5.columns"
   ]
  },
  {
   "cell_type": "code",
   "execution_count": 215,
   "metadata": {},
   "outputs": [],
   "source": [
    "columns=['SOLD_DATE', 'MAKE_YEAR', 'Make_Clean',\n",
    "       'Model_Clean', 'Variant_Clean', 'Fuel_Clean', 'mixmmvfuelcleaned',\n",
    "       'BODYTYPE', 'SUBBODYTYPE', 'CLEANEDWHEEL',\n",
    "       'CLEANEDGVW/SEATING_CAPACITY', 'SOLDAMOUNT', 'CV_State_Clean',\n",
    "       'VEHICLENO', 'METERREADING', 'UCR', 'SHROTCOND_MAPPED', 'INSDT', 'TAX',\n",
    "       'PERMIT_MAPPED', 'SELLERCORPORATENAME', 'SELLERID', 'SELLERNAME',\n",
    "       'KEYREFNUMBER', 'INV_H_RC_STATUS_CLEANED_MAPPED', 'Vehicle_Codition',\n",
    "       'SELLER_SEGMENT', 'Meter_Reading', 'MMV', 'Year_sell', 'Sell_Month',\n",
    "       'Sell_Day', 'CV_Age']"
   ]
  },
  {
   "cell_type": "code",
   "execution_count": 216,
   "metadata": {},
   "outputs": [],
   "source": [
    "df_5.reset_index(drop=True,inplace =True)"
   ]
  },
  {
   "cell_type": "code",
   "execution_count": 217,
   "metadata": {},
   "outputs": [],
   "source": [
    "Model_data = df_5.copy()"
   ]
  },
  {
   "cell_type": "code",
   "execution_count": 218,
   "metadata": {},
   "outputs": [
    {
     "data": {
      "text/plain": [
       "(372456, 35)"
      ]
     },
     "execution_count": 218,
     "metadata": {},
     "output_type": "execute_result"
    }
   ],
   "source": [
    "Model_data.shape"
   ]
  },
  {
   "cell_type": "code",
   "execution_count": 219,
   "metadata": {},
   "outputs": [],
   "source": [
    "#Model_data.to_csv('Model_data_final_CV_CS_NEW_.csv')"
   ]
  },
  {
   "cell_type": "code",
   "execution_count": 220,
   "metadata": {},
   "outputs": [],
   "source": [
    "cat_f=Model_data.select_dtypes(include='object').columns"
   ]
  },
  {
   "cell_type": "code",
   "execution_count": 221,
   "metadata": {},
   "outputs": [
    {
     "data": {
      "text/plain": [
       "Index(['UNIQUESERIALNO', 'Make_Clean', 'Model_Clean', 'Variant_Clean',\n",
       "       'Fuel_Clean', 'mixmmvfuelcleaned', 'BODYTYPE', 'SUBBODYTYPE',\n",
       "       'CLEANEDWHEEL', 'CLEANEDGVW/SEATING_CAPACITY', 'CV_State_Clean',\n",
       "       'VEHICLENO', 'METERREADING', 'UCR', 'SHROTCOND_MAPPED', 'INSDT', 'TAX',\n",
       "       'PERMIT_MAPPED', 'SELLERCORPORATENAME', 'SELLERID', 'SELLERNAME',\n",
       "       'KEYREFNUMBER', 'INV_H_RC_STATUS_CLEANED_MAPPED', 'Vehicle_Codition',\n",
       "       'SELLER_SEGMENT', 'MMV'],\n",
       "      dtype='object')"
      ]
     },
     "execution_count": 221,
     "metadata": {},
     "output_type": "execute_result"
    }
   ],
   "source": [
    "cat_f"
   ]
  },
  {
   "cell_type": "code",
   "execution_count": 222,
   "metadata": {},
   "outputs": [],
   "source": [
    "cat_f=['SOLD_DATE', 'MAKE_YEAR', 'Make_Clean',\n",
    "       'Model_Clean', 'Variant_Clean', 'Fuel_Clean', 'mixmmvfuelcleaned',\n",
    "       'BODYTYPE', 'SUBBODYTYPE', 'CLEANEDWHEEL',\n",
    "       'CLEANEDGVW/SEATING_CAPACITY', 'SOLDAMOUNT', 'CV_State_Clean',\n",
    "       'VEHICLENO', 'METERREADING', 'UCR', 'SHROTCOND_MAPPED', 'INSDT', 'TAX',\n",
    "       'PERMIT_MAPPED', 'SELLERCORPORATENAME', 'SELLERID', 'SELLERNAME',\n",
    "       'KEYREFNUMBER', 'INV_H_RC_STATUS_CLEANED_MAPPED', 'Vehicle_Codition',\n",
    "       'SELLER_SEGMENT', 'Meter_Reading', 'MMV', 'Year_sell', 'Sell_Month',\n",
    "       'Sell_Day', 'CV_Age']"
   ]
  },
  {
   "cell_type": "code",
   "execution_count": 223,
   "metadata": {},
   "outputs": [],
   "source": [
    "num_f=Model_data.select_dtypes(exclude='object').columns"
   ]
  },
  {
   "cell_type": "code",
   "execution_count": 224,
   "metadata": {},
   "outputs": [
    {
     "data": {
      "text/plain": [
       "Index(['SRNO', 'SOLD_DATE', 'MAKE_YEAR', 'SOLDAMOUNT', 'Meter_Reading',\n",
       "       'Year_sell', 'Sell_Month', 'Sell_Day', 'CV_Age'],\n",
       "      dtype='object')"
      ]
     },
     "execution_count": 224,
     "metadata": {},
     "output_type": "execute_result"
    }
   ],
   "source": [
    "num_f"
   ]
  },
  {
   "cell_type": "code",
   "execution_count": 225,
   "metadata": {},
   "outputs": [],
   "source": [
    "inp1=Model_data.select_dtypes(exclude='object')"
   ]
  },
  {
   "cell_type": "code",
   "execution_count": 226,
   "metadata": {},
   "outputs": [],
   "source": [
    "columns=Model_data.select_dtypes(exclude='object').columns"
   ]
  },
  {
   "cell_type": "code",
   "execution_count": 227,
   "metadata": {},
   "outputs": [
    {
     "data": {
      "text/plain": [
       "Index(['SRNO', 'SOLD_DATE', 'MAKE_YEAR', 'SOLDAMOUNT', 'Meter_Reading',\n",
       "       'Year_sell', 'Sell_Month', 'Sell_Day', 'CV_Age'],\n",
       "      dtype='object')"
      ]
     },
     "execution_count": 227,
     "metadata": {},
     "output_type": "execute_result"
    }
   ],
   "source": [
    "columns"
   ]
  },
  {
   "cell_type": "code",
   "execution_count": 228,
   "metadata": {},
   "outputs": [],
   "source": [
    "inp_cat=Model_data.select_dtypes(include='object')"
   ]
  },
  {
   "cell_type": "code",
   "execution_count": 229,
   "metadata": {},
   "outputs": [
    {
     "data": {
      "text/plain": [
       "Index(['UNIQUESERIALNO', 'Make_Clean', 'Model_Clean', 'Variant_Clean',\n",
       "       'Fuel_Clean', 'mixmmvfuelcleaned', 'BODYTYPE', 'SUBBODYTYPE',\n",
       "       'CLEANEDWHEEL', 'CLEANEDGVW/SEATING_CAPACITY', 'CV_State_Clean',\n",
       "       'VEHICLENO', 'METERREADING', 'UCR', 'SHROTCOND_MAPPED', 'INSDT', 'TAX',\n",
       "       'PERMIT_MAPPED', 'SELLERCORPORATENAME', 'SELLERID', 'SELLERNAME',\n",
       "       'KEYREFNUMBER', 'INV_H_RC_STATUS_CLEANED_MAPPED', 'Vehicle_Codition',\n",
       "       'SELLER_SEGMENT', 'MMV'],\n",
       "      dtype='object')"
      ]
     },
     "execution_count": 229,
     "metadata": {},
     "output_type": "execute_result"
    }
   ],
   "source": [
    "inp_cat.columns"
   ]
  },
  {
   "cell_type": "code",
   "execution_count": 230,
   "metadata": {},
   "outputs": [],
   "source": [
    "Model_data.fillna(Model_data.select_dtypes(include='number').median().iloc[0], inplace=True)"
   ]
  },
  {
   "cell_type": "code",
   "execution_count": 231,
   "metadata": {},
   "outputs": [],
   "source": [
    "Model_data.fillna(Model_data.select_dtypes(include='object').mode().iloc[0], inplace=True)"
   ]
  },
  {
   "cell_type": "code",
   "execution_count": 232,
   "metadata": {},
   "outputs": [],
   "source": [
    "Model_data_= Model_data[['MAKE_YEAR','Make_Clean','Model_Clean','Variant_Clean','Fuel_Clean','CV_State_Clean','SELLER_SEGMENT','Meter_Reading','SOLDAMOUNT','Year_sell']]"
   ]
  },
  {
   "cell_type": "code",
   "execution_count": 233,
   "metadata": {},
   "outputs": [
    {
     "data": {
      "text/plain": [
       "Index(['MAKE_YEAR', 'Make_Clean', 'Model_Clean', 'Variant_Clean', 'Fuel_Clean',\n",
       "       'CV_State_Clean', 'SELLER_SEGMENT', 'Meter_Reading', 'SOLDAMOUNT',\n",
       "       'Year_sell'],\n",
       "      dtype='object')"
      ]
     },
     "execution_count": 233,
     "metadata": {},
     "output_type": "execute_result"
    }
   ],
   "source": [
    "Model_data_.columns"
   ]
  },
  {
   "cell_type": "code",
   "execution_count": 234,
   "metadata": {},
   "outputs": [],
   "source": [
    "X=Model_data_.drop(['SOLDAMOUNT'],axis=1)\n",
    "y=Model_data_[['SOLDAMOUNT']]"
   ]
  },
  {
   "cell_type": "code",
   "execution_count": 235,
   "metadata": {},
   "outputs": [],
   "source": [
    "from sklearn.model_selection import train_test_split\n",
    "X_train,X_test,y_train,y_test=train_test_split(X,y,test_size=0.2,random_state=42)"
   ]
  },
  {
   "cell_type": "code",
   "execution_count": 236,
   "metadata": {},
   "outputs": [],
   "source": [
    "from sklearn.preprocessing import OneHotEncoder\n",
    "from sklearn.compose import make_column_transformer\n",
    "from sklearn.pipeline import make_pipeline\n",
    "from sklearn.metrics import r2_score"
   ]
  },
  {
   "cell_type": "code",
   "execution_count": 237,
   "metadata": {},
   "outputs": [
    {
     "data": {
      "text/plain": [
       "OneHotEncoder(categories='auto', drop=None, dtype=<class 'numpy.float64'>,\n",
       "              handle_unknown='error', sparse=True)"
      ]
     },
     "execution_count": 237,
     "metadata": {},
     "output_type": "execute_result"
    }
   ],
   "source": [
    "ohe=OneHotEncoder()\n",
    "ohe.fit(X[['Make_Clean','Model_Clean','Variant_Clean','Fuel_Clean','CV_State_Clean','SELLER_SEGMENT']])"
   ]
  },
  {
   "cell_type": "code",
   "execution_count": 238,
   "metadata": {},
   "outputs": [],
   "source": [
    "column_trans=make_column_transformer((OneHotEncoder(categories=ohe.categories_),['Make_Clean','Model_Clean','Variant_Clean','Fuel_Clean','CV_State_Clean','SELLER_SEGMENT',]),remainder='passthrough')"
   ]
  },
  {
   "cell_type": "code",
   "execution_count": 239,
   "metadata": {},
   "outputs": [
    {
     "data": {
      "text/plain": [
       "ColumnTransformer(n_jobs=None, remainder='passthrough', sparse_threshold=0.3,\n",
       "                  transformer_weights=None,\n",
       "                  transformers=[('onehotencoder',\n",
       "                                 OneHotEncoder(categories=[array(['AMW', 'ASHOKLEYLAND', 'BAJAJTEMPO', 'BHARATBENZ', 'DECANAUTO',\n",
       "       'EICHER', 'FORCE', 'FORCEMAN', 'HINDUSTAN', 'ICML', 'MAHINDRA',\n",
       "       'MARUTISUZUKI', 'PIAGGIO', 'PREMIER', 'SCANIA', 'SMLISUZU',\n",
       "       'SWARAJMAZDA',...\n",
       "       'SECUNDERABAD', 'SIKKIM', 'TAMILNADU', 'TELANGANA', 'TRICHY',\n",
       "       'TRIPURA', 'UTTARAKHAND', 'UTTARPRADESH', 'VIJAYAWADA', 'WARANGAL',\n",
       "       'WESTBENGAL'], dtype=object),\n",
       "                                                           array(['BANK&NBFC', 'Insurance', 'Leasing', 'OEM', 'RETAIL'], dtype=object)],\n",
       "                                               drop=None,\n",
       "                                               dtype=<class 'numpy.float64'>,\n",
       "                                               handle_unknown='error',\n",
       "                                               sparse=True),\n",
       "                                 ['Make_Clean', 'Model_Clean', 'Variant_Clean',\n",
       "                                  'Fuel_Clean', 'CV_State_Clean',\n",
       "                                  'SELLER_SEGMENT'])],\n",
       "                  verbose=False)"
      ]
     },
     "execution_count": 239,
     "metadata": {},
     "output_type": "execute_result"
    }
   ],
   "source": [
    "column_trans"
   ]
  },
  {
   "cell_type": "code",
   "execution_count": 240,
   "metadata": {},
   "outputs": [
    {
     "name": "stdout",
     "output_type": "stream",
     "text": [
      "Requirement already satisfied: xgboost in /opt/conda/lib/python3.7/site-packages (1.6.2)\n",
      "Requirement already satisfied: numpy in /opt/conda/lib/python3.7/site-packages (from xgboost) (1.21.6)\n",
      "Requirement already satisfied: scipy in /opt/conda/lib/python3.7/site-packages (from xgboost) (1.4.1)\n",
      "\u001b[33mWARNING: Running pip as the 'root' user can result in broken permissions and conflicting behaviour with the system package manager. It is recommended to use a virtual environment instead: https://pip.pypa.io/warnings/venv\u001b[0m\u001b[33m\n",
      "\u001b[0m\n",
      "\u001b[1m[\u001b[0m\u001b[34;49mnotice\u001b[0m\u001b[1;39;49m]\u001b[0m\u001b[39;49m A new release of pip is available: \u001b[0m\u001b[31;49m23.0.1\u001b[0m\u001b[39;49m -> \u001b[0m\u001b[32;49m23.1.2\u001b[0m\n",
      "\u001b[1m[\u001b[0m\u001b[34;49mnotice\u001b[0m\u001b[1;39;49m]\u001b[0m\u001b[39;49m To update, run: \u001b[0m\u001b[32;49mpip install --upgrade pip\u001b[0m\n"
     ]
    }
   ],
   "source": [
    "!pip install xgboost"
   ]
  },
  {
   "cell_type": "code",
   "execution_count": 241,
   "metadata": {},
   "outputs": [],
   "source": [
    "from sklearn import model_selection\n",
    "from xgboost import XGBRegressor"
   ]
  },
  {
   "cell_type": "code",
   "execution_count": 242,
   "metadata": {},
   "outputs": [],
   "source": [
    "regressor=XGBRegressor(max_depth=8,learning_rate=0.01,\n",
    "                   n_estimators=5000,\n",
    "                   #objective='reg:linear',\n",
    "                   objective='reg:squarederror', \n",
    "                   booster='gbtree')"
   ]
  },
  {
   "cell_type": "code",
   "execution_count": 243,
   "metadata": {},
   "outputs": [],
   "source": [
    "#regressor = XGBRegressor(base_score=0.25, booster='gbtree', colsample_bylevel=1,\n",
    "#                                 colsample_bytree=0.1, gamma=0, learning_rate=0.1, max_delta_step=0.7,\n",
    "#                                 max_depth=8, min_child_num_Weight=5, missing=1, n_estimators=500,\n",
    "#                                 n_jobs=1, nthread=None, objective='reg:squarederror', random_state=707,\n",
    "#                                 reg_alpha=10, reg_lambda=300, scale_pos_num_Weight=0.1, seed=42,\n",
    "#                                 silent=True, subsample=0.1)"
   ]
  },
  {
   "cell_type": "code",
   "execution_count": 244,
   "metadata": {},
   "outputs": [],
   "source": [
    "pipe=make_pipeline(column_trans,regressor)"
   ]
  },
  {
   "cell_type": "code",
   "execution_count": 245,
   "metadata": {},
   "outputs": [
    {
     "data": {
      "text/plain": [
       "Pipeline(memory=None,\n",
       "         steps=[('columntransformer',\n",
       "                 ColumnTransformer(n_jobs=None, remainder='passthrough',\n",
       "                                   sparse_threshold=0.3,\n",
       "                                   transformer_weights=None,\n",
       "                                   transformers=[('onehotencoder',\n",
       "                                                  OneHotEncoder(categories=[array(['AMW', 'ASHOKLEYLAND', 'BAJAJTEMPO', 'BHARATBENZ', 'DECANAUTO',\n",
       "       'EICHER', 'FORCE', 'FORCEMAN', 'HINDUSTAN', 'ICML', 'MAHINDRA',\n",
       "       'MARUTISUZUKI', 'PIAG...\n",
       "                              gamma=0, gpu_id=-1, grow_policy='depthwise',\n",
       "                              importance_type=None, interaction_constraints='',\n",
       "                              learning_rate=0.01, max_bin=256,\n",
       "                              max_cat_to_onehot=4, max_delta_step=0,\n",
       "                              max_depth=8, max_leaves=0, min_child_weight=1,\n",
       "                              missing=nan, monotone_constraints='()',\n",
       "                              n_estimators=5000, n_jobs=0, num_parallel_tree=1,\n",
       "                              objective='reg:squarederror', predictor='auto',\n",
       "                              random_state=0, reg_alpha=0, ...))],\n",
       "         verbose=False)"
      ]
     },
     "execution_count": 245,
     "metadata": {},
     "output_type": "execute_result"
    }
   ],
   "source": [
    "pipe.fit(X_train,y_train)"
   ]
  },
  {
   "cell_type": "code",
   "execution_count": 246,
   "metadata": {},
   "outputs": [
    {
     "data": {
      "text/plain": [
       "array([297740.75,  74803.83,  78801.35, ...,  89420.65, 132081.89,\n",
       "       309105.2 ], dtype=float32)"
      ]
     },
     "execution_count": 246,
     "metadata": {},
     "output_type": "execute_result"
    }
   ],
   "source": [
    "y_pred=pipe.predict(X_test)\n",
    "y_pred"
   ]
  },
  {
   "cell_type": "code",
   "execution_count": 247,
   "metadata": {},
   "outputs": [
    {
     "data": {
      "text/plain": [
       "array([ 33918.58, 116720.6 ,  64387.19, ...,  49525.26, 894383.4 ,\n",
       "       180031.55], dtype=float32)"
      ]
     },
     "execution_count": 247,
     "metadata": {},
     "output_type": "execute_result"
    }
   ],
   "source": [
    "y_train_pred=pipe.predict(X_train)\n",
    "y_train_pred"
   ]
  },
  {
   "cell_type": "code",
   "execution_count": 248,
   "metadata": {},
   "outputs": [
    {
     "data": {
      "text/plain": [
       "0.954538980347219"
      ]
     },
     "execution_count": 248,
     "metadata": {},
     "output_type": "execute_result"
    }
   ],
   "source": [
    "r2_score(y_train,y_train_pred)"
   ]
  },
  {
   "cell_type": "code",
   "execution_count": 249,
   "metadata": {},
   "outputs": [
    {
     "data": {
      "text/plain": [
       "0.9517566306207181"
      ]
     },
     "execution_count": 249,
     "metadata": {},
     "output_type": "execute_result"
    }
   ],
   "source": [
    "r2_score(y_test,y_pred)"
   ]
  },
  {
   "cell_type": "code",
   "execution_count": 250,
   "metadata": {},
   "outputs": [],
   "source": [
    "import pickle"
   ]
  },
  {
   "cell_type": "code",
   "execution_count": 251,
   "metadata": {},
   "outputs": [],
   "source": [
    "pickle.dump(pipe,open('FInal_regressor_CV_CS_NEW_.pkl','wb'))"
   ]
  },
  {
   "cell_type": "code",
   "execution_count": 252,
   "metadata": {},
   "outputs": [],
   "source": [
    "#df_5[67903:67945]"
   ]
  },
  {
   "cell_type": "code",
   "execution_count": 253,
   "metadata": {},
   "outputs": [
    {
     "data": {
      "text/plain": [
       "array([942332.44], dtype=float32)"
      ]
     },
     "execution_count": 253,
     "metadata": {},
     "output_type": "execute_result"
    }
   ],
   "source": [
    "pipe.predict(pd.DataFrame(columns=['MAKE_YEAR','Make_Clean','Model_Clean','Variant_Clean','Fuel_Clean','CV_State_Clean','SELLER_SEGMENT','Meter_Reading','Year_sell'],data=np.array([2012,'BHARATBENZ','4928TT','6X4TRUCKTRACTOR','DIESEL','CHATTISGARH','OEM',300000,2012]).reshape(1,9)))"
   ]
  },
  {
   "cell_type": "code",
   "execution_count": 254,
   "metadata": {},
   "outputs": [
    {
     "data": {
      "text/plain": [
       "array(['GUJARAT', 'TAMILNADU', 'MADHYAPRADESH', 'BIHAR', 'HARYANA',\n",
       "       'PUNJAB', 'ANDHRAPRADESH', 'KERALA', 'TRIPURA', 'UTTARPRADESH',\n",
       "       'MAHARASHTRA', 'MIZORAM', 'RAJASTHAN', 'WESTBENGAL', 'UTTARAKHAND',\n",
       "       'ARUNACHALPRADESH', 'HIMACHALPRADESH', 'CHANDIGARH',\n",
       "       'JAMMU&KASHMIR', 'ODISHA', 'ASSAM', 'KARNATAKA', 'GOA',\n",
       "       'JHARKHAND', 'DELHI', 'MANIPUR', 'DAMANANDDIU', 'NAGALAND',\n",
       "       'MEGHALAYA', 'SIKKIM', 'PUDUCHERRY', 'LAKSHADWEEP',\n",
       "       'DADARANDNAGARHAVELI', 'DELHIANDNCR', 'HUBLI', 'BIHARANDJKD',\n",
       "       'WARANGAL', 'PUNJABHPANDJK', 'NORTHEAST', 'CHENNAI', 'TELANGANA',\n",
       "       'NAGPUR', 'VIJAYAWADA', 'KURNOOL', 'TRICHY', 'MANGALORE',\n",
       "       'COIMBATORE', 'MADURAI', 'BANGALORE', 'HYDERABAD', 'SECUNDERABAD',\n",
       "       'PUNE', 'MUMBAIANDGOA', 'CHATTISGARH'], dtype=object)"
      ]
     },
     "execution_count": 254,
     "metadata": {},
     "output_type": "execute_result"
    }
   ],
   "source": [
    "df_5['CV_State_Clean'].unique()"
   ]
  },
  {
   "cell_type": "code",
   "execution_count": null,
   "metadata": {},
   "outputs": [],
   "source": []
  },
  {
   "cell_type": "code",
   "execution_count": 255,
   "metadata": {},
   "outputs": [],
   "source": [
    "X_train_copy=X_train.copy()"
   ]
  },
  {
   "cell_type": "code",
   "execution_count": 256,
   "metadata": {},
   "outputs": [],
   "source": [
    "X_train_copy['Predicted']=y_train_pred"
   ]
  },
  {
   "cell_type": "code",
   "execution_count": 257,
   "metadata": {},
   "outputs": [],
   "source": [
    "X_train_copy['Actual']=y_train"
   ]
  },
  {
   "cell_type": "code",
   "execution_count": 258,
   "metadata": {},
   "outputs": [
    {
     "data": {
      "text/plain": [
       "238237    33918.578\n",
       "204429   116720.602\n",
       "166322    64387.191\n",
       "344213   118136.734\n",
       "194270   147257.344\n",
       "            ...    \n",
       "259178    75800.922\n",
       "365838   159971.766\n",
       "131932    49525.262\n",
       "146867   894383.375\n",
       "121958   180031.547\n",
       "Name: Predicted, Length: 297964, dtype: float32"
      ]
     },
     "execution_count": 258,
     "metadata": {},
     "output_type": "execute_result"
    }
   ],
   "source": [
    "X_train_copy['Predicted']"
   ]
  },
  {
   "cell_type": "code",
   "execution_count": 259,
   "metadata": {},
   "outputs": [
    {
     "data": {
      "text/html": [
       "<div>\n",
       "<style scoped>\n",
       "    .dataframe tbody tr th:only-of-type {\n",
       "        vertical-align: middle;\n",
       "    }\n",
       "\n",
       "    .dataframe tbody tr th {\n",
       "        vertical-align: top;\n",
       "    }\n",
       "\n",
       "    .dataframe thead th {\n",
       "        text-align: right;\n",
       "    }\n",
       "</style>\n",
       "<table border=\"1\" class=\"dataframe\">\n",
       "  <thead>\n",
       "    <tr style=\"text-align: right;\">\n",
       "      <th></th>\n",
       "      <th>MAKE_YEAR</th>\n",
       "      <th>Make_Clean</th>\n",
       "      <th>Model_Clean</th>\n",
       "      <th>Variant_Clean</th>\n",
       "      <th>Fuel_Clean</th>\n",
       "      <th>CV_State_Clean</th>\n",
       "      <th>SELLER_SEGMENT</th>\n",
       "      <th>Meter_Reading</th>\n",
       "      <th>Year_sell</th>\n",
       "      <th>Predicted</th>\n",
       "      <th>Actual</th>\n",
       "    </tr>\n",
       "  </thead>\n",
       "  <tbody>\n",
       "    <tr>\n",
       "      <th>238237</th>\n",
       "      <td>2011</td>\n",
       "      <td>TATA</td>\n",
       "      <td>ACE</td>\n",
       "      <td>4X2PICKUP</td>\n",
       "      <td>DIESEL</td>\n",
       "      <td>UTTARPRADESH</td>\n",
       "      <td>Insurance</td>\n",
       "      <td>243390.000</td>\n",
       "      <td>2020</td>\n",
       "      <td>33918.578</td>\n",
       "      <td>20000</td>\n",
       "    </tr>\n",
       "    <tr>\n",
       "      <th>204429</th>\n",
       "      <td>2009</td>\n",
       "      <td>TATA</td>\n",
       "      <td>ACE</td>\n",
       "      <td>4X2PICKUP</td>\n",
       "      <td>DIESEL</td>\n",
       "      <td>KARNATAKA</td>\n",
       "      <td>Insurance</td>\n",
       "      <td>152040.000</td>\n",
       "      <td>2014</td>\n",
       "      <td>116720.602</td>\n",
       "      <td>85000</td>\n",
       "    </tr>\n",
       "    <tr>\n",
       "      <th>166322</th>\n",
       "      <td>2009</td>\n",
       "      <td>TATA</td>\n",
       "      <td>ACE</td>\n",
       "      <td>4X2PICKUP</td>\n",
       "      <td>DIESEL</td>\n",
       "      <td>MADHYAPRADESH</td>\n",
       "      <td>BANK&amp;NBFC</td>\n",
       "      <td>350840.000</td>\n",
       "      <td>2022</td>\n",
       "      <td>64387.191</td>\n",
       "      <td>90000</td>\n",
       "    </tr>\n",
       "    <tr>\n",
       "      <th>344213</th>\n",
       "      <td>2015</td>\n",
       "      <td>TATA</td>\n",
       "      <td>MAGICIRIS</td>\n",
       "      <td>4X2MINIBUS</td>\n",
       "      <td>DIESEL</td>\n",
       "      <td>KERALA</td>\n",
       "      <td>RETAIL</td>\n",
       "      <td>195840.000</td>\n",
       "      <td>2018</td>\n",
       "      <td>118136.734</td>\n",
       "      <td>128500</td>\n",
       "    </tr>\n",
       "    <tr>\n",
       "      <th>194270</th>\n",
       "      <td>2013</td>\n",
       "      <td>TATA</td>\n",
       "      <td>ACE</td>\n",
       "      <td>4X2PICKUP</td>\n",
       "      <td>DIESEL</td>\n",
       "      <td>TAMILNADU</td>\n",
       "      <td>RETAIL</td>\n",
       "      <td>142170.000</td>\n",
       "      <td>2018</td>\n",
       "      <td>147257.344</td>\n",
       "      <td>213000</td>\n",
       "    </tr>\n",
       "    <tr>\n",
       "      <th>95966</th>\n",
       "      <td>2021</td>\n",
       "      <td>EICHER</td>\n",
       "      <td>PRO2075ECBCPTOABSPSBS6</td>\n",
       "      <td>4X2TANKERTRUCK</td>\n",
       "      <td>DIESEL</td>\n",
       "      <td>CHANDIGARH</td>\n",
       "      <td>OEM</td>\n",
       "      <td>56780.000</td>\n",
       "      <td>2021</td>\n",
       "      <td>1906912.250</td>\n",
       "      <td>2222320</td>\n",
       "    </tr>\n",
       "    <tr>\n",
       "      <th>182752</th>\n",
       "      <td>2011</td>\n",
       "      <td>TATA</td>\n",
       "      <td>ACE</td>\n",
       "      <td>4X2PICKUP</td>\n",
       "      <td>DIESEL</td>\n",
       "      <td>ANDHRAPRADESH</td>\n",
       "      <td>Insurance</td>\n",
       "      <td>90580.000</td>\n",
       "      <td>2014</td>\n",
       "      <td>153734.516</td>\n",
       "      <td>159000</td>\n",
       "    </tr>\n",
       "    <tr>\n",
       "      <th>236607</th>\n",
       "      <td>2008</td>\n",
       "      <td>TATA</td>\n",
       "      <td>ACE</td>\n",
       "      <td>4X2PICKUP</td>\n",
       "      <td>DIESEL</td>\n",
       "      <td>TAMILNADU</td>\n",
       "      <td>RETAIL</td>\n",
       "      <td>330820.000</td>\n",
       "      <td>2020</td>\n",
       "      <td>58939.086</td>\n",
       "      <td>75000</td>\n",
       "    </tr>\n",
       "    <tr>\n",
       "      <th>187146</th>\n",
       "      <td>2006</td>\n",
       "      <td>TATA</td>\n",
       "      <td>ACE</td>\n",
       "      <td>4X2PICKUP</td>\n",
       "      <td>DIESEL</td>\n",
       "      <td>RAJASTHAN</td>\n",
       "      <td>RETAIL</td>\n",
       "      <td>284830.000</td>\n",
       "      <td>2017</td>\n",
       "      <td>52012.250</td>\n",
       "      <td>37000</td>\n",
       "    </tr>\n",
       "    <tr>\n",
       "      <th>310983</th>\n",
       "      <td>2017</td>\n",
       "      <td>TATA</td>\n",
       "      <td>LPT3118</td>\n",
       "      <td>8X2CARGOTRUCK</td>\n",
       "      <td>DIESEL</td>\n",
       "      <td>MADHYAPRADESH</td>\n",
       "      <td>RETAIL</td>\n",
       "      <td>217430.000</td>\n",
       "      <td>2020</td>\n",
       "      <td>1354848.750</td>\n",
       "      <td>1640000</td>\n",
       "    </tr>\n",
       "    <tr>\n",
       "      <th>20675</th>\n",
       "      <td>2018</td>\n",
       "      <td>ASHOKLEYLAND</td>\n",
       "      <td>2516XL</td>\n",
       "      <td>6X2TANKERTRUCK</td>\n",
       "      <td>DIESEL</td>\n",
       "      <td>MADHYAPRADESH</td>\n",
       "      <td>OEM</td>\n",
       "      <td>243100.000</td>\n",
       "      <td>2021</td>\n",
       "      <td>1434028.500</td>\n",
       "      <td>1360012</td>\n",
       "    </tr>\n",
       "    <tr>\n",
       "      <th>136482</th>\n",
       "      <td>2013</td>\n",
       "      <td>MAHINDRA</td>\n",
       "      <td>MAXITRUCK</td>\n",
       "      <td>4X2PICKUP</td>\n",
       "      <td>DIESEL</td>\n",
       "      <td>MAHARASHTRA</td>\n",
       "      <td>RETAIL</td>\n",
       "      <td>58940.000</td>\n",
       "      <td>2015</td>\n",
       "      <td>231325.078</td>\n",
       "      <td>305000</td>\n",
       "    </tr>\n",
       "    <tr>\n",
       "      <th>21507</th>\n",
       "      <td>2005</td>\n",
       "      <td>ASHOKLEYLAND</td>\n",
       "      <td>3/10COMET</td>\n",
       "      <td>4X4CARGOTRUCK</td>\n",
       "      <td>DIESEL</td>\n",
       "      <td>DADARANDNAGARHAVELI</td>\n",
       "      <td>OEM</td>\n",
       "      <td>988210.000</td>\n",
       "      <td>2020</td>\n",
       "      <td>307032.188</td>\n",
       "      <td>209558</td>\n",
       "    </tr>\n",
       "    <tr>\n",
       "      <th>335945</th>\n",
       "      <td>2014</td>\n",
       "      <td>TATA</td>\n",
       "      <td>MAGIC</td>\n",
       "      <td>4X2MINIBUS</td>\n",
       "      <td>DIESEL</td>\n",
       "      <td>MADHYAPRADESH</td>\n",
       "      <td>RETAIL</td>\n",
       "      <td>446930.000</td>\n",
       "      <td>2021</td>\n",
       "      <td>89592.922</td>\n",
       "      <td>49000</td>\n",
       "    </tr>\n",
       "    <tr>\n",
       "      <th>194908</th>\n",
       "      <td>2007</td>\n",
       "      <td>TATA</td>\n",
       "      <td>ACE</td>\n",
       "      <td>4X2PICKUP</td>\n",
       "      <td>DIESEL</td>\n",
       "      <td>TAMILNADU</td>\n",
       "      <td>Insurance</td>\n",
       "      <td>260050.000</td>\n",
       "      <td>2017</td>\n",
       "      <td>48988.996</td>\n",
       "      <td>44000</td>\n",
       "    </tr>\n",
       "    <tr>\n",
       "      <th>354009</th>\n",
       "      <td>2016</td>\n",
       "      <td>TATA</td>\n",
       "      <td>SUPERACE</td>\n",
       "      <td>4X2PICKUP</td>\n",
       "      <td>DIESEL</td>\n",
       "      <td>MANGALORE</td>\n",
       "      <td>BANK&amp;NBFC</td>\n",
       "      <td>172970.000</td>\n",
       "      <td>2022</td>\n",
       "      <td>161060.500</td>\n",
       "      <td>125000</td>\n",
       "    </tr>\n",
       "    <tr>\n",
       "      <th>52914</th>\n",
       "      <td>2019</td>\n",
       "      <td>ASHOKLEYLAND</td>\n",
       "      <td>LYNXSMART4900MMHSCHOOLBUS(3X3)</td>\n",
       "      <td>4X2SCHOOLBUS</td>\n",
       "      <td>DIESEL</td>\n",
       "      <td>SIKKIM</td>\n",
       "      <td>OEM</td>\n",
       "      <td>243100.000</td>\n",
       "      <td>2022</td>\n",
       "      <td>1021985.625</td>\n",
       "      <td>1044721</td>\n",
       "    </tr>\n",
       "    <tr>\n",
       "      <th>204069</th>\n",
       "      <td>2008</td>\n",
       "      <td>TATA</td>\n",
       "      <td>ACE</td>\n",
       "      <td>4X2PICKUP</td>\n",
       "      <td>DIESEL</td>\n",
       "      <td>TAMILNADU</td>\n",
       "      <td>Insurance</td>\n",
       "      <td>206080.000</td>\n",
       "      <td>2016</td>\n",
       "      <td>72081.102</td>\n",
       "      <td>90000</td>\n",
       "    </tr>\n",
       "    <tr>\n",
       "      <th>305310</th>\n",
       "      <td>2007</td>\n",
       "      <td>TATA</td>\n",
       "      <td>LPT2515</td>\n",
       "      <td>6X2WATERTANKTRUCK</td>\n",
       "      <td>DIESEL</td>\n",
       "      <td>ASSAM</td>\n",
       "      <td>Leasing</td>\n",
       "      <td>988210.000</td>\n",
       "      <td>2022</td>\n",
       "      <td>376822.281</td>\n",
       "      <td>324216</td>\n",
       "    </tr>\n",
       "    <tr>\n",
       "      <th>103143</th>\n",
       "      <td>2011</td>\n",
       "      <td>FORCEMAN</td>\n",
       "      <td>CLA49.280</td>\n",
       "      <td>6X4TRUCKTRACTOR</td>\n",
       "      <td>DIESEL</td>\n",
       "      <td>UTTARAKHAND</td>\n",
       "      <td>OEM</td>\n",
       "      <td>739840.000</td>\n",
       "      <td>2022</td>\n",
       "      <td>371349.031</td>\n",
       "      <td>315125</td>\n",
       "    </tr>\n",
       "  </tbody>\n",
       "</table>\n",
       "</div>"
      ],
      "text/plain": [
       "        MAKE_YEAR    Make_Clean                     Model_Clean  \\\n",
       "238237       2011          TATA                             ACE   \n",
       "204429       2009          TATA                             ACE   \n",
       "166322       2009          TATA                             ACE   \n",
       "344213       2015          TATA                       MAGICIRIS   \n",
       "194270       2013          TATA                             ACE   \n",
       "95966        2021        EICHER          PRO2075ECBCPTOABSPSBS6   \n",
       "182752       2011          TATA                             ACE   \n",
       "236607       2008          TATA                             ACE   \n",
       "187146       2006          TATA                             ACE   \n",
       "310983       2017          TATA                         LPT3118   \n",
       "20675        2018  ASHOKLEYLAND                          2516XL   \n",
       "136482       2013      MAHINDRA                       MAXITRUCK   \n",
       "21507        2005  ASHOKLEYLAND                       3/10COMET   \n",
       "335945       2014          TATA                           MAGIC   \n",
       "194908       2007          TATA                             ACE   \n",
       "354009       2016          TATA                        SUPERACE   \n",
       "52914        2019  ASHOKLEYLAND  LYNXSMART4900MMHSCHOOLBUS(3X3)   \n",
       "204069       2008          TATA                             ACE   \n",
       "305310       2007          TATA                         LPT2515   \n",
       "103143       2011      FORCEMAN                       CLA49.280   \n",
       "\n",
       "            Variant_Clean Fuel_Clean       CV_State_Clean SELLER_SEGMENT  \\\n",
       "238237          4X2PICKUP     DIESEL         UTTARPRADESH      Insurance   \n",
       "204429          4X2PICKUP     DIESEL            KARNATAKA      Insurance   \n",
       "166322          4X2PICKUP     DIESEL        MADHYAPRADESH      BANK&NBFC   \n",
       "344213         4X2MINIBUS     DIESEL               KERALA         RETAIL   \n",
       "194270          4X2PICKUP     DIESEL            TAMILNADU         RETAIL   \n",
       "95966      4X2TANKERTRUCK     DIESEL           CHANDIGARH            OEM   \n",
       "182752          4X2PICKUP     DIESEL        ANDHRAPRADESH      Insurance   \n",
       "236607          4X2PICKUP     DIESEL            TAMILNADU         RETAIL   \n",
       "187146          4X2PICKUP     DIESEL            RAJASTHAN         RETAIL   \n",
       "310983      8X2CARGOTRUCK     DIESEL        MADHYAPRADESH         RETAIL   \n",
       "20675      6X2TANKERTRUCK     DIESEL        MADHYAPRADESH            OEM   \n",
       "136482          4X2PICKUP     DIESEL          MAHARASHTRA         RETAIL   \n",
       "21507       4X4CARGOTRUCK     DIESEL  DADARANDNAGARHAVELI            OEM   \n",
       "335945         4X2MINIBUS     DIESEL        MADHYAPRADESH         RETAIL   \n",
       "194908          4X2PICKUP     DIESEL            TAMILNADU      Insurance   \n",
       "354009          4X2PICKUP     DIESEL            MANGALORE      BANK&NBFC   \n",
       "52914        4X2SCHOOLBUS     DIESEL               SIKKIM            OEM   \n",
       "204069          4X2PICKUP     DIESEL            TAMILNADU      Insurance   \n",
       "305310  6X2WATERTANKTRUCK     DIESEL                ASSAM        Leasing   \n",
       "103143    6X4TRUCKTRACTOR     DIESEL          UTTARAKHAND            OEM   \n",
       "\n",
       "        Meter_Reading  Year_sell   Predicted   Actual  \n",
       "238237     243390.000       2020   33918.578    20000  \n",
       "204429     152040.000       2014  116720.602    85000  \n",
       "166322     350840.000       2022   64387.191    90000  \n",
       "344213     195840.000       2018  118136.734   128500  \n",
       "194270     142170.000       2018  147257.344   213000  \n",
       "95966       56780.000       2021 1906912.250  2222320  \n",
       "182752      90580.000       2014  153734.516   159000  \n",
       "236607     330820.000       2020   58939.086    75000  \n",
       "187146     284830.000       2017   52012.250    37000  \n",
       "310983     217430.000       2020 1354848.750  1640000  \n",
       "20675      243100.000       2021 1434028.500  1360012  \n",
       "136482      58940.000       2015  231325.078   305000  \n",
       "21507      988210.000       2020  307032.188   209558  \n",
       "335945     446930.000       2021   89592.922    49000  \n",
       "194908     260050.000       2017   48988.996    44000  \n",
       "354009     172970.000       2022  161060.500   125000  \n",
       "52914      243100.000       2022 1021985.625  1044721  \n",
       "204069     206080.000       2016   72081.102    90000  \n",
       "305310     988210.000       2022  376822.281   324216  \n",
       "103143     739840.000       2022  371349.031   315125  "
      ]
     },
     "execution_count": 259,
     "metadata": {},
     "output_type": "execute_result"
    }
   ],
   "source": [
    "X_train_copy.head(20)"
   ]
  },
  {
   "cell_type": "code",
   "execution_count": 260,
   "metadata": {},
   "outputs": [],
   "source": [
    "MAPE=abs((X_train_copy['Actual']-X_train_copy['Predicted'])/X_train_copy['Actual']).mean()*100"
   ]
  },
  {
   "cell_type": "code",
   "execution_count": 261,
   "metadata": {},
   "outputs": [
    {
     "data": {
      "text/plain": [
       "41.630560274561326"
      ]
     },
     "execution_count": 261,
     "metadata": {},
     "output_type": "execute_result"
    }
   ],
   "source": [
    "MAPE"
   ]
  },
  {
   "cell_type": "code",
   "execution_count": 262,
   "metadata": {},
   "outputs": [
    {
     "data": {
      "image/png": "[encoded data removed]",
      "text/plain": [
       "<Figure size 640x480 with 1 Axes>"
      ]
     },
     "metadata": {},
     "output_type": "display_data"
    }
   ],
   "source": [
    "# Plot the histogram of the error terms\n",
    "import matplotlib.pyplot as plt\n",
    "import seaborn as sns\n",
    "fig = plt.figure()\n",
    "sns.distplot((X_train_copy['Actual'] - X_train_copy['Predicted']), bins = 20)\n",
    "fig.suptitle('Error Terms', fontsize = 20)                  \n",
    "plt.xlabel('Errors', fontsize = 18)  \n",
    "plt.show()"
   ]
  },
  {
   "cell_type": "code",
   "execution_count": 263,
   "metadata": {},
   "outputs": [
    {
     "data": {
      "image/png": "[encoded data removed]",
      "text/plain": [
       "<Figure size 1000x1000 with 1 Axes>"
      ]
     },
     "metadata": {},
     "output_type": "display_data"
    }
   ],
   "source": [
    "plt.figure(figsize=(10,10))\n",
    "plt.scatter(X_train_copy['Actual'], X_train_copy['Predicted'], c='crimson')\n",
    "# plt.yscale('log')\n",
    "# plt.xscale('log')\n",
    "\n",
    "p1 = max(max(X_train_copy['Predicted']), max(X_train_copy['Actual']))\n",
    "p2 = min(min(X_train_copy['Predicted']), min(X_train_copy['Actual']))\n",
    "plt.plot([p1, p2], [p1, p2])\n",
    "plt.xlabel('Actual', fontsize=15)\n",
    "plt.ylabel('Predicted', fontsize=15)\n",
    "plt.axis('equal')\n",
    "plt.show()"
   ]
  },
  {
   "cell_type": "code",
   "execution_count": 264,
   "metadata": {},
   "outputs": [],
   "source": [
    "X_test_copy=X_test.copy()\n",
    "X_test_copy['Predicted']=y_pred\n",
    "X_test_copy['Actual']=y_test\n"
   ]
  },
  {
   "cell_type": "code",
   "execution_count": 265,
   "metadata": {},
   "outputs": [
    {
     "data": {
      "text/plain": [
       "291145    297740.750\n",
       "163225     74803.828\n",
       "219277     78801.352\n",
       "203671     92563.922\n",
       "129159    262767.125\n",
       "             ...    \n",
       "26703     250188.312\n",
       "352561   1814582.875\n",
       "269576     89420.648\n",
       "219819    132081.891\n",
       "19710     309105.188\n",
       "Name: Predicted, Length: 74492, dtype: float32"
      ]
     },
     "execution_count": 265,
     "metadata": {},
     "output_type": "execute_result"
    }
   ],
   "source": [
    "X_test_copy['Predicted']"
   ]
  },
  {
   "cell_type": "code",
   "execution_count": 266,
   "metadata": {},
   "outputs": [
    {
     "data": {
      "text/html": [
       "<div>\n",
       "<style scoped>\n",
       "    .dataframe tbody tr th:only-of-type {\n",
       "        vertical-align: middle;\n",
       "    }\n",
       "\n",
       "    .dataframe tbody tr th {\n",
       "        vertical-align: top;\n",
       "    }\n",
       "\n",
       "    .dataframe thead th {\n",
       "        text-align: right;\n",
       "    }\n",
       "</style>\n",
       "<table border=\"1\" class=\"dataframe\">\n",
       "  <thead>\n",
       "    <tr style=\"text-align: right;\">\n",
       "      <th></th>\n",
       "      <th>MAKE_YEAR</th>\n",
       "      <th>Make_Clean</th>\n",
       "      <th>Model_Clean</th>\n",
       "      <th>Variant_Clean</th>\n",
       "      <th>Fuel_Clean</th>\n",
       "      <th>CV_State_Clean</th>\n",
       "      <th>SELLER_SEGMENT</th>\n",
       "      <th>Meter_Reading</th>\n",
       "      <th>Year_sell</th>\n",
       "      <th>Predicted</th>\n",
       "      <th>Actual</th>\n",
       "    </tr>\n",
       "  </thead>\n",
       "  <tbody>\n",
       "    <tr>\n",
       "      <th>291145</th>\n",
       "      <td>2007</td>\n",
       "      <td>TATA</td>\n",
       "      <td>LPS4018</td>\n",
       "      <td>4X2COMBINATIONTRUCK</td>\n",
       "      <td>DIESEL</td>\n",
       "      <td>UTTARPRADESH</td>\n",
       "      <td>RETAIL</td>\n",
       "      <td>920380.000</td>\n",
       "      <td>2021</td>\n",
       "      <td>297740.750</td>\n",
       "      <td>160000</td>\n",
       "    </tr>\n",
       "    <tr>\n",
       "      <th>163225</th>\n",
       "      <td>2009</td>\n",
       "      <td>TATA</td>\n",
       "      <td>207DI</td>\n",
       "      <td>4X2PICKUP</td>\n",
       "      <td>DIESEL</td>\n",
       "      <td>ANDHRAPRADESH</td>\n",
       "      <td>Insurance</td>\n",
       "      <td>207200.000</td>\n",
       "      <td>2017</td>\n",
       "      <td>74803.828</td>\n",
       "      <td>56000</td>\n",
       "    </tr>\n",
       "    <tr>\n",
       "      <th>219277</th>\n",
       "      <td>2007</td>\n",
       "      <td>TATA</td>\n",
       "      <td>ACE</td>\n",
       "      <td>4X2PICKUP</td>\n",
       "      <td>DIESEL</td>\n",
       "      <td>TAMILNADU</td>\n",
       "      <td>RETAIL</td>\n",
       "      <td>191170.000</td>\n",
       "      <td>2014</td>\n",
       "      <td>78801.352</td>\n",
       "      <td>93000</td>\n",
       "    </tr>\n",
       "    <tr>\n",
       "      <th>203671</th>\n",
       "      <td>2011</td>\n",
       "      <td>TATA</td>\n",
       "      <td>ACE</td>\n",
       "      <td>4X2PICKUP</td>\n",
       "      <td>DIESEL</td>\n",
       "      <td>KARNATAKA</td>\n",
       "      <td>Insurance</td>\n",
       "      <td>194670.000</td>\n",
       "      <td>2018</td>\n",
       "      <td>92563.922</td>\n",
       "      <td>10000</td>\n",
       "    </tr>\n",
       "    <tr>\n",
       "      <th>129159</th>\n",
       "      <td>2017</td>\n",
       "      <td>MAHINDRA</td>\n",
       "      <td>BOLEROPICKUPFBMICROHYBRIDBS3</td>\n",
       "      <td>4X2PICKUP</td>\n",
       "      <td>DIESEL</td>\n",
       "      <td>DELHI</td>\n",
       "      <td>OEM</td>\n",
       "      <td>151200.000</td>\n",
       "      <td>2022</td>\n",
       "      <td>262767.125</td>\n",
       "      <td>282021</td>\n",
       "    </tr>\n",
       "    <tr>\n",
       "      <th>31069</th>\n",
       "      <td>2020</td>\n",
       "      <td>ASHOKLEYLAND</td>\n",
       "      <td>ALPSV4/17CHASSIS</td>\n",
       "      <td>4X2BUS</td>\n",
       "      <td>DIESEL</td>\n",
       "      <td>BIHAR</td>\n",
       "      <td>OEM</td>\n",
       "      <td>56950.000</td>\n",
       "      <td>2020</td>\n",
       "      <td>1551361.125</td>\n",
       "      <td>1543275</td>\n",
       "    </tr>\n",
       "    <tr>\n",
       "      <th>279619</th>\n",
       "      <td>2012</td>\n",
       "      <td>TATA</td>\n",
       "      <td>ACEZIP</td>\n",
       "      <td>4X2PICKUP</td>\n",
       "      <td>DIESEL</td>\n",
       "      <td>KERALA</td>\n",
       "      <td>Insurance</td>\n",
       "      <td>159040.000</td>\n",
       "      <td>2018</td>\n",
       "      <td>60601.926</td>\n",
       "      <td>10820</td>\n",
       "    </tr>\n",
       "    <tr>\n",
       "      <th>6658</th>\n",
       "      <td>2005</td>\n",
       "      <td>ASHOKLEYLAND</td>\n",
       "      <td>1613COMETSUPER</td>\n",
       "      <td>4X2CARGOTRUCK</td>\n",
       "      <td>DIESEL</td>\n",
       "      <td>MAHARASHTRA</td>\n",
       "      <td>RETAIL</td>\n",
       "      <td>837420.000</td>\n",
       "      <td>2018</td>\n",
       "      <td>219301.469</td>\n",
       "      <td>185000</td>\n",
       "    </tr>\n",
       "    <tr>\n",
       "      <th>172440</th>\n",
       "      <td>2012</td>\n",
       "      <td>TATA</td>\n",
       "      <td>ACE</td>\n",
       "      <td>4X2PICKUP</td>\n",
       "      <td>DIESEL</td>\n",
       "      <td>ANDHRAPRADESH</td>\n",
       "      <td>Insurance</td>\n",
       "      <td>83580.000</td>\n",
       "      <td>2015</td>\n",
       "      <td>167409.859</td>\n",
       "      <td>234000</td>\n",
       "    </tr>\n",
       "    <tr>\n",
       "      <th>298549</th>\n",
       "      <td>2013</td>\n",
       "      <td>TATA</td>\n",
       "      <td>LPT1613</td>\n",
       "      <td>4X2CARGOTRUCK</td>\n",
       "      <td>DIESEL</td>\n",
       "      <td>GUJARAT</td>\n",
       "      <td>Leasing</td>\n",
       "      <td>28910.000</td>\n",
       "      <td>2020</td>\n",
       "      <td>408303.062</td>\n",
       "      <td>331710</td>\n",
       "    </tr>\n",
       "  </tbody>\n",
       "</table>\n",
       "</div>"
      ],
      "text/plain": [
       "        MAKE_YEAR    Make_Clean                   Model_Clean  \\\n",
       "291145       2007          TATA                       LPS4018   \n",
       "163225       2009          TATA                         207DI   \n",
       "219277       2007          TATA                           ACE   \n",
       "203671       2011          TATA                           ACE   \n",
       "129159       2017      MAHINDRA  BOLEROPICKUPFBMICROHYBRIDBS3   \n",
       "31069        2020  ASHOKLEYLAND              ALPSV4/17CHASSIS   \n",
       "279619       2012          TATA                        ACEZIP   \n",
       "6658         2005  ASHOKLEYLAND                1613COMETSUPER   \n",
       "172440       2012          TATA                           ACE   \n",
       "298549       2013          TATA                       LPT1613   \n",
       "\n",
       "              Variant_Clean Fuel_Clean CV_State_Clean SELLER_SEGMENT  \\\n",
       "291145  4X2COMBINATIONTRUCK     DIESEL   UTTARPRADESH         RETAIL   \n",
       "163225            4X2PICKUP     DIESEL  ANDHRAPRADESH      Insurance   \n",
       "219277            4X2PICKUP     DIESEL      TAMILNADU         RETAIL   \n",
       "203671            4X2PICKUP     DIESEL      KARNATAKA      Insurance   \n",
       "129159            4X2PICKUP     DIESEL          DELHI            OEM   \n",
       "31069                4X2BUS     DIESEL          BIHAR            OEM   \n",
       "279619            4X2PICKUP     DIESEL         KERALA      Insurance   \n",
       "6658          4X2CARGOTRUCK     DIESEL    MAHARASHTRA         RETAIL   \n",
       "172440            4X2PICKUP     DIESEL  ANDHRAPRADESH      Insurance   \n",
       "298549        4X2CARGOTRUCK     DIESEL        GUJARAT        Leasing   \n",
       "\n",
       "        Meter_Reading  Year_sell   Predicted   Actual  \n",
       "291145     920380.000       2021  297740.750   160000  \n",
       "163225     207200.000       2017   74803.828    56000  \n",
       "219277     191170.000       2014   78801.352    93000  \n",
       "203671     194670.000       2018   92563.922    10000  \n",
       "129159     151200.000       2022  262767.125   282021  \n",
       "31069       56950.000       2020 1551361.125  1543275  \n",
       "279619     159040.000       2018   60601.926    10820  \n",
       "6658       837420.000       2018  219301.469   185000  \n",
       "172440      83580.000       2015  167409.859   234000  \n",
       "298549      28910.000       2020  408303.062   331710  "
      ]
     },
     "execution_count": 266,
     "metadata": {},
     "output_type": "execute_result"
    }
   ],
   "source": [
    "X_test_copy.head(10)"
   ]
  },
  {
   "cell_type": "code",
   "execution_count": 267,
   "metadata": {},
   "outputs": [],
   "source": [
    "vertical_concat = pd.concat([X_train_copy,X_test_copy ], axis=0)"
   ]
  },
  {
   "cell_type": "code",
   "execution_count": 268,
   "metadata": {},
   "outputs": [],
   "source": [
    "vertical_concat['Diffrence']=vertical_concat['Predicted']-vertical_concat['Actual']"
   ]
  },
  {
   "cell_type": "code",
   "execution_count": 269,
   "metadata": {},
   "outputs": [],
   "source": [
    "vertical_concat['%_diff']=((vertical_concat['Diffrence']/vertical_concat['Actual'])*100)"
   ]
  },
  {
   "cell_type": "code",
   "execution_count": 270,
   "metadata": {},
   "outputs": [
    {
     "data": {
      "text/html": [
       "<div>\n",
       "<style scoped>\n",
       "    .dataframe tbody tr th:only-of-type {\n",
       "        vertical-align: middle;\n",
       "    }\n",
       "\n",
       "    .dataframe tbody tr th {\n",
       "        vertical-align: top;\n",
       "    }\n",
       "\n",
       "    .dataframe thead th {\n",
       "        text-align: right;\n",
       "    }\n",
       "</style>\n",
       "<table border=\"1\" class=\"dataframe\">\n",
       "  <thead>\n",
       "    <tr style=\"text-align: right;\">\n",
       "      <th></th>\n",
       "      <th>MAKE_YEAR</th>\n",
       "      <th>Make_Clean</th>\n",
       "      <th>Model_Clean</th>\n",
       "      <th>Variant_Clean</th>\n",
       "      <th>Fuel_Clean</th>\n",
       "      <th>CV_State_Clean</th>\n",
       "      <th>SELLER_SEGMENT</th>\n",
       "      <th>Meter_Reading</th>\n",
       "      <th>Year_sell</th>\n",
       "      <th>Predicted</th>\n",
       "      <th>Actual</th>\n",
       "      <th>Diffrence</th>\n",
       "      <th>%_diff</th>\n",
       "    </tr>\n",
       "  </thead>\n",
       "  <tbody>\n",
       "    <tr>\n",
       "      <th>238237</th>\n",
       "      <td>2011</td>\n",
       "      <td>TATA</td>\n",
       "      <td>ACE</td>\n",
       "      <td>4X2PICKUP</td>\n",
       "      <td>DIESEL</td>\n",
       "      <td>UTTARPRADESH</td>\n",
       "      <td>Insurance</td>\n",
       "      <td>243390.000</td>\n",
       "      <td>2020</td>\n",
       "      <td>33918.578</td>\n",
       "      <td>20000</td>\n",
       "      <td>13918.578</td>\n",
       "      <td>69.593</td>\n",
       "    </tr>\n",
       "    <tr>\n",
       "      <th>204429</th>\n",
       "      <td>2009</td>\n",
       "      <td>TATA</td>\n",
       "      <td>ACE</td>\n",
       "      <td>4X2PICKUP</td>\n",
       "      <td>DIESEL</td>\n",
       "      <td>KARNATAKA</td>\n",
       "      <td>Insurance</td>\n",
       "      <td>152040.000</td>\n",
       "      <td>2014</td>\n",
       "      <td>116720.602</td>\n",
       "      <td>85000</td>\n",
       "      <td>31720.602</td>\n",
       "      <td>37.318</td>\n",
       "    </tr>\n",
       "    <tr>\n",
       "      <th>166322</th>\n",
       "      <td>2009</td>\n",
       "      <td>TATA</td>\n",
       "      <td>ACE</td>\n",
       "      <td>4X2PICKUP</td>\n",
       "      <td>DIESEL</td>\n",
       "      <td>MADHYAPRADESH</td>\n",
       "      <td>BANK&amp;NBFC</td>\n",
       "      <td>350840.000</td>\n",
       "      <td>2022</td>\n",
       "      <td>64387.191</td>\n",
       "      <td>90000</td>\n",
       "      <td>-25612.809</td>\n",
       "      <td>-28.459</td>\n",
       "    </tr>\n",
       "    <tr>\n",
       "      <th>344213</th>\n",
       "      <td>2015</td>\n",
       "      <td>TATA</td>\n",
       "      <td>MAGICIRIS</td>\n",
       "      <td>4X2MINIBUS</td>\n",
       "      <td>DIESEL</td>\n",
       "      <td>KERALA</td>\n",
       "      <td>RETAIL</td>\n",
       "      <td>195840.000</td>\n",
       "      <td>2018</td>\n",
       "      <td>118136.734</td>\n",
       "      <td>128500</td>\n",
       "      <td>-10363.266</td>\n",
       "      <td>-8.065</td>\n",
       "    </tr>\n",
       "    <tr>\n",
       "      <th>194270</th>\n",
       "      <td>2013</td>\n",
       "      <td>TATA</td>\n",
       "      <td>ACE</td>\n",
       "      <td>4X2PICKUP</td>\n",
       "      <td>DIESEL</td>\n",
       "      <td>TAMILNADU</td>\n",
       "      <td>RETAIL</td>\n",
       "      <td>142170.000</td>\n",
       "      <td>2018</td>\n",
       "      <td>147257.344</td>\n",
       "      <td>213000</td>\n",
       "      <td>-65742.656</td>\n",
       "      <td>-30.865</td>\n",
       "    </tr>\n",
       "    <tr>\n",
       "      <th>...</th>\n",
       "      <td>...</td>\n",
       "      <td>...</td>\n",
       "      <td>...</td>\n",
       "      <td>...</td>\n",
       "      <td>...</td>\n",
       "      <td>...</td>\n",
       "      <td>...</td>\n",
       "      <td>...</td>\n",
       "      <td>...</td>\n",
       "      <td>...</td>\n",
       "      <td>...</td>\n",
       "      <td>...</td>\n",
       "      <td>...</td>\n",
       "    </tr>\n",
       "    <tr>\n",
       "      <th>26703</th>\n",
       "      <td>2006</td>\n",
       "      <td>ASHOKLEYLAND</td>\n",
       "      <td>3516</td>\n",
       "      <td>4X2TRUCKTRACTOR</td>\n",
       "      <td>DIESEL</td>\n",
       "      <td>MAHARASHTRA</td>\n",
       "      <td>Insurance</td>\n",
       "      <td>695640.000</td>\n",
       "      <td>2017</td>\n",
       "      <td>250188.312</td>\n",
       "      <td>190000</td>\n",
       "      <td>60188.312</td>\n",
       "      <td>31.678</td>\n",
       "    </tr>\n",
       "    <tr>\n",
       "      <th>352561</th>\n",
       "      <td>2018</td>\n",
       "      <td>TATA</td>\n",
       "      <td>SIGNA3718.T</td>\n",
       "      <td>10X2CARGOTRUCK</td>\n",
       "      <td>DIESEL</td>\n",
       "      <td>DADARANDNAGARHAVELI</td>\n",
       "      <td>Leasing</td>\n",
       "      <td>305150.000</td>\n",
       "      <td>2022</td>\n",
       "      <td>1814582.875</td>\n",
       "      <td>1958815</td>\n",
       "      <td>-144232.125</td>\n",
       "      <td>-7.363</td>\n",
       "    </tr>\n",
       "    <tr>\n",
       "      <th>269576</th>\n",
       "      <td>2012</td>\n",
       "      <td>TATA</td>\n",
       "      <td>ACEHT</td>\n",
       "      <td>4X2PICKUP</td>\n",
       "      <td>DIESEL</td>\n",
       "      <td>WESTBENGAL</td>\n",
       "      <td>RETAIL</td>\n",
       "      <td>200830.000</td>\n",
       "      <td>2019</td>\n",
       "      <td>89420.648</td>\n",
       "      <td>28000</td>\n",
       "      <td>61420.648</td>\n",
       "      <td>219.359</td>\n",
       "    </tr>\n",
       "    <tr>\n",
       "      <th>219819</th>\n",
       "      <td>2012</td>\n",
       "      <td>TATA</td>\n",
       "      <td>ACE</td>\n",
       "      <td>4X2PICKUP</td>\n",
       "      <td>DIESEL</td>\n",
       "      <td>TAMILNADU</td>\n",
       "      <td>RETAIL</td>\n",
       "      <td>152740.000</td>\n",
       "      <td>2017</td>\n",
       "      <td>132081.891</td>\n",
       "      <td>192000</td>\n",
       "      <td>-59918.109</td>\n",
       "      <td>-31.207</td>\n",
       "    </tr>\n",
       "    <tr>\n",
       "      <th>19710</th>\n",
       "      <td>2009</td>\n",
       "      <td>ASHOKLEYLAND</td>\n",
       "      <td>2516</td>\n",
       "      <td>6X2CARGOTRUCK</td>\n",
       "      <td>DIESEL</td>\n",
       "      <td>ANDHRAPRADESH</td>\n",
       "      <td>Insurance</td>\n",
       "      <td>812770.000</td>\n",
       "      <td>2022</td>\n",
       "      <td>309105.188</td>\n",
       "      <td>245000</td>\n",
       "      <td>64105.188</td>\n",
       "      <td>26.165</td>\n",
       "    </tr>\n",
       "  </tbody>\n",
       "</table>\n",
       "<p>372456 rows × 13 columns</p>\n",
       "</div>"
      ],
      "text/plain": [
       "        MAKE_YEAR    Make_Clean  Model_Clean    Variant_Clean Fuel_Clean  \\\n",
       "238237       2011          TATA          ACE        4X2PICKUP     DIESEL   \n",
       "204429       2009          TATA          ACE        4X2PICKUP     DIESEL   \n",
       "166322       2009          TATA          ACE        4X2PICKUP     DIESEL   \n",
       "344213       2015          TATA    MAGICIRIS       4X2MINIBUS     DIESEL   \n",
       "194270       2013          TATA          ACE        4X2PICKUP     DIESEL   \n",
       "...           ...           ...          ...              ...        ...   \n",
       "26703        2006  ASHOKLEYLAND         3516  4X2TRUCKTRACTOR     DIESEL   \n",
       "352561       2018          TATA  SIGNA3718.T   10X2CARGOTRUCK     DIESEL   \n",
       "269576       2012          TATA        ACEHT        4X2PICKUP     DIESEL   \n",
       "219819       2012          TATA          ACE        4X2PICKUP     DIESEL   \n",
       "19710        2009  ASHOKLEYLAND         2516    6X2CARGOTRUCK     DIESEL   \n",
       "\n",
       "             CV_State_Clean SELLER_SEGMENT  Meter_Reading  Year_sell  \\\n",
       "238237         UTTARPRADESH      Insurance     243390.000       2020   \n",
       "204429            KARNATAKA      Insurance     152040.000       2014   \n",
       "166322        MADHYAPRADESH      BANK&NBFC     350840.000       2022   \n",
       "344213               KERALA         RETAIL     195840.000       2018   \n",
       "194270            TAMILNADU         RETAIL     142170.000       2018   \n",
       "...                     ...            ...            ...        ...   \n",
       "26703           MAHARASHTRA      Insurance     695640.000       2017   \n",
       "352561  DADARANDNAGARHAVELI        Leasing     305150.000       2022   \n",
       "269576           WESTBENGAL         RETAIL     200830.000       2019   \n",
       "219819            TAMILNADU         RETAIL     152740.000       2017   \n",
       "19710         ANDHRAPRADESH      Insurance     812770.000       2022   \n",
       "\n",
       "         Predicted   Actual   Diffrence  %_diff  \n",
       "238237   33918.578    20000   13918.578  69.593  \n",
       "204429  116720.602    85000   31720.602  37.318  \n",
       "166322   64387.191    90000  -25612.809 -28.459  \n",
       "344213  118136.734   128500  -10363.266  -8.065  \n",
       "194270  147257.344   213000  -65742.656 -30.865  \n",
       "...            ...      ...         ...     ...  \n",
       "26703   250188.312   190000   60188.312  31.678  \n",
       "352561 1814582.875  1958815 -144232.125  -7.363  \n",
       "269576   89420.648    28000   61420.648 219.359  \n",
       "219819  132081.891   192000  -59918.109 -31.207  \n",
       "19710   309105.188   245000   64105.188  26.165  \n",
       "\n",
       "[372456 rows x 13 columns]"
      ]
     },
     "execution_count": 270,
     "metadata": {},
     "output_type": "execute_result"
    }
   ],
   "source": [
    "vertical_concat"
   ]
  },
  {
   "cell_type": "code",
   "execution_count": 271,
   "metadata": {},
   "outputs": [],
   "source": [
    "#vertical_concat.to_csv('NEW_CV_CS_Actual vs Predicted_.csv')"
   ]
  },
  {
   "cell_type": "code",
   "execution_count": 272,
   "metadata": {},
   "outputs": [
    {
     "data": {
      "text/html": [
       "<div>\n",
       "<style scoped>\n",
       "    .dataframe tbody tr th:only-of-type {\n",
       "        vertical-align: middle;\n",
       "    }\n",
       "\n",
       "    .dataframe tbody tr th {\n",
       "        vertical-align: top;\n",
       "    }\n",
       "\n",
       "    .dataframe thead th {\n",
       "        text-align: right;\n",
       "    }\n",
       "</style>\n",
       "<table border=\"1\" class=\"dataframe\">\n",
       "  <thead>\n",
       "    <tr style=\"text-align: right;\">\n",
       "      <th></th>\n",
       "      <th>MAKE_YEAR</th>\n",
       "      <th>Meter_Reading</th>\n",
       "      <th>Year_sell</th>\n",
       "      <th>Predicted</th>\n",
       "      <th>Actual</th>\n",
       "      <th>Diffrence</th>\n",
       "      <th>%_diff</th>\n",
       "    </tr>\n",
       "  </thead>\n",
       "  <tbody>\n",
       "    <tr>\n",
       "      <th>count</th>\n",
       "      <td>372456.000</td>\n",
       "      <td>372456.000</td>\n",
       "      <td>372456.000</td>\n",
       "      <td>372456.000</td>\n",
       "      <td>372456.000</td>\n",
       "      <td>372456.000</td>\n",
       "      <td>372456.000</td>\n",
       "    </tr>\n",
       "    <tr>\n",
       "      <th>mean</th>\n",
       "      <td>2011.951</td>\n",
       "      <td>294756.712</td>\n",
       "      <td>2017.953</td>\n",
       "      <td>397539.250</td>\n",
       "      <td>397608.699</td>\n",
       "      <td>-76.970</td>\n",
       "      <td>24.894</td>\n",
       "    </tr>\n",
       "    <tr>\n",
       "      <th>std</th>\n",
       "      <td>4.046</td>\n",
       "      <td>231573.905</td>\n",
       "      <td>2.884</td>\n",
       "      <td>499696.062</td>\n",
       "      <td>529244.048</td>\n",
       "      <td>113527.629</td>\n",
       "      <td>130.701</td>\n",
       "    </tr>\n",
       "    <tr>\n",
       "      <th>min</th>\n",
       "      <td>2005.000</td>\n",
       "      <td>3240.000</td>\n",
       "      <td>2012.000</td>\n",
       "      <td>-8771.328</td>\n",
       "      <td>500.000</td>\n",
       "      <td>-2326655.938</td>\n",
       "      <td>-159.373</td>\n",
       "    </tr>\n",
       "    <tr>\n",
       "      <th>25%</th>\n",
       "      <td>2009.000</td>\n",
       "      <td>126130.000</td>\n",
       "      <td>2016.000</td>\n",
       "      <td>103629.258</td>\n",
       "      <td>95000.000</td>\n",
       "      <td>-41026.234</td>\n",
       "      <td>-14.394</td>\n",
       "    </tr>\n",
       "    <tr>\n",
       "      <th>50%</th>\n",
       "      <td>2011.000</td>\n",
       "      <td>209860.000</td>\n",
       "      <td>2018.000</td>\n",
       "      <td>194001.109</td>\n",
       "      <td>190000.000</td>\n",
       "      <td>6475.270</td>\n",
       "      <td>3.543</td>\n",
       "    </tr>\n",
       "    <tr>\n",
       "      <th>75%</th>\n",
       "      <td>2015.000</td>\n",
       "      <td>401922.500</td>\n",
       "      <td>2020.000</td>\n",
       "      <td>478049.094</td>\n",
       "      <td>478289.000</td>\n",
       "      <td>46177.445</td>\n",
       "      <td>33.021</td>\n",
       "    </tr>\n",
       "    <tr>\n",
       "      <th>max</th>\n",
       "      <td>2022.000</td>\n",
       "      <td>1112310.000</td>\n",
       "      <td>2022.000</td>\n",
       "      <td>8357574.000</td>\n",
       "      <td>9728000.000</td>\n",
       "      <td>1433461.000</td>\n",
       "      <td>16394.191</td>\n",
       "    </tr>\n",
       "  </tbody>\n",
       "</table>\n",
       "</div>"
      ],
      "text/plain": [
       "       MAKE_YEAR  Meter_Reading  Year_sell   Predicted      Actual  \\\n",
       "count 372456.000     372456.000 372456.000  372456.000  372456.000   \n",
       "mean    2011.951     294756.712   2017.953  397539.250  397608.699   \n",
       "std        4.046     231573.905      2.884  499696.062  529244.048   \n",
       "min     2005.000       3240.000   2012.000   -8771.328     500.000   \n",
       "25%     2009.000     126130.000   2016.000  103629.258   95000.000   \n",
       "50%     2011.000     209860.000   2018.000  194001.109  190000.000   \n",
       "75%     2015.000     401922.500   2020.000  478049.094  478289.000   \n",
       "max     2022.000    1112310.000   2022.000 8357574.000 9728000.000   \n",
       "\n",
       "         Diffrence     %_diff  \n",
       "count   372456.000 372456.000  \n",
       "mean       -76.970     24.894  \n",
       "std     113527.629    130.701  \n",
       "min   -2326655.938   -159.373  \n",
       "25%     -41026.234    -14.394  \n",
       "50%       6475.270      3.543  \n",
       "75%      46177.445     33.021  \n",
       "max    1433461.000  16394.191  "
      ]
     },
     "execution_count": 272,
     "metadata": {},
     "output_type": "execute_result"
    }
   ],
   "source": [
    "vertical_concat.describe()"
   ]
  },
  {
   "cell_type": "code",
   "execution_count": 273,
   "metadata": {},
   "outputs": [
    {
     "data": {
      "text/plain": [
       "MAKE_YEAR         0\n",
       "Make_Clean        0\n",
       "Model_Clean       0\n",
       "Variant_Clean     0\n",
       "Fuel_Clean        0\n",
       "CV_State_Clean    0\n",
       "SELLER_SEGMENT    0\n",
       "Meter_Reading     0\n",
       "Year_sell         0\n",
       "Predicted         0\n",
       "Actual            0\n",
       "Diffrence         0\n",
       "%_diff            0\n",
       "dtype: int64"
      ]
     },
     "execution_count": 273,
     "metadata": {},
     "output_type": "execute_result"
    }
   ],
   "source": [
    "vertical_concat.isnull().sum()"
   ]
  },
  {
   "cell_type": "code",
   "execution_count": 274,
   "metadata": {},
   "outputs": [],
   "source": [
    "MAPE_test=abs((X_test_copy['Actual']-X_test_copy['Predicted'])/X_test_copy['Actual']).mean()*100"
   ]
  },
  {
   "cell_type": "code",
   "execution_count": 275,
   "metadata": {},
   "outputs": [
    {
     "data": {
      "text/plain": [
       "42.300815717065575"
      ]
     },
     "execution_count": 275,
     "metadata": {},
     "output_type": "execute_result"
    }
   ],
   "source": [
    "MAPE_test"
   ]
  },
  {
   "cell_type": "code",
   "execution_count": 276,
   "metadata": {},
   "outputs": [
    {
     "data": {
      "image/png": "[encoded data removed]",
      "text/plain": [
       "<Figure size 1000x1000 with 1 Axes>"
      ]
     },
     "metadata": {},
     "output_type": "display_data"
    }
   ],
   "source": [
    "plt.figure(figsize=(10,10))\n",
    "plt.scatter(X_test_copy['Actual'], X_test_copy['Predicted'], c='crimson')\n",
    "# plt.yscale('log')\n",
    "# plt.xscale('log')\n",
    "\n",
    "p1 = max(max(X_test_copy['Predicted']), max(X_test_copy['Actual']))\n",
    "p2 = min(min(X_test_copy['Predicted']), min(X_test_copy['Actual']))\n",
    "plt.plot([p1, p2], [p1, p2])\n",
    "plt.xlabel('Actual', fontsize=15)\n",
    "plt.ylabel('Predicted', fontsize=15)\n",
    "plt.axis('equal')\n",
    "plt.show()"
   ]
  },
  {
   "cell_type": "code",
   "execution_count": 277,
   "metadata": {},
   "outputs": [
    {
     "data": {
      "image/png": "[encoded data removed]",
      "text/plain": [
       "<Figure size 640x480 with 1 Axes>"
      ]
     },
     "metadata": {},
     "output_type": "display_data"
    }
   ],
   "source": [
    "plt.plot(X_test_copy['Actual'],label='Actual')\n",
    "#plt.plot(X_test_copy['Predicted'],label='Predicted')\n",
    "plt.legend()\n",
    "plt.grid()\n",
    "plt.show()"
   ]
  },
  {
   "cell_type": "code",
   "execution_count": 278,
   "metadata": {},
   "outputs": [],
   "source": [
    "incorrect = X_test_copy[X_test_copy[\"Actual\"] != X_test_copy[\"Predicted\"]]"
   ]
  },
  {
   "cell_type": "code",
   "execution_count": null,
   "metadata": {},
   "outputs": [],
   "source": []
  },
  {
   "cell_type": "code",
   "execution_count": 288,
   "metadata": {},
   "outputs": [
    {
     "data": {
      "text/plain": [
       "<bound method DataFrame.info of         MAKE_YEAR    Make_Clean                 Model_Clean  \\\n",
       "24794        2015  ASHOKLEYLAND                        3118   \n",
       "8088         2017  ASHOKLEYLAND                        1618   \n",
       "7355         2011  ASHOKLEYLAND                        1616   \n",
       "129974       2019      MAHINDRA              DI3200CRXCABIN   \n",
       "299542       2006          TATA        LPT1616/42BS3697COWL   \n",
       "...           ...           ...                         ...   \n",
       "349067       2020          TATA  SFC407/31WBHTCABCHASSISBS4   \n",
       "26423        2007  ASHOKLEYLAND                        3516   \n",
       "29839        2017  ASHOKLEYLAND                        4923   \n",
       "23140        2012  ASHOKLEYLAND                        3116   \n",
       "16482        2009  ASHOKLEYLAND                        2214   \n",
       "\n",
       "                Variant_Clean Fuel_Clean    CV_State_Clean SELLER_SEGMENT  \\\n",
       "24794           8X2CARGOTRUCK     DIESEL      UTTARPRADESH      Insurance   \n",
       "8088    4X2CONTAINERIZEDTRUCK     DIESEL              PUNE      BANK&NBFC   \n",
       "7355            4X2CARGOTRUCK     DIESEL         RAJASTHAN      Insurance   \n",
       "129974  4X2CONTAINERIZEDTRUCK     DIESEL         RAJASTHAN            OEM   \n",
       "299542  4X2CONTAINERIZEDTRUCK     DIESEL          NAGALAND        Leasing   \n",
       "...                       ...        ...               ...            ...   \n",
       "349067  4X2CONTAINERIZEDTRUCK     DIESEL            KERALA        Leasing   \n",
       "26423     4X2COMBINATIONTRUCK     DIESEL         TAMILNADU         RETAIL   \n",
       "29839     6X2COMBINATIONTRUCK     DIESEL  ARUNACHALPRADESH            OEM   \n",
       "23140           8X2CARGOTRUCK     DIESEL     ANDHRAPRADESH      Insurance   \n",
       "16482           6X2CARGOTRUCK     DIESEL          NAGALAND            OEM   \n",
       "\n",
       "        Meter_Reading  Year_sell   Predicted   Actual   Abs Error  Error Rank  \n",
       "24794      400350.000       2021  807013.500   400000  407013.500       0.991  \n",
       "8088       366010.000       2022  917578.562  2500000 1582421.438       1.000  \n",
       "7355       594490.000       2020  401637.875   140000  261637.875       0.956  \n",
       "129974     243100.000       2022  873172.562   603787  269385.562       0.960  \n",
       "299542     615570.000       2015  441040.594   803675  362634.406       0.986  \n",
       "...               ...        ...         ...      ...         ...         ...  \n",
       "349067     181050.000       2022 1084855.500   802256  282599.500       0.966  \n",
       "26423      456280.000       2014  448191.125   740000  291808.875       0.969  \n",
       "29839      305150.000       2021 1962724.500  2275200  312475.500       0.976  \n",
       "23140      541790.000       2020  577753.125   875000  297246.875       0.971  \n",
       "16482      491470.000       2016  662563.312   951244  288680.688       0.968  \n",
       "\n",
       "[3725 rows x 13 columns]>"
      ]
     },
     "execution_count": 288,
     "metadata": {},
     "output_type": "execute_result"
    }
   ],
   "source": [
    "X_test_copy['Abs Error'] = abs(X_test_copy['Actual'] - X_test_copy['Predicted'])\n",
    "\n",
    "# Calculate the percentile rank of the absolute error within the test data set\n",
    "X_test_copy['Error Rank'] = X_test_copy['Abs Error'].rank(pct=True)\n",
    "\n",
    "# Select the top 5% of highly wrong predictions\n",
    "highly_wrong_predictions = X_test_copy[X_test_copy['Error Rank'] >= 0.95]\n",
    "\n",
    "# Print the highly wrong predictions\n",
    "#print(highly_wrong_predictions)\n",
    "highly_wrong_predictions.info"
   ]
  },
  {
   "cell_type": "code",
   "execution_count": 282,
   "metadata": {},
   "outputs": [],
   "source": [
    "# Identify the indices of highly wrong predictions\n",
    "wrong_prediction_indices = X_test_copy[X_test_copy['Error Rank'] >= 0.95].index\n",
    "\n",
    "# Create a new dataframe without the highly wrong predictions\n",
    "filtered_dataframe = X_test_copy.drop(wrong_prediction_indices)\n",
    "\n",
    "# Separate the features and target variables from the filtered dataframe\n",
    "X_filtered = filtered_dataframe.drop(['Actual', 'Predicted', 'Abs Error', 'Error Rank'], axis=1)\n",
    "y_filtered = filtered_dataframe['Actual']\n",
    "\n",
    "# Retrain the model on the filtered data\n",
    "pipe.fit(X_filtered, y_filtered)\n",
    "\n",
    "# Make predictions using the updated model\n",
    "new_predictions = pipe.predict(X_test)  # Assuming X_test is the original test data\n",
    "\n",
    "# Continue with your further analysis or evaluation\n"
   ]
  },
  {
   "cell_type": "code",
   "execution_count": null,
   "metadata": {},
   "outputs": [],
   "source": [
    "#highly_wrong_predictions.to_csv('highly_wrong_predictions.csv')\n",
    "r2_score(y_test,new_predictions)\n",
    "MAPE_new_predictions"
   ]
  },
  {
   "cell_type": "raw",
   "metadata": {},
   "source": [
    "0.971139961\n",
    "23.15065575\n"
   ]
  },
  {
   "cell_type": "code",
   "execution_count": null,
   "metadata": {},
   "outputs": [],
   "source": [
    "# Analyze actual and predicted values based on each feature\n",
    "features = ['MAKE_YEAR', 'Make_Clean', 'Model_Clean', 'Variant_Clean', 'Fuel_Clean', 'CV_State_Clean', 'SELLER_SEGMENT']\n",
    "\n",
    "for feature in features:\n",
    "    grouped_data = highly_wrong_predictions.groupby(feature).agg({'Actual': 'mean', 'Predicted': 'mean'})\n",
    "    grouped_data.plot(kind='bar', figsize=(10, 6))"
   ]
  },
  {
   "cell_type": "code",
   "execution_count": null,
   "metadata": {},
   "outputs": [],
   "source": [
    "plt.plot(X_train_copy['Actual'],label='Actual')\n",
    "plt.plot(X_train_copy['Predicted'],label='Predicted')\n",
    "plt.legend()\n",
    "plt.grid()\n",
    "plt.show()"
   ]
  },
  {
   "cell_type": "code",
   "execution_count": null,
   "metadata": {},
   "outputs": [],
   "source": [
    "plt.figure(figsize=(10,8))\n",
    "sns.set_context(\"notebook\")\n",
    "ax1 = sns.distplot(X_train_copy['Actual'], hist=False, color=\"r\", label=\"Actual Value\")\n",
    "sns.distplot(X_train_copy['Predicted'], hist=False, color=\"b\", label=\"Fitted Values\" , ax=ax1)\n",
    "plt.show()"
   ]
  },
  {
   "cell_type": "code",
   "execution_count": null,
   "metadata": {},
   "outputs": [],
   "source": []
  },
  {
   "cell_type": "code",
   "execution_count": null,
   "metadata": {},
   "outputs": [],
   "source": []
  },
  {
   "cell_type": "code",
   "execution_count": null,
   "metadata": {},
   "outputs": [],
   "source": []
  }
 ],
 "metadata": {
  "instance_type": "ml.t3.medium",
  "kernelspec": {
   "display_name": "Python 3 (Data Science)",
   "language": "python",
   "name": "python3__SAGEMAKER_INTERNAL__arn:aws:sagemaker:ap-south-1:394103062818:image/datascience-1.0"
  },
  "language_info": {
   "codemirror_mode": {
    "name": "ipython",
    "version": 3
   },
   "file_extension": ".py",
   "mimetype": "text/x-python",
   "name": "python",
   "nbconvert_exporter": "python",
   "pygments_lexer": "ipython3",
   "version": "3.7.10"
  }
 },
 "nbformat": 4,
 "nbformat_minor": 5
}
