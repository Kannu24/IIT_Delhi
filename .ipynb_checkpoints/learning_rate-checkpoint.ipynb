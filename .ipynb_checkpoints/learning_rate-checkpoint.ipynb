{
 "cells": [
  {
   "cell_type": "code",
   "execution_count": null,
   "metadata": {},
   "outputs": [],
   "source": []
  },
  {
   "cell_type": "code",
   "execution_count": 500,
   "metadata": {},
   "outputs": [],
   "source": [
    "import os\n",
    "import sagemaker\n",
    "from sagemaker.tuner import (\n",
    "    IntegerParameter,\n",
    "    CategoricalParameter,\n",
    "    ContinuousParameter,\n",
    "    HyperparameterTuner,\n",
    ")\n",
    "from sagemaker import get_execution_role\n",
    "import boto3\n",
    "from sagemaker.amazon.amazon_estimator import get_image_uri \n",
    "from sagemaker.session import s3_input, Session\n",
    "sagemaker_session = sagemaker.Session()\n",
    "role = get_execution_role()\n",
    "my_region = sagemaker_session.boto_session.region_name\n",
    "import statsmodels.formula.api as smf"
   ]
  },
  {
   "cell_type": "code",
   "execution_count": 501,
   "metadata": {},
   "outputs": [
    {
     "data": {
      "text/plain": [
       "'ap-south-1'"
      ]
     },
     "execution_count": 501,
     "metadata": {},
     "output_type": "execute_result"
    }
   ],
   "source": [
    "my_region"
   ]
  },
  {
   "cell_type": "code",
   "execution_count": 502,
   "metadata": {},
   "outputs": [],
   "source": [
    "# Read dataset through S3 bucket\n",
    "training_data_uri = 'CV_final_df.csv'.format(my_region)"
   ]
  },
  {
   "cell_type": "code",
   "execution_count": 503,
   "metadata": {},
   "outputs": [
    {
     "data": {
      "text/plain": [
       "'CV_final_df.csv'"
      ]
     },
     "execution_count": 503,
     "metadata": {},
     "output_type": "execute_result"
    }
   ],
   "source": [
    "training_data_uri"
   ]
  },
  {
   "cell_type": "code",
   "execution_count": 504,
   "metadata": {},
   "outputs": [],
   "source": [
    "#!pip install pandas-profiling\n",
    "#!pip install scipy"
   ]
  },
  {
   "cell_type": "code",
   "execution_count": null,
   "metadata": {},
   "outputs": [],
   "source": []
  },
  {
   "cell_type": "code",
   "execution_count": 505,
   "metadata": {},
   "outputs": [],
   "source": [
    "import pandas as pd\n",
    "import numpy as np\n",
    "#import pandas_profiling as pp\n",
    "import matplotlib.pyplot as plt\n",
    "import seaborn as sns\n",
    "from scipy import stats\n",
    "import plotly.express as px\n",
    "from sklearn.model_selection import train_test_split\n",
    "from sklearn.preprocessing import OneHotEncoder\n",
    "from sklearn.inspection import permutation_importance\n",
    "from sklearn.model_selection import RandomizedSearchCV\n",
    "from sklearn.model_selection import StratifiedKFold\n",
    "pd.set_option('display.float_format', lambda x: '%0.3f' % x)\n",
    "pd.set_option('display.max_columns',100)\n",
    "pd.set_option('display.max_rows',1000)\n",
    "import warnings\n",
    "warnings.filterwarnings('ignore')"
   ]
  },
  {
   "cell_type": "code",
   "execution_count": 506,
   "metadata": {},
   "outputs": [],
   "source": [
    "df = pd.read_csv('CV_final_df.csv')"
   ]
  },
  {
   "cell_type": "code",
   "execution_count": 507,
   "metadata": {},
   "outputs": [
    {
     "data": {
      "text/html": [
       "<div>\n",
       "<style scoped>\n",
       "    .dataframe tbody tr th:only-of-type {\n",
       "        vertical-align: middle;\n",
       "    }\n",
       "\n",
       "    .dataframe tbody tr th {\n",
       "        vertical-align: top;\n",
       "    }\n",
       "\n",
       "    .dataframe thead th {\n",
       "        text-align: right;\n",
       "    }\n",
       "</style>\n",
       "<table border=\"1\" class=\"dataframe\">\n",
       "  <thead>\n",
       "    <tr style=\"text-align: right;\">\n",
       "      <th></th>\n",
       "      <th>UNIQUESERIALNO</th>\n",
       "      <th>SOLD_DATE</th>\n",
       "      <th>MAKE YEAR</th>\n",
       "      <th>Make</th>\n",
       "      <th>Model</th>\n",
       "      <th>Variant</th>\n",
       "      <th>BodyType</th>\n",
       "      <th>WHEELS</th>\n",
       "      <th>GVW_HP_SEATING_CAPACITY_CC</th>\n",
       "      <th>FUEL TYPE_CLEANED</th>\n",
       "      <th>SOLD AMOUNT</th>\n",
       "      <th>STATE_MAPPED</th>\n",
       "      <th>BUSINESS_UNIT</th>\n",
       "      <th>LOT_AUC_CODE</th>\n",
       "      <th>AUCTION PLACE</th>\n",
       "      <th>VEH INWARD UNIT</th>\n",
       "      <th>YARD NAME</th>\n",
       "      <th>YARD UNIT</th>\n",
       "      <th>LOT NO</th>\n",
       "      <th>BIDDER ID</th>\n",
       "      <th>CUST CODE</th>\n",
       "      <th>NAME</th>\n",
       "      <th>VEHICLE NO</th>\n",
       "      <th>METER READING</th>\n",
       "      <th>SPECIFICATION</th>\n",
       "      <th>ADD NOTE</th>\n",
       "      <th>UCR</th>\n",
       "      <th>SHROT COND_MAPPED</th>\n",
       "      <th>INS DT</th>\n",
       "      <th>TAX</th>\n",
       "      <th>PERMIT_MAPPED</th>\n",
       "      <th>SHOOT PRICE</th>\n",
       "      <th>RESERVE PRICE</th>\n",
       "      <th>SELLER CORPORATE NAME</th>\n",
       "      <th>SELLER ID</th>\n",
       "      <th>SELLER NAME</th>\n",
       "      <th>KEY REF NUMBER</th>\n",
       "      <th>INV_H_CATEGORY_mapping</th>\n",
       "      <th>INV_H_RC_STATUS_CLEANED_MAPPED</th>\n",
       "      <th>SALETYPE</th>\n",
       "      <th>SAL_PROVISIONAL_DT</th>\n",
       "      <th>GP_PURPOSE_CLEANED</th>\n",
       "      <th>GP_DATETIME</th>\n",
       "      <th>GP_CREATED_ON</th>\n",
       "      <th>OUTWARD_DATE</th>\n",
       "      <th>SALE_CLOSURE_DATE</th>\n",
       "      <th>INW_ENTRY_DATE</th>\n",
       "      <th>INW_CREATED_DATE</th>\n",
       "      <th>VEHICLECONDITION</th>\n",
       "    </tr>\n",
       "  </thead>\n",
       "  <tbody>\n",
       "    <tr>\n",
       "      <th>0</th>\n",
       "      <td>S15081800547</td>\n",
       "      <td>19-08-2015</td>\n",
       "      <td>2008</td>\n",
       "      <td>TATA</td>\n",
       "      <td>MAGIC</td>\n",
       "      <td>4X2MINIBUS</td>\n",
       "      <td>MINI BUS</td>\n",
       "      <td>0.000</td>\n",
       "      <td>0.000</td>\n",
       "      <td>DIESEL</td>\n",
       "      <td>87000</td>\n",
       "      <td>Andhra Pradesh</td>\n",
       "      <td>Kurnool</td>\n",
       "      <td>KAM20150819033</td>\n",
       "      <td>SHRIRAMAUTOMALLKURNOOL</td>\n",
       "      <td>KURYD</td>\n",
       "      <td>Shriram Automall Kurnool</td>\n",
       "      <td>KURYD</td>\n",
       "      <td>24</td>\n",
       "      <td>106</td>\n",
       "      <td>AC000002408</td>\n",
       "      <td>KOTESWARA RAO  CH</td>\n",
       "      <td>AP21TV0421</td>\n",
       "      <td>NaN</td>\n",
       "      <td>NaN</td>\n",
       "      <td>NaN</td>\n",
       "      <td>NaN</td>\n",
       "      <td>FAIR</td>\n",
       "      <td>Live : 27/01/2016</td>\n",
       "      <td>Life Time</td>\n",
       "      <td>NOT AVAILABLE</td>\n",
       "      <td>NaN</td>\n",
       "      <td>NaN</td>\n",
       "      <td>NaN</td>\n",
       "      <td>AT0000000668</td>\n",
       "      <td>RAMANJANEYULU  T</td>\n",
       "      <td>NONSTFC0421</td>\n",
       "      <td>CV</td>\n",
       "      <td>ORIGINAL RC</td>\n",
       "      <td>NaN</td>\n",
       "      <td>NaN</td>\n",
       "      <td>DELIVERY FOR BUYER</td>\n",
       "      <td>21-08-2015 11:03</td>\n",
       "      <td>21-08-2015 11:06</td>\n",
       "      <td>21-08-2015 21:21</td>\n",
       "      <td>NaN</td>\n",
       "      <td>19-08-2015 00:00</td>\n",
       "      <td>19-08-2015 22:13</td>\n",
       "      <td>MOVABLE</td>\n",
       "    </tr>\n",
       "    <tr>\n",
       "      <th>1</th>\n",
       "      <td>S15081800429</td>\n",
       "      <td>19-08-2015</td>\n",
       "      <td>2008</td>\n",
       "      <td>TATA</td>\n",
       "      <td>ACE</td>\n",
       "      <td>4X2PICKUP</td>\n",
       "      <td>SCV</td>\n",
       "      <td>4.000</td>\n",
       "      <td>1300.000</td>\n",
       "      <td>DIESEL</td>\n",
       "      <td>125000</td>\n",
       "      <td>Andhra Pradesh</td>\n",
       "      <td>Kurnool</td>\n",
       "      <td>KAM20150819033</td>\n",
       "      <td>SHRIRAMAUTOMALLKURNOOL</td>\n",
       "      <td>KURYD</td>\n",
       "      <td>Shriram Automall Kurnool</td>\n",
       "      <td>KURYD</td>\n",
       "      <td>44</td>\n",
       "      <td>149</td>\n",
       "      <td>AS00000089710</td>\n",
       "      <td>NOORAHAMMED  SHAIK</td>\n",
       "      <td>AP21Y6559</td>\n",
       "      <td>NaN</td>\n",
       "      <td>NaN</td>\n",
       "      <td>NaN</td>\n",
       "      <td>NaN</td>\n",
       "      <td>INVALID DETAILS</td>\n",
       "      <td>Not Available</td>\n",
       "      <td>Paid upto : 30/09/2015</td>\n",
       "      <td>NOT AVAILABLE</td>\n",
       "      <td>133333.000</td>\n",
       "      <td>120000.000</td>\n",
       "      <td>NaN</td>\n",
       "      <td>AE0000000530</td>\n",
       "      <td>SRIDHAR GOUD  E</td>\n",
       "      <td>AP21Y6559</td>\n",
       "      <td>CV</td>\n",
       "      <td>ORIGINAL RC</td>\n",
       "      <td>NaN</td>\n",
       "      <td>NaN</td>\n",
       "      <td>DELIVERY FOR BUYER</td>\n",
       "      <td>27-08-2015 14:20</td>\n",
       "      <td>27-08-2015 17:44</td>\n",
       "      <td>28-08-2015 10:47</td>\n",
       "      <td>NaN</td>\n",
       "      <td>19-08-2015 00:00</td>\n",
       "      <td>19-08-2015 21:53</td>\n",
       "      <td>IMMOVABLE</td>\n",
       "    </tr>\n",
       "    <tr>\n",
       "      <th>2</th>\n",
       "      <td>S15081400604</td>\n",
       "      <td>08-09-2015</td>\n",
       "      <td>2009</td>\n",
       "      <td>TATA</td>\n",
       "      <td>ACE</td>\n",
       "      <td>4X2PICKUP</td>\n",
       "      <td>SCV</td>\n",
       "      <td>4.000</td>\n",
       "      <td>1300.000</td>\n",
       "      <td>DIESEL</td>\n",
       "      <td>76000</td>\n",
       "      <td>Andhra Pradesh</td>\n",
       "      <td>Kurnool</td>\n",
       "      <td>KAM20150908049</td>\n",
       "      <td>SHRIRAMAUTOMALLKURNOOL</td>\n",
       "      <td>KURYD</td>\n",
       "      <td>Shriram Automall Kurnool</td>\n",
       "      <td>KURYD</td>\n",
       "      <td>110</td>\n",
       "      <td>179</td>\n",
       "      <td>AK00000001112</td>\n",
       "      <td>RANGASWAMY  K</td>\n",
       "      <td>AP03X6737</td>\n",
       "      <td>112721.000</td>\n",
       "      <td>Spring susp,</td>\n",
       "      <td>NaN</td>\n",
       "      <td>NaN</td>\n",
       "      <td>FAIR</td>\n",
       "      <td>Live : 01/11/2018</td>\n",
       "      <td>Expired : 30/09/2017</td>\n",
       "      <td>NOT AVAILABLE</td>\n",
       "      <td>NaN</td>\n",
       "      <td>NaN</td>\n",
       "      <td>a9</td>\n",
       "      <td>AB000031351</td>\n",
       "      <td>PEDDA  NAGANNA  B</td>\n",
       "      <td>KURNOO311270003</td>\n",
       "      <td>CV</td>\n",
       "      <td>NOT AVAILABLE</td>\n",
       "      <td>NaN</td>\n",
       "      <td>NaN</td>\n",
       "      <td>DELIVERY FOR BUYER</td>\n",
       "      <td>10-09-2015 17:20</td>\n",
       "      <td>10-09-2015 18:17</td>\n",
       "      <td>11-09-2015 11:34</td>\n",
       "      <td>NaN</td>\n",
       "      <td>13-08-2015 00:00</td>\n",
       "      <td>14-08-2015 18:13</td>\n",
       "      <td>MOVABLE</td>\n",
       "    </tr>\n",
       "    <tr>\n",
       "      <th>3</th>\n",
       "      <td>S15081300508</td>\n",
       "      <td>08-09-2015</td>\n",
       "      <td>2008</td>\n",
       "      <td>MAHINDRA</td>\n",
       "      <td>MAXX</td>\n",
       "      <td>4X2PICKUP</td>\n",
       "      <td>PICKUP</td>\n",
       "      <td>4.000</td>\n",
       "      <td>2930.000</td>\n",
       "      <td>DIESEL</td>\n",
       "      <td>115000</td>\n",
       "      <td>Andhra Pradesh</td>\n",
       "      <td>Kurnool</td>\n",
       "      <td>KAM20150908049</td>\n",
       "      <td>SHRIRAMAUTOMALLKURNOOL</td>\n",
       "      <td>KURYD</td>\n",
       "      <td>Shriram Automall Kurnool</td>\n",
       "      <td>KURYD</td>\n",
       "      <td>119</td>\n",
       "      <td>143</td>\n",
       "      <td>AS00000027710</td>\n",
       "      <td>RABBANI  SK</td>\n",
       "      <td>AP21W9773</td>\n",
       "      <td>NaN</td>\n",
       "      <td>Spring susp,</td>\n",
       "      <td>Form 36,28,29,30 Will be given within 30 days ...</td>\n",
       "      <td>NaN</td>\n",
       "      <td>INVALID DETAILS</td>\n",
       "      <td>Live : 23/12/2015</td>\n",
       "      <td>Paid upto : 30/06/2015</td>\n",
       "      <td>NOT AVAILABLE</td>\n",
       "      <td>150000.000</td>\n",
       "      <td>135000.000</td>\n",
       "      <td>a9</td>\n",
       "      <td>AN000024401</td>\n",
       "      <td>NANDULA  NAIK  N</td>\n",
       "      <td>KURNOO210260003</td>\n",
       "      <td>CV</td>\n",
       "      <td>NOT AVAILABLE</td>\n",
       "      <td>NaN</td>\n",
       "      <td>NaN</td>\n",
       "      <td>DELIVERY FOR BUYER</td>\n",
       "      <td>05-10-2015 16:20</td>\n",
       "      <td>05-10-2015 16:49</td>\n",
       "      <td>06-10-2015 12:17</td>\n",
       "      <td>NaN</td>\n",
       "      <td>13-08-2015 00:00</td>\n",
       "      <td>13-08-2015 18:07</td>\n",
       "      <td>IMMOVABLE</td>\n",
       "    </tr>\n",
       "    <tr>\n",
       "      <th>4</th>\n",
       "      <td>S15080300309</td>\n",
       "      <td>17-10-2015</td>\n",
       "      <td>2010</td>\n",
       "      <td>TATA</td>\n",
       "      <td>ACEHT</td>\n",
       "      <td>4X2PICKUP</td>\n",
       "      <td>SCV</td>\n",
       "      <td>4.000</td>\n",
       "      <td>1300.000</td>\n",
       "      <td>DIESEL</td>\n",
       "      <td>88000</td>\n",
       "      <td>Andhra Pradesh</td>\n",
       "      <td>Kurnool</td>\n",
       "      <td>KAM20151017033</td>\n",
       "      <td>SHRIRAMAUTOMALLKURNOOL</td>\n",
       "      <td>KURYD</td>\n",
       "      <td>Shriram Automall Kurnool</td>\n",
       "      <td>KURYD</td>\n",
       "      <td>24</td>\n",
       "      <td>117</td>\n",
       "      <td>AG00000086112</td>\n",
       "      <td>VENKATESWARREDDY  GUMMATAM</td>\n",
       "      <td>AP04Y4218</td>\n",
       "      <td>NaN</td>\n",
       "      <td>spring suspention</td>\n",
       "      <td>NaN</td>\n",
       "      <td>NaN</td>\n",
       "      <td>FAIR</td>\n",
       "      <td>Not Available</td>\n",
       "      <td>Paid upto : 31/12/2015</td>\n",
       "      <td>NOT AVAILABLE</td>\n",
       "      <td>150000.000</td>\n",
       "      <td>135000.000</td>\n",
       "      <td>a9</td>\n",
       "      <td>AK000063901</td>\n",
       "      <td>KRISHNAIAH  K</td>\n",
       "      <td>KURNOO401170009</td>\n",
       "      <td>CV</td>\n",
       "      <td>ORIGINAL RC</td>\n",
       "      <td>NaN</td>\n",
       "      <td>NaN</td>\n",
       "      <td>DELIVERY FOR BUYER</td>\n",
       "      <td>19-10-2015 10:20</td>\n",
       "      <td>19-10-2015 11:39</td>\n",
       "      <td>21-10-2015 08:35</td>\n",
       "      <td>NaN</td>\n",
       "      <td>03-08-2015 00:00</td>\n",
       "      <td>03-08-2015 21:47</td>\n",
       "      <td>MOVABLE</td>\n",
       "    </tr>\n",
       "    <tr>\n",
       "      <th>...</th>\n",
       "      <td>...</td>\n",
       "      <td>...</td>\n",
       "      <td>...</td>\n",
       "      <td>...</td>\n",
       "      <td>...</td>\n",
       "      <td>...</td>\n",
       "      <td>...</td>\n",
       "      <td>...</td>\n",
       "      <td>...</td>\n",
       "      <td>...</td>\n",
       "      <td>...</td>\n",
       "      <td>...</td>\n",
       "      <td>...</td>\n",
       "      <td>...</td>\n",
       "      <td>...</td>\n",
       "      <td>...</td>\n",
       "      <td>...</td>\n",
       "      <td>...</td>\n",
       "      <td>...</td>\n",
       "      <td>...</td>\n",
       "      <td>...</td>\n",
       "      <td>...</td>\n",
       "      <td>...</td>\n",
       "      <td>...</td>\n",
       "      <td>...</td>\n",
       "      <td>...</td>\n",
       "      <td>...</td>\n",
       "      <td>...</td>\n",
       "      <td>...</td>\n",
       "      <td>...</td>\n",
       "      <td>...</td>\n",
       "      <td>...</td>\n",
       "      <td>...</td>\n",
       "      <td>...</td>\n",
       "      <td>...</td>\n",
       "      <td>...</td>\n",
       "      <td>...</td>\n",
       "      <td>...</td>\n",
       "      <td>...</td>\n",
       "      <td>...</td>\n",
       "      <td>...</td>\n",
       "      <td>...</td>\n",
       "      <td>...</td>\n",
       "      <td>...</td>\n",
       "      <td>...</td>\n",
       "      <td>...</td>\n",
       "      <td>...</td>\n",
       "      <td>...</td>\n",
       "      <td>...</td>\n",
       "    </tr>\n",
       "    <tr>\n",
       "      <th>301837</th>\n",
       "      <td>S21111100547</td>\n",
       "      <td>13-11-2021</td>\n",
       "      <td>2017</td>\n",
       "      <td>MAHINDRA</td>\n",
       "      <td>BOLERO</td>\n",
       "      <td>4X4PICKUP</td>\n",
       "      <td>PICKUP</td>\n",
       "      <td>4.000</td>\n",
       "      <td>2930.000</td>\n",
       "      <td>DIESEL</td>\n",
       "      <td>535000</td>\n",
       "      <td>Andhra Pradesh</td>\n",
       "      <td>Visakapatnam</td>\n",
       "      <td>VZG20211113053</td>\n",
       "      <td>Shriram Automall Visakhapatnam</td>\n",
       "      <td>VISYD</td>\n",
       "      <td>Shriram Automall Visakhapatnam</td>\n",
       "      <td>VISYD</td>\n",
       "      <td>10</td>\n",
       "      <td>191</td>\n",
       "      <td>AJ0000019110</td>\n",
       "      <td>PATIVADA  JAYARAO</td>\n",
       "      <td>AP31TJ0057</td>\n",
       "      <td>0</td>\n",
       "      <td>0</td>\n",
       "      <td>0</td>\n",
       "      <td>0</td>\n",
       "      <td>FAIR</td>\n",
       "      <td>Not Available</td>\n",
       "      <td>Paid upto : 31/12/2021</td>\n",
       "      <td>NOT AVAILABLE</td>\n",
       "      <td>0.000</td>\n",
       "      <td>0.000</td>\n",
       "      <td>NaN</td>\n",
       "      <td>AR0000120510</td>\n",
       "      <td>ABDUL  RAZZAQ</td>\n",
       "      <td>AP31TJ0057</td>\n",
       "      <td>CV</td>\n",
       "      <td>Original RC</td>\n",
       "      <td>Spot Sale</td>\n",
       "      <td>13-11-2021 00:00</td>\n",
       "      <td>DELIVERY FOR BUYER</td>\n",
       "      <td>18-11-2021</td>\n",
       "      <td>30:45.9</td>\n",
       "      <td>25:53.6</td>\n",
       "      <td>00:00.0</td>\n",
       "      <td>10-11-2021</td>\n",
       "      <td>20:47.9</td>\n",
       "      <td>MOVABLE</td>\n",
       "    </tr>\n",
       "    <tr>\n",
       "      <th>301838</th>\n",
       "      <td>S21101300305</td>\n",
       "      <td>13-11-2021</td>\n",
       "      <td>2016</td>\n",
       "      <td>MAHINDRA</td>\n",
       "      <td>BOLERO</td>\n",
       "      <td>4X2PICKUP</td>\n",
       "      <td>PICKUP</td>\n",
       "      <td>4.000</td>\n",
       "      <td>2930.000</td>\n",
       "      <td>DIESEL</td>\n",
       "      <td>510000</td>\n",
       "      <td>Andhra Pradesh</td>\n",
       "      <td>Visakapatnam</td>\n",
       "      <td>VZG20211113053</td>\n",
       "      <td>Shriram Automall Visakhapatnam</td>\n",
       "      <td>VISYD</td>\n",
       "      <td>Shriram Automall Visakhapatnam</td>\n",
       "      <td>VISYD</td>\n",
       "      <td>11</td>\n",
       "      <td>169</td>\n",
       "      <td>AR00000044727</td>\n",
       "      <td>GANDU  RAJU</td>\n",
       "      <td>AP27TV6762</td>\n",
       "      <td>NaN</td>\n",
       "      <td>Spring susp 7.2 x 4.2 Ft bed</td>\n",
       "      <td>0</td>\n",
       "      <td>0.1</td>\n",
       "      <td>AVERAGE</td>\n",
       "      <td>Live : 14/10/2022</td>\n",
       "      <td>Paid upto : 31/12/2021</td>\n",
       "      <td>NOT AVAILABLE</td>\n",
       "      <td>666666.000</td>\n",
       "      <td>600000.000</td>\n",
       "      <td>NaN</td>\n",
       "      <td>AR0000097210</td>\n",
       "      <td>UNDHUPALLI  PALLESHWARARAO</td>\n",
       "      <td>AP27TV6762</td>\n",
       "      <td>CV</td>\n",
       "      <td>Original RC</td>\n",
       "      <td>Spot Sale</td>\n",
       "      <td>13-11-2021 00:00</td>\n",
       "      <td>DELIVERY FOR BUYER</td>\n",
       "      <td>19-11-2021</td>\n",
       "      <td>02:49.6</td>\n",
       "      <td>06:32.2</td>\n",
       "      <td>00:00.0</td>\n",
       "      <td>12-10-2021</td>\n",
       "      <td>22:37.7</td>\n",
       "      <td>MOVABLE</td>\n",
       "    </tr>\n",
       "    <tr>\n",
       "      <th>301839</th>\n",
       "      <td>S21102200278</td>\n",
       "      <td>27-11-2021</td>\n",
       "      <td>2017</td>\n",
       "      <td>TATA</td>\n",
       "      <td>ACEMEGA</td>\n",
       "      <td>4X2PICKUP</td>\n",
       "      <td>SCV</td>\n",
       "      <td>4.000</td>\n",
       "      <td>1300.000</td>\n",
       "      <td>DIESEL</td>\n",
       "      <td>285000</td>\n",
       "      <td>Andhra Pradesh</td>\n",
       "      <td>Visakapatnam</td>\n",
       "      <td>VZG20211127055</td>\n",
       "      <td>Shriram Automall Visakhapatnam</td>\n",
       "      <td>VISYD</td>\n",
       "      <td>Shriram Automall Visakhapatnam</td>\n",
       "      <td>VISYD</td>\n",
       "      <td>131</td>\n",
       "      <td>177</td>\n",
       "      <td>AV0000066210</td>\n",
       "      <td>BATTHINA  VENKATARAO</td>\n",
       "      <td>AP05TE3995</td>\n",
       "      <td>NaN</td>\n",
       "      <td>Spring susp 7.2 x 4.2 Ft bed</td>\n",
       "      <td>0</td>\n",
       "      <td>0.1</td>\n",
       "      <td>AVERAGE</td>\n",
       "      <td>Not Available</td>\n",
       "      <td>Paid upto : 31/12/2021</td>\n",
       "      <td>NOT AVAILABLE</td>\n",
       "      <td>333333.000</td>\n",
       "      <td>300000.000</td>\n",
       "      <td>NaN</td>\n",
       "      <td>AG00000063666</td>\n",
       "      <td>SUBBA RAO G</td>\n",
       "      <td>AP05TE3995</td>\n",
       "      <td>CV</td>\n",
       "      <td>Original RC</td>\n",
       "      <td>Spot Sale</td>\n",
       "      <td>27-11-2021 00:00</td>\n",
       "      <td>DELIVERY FOR BUYER</td>\n",
       "      <td>03-12-2021</td>\n",
       "      <td>40:25.3</td>\n",
       "      <td>08:27.9</td>\n",
       "      <td>00:00.0</td>\n",
       "      <td>20-10-2021</td>\n",
       "      <td>06:10.1</td>\n",
       "      <td>MOVABLE</td>\n",
       "    </tr>\n",
       "    <tr>\n",
       "      <th>301840</th>\n",
       "      <td>S21112600189</td>\n",
       "      <td>27-11-2021</td>\n",
       "      <td>2013</td>\n",
       "      <td>ASHOK LEYLAND</td>\n",
       "      <td>DOSTLS</td>\n",
       "      <td>4X2PICKUP</td>\n",
       "      <td>SCV</td>\n",
       "      <td>4.000</td>\n",
       "      <td>1300.000</td>\n",
       "      <td>DIESEL</td>\n",
       "      <td>250000</td>\n",
       "      <td>Andhra Pradesh</td>\n",
       "      <td>Visakapatnam</td>\n",
       "      <td>VZG20211127055</td>\n",
       "      <td>Shriram Automall Visakhapatnam</td>\n",
       "      <td>VISYD</td>\n",
       "      <td>Shriram Automall Visakhapatnam</td>\n",
       "      <td>VISYD</td>\n",
       "      <td>22</td>\n",
       "      <td>172</td>\n",
       "      <td>AD0000059510</td>\n",
       "      <td>SAVARA  DASU</td>\n",
       "      <td>AP05TC3429</td>\n",
       "      <td>0</td>\n",
       "      <td>Spring susp, 8.3 X 5.2 Ft bed</td>\n",
       "      <td>As per RC  DOST LS BSIII(GOODS CH LB FBC PS. N...</td>\n",
       "      <td>0.2</td>\n",
       "      <td>FAIR</td>\n",
       "      <td>Live : 26/11/2022</td>\n",
       "      <td>Paid upto : 31/12/2021</td>\n",
       "      <td>NOT APPLICABLE</td>\n",
       "      <td>0.000</td>\n",
       "      <td>0.000</td>\n",
       "      <td>NaN</td>\n",
       "      <td>AN0000009710</td>\n",
       "      <td>NAVABATTULA NAGAVENKATA DURGARAO</td>\n",
       "      <td>AP05TC3429</td>\n",
       "      <td>CV</td>\n",
       "      <td>Original RC</td>\n",
       "      <td>Spot Sale</td>\n",
       "      <td>27-11-2021 00:00</td>\n",
       "      <td>DELIVERY FOR BUYER</td>\n",
       "      <td>13-12-2021</td>\n",
       "      <td>20:48.7</td>\n",
       "      <td>47:26.9</td>\n",
       "      <td>00:00.0</td>\n",
       "      <td>25-11-2021</td>\n",
       "      <td>42:19.7</td>\n",
       "      <td>MOVABLE</td>\n",
       "    </tr>\n",
       "    <tr>\n",
       "      <th>301841</th>\n",
       "      <td>S21080300258</td>\n",
       "      <td>27-11-2021</td>\n",
       "      <td>2013</td>\n",
       "      <td>FORCE</td>\n",
       "      <td>TRAVELLER4020</td>\n",
       "      <td>4X2BUS</td>\n",
       "      <td>BUS</td>\n",
       "      <td>0.000</td>\n",
       "      <td>0.000</td>\n",
       "      <td>DIESEL</td>\n",
       "      <td>323000</td>\n",
       "      <td>Andhra Pradesh</td>\n",
       "      <td>Visakapatnam</td>\n",
       "      <td>VZG20211127055</td>\n",
       "      <td>Shriram Automall Visakhapatnam</td>\n",
       "      <td>VISYD</td>\n",
       "      <td>Shriram Automall Visakhapatnam</td>\n",
       "      <td>VISYD</td>\n",
       "      <td>67</td>\n",
       "      <td>175</td>\n",
       "      <td>AG0000064210</td>\n",
       "      <td>LAKSHMANA TIRUMALAREDDY GUJJU</td>\n",
       "      <td>AP31TD4544</td>\n",
       "      <td>NaN</td>\n",
       "      <td>M/T</td>\n",
       "      <td>Vehicle will be released only after Transfer o...</td>\n",
       "      <td>0.1</td>\n",
       "      <td>AVERAGE</td>\n",
       "      <td>Live : 17/04/2022</td>\n",
       "      <td>Expired : 30/09/2021</td>\n",
       "      <td>NOT AVAILABLE</td>\n",
       "      <td>480000.000</td>\n",
       "      <td>432000.000</td>\n",
       "      <td>a9</td>\n",
       "      <td>AR000357631</td>\n",
       "      <td>MEESALA KRISHNA RAO</td>\n",
       "      <td>VZMRGT911090001</td>\n",
       "      <td>CV</td>\n",
       "      <td>Fresh RC</td>\n",
       "      <td>Subjective Sale</td>\n",
       "      <td>27-11-2021 00:00</td>\n",
       "      <td>DELIVERY FOR BUYER</td>\n",
       "      <td>03-12-2021</td>\n",
       "      <td>31:28.7</td>\n",
       "      <td>58:37.4</td>\n",
       "      <td>00:00.0</td>\n",
       "      <td>02-08-2021</td>\n",
       "      <td>33:44.3</td>\n",
       "      <td>MOVABLE</td>\n",
       "    </tr>\n",
       "  </tbody>\n",
       "</table>\n",
       "<p>301842 rows × 49 columns</p>\n",
       "</div>"
      ],
      "text/plain": [
       "       UNIQUESERIALNO   SOLD_DATE  MAKE YEAR           Make          Model  \\\n",
       "0        S15081800547  19-08-2015       2008           TATA          MAGIC   \n",
       "1        S15081800429  19-08-2015       2008           TATA            ACE   \n",
       "2        S15081400604  08-09-2015       2009           TATA            ACE   \n",
       "3        S15081300508  08-09-2015       2008       MAHINDRA           MAXX   \n",
       "4        S15080300309  17-10-2015       2010           TATA          ACEHT   \n",
       "...               ...         ...        ...            ...            ...   \n",
       "301837   S21111100547  13-11-2021       2017       MAHINDRA         BOLERO   \n",
       "301838   S21101300305  13-11-2021       2016       MAHINDRA         BOLERO   \n",
       "301839   S21102200278  27-11-2021       2017           TATA        ACEMEGA   \n",
       "301840   S21112600189  27-11-2021       2013  ASHOK LEYLAND         DOSTLS   \n",
       "301841   S21080300258  27-11-2021       2013          FORCE  TRAVELLER4020   \n",
       "\n",
       "           Variant  BodyType  WHEELS  GVW_HP_SEATING_CAPACITY_CC  \\\n",
       "0       4X2MINIBUS  MINI BUS   0.000                       0.000   \n",
       "1        4X2PICKUP       SCV   4.000                    1300.000   \n",
       "2        4X2PICKUP       SCV   4.000                    1300.000   \n",
       "3        4X2PICKUP    PICKUP   4.000                    2930.000   \n",
       "4        4X2PICKUP       SCV   4.000                    1300.000   \n",
       "...            ...       ...     ...                         ...   \n",
       "301837   4X4PICKUP    PICKUP   4.000                    2930.000   \n",
       "301838   4X2PICKUP    PICKUP   4.000                    2930.000   \n",
       "301839   4X2PICKUP       SCV   4.000                    1300.000   \n",
       "301840   4X2PICKUP       SCV   4.000                    1300.000   \n",
       "301841      4X2BUS       BUS   0.000                       0.000   \n",
       "\n",
       "       FUEL TYPE_CLEANED  SOLD AMOUNT    STATE_MAPPED BUSINESS_UNIT  \\\n",
       "0                 DIESEL        87000  Andhra Pradesh       Kurnool   \n",
       "1                 DIESEL       125000  Andhra Pradesh       Kurnool   \n",
       "2                 DIESEL        76000  Andhra Pradesh       Kurnool   \n",
       "3                 DIESEL       115000  Andhra Pradesh       Kurnool   \n",
       "4                 DIESEL        88000  Andhra Pradesh       Kurnool   \n",
       "...                  ...          ...             ...           ...   \n",
       "301837            DIESEL       535000  Andhra Pradesh  Visakapatnam   \n",
       "301838            DIESEL       510000  Andhra Pradesh  Visakapatnam   \n",
       "301839            DIESEL       285000  Andhra Pradesh  Visakapatnam   \n",
       "301840            DIESEL       250000  Andhra Pradesh  Visakapatnam   \n",
       "301841            DIESEL       323000  Andhra Pradesh  Visakapatnam   \n",
       "\n",
       "          LOT_AUC_CODE                   AUCTION PLACE VEH INWARD UNIT  \\\n",
       "0       KAM20150819033          SHRIRAMAUTOMALLKURNOOL           KURYD   \n",
       "1       KAM20150819033          SHRIRAMAUTOMALLKURNOOL           KURYD   \n",
       "2       KAM20150908049          SHRIRAMAUTOMALLKURNOOL           KURYD   \n",
       "3       KAM20150908049          SHRIRAMAUTOMALLKURNOOL           KURYD   \n",
       "4       KAM20151017033          SHRIRAMAUTOMALLKURNOOL           KURYD   \n",
       "...                ...                             ...             ...   \n",
       "301837  VZG20211113053  Shriram Automall Visakhapatnam           VISYD   \n",
       "301838  VZG20211113053  Shriram Automall Visakhapatnam           VISYD   \n",
       "301839  VZG20211127055  Shriram Automall Visakhapatnam           VISYD   \n",
       "301840  VZG20211127055  Shriram Automall Visakhapatnam           VISYD   \n",
       "301841  VZG20211127055  Shriram Automall Visakhapatnam           VISYD   \n",
       "\n",
       "                             YARD NAME YARD UNIT LOT NO  BIDDER ID  \\\n",
       "0             Shriram Automall Kurnool     KURYD     24        106   \n",
       "1             Shriram Automall Kurnool     KURYD     44        149   \n",
       "2             Shriram Automall Kurnool     KURYD    110        179   \n",
       "3             Shriram Automall Kurnool     KURYD    119        143   \n",
       "4             Shriram Automall Kurnool     KURYD     24        117   \n",
       "...                                ...       ...    ...        ...   \n",
       "301837  Shriram Automall Visakhapatnam     VISYD     10        191   \n",
       "301838  Shriram Automall Visakhapatnam     VISYD     11        169   \n",
       "301839  Shriram Automall Visakhapatnam     VISYD    131        177   \n",
       "301840  Shriram Automall Visakhapatnam     VISYD     22        172   \n",
       "301841  Shriram Automall Visakhapatnam     VISYD     67        175   \n",
       "\n",
       "            CUST CODE                           NAME  VEHICLE NO  \\\n",
       "0         AC000002408              KOTESWARA RAO  CH  AP21TV0421   \n",
       "1       AS00000089710             NOORAHAMMED  SHAIK   AP21Y6559   \n",
       "2       AK00000001112                  RANGASWAMY  K   AP03X6737   \n",
       "3       AS00000027710                    RABBANI  SK   AP21W9773   \n",
       "4       AG00000086112     VENKATESWARREDDY  GUMMATAM   AP04Y4218   \n",
       "...               ...                            ...         ...   \n",
       "301837   AJ0000019110              PATIVADA  JAYARAO  AP31TJ0057   \n",
       "301838  AR00000044727                    GANDU  RAJU  AP27TV6762   \n",
       "301839   AV0000066210           BATTHINA  VENKATARAO  AP05TE3995   \n",
       "301840   AD0000059510                   SAVARA  DASU  AP05TC3429   \n",
       "301841   AG0000064210  LAKSHMANA TIRUMALAREDDY GUJJU  AP31TD4544   \n",
       "\n",
       "       METER READING                  SPECIFICATION  \\\n",
       "0                NaN                            NaN   \n",
       "1                NaN                            NaN   \n",
       "2         112721.000                   Spring susp,   \n",
       "3                NaN                   Spring susp,   \n",
       "4                NaN              spring suspention   \n",
       "...              ...                            ...   \n",
       "301837             0                              0   \n",
       "301838           NaN   Spring susp 7.2 x 4.2 Ft bed   \n",
       "301839           NaN   Spring susp 7.2 x 4.2 Ft bed   \n",
       "301840             0  Spring susp, 8.3 X 5.2 Ft bed   \n",
       "301841           NaN                            M/T   \n",
       "\n",
       "                                                 ADD NOTE  UCR  \\\n",
       "0                                                     NaN  NaN   \n",
       "1                                                     NaN  NaN   \n",
       "2                                                     NaN  NaN   \n",
       "3       Form 36,28,29,30 Will be given within 30 days ...  NaN   \n",
       "4                                                     NaN  NaN   \n",
       "...                                                   ...  ...   \n",
       "301837                                                  0    0   \n",
       "301838                                                  0  0.1   \n",
       "301839                                                  0  0.1   \n",
       "301840  As per RC  DOST LS BSIII(GOODS CH LB FBC PS. N...  0.2   \n",
       "301841  Vehicle will be released only after Transfer o...  0.1   \n",
       "\n",
       "       SHROT COND_MAPPED             INS DT                     TAX  \\\n",
       "0                   FAIR  Live : 27/01/2016               Life Time   \n",
       "1        INVALID DETAILS      Not Available  Paid upto : 30/09/2015   \n",
       "2                   FAIR  Live : 01/11/2018    Expired : 30/09/2017   \n",
       "3        INVALID DETAILS  Live : 23/12/2015  Paid upto : 30/06/2015   \n",
       "4                   FAIR      Not Available  Paid upto : 31/12/2015   \n",
       "...                  ...                ...                     ...   \n",
       "301837              FAIR      Not Available  Paid upto : 31/12/2021   \n",
       "301838           AVERAGE  Live : 14/10/2022  Paid upto : 31/12/2021   \n",
       "301839           AVERAGE      Not Available  Paid upto : 31/12/2021   \n",
       "301840              FAIR  Live : 26/11/2022  Paid upto : 31/12/2021   \n",
       "301841           AVERAGE  Live : 17/04/2022    Expired : 30/09/2021   \n",
       "\n",
       "         PERMIT_MAPPED  SHOOT PRICE  RESERVE PRICE SELLER CORPORATE NAME  \\\n",
       "0        NOT AVAILABLE          NaN            NaN                   NaN   \n",
       "1        NOT AVAILABLE   133333.000     120000.000                   NaN   \n",
       "2        NOT AVAILABLE          NaN            NaN                    a9   \n",
       "3        NOT AVAILABLE   150000.000     135000.000                    a9   \n",
       "4        NOT AVAILABLE   150000.000     135000.000                    a9   \n",
       "...                ...          ...            ...                   ...   \n",
       "301837   NOT AVAILABLE        0.000          0.000                   NaN   \n",
       "301838   NOT AVAILABLE   666666.000     600000.000                   NaN   \n",
       "301839   NOT AVAILABLE   333333.000     300000.000                   NaN   \n",
       "301840  NOT APPLICABLE        0.000          0.000                   NaN   \n",
       "301841   NOT AVAILABLE   480000.000     432000.000                    a9   \n",
       "\n",
       "            SELLER ID                       SELLER NAME   KEY REF NUMBER  \\\n",
       "0        AT0000000668                  RAMANJANEYULU  T      NONSTFC0421   \n",
       "1        AE0000000530                   SRIDHAR GOUD  E        AP21Y6559   \n",
       "2         AB000031351                 PEDDA  NAGANNA  B  KURNOO311270003   \n",
       "3         AN000024401                  NANDULA  NAIK  N  KURNOO210260003   \n",
       "4         AK000063901                    KRISHNAIAH  K   KURNOO401170009   \n",
       "...               ...                               ...              ...   \n",
       "301837   AR0000120510                     ABDUL  RAZZAQ       AP31TJ0057   \n",
       "301838   AR0000097210        UNDHUPALLI  PALLESHWARARAO       AP27TV6762   \n",
       "301839  AG00000063666                       SUBBA RAO G       AP05TE3995   \n",
       "301840   AN0000009710  NAVABATTULA NAGAVENKATA DURGARAO       AP05TC3429   \n",
       "301841    AR000357631               MEESALA KRISHNA RAO  VZMRGT911090001   \n",
       "\n",
       "       INV_H_CATEGORY_mapping INV_H_RC_STATUS_CLEANED_MAPPED         SALETYPE  \\\n",
       "0                          CV                    ORIGINAL RC              NaN   \n",
       "1                          CV                    ORIGINAL RC              NaN   \n",
       "2                          CV                  NOT AVAILABLE              NaN   \n",
       "3                          CV                  NOT AVAILABLE              NaN   \n",
       "4                          CV                    ORIGINAL RC              NaN   \n",
       "...                       ...                            ...              ...   \n",
       "301837                     CV                    Original RC        Spot Sale   \n",
       "301838                     CV                    Original RC        Spot Sale   \n",
       "301839                     CV                    Original RC        Spot Sale   \n",
       "301840                     CV                    Original RC        Spot Sale   \n",
       "301841                     CV                       Fresh RC  Subjective Sale   \n",
       "\n",
       "       SAL_PROVISIONAL_DT  GP_PURPOSE_CLEANED       GP_DATETIME  \\\n",
       "0                     NaN  DELIVERY FOR BUYER  21-08-2015 11:03   \n",
       "1                     NaN  DELIVERY FOR BUYER  27-08-2015 14:20   \n",
       "2                     NaN  DELIVERY FOR BUYER  10-09-2015 17:20   \n",
       "3                     NaN  DELIVERY FOR BUYER  05-10-2015 16:20   \n",
       "4                     NaN  DELIVERY FOR BUYER  19-10-2015 10:20   \n",
       "...                   ...                 ...               ...   \n",
       "301837   13-11-2021 00:00  DELIVERY FOR BUYER        18-11-2021   \n",
       "301838   13-11-2021 00:00  DELIVERY FOR BUYER        19-11-2021   \n",
       "301839   27-11-2021 00:00  DELIVERY FOR BUYER        03-12-2021   \n",
       "301840   27-11-2021 00:00  DELIVERY FOR BUYER        13-12-2021   \n",
       "301841   27-11-2021 00:00  DELIVERY FOR BUYER        03-12-2021   \n",
       "\n",
       "           GP_CREATED_ON      OUTWARD_DATE SALE_CLOSURE_DATE  \\\n",
       "0       21-08-2015 11:06  21-08-2015 21:21               NaN   \n",
       "1       27-08-2015 17:44  28-08-2015 10:47               NaN   \n",
       "2       10-09-2015 18:17  11-09-2015 11:34               NaN   \n",
       "3       05-10-2015 16:49  06-10-2015 12:17               NaN   \n",
       "4       19-10-2015 11:39  21-10-2015 08:35               NaN   \n",
       "...                  ...               ...               ...   \n",
       "301837           30:45.9           25:53.6           00:00.0   \n",
       "301838           02:49.6           06:32.2           00:00.0   \n",
       "301839           40:25.3           08:27.9           00:00.0   \n",
       "301840           20:48.7           47:26.9           00:00.0   \n",
       "301841           31:28.7           58:37.4           00:00.0   \n",
       "\n",
       "          INW_ENTRY_DATE  INW_CREATED_DATE VEHICLECONDITION  \n",
       "0       19-08-2015 00:00  19-08-2015 22:13          MOVABLE  \n",
       "1       19-08-2015 00:00  19-08-2015 21:53        IMMOVABLE  \n",
       "2       13-08-2015 00:00  14-08-2015 18:13          MOVABLE  \n",
       "3       13-08-2015 00:00  13-08-2015 18:07        IMMOVABLE  \n",
       "4       03-08-2015 00:00  03-08-2015 21:47          MOVABLE  \n",
       "...                  ...               ...              ...  \n",
       "301837        10-11-2021           20:47.9          MOVABLE  \n",
       "301838        12-10-2021           22:37.7          MOVABLE  \n",
       "301839        20-10-2021           06:10.1          MOVABLE  \n",
       "301840        25-11-2021           42:19.7          MOVABLE  \n",
       "301841        02-08-2021           33:44.3          MOVABLE  \n",
       "\n",
       "[301842 rows x 49 columns]"
      ]
     },
     "execution_count": 507,
     "metadata": {},
     "output_type": "execute_result"
    }
   ],
   "source": [
    "df"
   ]
  },
  {
   "cell_type": "code",
   "execution_count": 508,
   "metadata": {},
   "outputs": [],
   "source": [
    "SC=df[df['VEHICLECONDITION']==2010.0]"
   ]
  },
  {
   "cell_type": "code",
   "execution_count": 509,
   "metadata": {},
   "outputs": [
    {
     "data": {
      "text/html": [
       "<div>\n",
       "<style scoped>\n",
       "    .dataframe tbody tr th:only-of-type {\n",
       "        vertical-align: middle;\n",
       "    }\n",
       "\n",
       "    .dataframe tbody tr th {\n",
       "        vertical-align: top;\n",
       "    }\n",
       "\n",
       "    .dataframe thead th {\n",
       "        text-align: right;\n",
       "    }\n",
       "</style>\n",
       "<table border=\"1\" class=\"dataframe\">\n",
       "  <thead>\n",
       "    <tr style=\"text-align: right;\">\n",
       "      <th></th>\n",
       "      <th>UNIQUESERIALNO</th>\n",
       "      <th>SOLD_DATE</th>\n",
       "      <th>MAKE YEAR</th>\n",
       "      <th>Make</th>\n",
       "      <th>Model</th>\n",
       "      <th>Variant</th>\n",
       "      <th>BodyType</th>\n",
       "      <th>WHEELS</th>\n",
       "      <th>GVW_HP_SEATING_CAPACITY_CC</th>\n",
       "      <th>FUEL TYPE_CLEANED</th>\n",
       "      <th>SOLD AMOUNT</th>\n",
       "      <th>STATE_MAPPED</th>\n",
       "      <th>BUSINESS_UNIT</th>\n",
       "      <th>LOT_AUC_CODE</th>\n",
       "      <th>AUCTION PLACE</th>\n",
       "      <th>VEH INWARD UNIT</th>\n",
       "      <th>YARD NAME</th>\n",
       "      <th>YARD UNIT</th>\n",
       "      <th>LOT NO</th>\n",
       "      <th>BIDDER ID</th>\n",
       "      <th>CUST CODE</th>\n",
       "      <th>NAME</th>\n",
       "      <th>VEHICLE NO</th>\n",
       "      <th>METER READING</th>\n",
       "      <th>SPECIFICATION</th>\n",
       "      <th>ADD NOTE</th>\n",
       "      <th>UCR</th>\n",
       "      <th>SHROT COND_MAPPED</th>\n",
       "      <th>INS DT</th>\n",
       "      <th>TAX</th>\n",
       "      <th>PERMIT_MAPPED</th>\n",
       "      <th>SHOOT PRICE</th>\n",
       "      <th>RESERVE PRICE</th>\n",
       "      <th>SELLER CORPORATE NAME</th>\n",
       "      <th>SELLER ID</th>\n",
       "      <th>SELLER NAME</th>\n",
       "      <th>KEY REF NUMBER</th>\n",
       "      <th>INV_H_CATEGORY_mapping</th>\n",
       "      <th>INV_H_RC_STATUS_CLEANED_MAPPED</th>\n",
       "      <th>SALETYPE</th>\n",
       "      <th>SAL_PROVISIONAL_DT</th>\n",
       "      <th>GP_PURPOSE_CLEANED</th>\n",
       "      <th>GP_DATETIME</th>\n",
       "      <th>GP_CREATED_ON</th>\n",
       "      <th>OUTWARD_DATE</th>\n",
       "      <th>SALE_CLOSURE_DATE</th>\n",
       "      <th>INW_ENTRY_DATE</th>\n",
       "      <th>INW_CREATED_DATE</th>\n",
       "      <th>VEHICLECONDITION</th>\n",
       "    </tr>\n",
       "  </thead>\n",
       "  <tbody>\n",
       "  </tbody>\n",
       "</table>\n",
       "</div>"
      ],
      "text/plain": [
       "Empty DataFrame\n",
       "Columns: [UNIQUESERIALNO, SOLD_DATE, MAKE YEAR, Make, Model, Variant, BodyType, WHEELS, GVW_HP_SEATING_CAPACITY_CC, FUEL TYPE_CLEANED, SOLD AMOUNT, STATE_MAPPED, BUSINESS_UNIT, LOT_AUC_CODE, AUCTION PLACE, VEH INWARD UNIT, YARD NAME, YARD UNIT, LOT NO, BIDDER ID, CUST CODE, NAME, VEHICLE NO, METER READING, SPECIFICATION, ADD NOTE, UCR, SHROT COND_MAPPED, INS DT, TAX, PERMIT_MAPPED, SHOOT PRICE, RESERVE PRICE, SELLER CORPORATE NAME, SELLER ID, SELLER NAME, KEY REF NUMBER, INV_H_CATEGORY_mapping, INV_H_RC_STATUS_CLEANED_MAPPED, SALETYPE, SAL_PROVISIONAL_DT, GP_PURPOSE_CLEANED, GP_DATETIME, GP_CREATED_ON, OUTWARD_DATE, SALE_CLOSURE_DATE, INW_ENTRY_DATE, INW_CREATED_DATE, VEHICLECONDITION]\n",
       "Index: []"
      ]
     },
     "execution_count": 509,
     "metadata": {},
     "output_type": "execute_result"
    }
   ],
   "source": [
    "SC"
   ]
  },
  {
   "cell_type": "code",
   "execution_count": 510,
   "metadata": {},
   "outputs": [],
   "source": [
    "data=df.copy()"
   ]
  },
  {
   "cell_type": "code",
   "execution_count": 511,
   "metadata": {},
   "outputs": [
    {
     "data": {
      "text/plain": [
       "(301842, 49)"
      ]
     },
     "execution_count": 511,
     "metadata": {},
     "output_type": "execute_result"
    }
   ],
   "source": [
    "data.shape"
   ]
  },
  {
   "cell_type": "code",
   "execution_count": 512,
   "metadata": {},
   "outputs": [],
   "source": [
    "def uppper(df,col):\n",
    "    df[col]=df[col].str.upper()\n",
    "    df[col]=df[col].str.replace(' ','')\n",
    "    return df[col]"
   ]
  },
  {
   "cell_type": "code",
   "execution_count": 513,
   "metadata": {},
   "outputs": [],
   "source": [
    "def encoding(data,col,col_1,model):\n",
    "    print(model.head())\n",
    "    temp = pd.read_csv(data+'.csv',encoding='CP1252')\n",
    "    temp[col]=uppper(temp,col)\n",
    "    model_temp = pd.DataFrame()\n",
    "    labels_temp_map = dict(zip(temp[col],temp['Id (Encoding)']))\n",
    "    model_temp[col_1] = model[col_1].map(labels_temp_map)\n",
    "    print(model.head())\n",
    "    return model_temp[col_1]"
   ]
  },
  {
   "cell_type": "code",
   "execution_count": 514,
   "metadata": {},
   "outputs": [],
   "source": [
    "def df_reset(df):\n",
    "    return pd.DataFrame()"
   ]
  },
  {
   "cell_type": "code",
   "execution_count": 515,
   "metadata": {},
   "outputs": [],
   "source": [
    "data.rename(columns={'Make':'Make_Clean'},inplace=True)\n",
    "data.rename(columns={'Model':'Model_Clean'},inplace=True)\n",
    "data.rename(columns={'Variant':'Variant_Clean'},inplace=True)\n",
    "data.rename(columns={'GVW_HP_SEATING_CAPACITY_CC':'num_Weight'},inplace=True)\n"
   ]
  },
  {
   "cell_type": "code",
   "execution_count": 516,
   "metadata": {},
   "outputs": [
    {
     "data": {
      "text/plain": [
       "Index(['UNIQUESERIALNO', 'SOLD_DATE', 'MAKE YEAR', 'Make_Clean', 'Model_Clean',\n",
       "       'Variant_Clean', 'BodyType', 'WHEELS', 'num_Weight',\n",
       "       'FUEL TYPE_CLEANED', 'SOLD AMOUNT', 'STATE_MAPPED', 'BUSINESS_UNIT',\n",
       "       'LOT_AUC_CODE', 'AUCTION PLACE', 'VEH INWARD UNIT', 'YARD NAME',\n",
       "       'YARD UNIT', 'LOT NO', 'BIDDER ID', 'CUST CODE', 'NAME', 'VEHICLE NO',\n",
       "       'METER READING', 'SPECIFICATION', 'ADD NOTE', 'UCR',\n",
       "       'SHROT COND_MAPPED', 'INS DT', 'TAX', 'PERMIT_MAPPED', 'SHOOT PRICE',\n",
       "       'RESERVE PRICE', 'SELLER CORPORATE NAME', 'SELLER ID', 'SELLER NAME',\n",
       "       'KEY REF NUMBER', 'INV_H_CATEGORY_mapping',\n",
       "       'INV_H_RC_STATUS_CLEANED_MAPPED', 'SALETYPE', 'SAL_PROVISIONAL_DT',\n",
       "       'GP_PURPOSE_CLEANED', 'GP_DATETIME', 'GP_CREATED_ON', 'OUTWARD_DATE',\n",
       "       'SALE_CLOSURE_DATE', 'INW_ENTRY_DATE', 'INW_CREATED_DATE',\n",
       "       'VEHICLECONDITION'],\n",
       "      dtype='object')"
      ]
     },
     "execution_count": 516,
     "metadata": {},
     "output_type": "execute_result"
    }
   ],
   "source": [
    "data.columns"
   ]
  },
  {
   "cell_type": "code",
   "execution_count": 517,
   "metadata": {},
   "outputs": [],
   "source": [
    "data.rename(columns={'FUEL TYPE_CLEANED':'Fuel_Clean'},inplace=True)\n",
    "data.rename(columns={'STATE_MAPPED':'CV_State_Clean'},inplace=True)\n",
    "data.rename(columns={'MAKE YEAR':'MAKE_YEAR'},inplace=True)"
   ]
  },
  {
   "cell_type": "code",
   "execution_count": 518,
   "metadata": {},
   "outputs": [],
   "source": [
    "data['Make_Clean']=uppper(data,'Make_Clean')\n",
    "data['Model_Clean']=uppper(data,'Model_Clean')\n",
    "data['Variant_Clean']=uppper(data,'Variant_Clean')\n",
    "data['Fuel_Clean']=uppper(data,'Fuel_Clean')\n",
    "data['CV_State_Clean']=uppper(data,'CV_State_Clean')"
   ]
  },
  {
   "cell_type": "code",
   "execution_count": 519,
   "metadata": {},
   "outputs": [],
   "source": [
    "dt = data.dropna(how='any',axis=0,subset=['Model_Clean','Fuel_Clean','Variant_Clean'])"
   ]
  },
  {
   "cell_type": "code",
   "execution_count": 520,
   "metadata": {},
   "outputs": [],
   "source": [
    "dt['MMV']= dt['Make_Clean']+'_'+dt['Model_Clean']+'_'+dt['Variant_Clean']"
   ]
  },
  {
   "cell_type": "code",
   "execution_count": 521,
   "metadata": {},
   "outputs": [],
   "source": [
    "df_1= dt.copy()"
   ]
  },
  {
   "cell_type": "code",
   "execution_count": 522,
   "metadata": {},
   "outputs": [
    {
     "data": {
      "text/plain": [
       "(301690, 50)"
      ]
     },
     "execution_count": 522,
     "metadata": {},
     "output_type": "execute_result"
    }
   ],
   "source": [
    "df_1.shape"
   ]
  },
  {
   "cell_type": "code",
   "execution_count": 523,
   "metadata": {},
   "outputs": [],
   "source": [
    "df_2 = df_1[df_1['SOLD AMOUNT']>48000] "
   ]
  },
  {
   "cell_type": "code",
   "execution_count": 524,
   "metadata": {},
   "outputs": [
    {
     "data": {
      "text/plain": [
       "(259870, 50)"
      ]
     },
     "execution_count": 524,
     "metadata": {},
     "output_type": "execute_result"
    }
   ],
   "source": [
    "df_2.shape"
   ]
  },
  {
   "cell_type": "code",
   "execution_count": 525,
   "metadata": {},
   "outputs": [],
   "source": [
    "df_3 = df_2[df_2['MMV'].map(df_2['MMV'].value_counts()) >=10]"
   ]
  },
  {
   "cell_type": "code",
   "execution_count": 526,
   "metadata": {},
   "outputs": [
    {
     "data": {
      "text/plain": [
       "(258352, 50)"
      ]
     },
     "execution_count": 526,
     "metadata": {},
     "output_type": "execute_result"
    }
   ],
   "source": [
    "df_3.shape"
   ]
  },
  {
   "cell_type": "code",
   "execution_count": 527,
   "metadata": {},
   "outputs": [],
   "source": [
    "df_1 =df_reset(df_1)"
   ]
  },
  {
   "cell_type": "code",
   "execution_count": 528,
   "metadata": {},
   "outputs": [],
   "source": [
    "df_2 = df_reset(df_2)"
   ]
  },
  {
   "cell_type": "code",
   "execution_count": 529,
   "metadata": {},
   "outputs": [],
   "source": [
    "df = df_3.copy()"
   ]
  },
  {
   "cell_type": "code",
   "execution_count": 530,
   "metadata": {},
   "outputs": [],
   "source": [
    "df_1 = df[df['MAKE_YEAR']>=1995]"
   ]
  },
  {
   "cell_type": "code",
   "execution_count": 531,
   "metadata": {},
   "outputs": [
    {
     "data": {
      "text/plain": [
       "(256504, 50)"
      ]
     },
     "execution_count": 531,
     "metadata": {},
     "output_type": "execute_result"
    }
   ],
   "source": [
    "df_1.shape"
   ]
  },
  {
   "cell_type": "code",
   "execution_count": 532,
   "metadata": {},
   "outputs": [],
   "source": [
    "df_1.CV_State_Clean.fillna(df_1.CV_State_Clean.mode()[0],inplace=True)"
   ]
  },
  {
   "cell_type": "code",
   "execution_count": 533,
   "metadata": {},
   "outputs": [],
   "source": [
    "df_1.SOLD_DATE=pd.to_datetime(df_1.SOLD_DATE)"
   ]
  },
  {
   "cell_type": "code",
   "execution_count": 534,
   "metadata": {},
   "outputs": [],
   "source": [
    "df_1[\"Year_sell\"] = df_1.SOLD_DATE.dt.year"
   ]
  },
  {
   "cell_type": "code",
   "execution_count": 535,
   "metadata": {},
   "outputs": [],
   "source": [
    "df_1[\"Sell_Month\"] = df_1.SOLD_DATE.dt.month"
   ]
  },
  {
   "cell_type": "code",
   "execution_count": 536,
   "metadata": {},
   "outputs": [],
   "source": [
    "df_1[\"Sell_Day\"] = df_1.SOLD_DATE.dt.day"
   ]
  },
  {
   "cell_type": "code",
   "execution_count": 537,
   "metadata": {},
   "outputs": [],
   "source": [
    "df_1[\"num_CV_Age\"] = df_1[\"Year_sell\"] - df_1['MAKE_YEAR']"
   ]
  },
  {
   "cell_type": "code",
   "execution_count": 538,
   "metadata": {},
   "outputs": [],
   "source": [
    "df_2 = df_1[df_1[\"num_CV_Age\"]>0]"
   ]
  },
  {
   "cell_type": "code",
   "execution_count": 539,
   "metadata": {},
   "outputs": [
    {
     "data": {
      "text/plain": [
       "(256219, 54)"
      ]
     },
     "execution_count": 539,
     "metadata": {},
     "output_type": "execute_result"
    }
   ],
   "source": [
    "df_2.shape"
   ]
  },
  {
   "cell_type": "code",
   "execution_count": 540,
   "metadata": {},
   "outputs": [],
   "source": [
    "#df_1[df_1[\"BodyType\"]=='TRACTOR TRAILER' ].value_counts\n"
   ]
  },
  {
   "cell_type": "code",
   "execution_count": 541,
   "metadata": {},
   "outputs": [],
   "source": [
    "df_2[['TAX_STATUS','TAX_DATE']] = df_2['TAX'].str.split(\":\",expand=True)\n",
    "\n",
    "df_2['TAX_STATUS']= df_2['TAX_STATUS'].str.lstrip()\n",
    "df_2['TAX_STATUS']= df_2['TAX_STATUS'].str.rstrip()\n",
    "\n",
    "df_2['TAX_STATUS']=df_2['TAX_STATUS'].str.upper()\n",
    "\n",
    "df_2['TAX_STATUS'].value_counts()\n",
    "\n",
    "TAX_STATUS={\n",
    "    \"LIFE TIME\":\"LIFE_TIME\",\n",
    "    \"NOT AVAILABLE\":\"NOT_AVAILABLE\",\n",
    "    \"PAID UPTO\":\"PAID_UPTO\",\n",
    "    \"EXPIRED\":\"EXPIRED\",\n",
    "    \"VALID UPTO\":\"VALID_UPTO\",\n",
    "    \"NOT APPLICABLE\":\"NOT_APPLICABLE\",\n",
    "    \"LIFE TAX\":\"LIFE_TAX\",\n",
    "    \"DATE IS NOT AVAILABLE\":\"DATE_NOT_AVAILABLE\"\n",
    "    }\n",
    "\n",
    "df_2['TAX_STATUS'].replace(TAX_STATUS, inplace=True)"
   ]
  },
  {
   "cell_type": "code",
   "execution_count": 542,
   "metadata": {},
   "outputs": [
    {
     "data": {
      "text/plain": [
       "LIFE_TIME             86702\n",
       "PAID_UPTO             66101\n",
       "NOT_AVAILABLE         47218\n",
       "EXPIRED               45575\n",
       "VALID_UPTO             7050\n",
       "LIFE_TAX               1737\n",
       "NOT_APPLICABLE         1661\n",
       "DATE_NOT_AVAILABLE       94\n",
       "Name: TAX_STATUS, dtype: int64"
      ]
     },
     "execution_count": 542,
     "metadata": {},
     "output_type": "execute_result"
    }
   ],
   "source": [
    "df_2['TAX_STATUS'].value_counts()"
   ]
  },
  {
   "cell_type": "code",
   "execution_count": 543,
   "metadata": {},
   "outputs": [
    {
     "data": {
      "text/plain": [
       "Index(['UNIQUESERIALNO', 'SOLD_DATE', 'MAKE_YEAR', 'Make_Clean', 'Model_Clean',\n",
       "       'Variant_Clean', 'BodyType', 'WHEELS', 'num_Weight', 'Fuel_Clean',\n",
       "       'SOLD AMOUNT', 'CV_State_Clean', 'BUSINESS_UNIT', 'LOT_AUC_CODE',\n",
       "       'AUCTION PLACE', 'VEH INWARD UNIT', 'YARD NAME', 'YARD UNIT', 'LOT NO',\n",
       "       'BIDDER ID', 'CUST CODE', 'NAME', 'VEHICLE NO', 'METER READING',\n",
       "       'SPECIFICATION', 'ADD NOTE', 'UCR', 'SHROT COND_MAPPED', 'INS DT',\n",
       "       'TAX', 'PERMIT_MAPPED', 'SHOOT PRICE', 'RESERVE PRICE',\n",
       "       'SELLER CORPORATE NAME', 'SELLER ID', 'SELLER NAME', 'KEY REF NUMBER',\n",
       "       'INV_H_CATEGORY_mapping', 'INV_H_RC_STATUS_CLEANED_MAPPED', 'SALETYPE',\n",
       "       'SAL_PROVISIONAL_DT', 'GP_PURPOSE_CLEANED', 'GP_DATETIME',\n",
       "       'GP_CREATED_ON', 'OUTWARD_DATE', 'SALE_CLOSURE_DATE', 'INW_ENTRY_DATE',\n",
       "       'INW_CREATED_DATE', 'VEHICLECONDITION', 'MMV', 'Year_sell',\n",
       "       'Sell_Month', 'Sell_Day', 'num_CV_Age', 'TAX_STATUS', 'TAX_DATE'],\n",
       "      dtype='object')"
      ]
     },
     "execution_count": 543,
     "metadata": {},
     "output_type": "execute_result"
    }
   ],
   "source": [
    "df_2.columns"
   ]
  },
  {
   "cell_type": "code",
   "execution_count": 544,
   "metadata": {},
   "outputs": [],
   "source": [
    "df_2['METER_READING_cleaned'] = df_2['METER READING'].str.replace(r'[^\\d.]+\"\"', '')"
   ]
  },
  {
   "cell_type": "code",
   "execution_count": 545,
   "metadata": {},
   "outputs": [],
   "source": [
    "df_2['METER_READING_cleaned']=pd.to_numeric(df_2['METER_READING_cleaned'],errors='coerce')"
   ]
  },
  {
   "cell_type": "code",
   "execution_count": 546,
   "metadata": {},
   "outputs": [
    {
     "data": {
      "text/plain": [
       "count       88991.000\n",
       "mean       155225.025\n",
       "std       3106413.342\n",
       "min             0.000\n",
       "25%         48883.500\n",
       "50%         96373.000\n",
       "75%        164241.000\n",
       "max     900065969.000\n",
       "Name: METER_READING_cleaned, dtype: float64"
      ]
     },
     "execution_count": 546,
     "metadata": {},
     "output_type": "execute_result"
    }
   ],
   "source": [
    "df_2['METER_READING_cleaned'].describe()"
   ]
  },
  {
   "cell_type": "code",
   "execution_count": 547,
   "metadata": {},
   "outputs": [
    {
     "data": {
      "text/plain": [
       "9474465.05004018"
      ]
     },
     "execution_count": 547,
     "metadata": {},
     "output_type": "execute_result"
    }
   ],
   "source": [
    "meter_reading_upper=df_2['METER_READING_cleaned'].mean()+3*df_2['METER_READING_cleaned'].std()\n",
    "meter_reading_upper"
   ]
  },
  {
   "cell_type": "code",
   "execution_count": 548,
   "metadata": {},
   "outputs": [],
   "source": [
    "df_2=df_2[~(df_2['METER_READING_cleaned']>meter_reading_upper)]"
   ]
  },
  {
   "cell_type": "code",
   "execution_count": 549,
   "metadata": {},
   "outputs": [
    {
     "data": {
      "text/plain": [
       "(256212, 57)"
      ]
     },
     "execution_count": 549,
     "metadata": {},
     "output_type": "execute_result"
    }
   ],
   "source": [
    "df_2.shape"
   ]
  },
  {
   "cell_type": "code",
   "execution_count": 550,
   "metadata": {},
   "outputs": [
    {
     "data": {
      "text/plain": [
       "count     88984.000\n",
       "mean     141557.147\n",
       "std      252570.336\n",
       "min           0.000\n",
       "25%       48869.000\n",
       "50%       96367.000\n",
       "75%      164223.000\n",
       "max     9281120.000\n",
       "Name: METER_READING_cleaned, dtype: float64"
      ]
     },
     "execution_count": 550,
     "metadata": {},
     "output_type": "execute_result"
    }
   ],
   "source": [
    "df_2['METER_READING_cleaned'].describe()"
   ]
  },
  {
   "cell_type": "code",
   "execution_count": 551,
   "metadata": {},
   "outputs": [],
   "source": [
    "df_21=df_2.copy()"
   ]
  },
  {
   "cell_type": "code",
   "execution_count": 552,
   "metadata": {},
   "outputs": [
    {
     "name": "stdout",
     "output_type": "stream",
     "text": [
      "       UNIQUESERIALNO  SOLD_DATE  MAKE_YEAR    Make_Clean Model_Clean  \\\n",
      "59402    S13062600488 2013-06-11       2007  ASHOKLEYLAND        2214   \n",
      "126300   S17102500401 2018-03-24       2007  ASHOKLEYLAND        2214   \n",
      "\n",
      "        Variant_Clean       BodyType  WHEELS  num_Weight Fuel_Clean  \\\n",
      "59402   6X2CARGOTRUCK  HAULAGE TRUCK   6.000   16200.000     DIESEL   \n",
      "126300  6X2CARGOTRUCK  HAULAGE TRUCK   6.000   16200.000     DIESEL   \n",
      "\n",
      "        SOLD AMOUNT CV_State_Clean BUSINESS_UNIT    LOT_AUC_CODE  \\\n",
      "59402        390000  ANDHRAPRADESH       Nellore  NEL20131106012   \n",
      "126300       240000  ANDHRAPRADESH      Gulbarga  GUL20180324147   \n",
      "\n",
      "                  AUCTION PLACE VEH INWARD UNIT                  YARD NAME  \\\n",
      "59402    SHRIRAMAUTOMALLNELLORE           NELBR   Shriram Automall Nellore   \n",
      "126300  SHRIRAMAUTOMALLGULBARGA           HMNYD  Shriram Automall Gulbarga   \n",
      "\n",
      "       YARD UNIT LOT NO  BIDDER ID      CUST CODE                      NAME  \\\n",
      "59402      NELBR     88        106  AK00000215103             APPALA RAJU K   \n",
      "126300     HMNYD    137        203  AR00000004172  KHAJA MIYAN  REHAMAN SAB   \n",
      "\n",
      "       VEHICLE NO METER READING SPECIFICATION ADD NOTE  UCR SHROT COND_MAPPED  \\\n",
      "59402   AP27W6688       9281120           NaN    HUMNA  NaN           AVERAGE   \n",
      "126300  AP27W6688       9281120           NaN    HUMNA  NaN           AVERAGE   \n",
      "\n",
      "                   INS DT                   TAX PERMIT_MAPPED  SHOOT PRICE  \\\n",
      "59402   Live : 14/04/2018  Expired : 31/03/2014           NaN        0.000   \n",
      "126300  Live : 14/04/2018  Expired : 31/03/2014           NaN        0.000   \n",
      "\n",
      "        RESERVE PRICE SELLER CORPORATE NAME    SELLER ID  \\\n",
      "59402           0.000                    A9  AR000002971   \n",
      "126300          0.000                    a9  AM000251241   \n",
      "\n",
      "                           SELLER NAME   KEY REF NUMBER  \\\n",
      "59402                       KUREG  RCH  SINGRO207020007   \n",
      "126300   M HUSSAIN   S/O M MOULNASAB    HUMNAO703140007   \n",
      "\n",
      "       INV_H_CATEGORY_mapping INV_H_RC_STATUS_CLEANED_MAPPED SALETYPE  \\\n",
      "59402                      CV                    ORIGINAL RC      NaN   \n",
      "126300                     CV                    ORIGINAL RC      NaN   \n",
      "\n",
      "       SAL_PROVISIONAL_DT  GP_PURPOSE_CLEANED       GP_DATETIME  \\\n",
      "59402                 NaN  DELIVERY FOR BUYER  18-11-2013 10:52   \n",
      "126300                NaN  DELIVERY FOR BUYER  27-03-2018 02:28   \n",
      "\n",
      "           GP_CREATED_ON      OUTWARD_DATE SALE_CLOSURE_DATE  \\\n",
      "59402   18-11-2013 12:29  18-11-2013 15:10               NaN   \n",
      "126300  27-03-2018 14:28  27-03-2018 16:41               NaN   \n",
      "\n",
      "          INW_ENTRY_DATE  INW_CREATED_DATE VEHICLECONDITION  \\\n",
      "59402   21-06-2013 00:00  26-06-2013 16:49          MOVABLE   \n",
      "126300  24-10-2017 00:00  25-10-2017 17:10          MOVABLE   \n",
      "\n",
      "                                    MMV  Year_sell  Sell_Month  Sell_Day  \\\n",
      "59402   ASHOKLEYLAND_2214_6X2CARGOTRUCK       2013           6        11   \n",
      "126300  ASHOKLEYLAND_2214_6X2CARGOTRUCK       2018           3        24   \n",
      "\n",
      "        num_CV_Age TAX_STATUS     TAX_DATE  METER_READING_cleaned  \n",
      "59402            6    EXPIRED   31/03/2014            9281120.000  \n",
      "126300          11    EXPIRED   31/03/2014            9281120.000  \n"
     ]
    }
   ],
   "source": [
    "print(df_2[df_2.METER_READING_cleaned == df_2.METER_READING_cleaned.max()])  \n",
    "\n"
   ]
  },
  {
   "cell_type": "code",
   "execution_count": 553,
   "metadata": {},
   "outputs": [],
   "source": [
    "df_2['METER_READING_cleaned'] = df_2['METER_READING_cleaned'].replace(0, np.nan)"
   ]
  },
  {
   "cell_type": "code",
   "execution_count": 554,
   "metadata": {},
   "outputs": [],
   "source": [
    "#df_2['METER_READING_cleaned'] = df_2['METER_READING_cleaned'].replace([9281120,9231261,9111099,9006008,8817191,8164387,8040906,8038913,7774861,7748961,7674216,7627843], np.nan)"
   ]
  },
  {
   "cell_type": "code",
   "execution_count": 555,
   "metadata": {},
   "outputs": [],
   "source": [
    "df_2['METER_READING_cleaned'].values[df_2['METER_READING_cleaned'] > 4000000] = 141557"
   ]
  },
  {
   "cell_type": "code",
   "execution_count": 556,
   "metadata": {},
   "outputs": [
    {
     "data": {
      "text/plain": [
       "count     83290.000\n",
       "mean     145686.687\n",
       "std      181348.860\n",
       "min           1.000\n",
       "25%       58915.250\n",
       "50%      102348.000\n",
       "75%      170042.250\n",
       "max     3966971.000\n",
       "Name: METER_READING_cleaned, dtype: float64"
      ]
     },
     "execution_count": 556,
     "metadata": {},
     "output_type": "execute_result"
    }
   ],
   "source": [
    "df_2['METER_READING_cleaned'].describe()"
   ]
  },
  {
   "cell_type": "code",
   "execution_count": 557,
   "metadata": {},
   "outputs": [
    {
     "data": {
      "text/plain": [
       "count   255341.000\n",
       "mean         4.004\n",
       "std          1.792\n",
       "min          0.000\n",
       "25%          4.000\n",
       "50%          4.000\n",
       "75%          6.000\n",
       "max          6.000\n",
       "Name: WHEELS, dtype: float64"
      ]
     },
     "execution_count": 557,
     "metadata": {},
     "output_type": "execute_result"
    }
   ],
   "source": [
    "df_2['WHEELS'].describe()"
   ]
  },
  {
   "cell_type": "code",
   "execution_count": 558,
   "metadata": {},
   "outputs": [],
   "source": [
    "df_2['WHEELS'] = df_2['WHEELS'].replace({0:np.nan})"
   ]
  },
  {
   "cell_type": "code",
   "execution_count": 559,
   "metadata": {},
   "outputs": [
    {
     "data": {
      "text/plain": [
       "count   255341.000\n",
       "mean      5612.189\n",
       "std       7785.268\n",
       "min          0.000\n",
       "25%       1300.000\n",
       "50%       1300.000\n",
       "75%      11990.000\n",
       "max      40200.000\n",
       "Name: num_Weight, dtype: float64"
      ]
     },
     "execution_count": 559,
     "metadata": {},
     "output_type": "execute_result"
    }
   ],
   "source": [
    "df_2['num_Weight'].describe()"
   ]
  },
  {
   "cell_type": "code",
   "execution_count": 560,
   "metadata": {},
   "outputs": [],
   "source": [
    "df_2['num_Weight'] = df_2['num_Weight'].replace({0:np.nan})"
   ]
  },
  {
   "cell_type": "code",
   "execution_count": 561,
   "metadata": {},
   "outputs": [
    {
     "data": {
      "text/plain": [
       "count   226758.000\n",
       "mean      6319.609\n",
       "std       7986.224\n",
       "min       1300.000\n",
       "25%       1300.000\n",
       "50%       1300.000\n",
       "75%      11990.000\n",
       "max      40200.000\n",
       "Name: num_Weight, dtype: float64"
      ]
     },
     "execution_count": 561,
     "metadata": {},
     "output_type": "execute_result"
    }
   ],
   "source": [
    "df_2['num_Weight'].describe()"
   ]
  },
  {
   "cell_type": "code",
   "execution_count": 562,
   "metadata": {},
   "outputs": [],
   "source": [
    "df_2['MMV']=df_2['Make_Clean']+df_2['Model_Clean']+df_2['Variant_Clean']"
   ]
  },
  {
   "cell_type": "code",
   "execution_count": 563,
   "metadata": {},
   "outputs": [
    {
     "data": {
      "text/plain": [
       "UNIQUESERIALNO                   0.000\n",
       "SOLD_DATE                        0.000\n",
       "MAKE_YEAR                        0.000\n",
       "Make_Clean                       0.000\n",
       "Model_Clean                      0.000\n",
       "Variant_Clean                    0.000\n",
       "BodyType                         0.000\n",
       "WHEELS                           0.136\n",
       "num_Weight                       0.115\n",
       "Fuel_Clean                       0.000\n",
       "SOLD AMOUNT                      0.000\n",
       "CV_State_Clean                   0.000\n",
       "BUSINESS_UNIT                    0.000\n",
       "LOT_AUC_CODE                     0.000\n",
       "AUCTION PLACE                    0.000\n",
       "VEH INWARD UNIT                  0.001\n",
       "YARD NAME                        0.000\n",
       "YARD UNIT                        0.001\n",
       "LOT NO                           0.000\n",
       "BIDDER ID                        0.000\n",
       "CUST CODE                        0.000\n",
       "NAME                             0.000\n",
       "VEHICLE NO                       0.000\n",
       "METER READING                    0.609\n",
       "SPECIFICATION                    0.212\n",
       "ADD NOTE                         0.341\n",
       "UCR                              0.401\n",
       "SHROT COND_MAPPED                0.000\n",
       "INS DT                           0.002\n",
       "TAX                              0.000\n",
       "PERMIT_MAPPED                    0.039\n",
       "SHOOT PRICE                      0.467\n",
       "RESERVE PRICE                    0.467\n",
       "SELLER CORPORATE NAME            0.231\n",
       "SELLER ID                        0.000\n",
       "SELLER NAME                      0.000\n",
       "KEY REF NUMBER                   0.002\n",
       "INV_H_CATEGORY_mapping           0.000\n",
       "INV_H_RC_STATUS_CLEANED_MAPPED   0.000\n",
       "SALETYPE                         0.753\n",
       "SAL_PROVISIONAL_DT               0.765\n",
       "GP_PURPOSE_CLEANED               0.119\n",
       "GP_DATETIME                      0.119\n",
       "GP_CREATED_ON                    0.119\n",
       "OUTWARD_DATE                     0.119\n",
       "SALE_CLOSURE_DATE                0.830\n",
       "INW_ENTRY_DATE                   0.214\n",
       "INW_CREATED_DATE                 0.214\n",
       "VEHICLECONDITION                 0.123\n",
       "MMV                              0.000\n",
       "Year_sell                        0.000\n",
       "Sell_Month                       0.000\n",
       "Sell_Day                         0.000\n",
       "num_CV_Age                       0.000\n",
       "TAX_STATUS                       0.000\n",
       "TAX_DATE                         0.536\n",
       "METER_READING_cleaned            0.675\n",
       "dtype: float64"
      ]
     },
     "execution_count": 563,
     "metadata": {},
     "output_type": "execute_result"
    }
   ],
   "source": [
    "df_2.isnull().sum()/len(df_2)"
   ]
  },
  {
   "cell_type": "code",
   "execution_count": 564,
   "metadata": {},
   "outputs": [],
   "source": [
    "pct_null = df_2.isnull().sum() / len(df_2)\n",
    "missing_features = pct_null[pct_null > 0.70].index\n",
    "# df.drop(missing_features, axis=1, inplace=True)"
   ]
  },
  {
   "cell_type": "code",
   "execution_count": 565,
   "metadata": {},
   "outputs": [
    {
     "data": {
      "text/plain": [
       "Index(['SALETYPE', 'SAL_PROVISIONAL_DT', 'SALE_CLOSURE_DATE'], dtype='object')"
      ]
     },
     "execution_count": 565,
     "metadata": {},
     "output_type": "execute_result"
    }
   ],
   "source": [
    "missing_features"
   ]
  },
  {
   "cell_type": "code",
   "execution_count": 566,
   "metadata": {},
   "outputs": [],
   "source": [
    "inp1=df_2.select_dtypes(exclude='object')"
   ]
  },
  {
   "cell_type": "code",
   "execution_count": 567,
   "metadata": {},
   "outputs": [
    {
     "data": {
      "text/plain": [
       "(256212, 13)"
      ]
     },
     "execution_count": 567,
     "metadata": {},
     "output_type": "execute_result"
    }
   ],
   "source": [
    "inp1.shape"
   ]
  },
  {
   "cell_type": "code",
   "execution_count": 568,
   "metadata": {},
   "outputs": [
    {
     "data": {
      "image/png": "[encoded data removed]",
      "text/plain": [
       "<Figure size 800x800 with 2 Axes>"
      ]
     },
     "metadata": {},
     "output_type": "display_data"
    }
   ],
   "source": [
    "# Let's see the correlation matrix \n",
    "plt.figure(figsize = (8,8))        # Size of the figure\n",
    "sns.heatmap(inp1.corr(),annot = True)\n",
    "plt.show()"
   ]
  },
  {
   "cell_type": "code",
   "execution_count": 569,
   "metadata": {},
   "outputs": [],
   "source": [
    "Unseen_df = df_2.loc[(df_2['SOLD_DATE'] >= '2022-03-01')]"
   ]
  },
  {
   "cell_type": "code",
   "execution_count": 570,
   "metadata": {},
   "outputs": [],
   "source": [
    "Unseen_for_model=Unseen_df[['MMV','Fuel_Clean','BodyType', 'MAKE_YEAR',\n",
    "       'SOLD AMOUNT', 'CV_State_Clean','SHROT COND_MAPPED','num_Weight',\n",
    "       'num_CV_Age','PERMIT_MAPPED','INV_H_CATEGORY_mapping','METER_READING_cleaned',\n",
    "           'INV_H_RC_STATUS_CLEANED_MAPPED','GP_PURPOSE_CLEANED','VEHICLECONDITION']]"
   ]
  },
  {
   "cell_type": "code",
   "execution_count": 571,
   "metadata": {},
   "outputs": [],
   "source": [
    "mydata=df_2.loc[(df_2['SOLD_DATE'] < '2022-03-01')]"
   ]
  },
  {
   "cell_type": "code",
   "execution_count": 572,
   "metadata": {},
   "outputs": [],
   "source": [
    "df_2=mydata[['MMV','Fuel_Clean','BodyType', 'MAKE_YEAR',\n",
    "       'SOLD AMOUNT', 'CV_State_Clean','SHROT COND_MAPPED','num_Weight',\n",
    "       'num_CV_Age','PERMIT_MAPPED','INV_H_CATEGORY_mapping','METER_READING_cleaned',\n",
    "           'INV_H_RC_STATUS_CLEANED_MAPPED','GP_PURPOSE_CLEANED','VEHICLECONDITION']]"
   ]
  },
  {
   "cell_type": "code",
   "execution_count": 573,
   "metadata": {},
   "outputs": [
    {
     "data": {
      "text/plain": [
       "(248733, 15)"
      ]
     },
     "execution_count": 573,
     "metadata": {},
     "output_type": "execute_result"
    }
   ],
   "source": [
    "df_2.shape"
   ]
  },
  {
   "cell_type": "code",
   "execution_count": 574,
   "metadata": {},
   "outputs": [],
   "source": [
    "columns=['MMV','Fuel_Clean','BodyType', 'MAKE_YEAR',\n",
    "       'SOLD AMOUNT', 'CV_State_Clean','SHROT COND_MAPPED','num_Weight',\n",
    "       'num_CV_Age','PERMIT_MAPPED','INV_H_CATEGORY_mapping','METER_READING_cleaned',\n",
    "           'INV_H_RC_STATUS_CLEANED_MAPPED','GP_PURPOSE_CLEANED','VEHICLECONDITION']"
   ]
  },
  {
   "cell_type": "code",
   "execution_count": 575,
   "metadata": {},
   "outputs": [],
   "source": [
    "#Feature Enginerring\n",
    "df_2.reset_index(drop=True,inplace =True)"
   ]
  },
  {
   "cell_type": "code",
   "execution_count": 576,
   "metadata": {},
   "outputs": [
    {
     "data": {
      "text/plain": [
       "Index(['MMV', 'Fuel_Clean', 'BodyType', 'MAKE_YEAR', 'SOLD AMOUNT',\n",
       "       'CV_State_Clean', 'SHROT COND_MAPPED', 'num_Weight', 'num_CV_Age',\n",
       "       'PERMIT_MAPPED', 'INV_H_CATEGORY_mapping', 'METER_READING_cleaned',\n",
       "       'INV_H_RC_STATUS_CLEANED_MAPPED', 'GP_PURPOSE_CLEANED',\n",
       "       'VEHICLECONDITION'],\n",
       "      dtype='object')"
      ]
     },
     "execution_count": 576,
     "metadata": {},
     "output_type": "execute_result"
    }
   ],
   "source": [
    "df_2.columns"
   ]
  },
  {
   "cell_type": "code",
   "execution_count": 577,
   "metadata": {},
   "outputs": [],
   "source": [
    "Unseen_for_model.reset_index(drop=True,inplace =True)"
   ]
  },
  {
   "cell_type": "code",
   "execution_count": 578,
   "metadata": {},
   "outputs": [],
   "source": [
    "Model_data = df_2.copy()"
   ]
  },
  {
   "cell_type": "code",
   "execution_count": 579,
   "metadata": {},
   "outputs": [
    {
     "data": {
      "text/plain": [
       "(248733, 15)"
      ]
     },
     "execution_count": 579,
     "metadata": {},
     "output_type": "execute_result"
    }
   ],
   "source": [
    "Model_data.shape"
   ]
  },
  {
   "cell_type": "code",
   "execution_count": null,
   "metadata": {},
   "outputs": [],
   "source": []
  },
  {
   "cell_type": "code",
   "execution_count": 580,
   "metadata": {},
   "outputs": [],
   "source": [
    "cat_f=Model_data.select_dtypes(include='object').columns"
   ]
  },
  {
   "cell_type": "code",
   "execution_count": 581,
   "metadata": {},
   "outputs": [],
   "source": [
    "cat_f=['MMV', 'Fuel_Clean', 'BodyType',\n",
    "       'CV_State_Clean','SHROT COND_MAPPED', \n",
    "       'PERMIT_MAPPED', 'INV_H_CATEGORY_mapping',\n",
    "       'INV_H_RC_STATUS_CLEANED_MAPPED', 'GP_PURPOSE_CLEANED',\n",
    "       'VEHICLECONDITION']"
   ]
  },
  {
   "cell_type": "code",
   "execution_count": 582,
   "metadata": {},
   "outputs": [],
   "source": [
    "num_f=Model_data.select_dtypes(exclude='object').columns"
   ]
  },
  {
   "cell_type": "code",
   "execution_count": 583,
   "metadata": {},
   "outputs": [
    {
     "data": {
      "text/plain": [
       "Index(['MAKE_YEAR', 'SOLD AMOUNT', 'num_Weight', 'num_CV_Age',\n",
       "       'METER_READING_cleaned'],\n",
       "      dtype='object')"
      ]
     },
     "execution_count": 583,
     "metadata": {},
     "output_type": "execute_result"
    }
   ],
   "source": [
    "num_f"
   ]
  },
  {
   "cell_type": "code",
   "execution_count": 584,
   "metadata": {},
   "outputs": [],
   "source": [
    "inp1=Model_data.select_dtypes(exclude='object')"
   ]
  },
  {
   "cell_type": "code",
   "execution_count": 585,
   "metadata": {},
   "outputs": [
    {
     "name": "stderr",
     "output_type": "stream",
     "text": [
      "No handles with labels found to put in legend.\n"
     ]
    },
    {
     "data": {
      "image/png": "[encoded data removed]",
      "text/plain": [
       "<Figure size 1800x500 with 5 Axes>"
      ]
     },
     "metadata": {},
     "output_type": "display_data"
    }
   ],
   "source": [
    "from scipy.stats import gaussian_kde\n",
    "fig = plt.figure(figsize=(18,5))\n",
    "\n",
    "\n",
    "for i,b in enumerate(list(inp1.columns)):\n",
    "    \n",
    "    i +=1\n",
    "    ax = fig.add_subplot(1,5,i)\n",
    "    sns.boxplot(inp1[b])\n",
    "\n",
    "    ax.set_title(b)\n",
    "\n",
    "sns.set_style(\"whitegrid\")\n",
    "plt.tight_layout()\n",
    "plt.legend()\n",
    "plt.show()"
   ]
  },
  {
   "cell_type": "code",
   "execution_count": 586,
   "metadata": {},
   "outputs": [],
   "source": [
    "columns=Model_data.select_dtypes(exclude='object').columns"
   ]
  },
  {
   "cell_type": "code",
   "execution_count": 587,
   "metadata": {},
   "outputs": [
    {
     "data": {
      "image/png": "[encoded data removed]",
      "text/plain": [
       "<Figure size 1500x900 with 5 Axes>"
      ]
     },
     "metadata": {},
     "output_type": "display_data"
    }
   ],
   "source": [
    "plt.subplots(figsize=(15,9))\n",
    " \n",
    "for i, col in enumerate(inp1):\n",
    "  plt.subplot(2,3,i+1)\n",
    "  sns.distplot(inp1[col])\n",
    "plt.show()"
   ]
  },
  {
   "cell_type": "code",
   "execution_count": 588,
   "metadata": {},
   "outputs": [
    {
     "data": {
      "text/plain": [
       "Index(['MAKE_YEAR', 'SOLD AMOUNT', 'num_Weight', 'num_CV_Age',\n",
       "       'METER_READING_cleaned'],\n",
       "      dtype='object')"
      ]
     },
     "execution_count": 588,
     "metadata": {},
     "output_type": "execute_result"
    }
   ],
   "source": [
    "columns"
   ]
  },
  {
   "cell_type": "code",
   "execution_count": 589,
   "metadata": {},
   "outputs": [],
   "source": [
    "inp_cat=Model_data.select_dtypes(include='object')"
   ]
  },
  {
   "cell_type": "code",
   "execution_count": 590,
   "metadata": {},
   "outputs": [
    {
     "data": {
      "text/plain": [
       "Index(['MMV', 'Fuel_Clean', 'BodyType', 'CV_State_Clean', 'SHROT COND_MAPPED',\n",
       "       'PERMIT_MAPPED', 'INV_H_CATEGORY_mapping',\n",
       "       'INV_H_RC_STATUS_CLEANED_MAPPED', 'GP_PURPOSE_CLEANED',\n",
       "       'VEHICLECONDITION'],\n",
       "      dtype='object')"
      ]
     },
     "execution_count": 590,
     "metadata": {},
     "output_type": "execute_result"
    }
   ],
   "source": [
    "inp_cat.columns"
   ]
  },
  {
   "cell_type": "code",
   "execution_count": 591,
   "metadata": {},
   "outputs": [],
   "source": [
    "Model_data.loc[Model_data['MMV'].isin((Model_data['MMV'].value_counts()[Model_data['MMV'].value_counts(normalize=True) < 0.005]).index), 'MMV'] = 'other'"
   ]
  },
  {
   "cell_type": "code",
   "execution_count": 592,
   "metadata": {},
   "outputs": [
    {
     "data": {
      "text/plain": [
       "NOT AVAILABLE     185399\n",
       "NOT APPLICABLE     51655\n",
       "VALID PERMIT        1760\n",
       "Name: PERMIT_MAPPED, dtype: int64"
      ]
     },
     "execution_count": 592,
     "metadata": {},
     "output_type": "execute_result"
    }
   ],
   "source": [
    "Model_data[\"PERMIT_MAPPED\"].value_counts()"
   ]
  },
  {
   "cell_type": "code",
   "execution_count": 593,
   "metadata": {},
   "outputs": [
    {
     "data": {
      "text/plain": [
       "FAIR                 0.491\n",
       "INVALID DETAILS      0.286\n",
       "POOR                 0.121\n",
       "AVERAGE              0.071\n",
       "GOOD                 0.015\n",
       "NOT VARIFIED         0.011\n",
       "0                    0.002\n",
       "IMMOVABLE            0.002\n",
       "TO TAKE LEGAL CALL   0.001\n",
       "SCRAP                0.000\n",
       "ACCIDENTAL           0.000\n",
       "Name: SHROT COND_MAPPED, dtype: float64"
      ]
     },
     "execution_count": 593,
     "metadata": {},
     "output_type": "execute_result"
    }
   ],
   "source": [
    "Model_data['SHROT COND_MAPPED'].value_counts(normalize=True)"
   ]
  },
  {
   "cell_type": "code",
   "execution_count": 594,
   "metadata": {},
   "outputs": [],
   "source": [
    "Model_data.loc[Model_data['SHROT COND_MAPPED'].isin((Model_data['SHROT COND_MAPPED'].value_counts()[Model_data['SHROT COND_MAPPED'].value_counts(normalize=True) < 0.015]).index), 'SHROT COND_MAPPED'] = 'other'"
   ]
  },
  {
   "cell_type": "code",
   "execution_count": 595,
   "metadata": {},
   "outputs": [
    {
     "data": {
      "text/plain": [
       "FAIR              0.491\n",
       "INVALID DETAILS   0.286\n",
       "POOR              0.121\n",
       "AVERAGE           0.071\n",
       "other             0.016\n",
       "GOOD              0.015\n",
       "Name: SHROT COND_MAPPED, dtype: float64"
      ]
     },
     "execution_count": 595,
     "metadata": {},
     "output_type": "execute_result"
    }
   ],
   "source": [
    "Model_data['SHROT COND_MAPPED'].value_counts(normalize=True)"
   ]
  },
  {
   "cell_type": "code",
   "execution_count": 596,
   "metadata": {},
   "outputs": [
    {
     "data": {
      "text/plain": [
       "NOT AVAILABLE     185399\n",
       "NOT APPLICABLE     51655\n",
       "VALID PERMIT        1760\n",
       "Name: PERMIT_MAPPED, dtype: int64"
      ]
     },
     "execution_count": 596,
     "metadata": {},
     "output_type": "execute_result"
    }
   ],
   "source": [
    "Model_data['PERMIT_MAPPED'].value_counts()"
   ]
  },
  {
   "cell_type": "code",
   "execution_count": 597,
   "metadata": {},
   "outputs": [
    {
     "data": {
      "text/plain": [
       "SCV                               0.486\n",
       "HAULAGE TRUCK                     0.153\n",
       "INTERMEDIATE COMMERCIAL VEHICLE   0.095\n",
       "PICKUP                            0.088\n",
       "MINI BUS                          0.076\n",
       "BUS                               0.035\n",
       "CAB AND CREW PICK UP              0.023\n",
       "TRACTOR TRAILER                   0.021\n",
       "LCV                               0.015\n",
       "SUV                               0.004\n",
       "TIPPER                            0.002\n",
       "3W GCV                            0.001\n",
       "INCOMPLETE                        0.000\n",
       "HATCHBACK                         0.000\n",
       "Name: BodyType, dtype: float64"
      ]
     },
     "execution_count": 597,
     "metadata": {},
     "output_type": "execute_result"
    }
   ],
   "source": [
    "Model_data['BodyType'].value_counts(normalize=True)"
   ]
  },
  {
   "cell_type": "code",
   "execution_count": 598,
   "metadata": {},
   "outputs": [],
   "source": [
    "Model_data.loc[Model_data['BodyType'].isin((Model_data['BodyType'].value_counts()[Model_data['BodyType'].value_counts(normalize=True) <= 0.020]).index), 'BodyType'] = 'other'"
   ]
  },
  {
   "cell_type": "code",
   "execution_count": 599,
   "metadata": {},
   "outputs": [
    {
     "data": {
      "text/plain": [
       "SCV                               0.486\n",
       "HAULAGE TRUCK                     0.153\n",
       "INTERMEDIATE COMMERCIAL VEHICLE   0.095\n",
       "PICKUP                            0.088\n",
       "MINI BUS                          0.076\n",
       "BUS                               0.035\n",
       "CAB AND CREW PICK UP              0.023\n",
       "other                             0.023\n",
       "TRACTOR TRAILER                   0.021\n",
       "Name: BodyType, dtype: float64"
      ]
     },
     "execution_count": 599,
     "metadata": {},
     "output_type": "execute_result"
    }
   ],
   "source": [
    "Model_data['BodyType'].value_counts(normalize=True)"
   ]
  },
  {
   "cell_type": "code",
   "execution_count": 600,
   "metadata": {},
   "outputs": [
    {
     "data": {
      "text/plain": [
       "ORIGINAL RC        0.553\n",
       "NOT AVAILABLE      0.304\n",
       "FRC                0.069\n",
       "Original RC        0.024\n",
       "Not available      0.021\n",
       "DRC                0.016\n",
       "RTA Forms          0.010\n",
       "Fresh RC           0.002\n",
       "ORIGINAL INVOICE   0.000\n",
       "NOT APPLICABLE     0.000\n",
       "Duplicate RC       0.000\n",
       "Sale Letter        0.000\n",
       "Name: INV_H_RC_STATUS_CLEANED_MAPPED, dtype: float64"
      ]
     },
     "execution_count": 600,
     "metadata": {},
     "output_type": "execute_result"
    }
   ],
   "source": [
    "Model_data['INV_H_RC_STATUS_CLEANED_MAPPED'].value_counts(normalize=True)"
   ]
  },
  {
   "cell_type": "code",
   "execution_count": 601,
   "metadata": {},
   "outputs": [],
   "source": [
    "Model_data.loc[Model_data['INV_H_RC_STATUS_CLEANED_MAPPED'].isin((Model_data['INV_H_RC_STATUS_CLEANED_MAPPED'].value_counts()[Model_data['INV_H_RC_STATUS_CLEANED_MAPPED'].value_counts(normalize=True) <= 0.013]).index), 'INV_H_RC_STATUS_CLEANED_MAPPED'] = 'other'"
   ]
  },
  {
   "cell_type": "code",
   "execution_count": 602,
   "metadata": {},
   "outputs": [
    {
     "data": {
      "text/plain": [
       "ORIGINAL RC     0.553\n",
       "NOT AVAILABLE   0.304\n",
       "FRC             0.069\n",
       "Original RC     0.024\n",
       "Not available   0.021\n",
       "DRC             0.016\n",
       "other           0.013\n",
       "Name: INV_H_RC_STATUS_CLEANED_MAPPED, dtype: float64"
      ]
     },
     "execution_count": 602,
     "metadata": {},
     "output_type": "execute_result"
    }
   ],
   "source": [
    "Model_data['INV_H_RC_STATUS_CLEANED_MAPPED'].value_counts(normalize=True)"
   ]
  },
  {
   "cell_type": "code",
   "execution_count": 603,
   "metadata": {},
   "outputs": [
    {
     "data": {
      "text/plain": [
       "TAMILNADU             0.266\n",
       "ANDHRAPRADESH         0.244\n",
       "KARNATAKA             0.129\n",
       "MAHARASHTRA           0.080\n",
       "UTTARPRADESH          0.051\n",
       "RAJASTHAN             0.029\n",
       "KERALA                0.027\n",
       "MADHYAPRADESH         0.026\n",
       "GUJARAT               0.025\n",
       "HARYANA               0.018\n",
       "WESTBENGAL            0.017\n",
       "PUNJAB                0.016\n",
       "CHHATTISGARH          0.015\n",
       "TELANGANA             0.014\n",
       "HIMACHALPRADESH       0.009\n",
       "JHARKHAND             0.007\n",
       "BIHAR                 0.006\n",
       "PUDUCHERRY            0.005\n",
       "ASSAM                 0.004\n",
       "DELHI                 0.004\n",
       "JAMMUANDKASHMIR       0.003\n",
       "UTTARAKHAND           0.002\n",
       "NAGALAND              0.001\n",
       "ODISHA                0.001\n",
       "GOA                   0.000\n",
       "CHANDIGARH            0.000\n",
       "DADARANDNAGARHAVELI   0.000\n",
       "TRIPURA               0.000\n",
       "DAMANANDDIU           0.000\n",
       "MEGHALAYA             0.000\n",
       "SIKKIM                0.000\n",
       "ARUNACHALPRADESH      0.000\n",
       "MIZORAM               0.000\n",
       "MANIPUR               0.000\n",
       "Name: CV_State_Clean, dtype: float64"
      ]
     },
     "execution_count": 603,
     "metadata": {},
     "output_type": "execute_result"
    }
   ],
   "source": [
    "Model_data['CV_State_Clean'].value_counts(normalize=True)"
   ]
  },
  {
   "cell_type": "code",
   "execution_count": 604,
   "metadata": {},
   "outputs": [
    {
     "data": {
      "text/plain": [
       "TAMILNADU             0.266\n",
       "ANDHRAPRADESH         0.244\n",
       "KARNATAKA             0.129\n",
       "MAHARASHTRA           0.080\n",
       "UTTARPRADESH          0.051\n",
       "RAJASTHAN             0.029\n",
       "KERALA                0.027\n",
       "MADHYAPRADESH         0.026\n",
       "GUJARAT               0.025\n",
       "HARYANA               0.018\n",
       "WESTBENGAL            0.017\n",
       "PUNJAB                0.016\n",
       "CHHATTISGARH          0.015\n",
       "TELANGANA             0.014\n",
       "HIMACHALPRADESH       0.009\n",
       "JHARKHAND             0.007\n",
       "BIHAR                 0.006\n",
       "PUDUCHERRY            0.005\n",
       "ASSAM                 0.004\n",
       "DELHI                 0.004\n",
       "JAMMUANDKASHMIR       0.003\n",
       "UTTARAKHAND           0.002\n",
       "NAGALAND              0.001\n",
       "ODISHA                0.001\n",
       "GOA                   0.000\n",
       "CHANDIGARH            0.000\n",
       "DADARANDNAGARHAVELI   0.000\n",
       "TRIPURA               0.000\n",
       "DAMANANDDIU           0.000\n",
       "MEGHALAYA             0.000\n",
       "SIKKIM                0.000\n",
       "ARUNACHALPRADESH      0.000\n",
       "MIZORAM               0.000\n",
       "MANIPUR               0.000\n",
       "Name: CV_State_Clean, dtype: float64"
      ]
     },
     "execution_count": 604,
     "metadata": {},
     "output_type": "execute_result"
    }
   ],
   "source": [
    "Model_data['CV_State_Clean'].value_counts(normalize=True)"
   ]
  },
  {
   "cell_type": "code",
   "execution_count": 605,
   "metadata": {},
   "outputs": [],
   "source": [
    "Model_data.loc[Model_data['CV_State_Clean'].isin((Model_data['CV_State_Clean'].value_counts()[Model_data['CV_State_Clean'].value_counts(normalize=True) <= 0.009]).index), 'CV_State_Clean'] = 'other'"
   ]
  },
  {
   "cell_type": "code",
   "execution_count": 606,
   "metadata": {},
   "outputs": [],
   "source": [
    "Model_data.rename(columns={'CV_Age':'num_CV_Age'},inplace=True)\n",
    "Model_data.rename(columns={'METER_READING_cleaned':'num_METER_READING_cleaned'},inplace=True)\n",
    "Model_data.rename(columns={'SOLD AMOUNT':'num_SOLD_AMOUNT'},inplace=True)"
   ]
  },
  {
   "cell_type": "code",
   "execution_count": 607,
   "metadata": {},
   "outputs": [
    {
     "data": {
      "text/plain": [
       "Index(['MMV', 'Fuel_Clean', 'BodyType', 'MAKE_YEAR', 'num_SOLD_AMOUNT',\n",
       "       'CV_State_Clean', 'SHROT COND_MAPPED', 'num_Weight', 'num_CV_Age',\n",
       "       'PERMIT_MAPPED', 'INV_H_CATEGORY_mapping', 'num_METER_READING_cleaned',\n",
       "       'INV_H_RC_STATUS_CLEANED_MAPPED', 'GP_PURPOSE_CLEANED',\n",
       "       'VEHICLECONDITION'],\n",
       "      dtype='object')"
      ]
     },
     "execution_count": 607,
     "metadata": {},
     "output_type": "execute_result"
    }
   ],
   "source": [
    "Model_data.columns"
   ]
  },
  {
   "cell_type": "code",
   "execution_count": 608,
   "metadata": {},
   "outputs": [],
   "source": [
    "num_f=['WHEELS', 'num_Weight', 'num_SOLD AMOUNT', 'num_CV_Age','num_METER_READING_cleaned']"
   ]
  },
  {
   "cell_type": "code",
   "execution_count": 609,
   "metadata": {},
   "outputs": [],
   "source": [
    "num_features =  [col for col in Model_data if col.startswith('num_')]"
   ]
  },
  {
   "cell_type": "code",
   "execution_count": 610,
   "metadata": {},
   "outputs": [],
   "source": [
    "#from scipy.stats import gaussian_kde\n",
    "#fig = plt.figure(figsize=(18,5))\n",
    "#\n",
    "#\n",
    "#for i,b in enumerate(list(Model_data[num_features].columns)):\n",
    "#    \n",
    "#    i +=1\n",
    "#    ax = fig.add_subplot(1,5,i)\n",
    "#    sns.boxplot(Model_data[num_features][b])\n",
    "#\n",
    "#    ax.set_title(b)\n",
    "#\n",
    "#sns.set_style(\"whitegrid\")\n",
    "#plt.tight_layout()\n",
    "#plt.legend()\n",
    "#plt.show()"
   ]
  },
  {
   "cell_type": "code",
   "execution_count": 611,
   "metadata": {},
   "outputs": [],
   "source": [
    "#def remove_outlier_IQR(df):\n",
    "#    Q1=df.quantile(0.05)\n",
    "#    Q3=df.quantile(0.95)\n",
    "#    IQR=Q3-Q1\n",
    "#    df_final=df[~((df<(Q1-1.5*IQR)) | (df>(Q3+1.5*IQR)))]\n",
    "#    return df_final"
   ]
  },
  {
   "cell_type": "code",
   "execution_count": 612,
   "metadata": {},
   "outputs": [],
   "source": [
    "#Model_data[num_features] = remove_outlier_IQR(Model_data[num_features])"
   ]
  },
  {
   "cell_type": "code",
   "execution_count": 613,
   "metadata": {},
   "outputs": [
    {
     "name": "stdout",
     "output_type": "stream",
     "text": [
      "0th moment is = [1. 1. 1. 1.]\n",
      "1st moment is = [0. 0. 0. 0.]\n",
      "2nd moment is = [3.44367728e+10            nan 1.47183794e+01            nan]\n",
      "3rd moment is = [2.46098409e+16            nan 5.51904620e+01            nan]\n",
      "4th moment is = [3.08748987e+22            nan 9.09160733e+02            nan]\n"
     ]
    }
   ],
   "source": [
    "#finding the 0th moment \n",
    "print('0th moment is =',stats.moment(Model_data[num_features],moment=0))\n",
    "#finding the 1st moment \n",
    "print('1st moment is =',stats.moment(Model_data[num_features],moment=1))\n",
    "#finding the 2nd moment \n",
    "print('2nd moment is =',stats.moment(Model_data[num_features],moment=2))\n",
    "#finding the 3rd moment \n",
    "print('3rd moment is =',stats.moment(Model_data[num_features],moment=3))\n",
    "#finding the 4th moment \n",
    "print('4th moment is =',stats.moment(Model_data[num_features],moment=4))"
   ]
  },
  {
   "cell_type": "code",
   "execution_count": 614,
   "metadata": {},
   "outputs": [],
   "source": [
    "#from scipy.stats import gaussian_kde\n",
    "#fig = plt.figure(figsize=(18,5))\n",
    "#\n",
    "#\n",
    "#for i,b in enumerate(list(Model_data[num_features].columns)):\n",
    "#    \n",
    "#    i +=1\n",
    "#    ax = fig.add_subplot(1,5,i)\n",
    "#    sns.boxplot(Model_data[num_features][b])\n",
    "#\n",
    "#    ax.set_title(b)\n",
    "#\n",
    "#sns.set_style(\"whitegrid\")\n",
    "#plt.tight_layout()\n",
    "#plt.legend()\n",
    "#plt.show()\n"
   ]
  },
  {
   "cell_type": "code",
   "execution_count": 615,
   "metadata": {},
   "outputs": [
    {
     "data": {
      "text/plain": [
       "MMV                              0.000\n",
       "Fuel_Clean                       0.000\n",
       "BodyType                         0.000\n",
       "MAKE_YEAR                        0.000\n",
       "num_SOLD_AMOUNT                  0.000\n",
       "CV_State_Clean                   0.000\n",
       "SHROT COND_MAPPED                0.000\n",
       "num_Weight                       0.115\n",
       "num_CV_Age                       0.000\n",
       "PERMIT_MAPPED                    0.040\n",
       "INV_H_CATEGORY_mapping           0.000\n",
       "num_METER_READING_cleaned        0.675\n",
       "INV_H_RC_STATUS_CLEANED_MAPPED   0.000\n",
       "GP_PURPOSE_CLEANED               0.123\n",
       "VEHICLECONDITION                 0.127\n",
       "dtype: float64"
      ]
     },
     "execution_count": 615,
     "metadata": {},
     "output_type": "execute_result"
    }
   ],
   "source": [
    "Model_data.isnull().sum()/len(Model_data)"
   ]
  },
  {
   "cell_type": "code",
   "execution_count": 616,
   "metadata": {},
   "outputs": [],
   "source": [
    "#!pip install verstack"
   ]
  },
  {
   "cell_type": "code",
   "execution_count": 617,
   "metadata": {},
   "outputs": [],
   "source": [
    "#from verstack import NaNImputer\n"
   ]
  },
  {
   "cell_type": "code",
   "execution_count": 618,
   "metadata": {},
   "outputs": [],
   "source": [
    "#imputer = NaNImputer(fill_nans_in_pure_text = True)\n",
    "#Model_data = imputer.impute(Model_data)#"
   ]
  },
  {
   "cell_type": "code",
   "execution_count": 619,
   "metadata": {},
   "outputs": [
    {
     "data": {
      "text/plain": [
       "0                 TATAMAGIC4X2MINIBUS\n",
       "1                    TATAACE4X2PICKUP\n",
       "2                    TATAACE4X2PICKUP\n",
       "3               MAHINDRAMAXX4X2PICKUP\n",
       "4                  TATAACEHT4X2PICKUP\n",
       "                     ...             \n",
       "248728                          other\n",
       "248729        MAHINDRABOLERO4X2PICKUP\n",
       "248730           TATAACEMEGA4X2PICKUP\n",
       "248731    ASHOKLEYLANDDOSTLS4X2PICKUP\n",
       "248732                          other\n",
       "Name: MMV, Length: 248733, dtype: object"
      ]
     },
     "execution_count": 619,
     "metadata": {},
     "output_type": "execute_result"
    }
   ],
   "source": [
    "Model_data['MMV']"
   ]
  },
  {
   "cell_type": "code",
   "execution_count": 620,
   "metadata": {},
   "outputs": [],
   "source": [
    "#$ pip install verstack"
   ]
  },
  {
   "cell_type": "code",
   "execution_count": 621,
   "metadata": {},
   "outputs": [],
   "source": [
    "#Model_data.fillna(Model_data.select_dtypes(include='number').median().iloc[0], inplace=True)"
   ]
  },
  {
   "cell_type": "code",
   "execution_count": 622,
   "metadata": {},
   "outputs": [
    {
     "data": {
      "text/html": [
       "<div>\n",
       "<style scoped>\n",
       "    .dataframe tbody tr th:only-of-type {\n",
       "        vertical-align: middle;\n",
       "    }\n",
       "\n",
       "    .dataframe tbody tr th {\n",
       "        vertical-align: top;\n",
       "    }\n",
       "\n",
       "    .dataframe thead th {\n",
       "        text-align: right;\n",
       "    }\n",
       "</style>\n",
       "<table border=\"1\" class=\"dataframe\">\n",
       "  <thead>\n",
       "    <tr style=\"text-align: right;\">\n",
       "      <th></th>\n",
       "      <th>MMV</th>\n",
       "      <th>Fuel_Clean</th>\n",
       "      <th>BodyType</th>\n",
       "      <th>MAKE_YEAR</th>\n",
       "      <th>num_SOLD_AMOUNT</th>\n",
       "      <th>CV_State_Clean</th>\n",
       "      <th>SHROT COND_MAPPED</th>\n",
       "      <th>num_Weight</th>\n",
       "      <th>num_CV_Age</th>\n",
       "      <th>PERMIT_MAPPED</th>\n",
       "      <th>INV_H_CATEGORY_mapping</th>\n",
       "      <th>num_METER_READING_cleaned</th>\n",
       "      <th>INV_H_RC_STATUS_CLEANED_MAPPED</th>\n",
       "      <th>GP_PURPOSE_CLEANED</th>\n",
       "      <th>VEHICLECONDITION</th>\n",
       "    </tr>\n",
       "  </thead>\n",
       "  <tbody>\n",
       "    <tr>\n",
       "      <th>0</th>\n",
       "      <td>TATAMAGIC4X2MINIBUS</td>\n",
       "      <td>DIESEL</td>\n",
       "      <td>MINI BUS</td>\n",
       "      <td>2008</td>\n",
       "      <td>87000</td>\n",
       "      <td>ANDHRAPRADESH</td>\n",
       "      <td>FAIR</td>\n",
       "      <td>NaN</td>\n",
       "      <td>7</td>\n",
       "      <td>NOT AVAILABLE</td>\n",
       "      <td>CV</td>\n",
       "      <td>NaN</td>\n",
       "      <td>ORIGINAL RC</td>\n",
       "      <td>DELIVERY FOR BUYER</td>\n",
       "      <td>MOVABLE</td>\n",
       "    </tr>\n",
       "    <tr>\n",
       "      <th>1</th>\n",
       "      <td>TATAACE4X2PICKUP</td>\n",
       "      <td>DIESEL</td>\n",
       "      <td>SCV</td>\n",
       "      <td>2008</td>\n",
       "      <td>125000</td>\n",
       "      <td>ANDHRAPRADESH</td>\n",
       "      <td>INVALID DETAILS</td>\n",
       "      <td>1300.000</td>\n",
       "      <td>7</td>\n",
       "      <td>NOT AVAILABLE</td>\n",
       "      <td>CV</td>\n",
       "      <td>NaN</td>\n",
       "      <td>ORIGINAL RC</td>\n",
       "      <td>DELIVERY FOR BUYER</td>\n",
       "      <td>IMMOVABLE</td>\n",
       "    </tr>\n",
       "    <tr>\n",
       "      <th>2</th>\n",
       "      <td>TATAACE4X2PICKUP</td>\n",
       "      <td>DIESEL</td>\n",
       "      <td>SCV</td>\n",
       "      <td>2009</td>\n",
       "      <td>76000</td>\n",
       "      <td>ANDHRAPRADESH</td>\n",
       "      <td>FAIR</td>\n",
       "      <td>1300.000</td>\n",
       "      <td>6</td>\n",
       "      <td>NOT AVAILABLE</td>\n",
       "      <td>CV</td>\n",
       "      <td>NaN</td>\n",
       "      <td>NOT AVAILABLE</td>\n",
       "      <td>DELIVERY FOR BUYER</td>\n",
       "      <td>MOVABLE</td>\n",
       "    </tr>\n",
       "    <tr>\n",
       "      <th>3</th>\n",
       "      <td>MAHINDRAMAXX4X2PICKUP</td>\n",
       "      <td>DIESEL</td>\n",
       "      <td>PICKUP</td>\n",
       "      <td>2008</td>\n",
       "      <td>115000</td>\n",
       "      <td>ANDHRAPRADESH</td>\n",
       "      <td>INVALID DETAILS</td>\n",
       "      <td>2930.000</td>\n",
       "      <td>7</td>\n",
       "      <td>NOT AVAILABLE</td>\n",
       "      <td>CV</td>\n",
       "      <td>NaN</td>\n",
       "      <td>NOT AVAILABLE</td>\n",
       "      <td>DELIVERY FOR BUYER</td>\n",
       "      <td>IMMOVABLE</td>\n",
       "    </tr>\n",
       "    <tr>\n",
       "      <th>4</th>\n",
       "      <td>TATAACEHT4X2PICKUP</td>\n",
       "      <td>DIESEL</td>\n",
       "      <td>SCV</td>\n",
       "      <td>2010</td>\n",
       "      <td>88000</td>\n",
       "      <td>ANDHRAPRADESH</td>\n",
       "      <td>FAIR</td>\n",
       "      <td>1300.000</td>\n",
       "      <td>5</td>\n",
       "      <td>NOT AVAILABLE</td>\n",
       "      <td>CV</td>\n",
       "      <td>NaN</td>\n",
       "      <td>ORIGINAL RC</td>\n",
       "      <td>DELIVERY FOR BUYER</td>\n",
       "      <td>MOVABLE</td>\n",
       "    </tr>\n",
       "    <tr>\n",
       "      <th>...</th>\n",
       "      <td>...</td>\n",
       "      <td>...</td>\n",
       "      <td>...</td>\n",
       "      <td>...</td>\n",
       "      <td>...</td>\n",
       "      <td>...</td>\n",
       "      <td>...</td>\n",
       "      <td>...</td>\n",
       "      <td>...</td>\n",
       "      <td>...</td>\n",
       "      <td>...</td>\n",
       "      <td>...</td>\n",
       "      <td>...</td>\n",
       "      <td>...</td>\n",
       "      <td>...</td>\n",
       "    </tr>\n",
       "    <tr>\n",
       "      <th>248728</th>\n",
       "      <td>other</td>\n",
       "      <td>DIESEL</td>\n",
       "      <td>PICKUP</td>\n",
       "      <td>2017</td>\n",
       "      <td>535000</td>\n",
       "      <td>ANDHRAPRADESH</td>\n",
       "      <td>FAIR</td>\n",
       "      <td>2930.000</td>\n",
       "      <td>4</td>\n",
       "      <td>NOT AVAILABLE</td>\n",
       "      <td>CV</td>\n",
       "      <td>NaN</td>\n",
       "      <td>Original RC</td>\n",
       "      <td>DELIVERY FOR BUYER</td>\n",
       "      <td>MOVABLE</td>\n",
       "    </tr>\n",
       "    <tr>\n",
       "      <th>248729</th>\n",
       "      <td>MAHINDRABOLERO4X2PICKUP</td>\n",
       "      <td>DIESEL</td>\n",
       "      <td>PICKUP</td>\n",
       "      <td>2016</td>\n",
       "      <td>510000</td>\n",
       "      <td>ANDHRAPRADESH</td>\n",
       "      <td>AVERAGE</td>\n",
       "      <td>2930.000</td>\n",
       "      <td>5</td>\n",
       "      <td>NOT AVAILABLE</td>\n",
       "      <td>CV</td>\n",
       "      <td>NaN</td>\n",
       "      <td>Original RC</td>\n",
       "      <td>DELIVERY FOR BUYER</td>\n",
       "      <td>MOVABLE</td>\n",
       "    </tr>\n",
       "    <tr>\n",
       "      <th>248730</th>\n",
       "      <td>TATAACEMEGA4X2PICKUP</td>\n",
       "      <td>DIESEL</td>\n",
       "      <td>SCV</td>\n",
       "      <td>2017</td>\n",
       "      <td>285000</td>\n",
       "      <td>ANDHRAPRADESH</td>\n",
       "      <td>AVERAGE</td>\n",
       "      <td>1300.000</td>\n",
       "      <td>4</td>\n",
       "      <td>NOT AVAILABLE</td>\n",
       "      <td>CV</td>\n",
       "      <td>NaN</td>\n",
       "      <td>Original RC</td>\n",
       "      <td>DELIVERY FOR BUYER</td>\n",
       "      <td>MOVABLE</td>\n",
       "    </tr>\n",
       "    <tr>\n",
       "      <th>248731</th>\n",
       "      <td>ASHOKLEYLANDDOSTLS4X2PICKUP</td>\n",
       "      <td>DIESEL</td>\n",
       "      <td>SCV</td>\n",
       "      <td>2013</td>\n",
       "      <td>250000</td>\n",
       "      <td>ANDHRAPRADESH</td>\n",
       "      <td>FAIR</td>\n",
       "      <td>1300.000</td>\n",
       "      <td>8</td>\n",
       "      <td>NOT APPLICABLE</td>\n",
       "      <td>CV</td>\n",
       "      <td>NaN</td>\n",
       "      <td>Original RC</td>\n",
       "      <td>DELIVERY FOR BUYER</td>\n",
       "      <td>MOVABLE</td>\n",
       "    </tr>\n",
       "    <tr>\n",
       "      <th>248732</th>\n",
       "      <td>other</td>\n",
       "      <td>DIESEL</td>\n",
       "      <td>BUS</td>\n",
       "      <td>2013</td>\n",
       "      <td>323000</td>\n",
       "      <td>ANDHRAPRADESH</td>\n",
       "      <td>AVERAGE</td>\n",
       "      <td>NaN</td>\n",
       "      <td>8</td>\n",
       "      <td>NOT AVAILABLE</td>\n",
       "      <td>CV</td>\n",
       "      <td>NaN</td>\n",
       "      <td>other</td>\n",
       "      <td>DELIVERY FOR BUYER</td>\n",
       "      <td>MOVABLE</td>\n",
       "    </tr>\n",
       "  </tbody>\n",
       "</table>\n",
       "<p>248733 rows × 15 columns</p>\n",
       "</div>"
      ],
      "text/plain": [
       "                                MMV Fuel_Clean  BodyType  MAKE_YEAR  \\\n",
       "0               TATAMAGIC4X2MINIBUS     DIESEL  MINI BUS       2008   \n",
       "1                  TATAACE4X2PICKUP     DIESEL       SCV       2008   \n",
       "2                  TATAACE4X2PICKUP     DIESEL       SCV       2009   \n",
       "3             MAHINDRAMAXX4X2PICKUP     DIESEL    PICKUP       2008   \n",
       "4                TATAACEHT4X2PICKUP     DIESEL       SCV       2010   \n",
       "...                             ...        ...       ...        ...   \n",
       "248728                        other     DIESEL    PICKUP       2017   \n",
       "248729      MAHINDRABOLERO4X2PICKUP     DIESEL    PICKUP       2016   \n",
       "248730         TATAACEMEGA4X2PICKUP     DIESEL       SCV       2017   \n",
       "248731  ASHOKLEYLANDDOSTLS4X2PICKUP     DIESEL       SCV       2013   \n",
       "248732                        other     DIESEL       BUS       2013   \n",
       "\n",
       "        num_SOLD_AMOUNT CV_State_Clean SHROT COND_MAPPED  num_Weight  \\\n",
       "0                 87000  ANDHRAPRADESH              FAIR         NaN   \n",
       "1                125000  ANDHRAPRADESH   INVALID DETAILS    1300.000   \n",
       "2                 76000  ANDHRAPRADESH              FAIR    1300.000   \n",
       "3                115000  ANDHRAPRADESH   INVALID DETAILS    2930.000   \n",
       "4                 88000  ANDHRAPRADESH              FAIR    1300.000   \n",
       "...                 ...            ...               ...         ...   \n",
       "248728           535000  ANDHRAPRADESH              FAIR    2930.000   \n",
       "248729           510000  ANDHRAPRADESH           AVERAGE    2930.000   \n",
       "248730           285000  ANDHRAPRADESH           AVERAGE    1300.000   \n",
       "248731           250000  ANDHRAPRADESH              FAIR    1300.000   \n",
       "248732           323000  ANDHRAPRADESH           AVERAGE         NaN   \n",
       "\n",
       "        num_CV_Age   PERMIT_MAPPED INV_H_CATEGORY_mapping  \\\n",
       "0                7   NOT AVAILABLE                     CV   \n",
       "1                7   NOT AVAILABLE                     CV   \n",
       "2                6   NOT AVAILABLE                     CV   \n",
       "3                7   NOT AVAILABLE                     CV   \n",
       "4                5   NOT AVAILABLE                     CV   \n",
       "...            ...             ...                    ...   \n",
       "248728           4   NOT AVAILABLE                     CV   \n",
       "248729           5   NOT AVAILABLE                     CV   \n",
       "248730           4   NOT AVAILABLE                     CV   \n",
       "248731           8  NOT APPLICABLE                     CV   \n",
       "248732           8   NOT AVAILABLE                     CV   \n",
       "\n",
       "        num_METER_READING_cleaned INV_H_RC_STATUS_CLEANED_MAPPED  \\\n",
       "0                             NaN                    ORIGINAL RC   \n",
       "1                             NaN                    ORIGINAL RC   \n",
       "2                             NaN                  NOT AVAILABLE   \n",
       "3                             NaN                  NOT AVAILABLE   \n",
       "4                             NaN                    ORIGINAL RC   \n",
       "...                           ...                            ...   \n",
       "248728                        NaN                    Original RC   \n",
       "248729                        NaN                    Original RC   \n",
       "248730                        NaN                    Original RC   \n",
       "248731                        NaN                    Original RC   \n",
       "248732                        NaN                          other   \n",
       "\n",
       "        GP_PURPOSE_CLEANED VEHICLECONDITION  \n",
       "0       DELIVERY FOR BUYER          MOVABLE  \n",
       "1       DELIVERY FOR BUYER        IMMOVABLE  \n",
       "2       DELIVERY FOR BUYER          MOVABLE  \n",
       "3       DELIVERY FOR BUYER        IMMOVABLE  \n",
       "4       DELIVERY FOR BUYER          MOVABLE  \n",
       "...                    ...              ...  \n",
       "248728  DELIVERY FOR BUYER          MOVABLE  \n",
       "248729  DELIVERY FOR BUYER          MOVABLE  \n",
       "248730  DELIVERY FOR BUYER          MOVABLE  \n",
       "248731  DELIVERY FOR BUYER          MOVABLE  \n",
       "248732  DELIVERY FOR BUYER          MOVABLE  \n",
       "\n",
       "[248733 rows x 15 columns]"
      ]
     },
     "execution_count": 622,
     "metadata": {},
     "output_type": "execute_result"
    }
   ],
   "source": [
    "Model_data"
   ]
  },
  {
   "cell_type": "code",
   "execution_count": 623,
   "metadata": {},
   "outputs": [],
   "source": [
    "#Model_data.fillna(Model_data.select_dtypes(include='object').mode().iloc[0], inplace=True)"
   ]
  },
  {
   "cell_type": "code",
   "execution_count": 624,
   "metadata": {},
   "outputs": [],
   "source": [
    "S=Model_data[Model_data['VEHICLECONDITION']==2010.0]"
   ]
  },
  {
   "cell_type": "code",
   "execution_count": 625,
   "metadata": {},
   "outputs": [
    {
     "data": {
      "text/html": [
       "<div>\n",
       "<style scoped>\n",
       "    .dataframe tbody tr th:only-of-type {\n",
       "        vertical-align: middle;\n",
       "    }\n",
       "\n",
       "    .dataframe tbody tr th {\n",
       "        vertical-align: top;\n",
       "    }\n",
       "\n",
       "    .dataframe thead th {\n",
       "        text-align: right;\n",
       "    }\n",
       "</style>\n",
       "<table border=\"1\" class=\"dataframe\">\n",
       "  <thead>\n",
       "    <tr style=\"text-align: right;\">\n",
       "      <th></th>\n",
       "      <th>MMV</th>\n",
       "      <th>Fuel_Clean</th>\n",
       "      <th>BodyType</th>\n",
       "      <th>MAKE_YEAR</th>\n",
       "      <th>num_SOLD_AMOUNT</th>\n",
       "      <th>CV_State_Clean</th>\n",
       "      <th>SHROT COND_MAPPED</th>\n",
       "      <th>num_Weight</th>\n",
       "      <th>num_CV_Age</th>\n",
       "      <th>PERMIT_MAPPED</th>\n",
       "      <th>INV_H_CATEGORY_mapping</th>\n",
       "      <th>num_METER_READING_cleaned</th>\n",
       "      <th>INV_H_RC_STATUS_CLEANED_MAPPED</th>\n",
       "      <th>GP_PURPOSE_CLEANED</th>\n",
       "      <th>VEHICLECONDITION</th>\n",
       "    </tr>\n",
       "  </thead>\n",
       "  <tbody>\n",
       "  </tbody>\n",
       "</table>\n",
       "</div>"
      ],
      "text/plain": [
       "Empty DataFrame\n",
       "Columns: [MMV, Fuel_Clean, BodyType, MAKE_YEAR, num_SOLD_AMOUNT, CV_State_Clean, SHROT COND_MAPPED, num_Weight, num_CV_Age, PERMIT_MAPPED, INV_H_CATEGORY_mapping, num_METER_READING_cleaned, INV_H_RC_STATUS_CLEANED_MAPPED, GP_PURPOSE_CLEANED, VEHICLECONDITION]\n",
       "Index: []"
      ]
     },
     "execution_count": 625,
     "metadata": {},
     "output_type": "execute_result"
    }
   ],
   "source": [
    "S"
   ]
  },
  {
   "cell_type": "code",
   "execution_count": 626,
   "metadata": {},
   "outputs": [],
   "source": [
    "#Model_data.to_csv('Model_dataxx.csv')"
   ]
  },
  {
   "cell_type": "code",
   "execution_count": null,
   "metadata": {},
   "outputs": [],
   "source": []
  },
  {
   "cell_type": "code",
   "execution_count": 627,
   "metadata": {},
   "outputs": [],
   "source": [
    "Model_data_moment1=Model_data.groupby('MMV', as_index=False)['num_SOLD_AMOUNT']"
   ]
  },
  {
   "cell_type": "code",
   "execution_count": 628,
   "metadata": {},
   "outputs": [],
   "source": [
    "Model_data_moment1=Model_data.groupby('MMV', as_index=False)['num_SOLD_AMOUNT'].mean().rename(columns = {'num_SOLD_AMOUNT':'Moment_1'})\n",
    "#Model_data_moment1"
   ]
  },
  {
   "cell_type": "code",
   "execution_count": 629,
   "metadata": {},
   "outputs": [],
   "source": [
    "\n",
    "Model_data_m1=Model_data.merge(Model_data_moment1,on='MMV',how='left')\n",
    "#Model_data_m1.head()"
   ]
  },
  {
   "cell_type": "code",
   "execution_count": 630,
   "metadata": {},
   "outputs": [],
   "source": [
    "Model_data_moment2=Model_data_m1.groupby('MMV', as_index=False)['num_SOLD_AMOUNT'].var().rename(columns = {'num_SOLD_AMOUNT':'Moment_2'})\n",
    "#Model_data_moment2"
   ]
  },
  {
   "cell_type": "code",
   "execution_count": 631,
   "metadata": {},
   "outputs": [],
   "source": [
    "Model_data_m2=Model_data_m1.merge(Model_data_moment2,on='MMV',how='left')"
   ]
  },
  {
   "cell_type": "code",
   "execution_count": 632,
   "metadata": {},
   "outputs": [],
   "source": [
    "Model_data_moment3=Model_data_m2.groupby('MMV', as_index=False)['num_SOLD_AMOUNT'].skew(axis = 0, skipna = True).rename(columns = {'num_SOLD_AMOUNT':'Moment_3'})\n"
   ]
  },
  {
   "cell_type": "code",
   "execution_count": 633,
   "metadata": {},
   "outputs": [],
   "source": [
    "#Model_data_m2.head()"
   ]
  },
  {
   "cell_type": "code",
   "execution_count": 634,
   "metadata": {},
   "outputs": [],
   "source": [
    "Model_data_m3=Model_data_m2.merge(Model_data_moment3,on='MMV',how='left')"
   ]
  },
  {
   "cell_type": "code",
   "execution_count": 635,
   "metadata": {},
   "outputs": [],
   "source": [
    "#Model_data_m3"
   ]
  },
  {
   "cell_type": "code",
   "execution_count": 636,
   "metadata": {},
   "outputs": [],
   "source": [
    "Model_data_moment4=Model_data_m3.groupby('MMV', as_index=False)['num_SOLD_AMOUNT'].apply(pd.DataFrame.kurt).rename(columns = {'num_SOLD_AMOUNT':'Moment_4'})"
   ]
  },
  {
   "cell_type": "code",
   "execution_count": 637,
   "metadata": {},
   "outputs": [],
   "source": [
    "#Model_data_moment4"
   ]
  },
  {
   "cell_type": "code",
   "execution_count": 638,
   "metadata": {},
   "outputs": [],
   "source": [
    "Model_moment=Model_data_m3.merge(Model_data_moment4,on='MMV',how='left')"
   ]
  },
  {
   "cell_type": "code",
   "execution_count": 639,
   "metadata": {},
   "outputs": [
    {
     "data": {
      "text/html": [
       "<div>\n",
       "<style scoped>\n",
       "    .dataframe tbody tr th:only-of-type {\n",
       "        vertical-align: middle;\n",
       "    }\n",
       "\n",
       "    .dataframe tbody tr th {\n",
       "        vertical-align: top;\n",
       "    }\n",
       "\n",
       "    .dataframe thead th {\n",
       "        text-align: right;\n",
       "    }\n",
       "</style>\n",
       "<table border=\"1\" class=\"dataframe\">\n",
       "  <thead>\n",
       "    <tr style=\"text-align: right;\">\n",
       "      <th></th>\n",
       "      <th>MMV</th>\n",
       "      <th>Fuel_Clean</th>\n",
       "      <th>BodyType</th>\n",
       "      <th>MAKE_YEAR</th>\n",
       "      <th>num_SOLD_AMOUNT</th>\n",
       "      <th>CV_State_Clean</th>\n",
       "      <th>SHROT COND_MAPPED</th>\n",
       "      <th>num_Weight</th>\n",
       "      <th>num_CV_Age</th>\n",
       "      <th>PERMIT_MAPPED</th>\n",
       "      <th>INV_H_CATEGORY_mapping</th>\n",
       "      <th>num_METER_READING_cleaned</th>\n",
       "      <th>INV_H_RC_STATUS_CLEANED_MAPPED</th>\n",
       "      <th>GP_PURPOSE_CLEANED</th>\n",
       "      <th>VEHICLECONDITION</th>\n",
       "      <th>Moment_1</th>\n",
       "      <th>Moment_2</th>\n",
       "      <th>Moment_3</th>\n",
       "      <th>Moment_4</th>\n",
       "    </tr>\n",
       "  </thead>\n",
       "  <tbody>\n",
       "    <tr>\n",
       "      <th>0</th>\n",
       "      <td>TATAMAGIC4X2MINIBUS</td>\n",
       "      <td>DIESEL</td>\n",
       "      <td>MINI BUS</td>\n",
       "      <td>2008</td>\n",
       "      <td>87000</td>\n",
       "      <td>ANDHRAPRADESH</td>\n",
       "      <td>FAIR</td>\n",
       "      <td>NaN</td>\n",
       "      <td>7</td>\n",
       "      <td>NOT AVAILABLE</td>\n",
       "      <td>CV</td>\n",
       "      <td>NaN</td>\n",
       "      <td>ORIGINAL RC</td>\n",
       "      <td>DELIVERY FOR BUYER</td>\n",
       "      <td>MOVABLE</td>\n",
       "      <td>110539.986</td>\n",
       "      <td>2259516545.104</td>\n",
       "      <td>1.187</td>\n",
       "      <td>2.986</td>\n",
       "    </tr>\n",
       "    <tr>\n",
       "      <th>1</th>\n",
       "      <td>TATAACE4X2PICKUP</td>\n",
       "      <td>DIESEL</td>\n",
       "      <td>SCV</td>\n",
       "      <td>2008</td>\n",
       "      <td>125000</td>\n",
       "      <td>ANDHRAPRADESH</td>\n",
       "      <td>INVALID DETAILS</td>\n",
       "      <td>1300.000</td>\n",
       "      <td>7</td>\n",
       "      <td>NOT AVAILABLE</td>\n",
       "      <td>CV</td>\n",
       "      <td>NaN</td>\n",
       "      <td>ORIGINAL RC</td>\n",
       "      <td>DELIVERY FOR BUYER</td>\n",
       "      <td>IMMOVABLE</td>\n",
       "      <td>118394.526</td>\n",
       "      <td>2616654886.305</td>\n",
       "      <td>1.105</td>\n",
       "      <td>2.083</td>\n",
       "    </tr>\n",
       "    <tr>\n",
       "      <th>2</th>\n",
       "      <td>TATAACE4X2PICKUP</td>\n",
       "      <td>DIESEL</td>\n",
       "      <td>SCV</td>\n",
       "      <td>2009</td>\n",
       "      <td>76000</td>\n",
       "      <td>ANDHRAPRADESH</td>\n",
       "      <td>FAIR</td>\n",
       "      <td>1300.000</td>\n",
       "      <td>6</td>\n",
       "      <td>NOT AVAILABLE</td>\n",
       "      <td>CV</td>\n",
       "      <td>NaN</td>\n",
       "      <td>NOT AVAILABLE</td>\n",
       "      <td>DELIVERY FOR BUYER</td>\n",
       "      <td>MOVABLE</td>\n",
       "      <td>118394.526</td>\n",
       "      <td>2616654886.305</td>\n",
       "      <td>1.105</td>\n",
       "      <td>2.083</td>\n",
       "    </tr>\n",
       "    <tr>\n",
       "      <th>3</th>\n",
       "      <td>MAHINDRAMAXX4X2PICKUP</td>\n",
       "      <td>DIESEL</td>\n",
       "      <td>PICKUP</td>\n",
       "      <td>2008</td>\n",
       "      <td>115000</td>\n",
       "      <td>ANDHRAPRADESH</td>\n",
       "      <td>INVALID DETAILS</td>\n",
       "      <td>2930.000</td>\n",
       "      <td>7</td>\n",
       "      <td>NOT AVAILABLE</td>\n",
       "      <td>CV</td>\n",
       "      <td>NaN</td>\n",
       "      <td>NOT AVAILABLE</td>\n",
       "      <td>DELIVERY FOR BUYER</td>\n",
       "      <td>IMMOVABLE</td>\n",
       "      <td>134894.712</td>\n",
       "      <td>4026839104.200</td>\n",
       "      <td>1.215</td>\n",
       "      <td>2.632</td>\n",
       "    </tr>\n",
       "    <tr>\n",
       "      <th>4</th>\n",
       "      <td>TATAACEHT4X2PICKUP</td>\n",
       "      <td>DIESEL</td>\n",
       "      <td>SCV</td>\n",
       "      <td>2010</td>\n",
       "      <td>88000</td>\n",
       "      <td>ANDHRAPRADESH</td>\n",
       "      <td>FAIR</td>\n",
       "      <td>1300.000</td>\n",
       "      <td>5</td>\n",
       "      <td>NOT AVAILABLE</td>\n",
       "      <td>CV</td>\n",
       "      <td>NaN</td>\n",
       "      <td>ORIGINAL RC</td>\n",
       "      <td>DELIVERY FOR BUYER</td>\n",
       "      <td>MOVABLE</td>\n",
       "      <td>130406.377</td>\n",
       "      <td>3053817626.486</td>\n",
       "      <td>0.896</td>\n",
       "      <td>1.075</td>\n",
       "    </tr>\n",
       "    <tr>\n",
       "      <th>...</th>\n",
       "      <td>...</td>\n",
       "      <td>...</td>\n",
       "      <td>...</td>\n",
       "      <td>...</td>\n",
       "      <td>...</td>\n",
       "      <td>...</td>\n",
       "      <td>...</td>\n",
       "      <td>...</td>\n",
       "      <td>...</td>\n",
       "      <td>...</td>\n",
       "      <td>...</td>\n",
       "      <td>...</td>\n",
       "      <td>...</td>\n",
       "      <td>...</td>\n",
       "      <td>...</td>\n",
       "      <td>...</td>\n",
       "      <td>...</td>\n",
       "      <td>...</td>\n",
       "      <td>...</td>\n",
       "    </tr>\n",
       "    <tr>\n",
       "      <th>248728</th>\n",
       "      <td>other</td>\n",
       "      <td>DIESEL</td>\n",
       "      <td>PICKUP</td>\n",
       "      <td>2017</td>\n",
       "      <td>535000</td>\n",
       "      <td>ANDHRAPRADESH</td>\n",
       "      <td>FAIR</td>\n",
       "      <td>2930.000</td>\n",
       "      <td>4</td>\n",
       "      <td>NOT AVAILABLE</td>\n",
       "      <td>CV</td>\n",
       "      <td>NaN</td>\n",
       "      <td>Original RC</td>\n",
       "      <td>DELIVERY FOR BUYER</td>\n",
       "      <td>MOVABLE</td>\n",
       "      <td>262110.149</td>\n",
       "      <td>75457567637.165</td>\n",
       "      <td>3.113</td>\n",
       "      <td>12.685</td>\n",
       "    </tr>\n",
       "    <tr>\n",
       "      <th>248729</th>\n",
       "      <td>MAHINDRABOLERO4X2PICKUP</td>\n",
       "      <td>DIESEL</td>\n",
       "      <td>PICKUP</td>\n",
       "      <td>2016</td>\n",
       "      <td>510000</td>\n",
       "      <td>ANDHRAPRADESH</td>\n",
       "      <td>AVERAGE</td>\n",
       "      <td>2930.000</td>\n",
       "      <td>5</td>\n",
       "      <td>NOT AVAILABLE</td>\n",
       "      <td>CV</td>\n",
       "      <td>NaN</td>\n",
       "      <td>Original RC</td>\n",
       "      <td>DELIVERY FOR BUYER</td>\n",
       "      <td>MOVABLE</td>\n",
       "      <td>260297.985</td>\n",
       "      <td>17749291144.247</td>\n",
       "      <td>0.814</td>\n",
       "      <td>0.491</td>\n",
       "    </tr>\n",
       "    <tr>\n",
       "      <th>248730</th>\n",
       "      <td>TATAACEMEGA4X2PICKUP</td>\n",
       "      <td>DIESEL</td>\n",
       "      <td>SCV</td>\n",
       "      <td>2017</td>\n",
       "      <td>285000</td>\n",
       "      <td>ANDHRAPRADESH</td>\n",
       "      <td>AVERAGE</td>\n",
       "      <td>1300.000</td>\n",
       "      <td>4</td>\n",
       "      <td>NOT AVAILABLE</td>\n",
       "      <td>CV</td>\n",
       "      <td>NaN</td>\n",
       "      <td>Original RC</td>\n",
       "      <td>DELIVERY FOR BUYER</td>\n",
       "      <td>MOVABLE</td>\n",
       "      <td>210815.198</td>\n",
       "      <td>4476463090.061</td>\n",
       "      <td>-0.055</td>\n",
       "      <td>-0.371</td>\n",
       "    </tr>\n",
       "    <tr>\n",
       "      <th>248731</th>\n",
       "      <td>ASHOKLEYLANDDOSTLS4X2PICKUP</td>\n",
       "      <td>DIESEL</td>\n",
       "      <td>SCV</td>\n",
       "      <td>2013</td>\n",
       "      <td>250000</td>\n",
       "      <td>ANDHRAPRADESH</td>\n",
       "      <td>FAIR</td>\n",
       "      <td>1300.000</td>\n",
       "      <td>8</td>\n",
       "      <td>NOT APPLICABLE</td>\n",
       "      <td>CV</td>\n",
       "      <td>NaN</td>\n",
       "      <td>Original RC</td>\n",
       "      <td>DELIVERY FOR BUYER</td>\n",
       "      <td>MOVABLE</td>\n",
       "      <td>233222.152</td>\n",
       "      <td>9210805154.981</td>\n",
       "      <td>0.735</td>\n",
       "      <td>0.501</td>\n",
       "    </tr>\n",
       "    <tr>\n",
       "      <th>248732</th>\n",
       "      <td>other</td>\n",
       "      <td>DIESEL</td>\n",
       "      <td>BUS</td>\n",
       "      <td>2013</td>\n",
       "      <td>323000</td>\n",
       "      <td>ANDHRAPRADESH</td>\n",
       "      <td>AVERAGE</td>\n",
       "      <td>NaN</td>\n",
       "      <td>8</td>\n",
       "      <td>NOT AVAILABLE</td>\n",
       "      <td>CV</td>\n",
       "      <td>NaN</td>\n",
       "      <td>other</td>\n",
       "      <td>DELIVERY FOR BUYER</td>\n",
       "      <td>MOVABLE</td>\n",
       "      <td>262110.149</td>\n",
       "      <td>75457567637.165</td>\n",
       "      <td>3.113</td>\n",
       "      <td>12.685</td>\n",
       "    </tr>\n",
       "  </tbody>\n",
       "</table>\n",
       "<p>248733 rows × 19 columns</p>\n",
       "</div>"
      ],
      "text/plain": [
       "                                MMV Fuel_Clean  BodyType  MAKE_YEAR  \\\n",
       "0               TATAMAGIC4X2MINIBUS     DIESEL  MINI BUS       2008   \n",
       "1                  TATAACE4X2PICKUP     DIESEL       SCV       2008   \n",
       "2                  TATAACE4X2PICKUP     DIESEL       SCV       2009   \n",
       "3             MAHINDRAMAXX4X2PICKUP     DIESEL    PICKUP       2008   \n",
       "4                TATAACEHT4X2PICKUP     DIESEL       SCV       2010   \n",
       "...                             ...        ...       ...        ...   \n",
       "248728                        other     DIESEL    PICKUP       2017   \n",
       "248729      MAHINDRABOLERO4X2PICKUP     DIESEL    PICKUP       2016   \n",
       "248730         TATAACEMEGA4X2PICKUP     DIESEL       SCV       2017   \n",
       "248731  ASHOKLEYLANDDOSTLS4X2PICKUP     DIESEL       SCV       2013   \n",
       "248732                        other     DIESEL       BUS       2013   \n",
       "\n",
       "        num_SOLD_AMOUNT CV_State_Clean SHROT COND_MAPPED  num_Weight  \\\n",
       "0                 87000  ANDHRAPRADESH              FAIR         NaN   \n",
       "1                125000  ANDHRAPRADESH   INVALID DETAILS    1300.000   \n",
       "2                 76000  ANDHRAPRADESH              FAIR    1300.000   \n",
       "3                115000  ANDHRAPRADESH   INVALID DETAILS    2930.000   \n",
       "4                 88000  ANDHRAPRADESH              FAIR    1300.000   \n",
       "...                 ...            ...               ...         ...   \n",
       "248728           535000  ANDHRAPRADESH              FAIR    2930.000   \n",
       "248729           510000  ANDHRAPRADESH           AVERAGE    2930.000   \n",
       "248730           285000  ANDHRAPRADESH           AVERAGE    1300.000   \n",
       "248731           250000  ANDHRAPRADESH              FAIR    1300.000   \n",
       "248732           323000  ANDHRAPRADESH           AVERAGE         NaN   \n",
       "\n",
       "        num_CV_Age   PERMIT_MAPPED INV_H_CATEGORY_mapping  \\\n",
       "0                7   NOT AVAILABLE                     CV   \n",
       "1                7   NOT AVAILABLE                     CV   \n",
       "2                6   NOT AVAILABLE                     CV   \n",
       "3                7   NOT AVAILABLE                     CV   \n",
       "4                5   NOT AVAILABLE                     CV   \n",
       "...            ...             ...                    ...   \n",
       "248728           4   NOT AVAILABLE                     CV   \n",
       "248729           5   NOT AVAILABLE                     CV   \n",
       "248730           4   NOT AVAILABLE                     CV   \n",
       "248731           8  NOT APPLICABLE                     CV   \n",
       "248732           8   NOT AVAILABLE                     CV   \n",
       "\n",
       "        num_METER_READING_cleaned INV_H_RC_STATUS_CLEANED_MAPPED  \\\n",
       "0                             NaN                    ORIGINAL RC   \n",
       "1                             NaN                    ORIGINAL RC   \n",
       "2                             NaN                  NOT AVAILABLE   \n",
       "3                             NaN                  NOT AVAILABLE   \n",
       "4                             NaN                    ORIGINAL RC   \n",
       "...                           ...                            ...   \n",
       "248728                        NaN                    Original RC   \n",
       "248729                        NaN                    Original RC   \n",
       "248730                        NaN                    Original RC   \n",
       "248731                        NaN                    Original RC   \n",
       "248732                        NaN                          other   \n",
       "\n",
       "        GP_PURPOSE_CLEANED VEHICLECONDITION   Moment_1        Moment_2  \\\n",
       "0       DELIVERY FOR BUYER          MOVABLE 110539.986  2259516545.104   \n",
       "1       DELIVERY FOR BUYER        IMMOVABLE 118394.526  2616654886.305   \n",
       "2       DELIVERY FOR BUYER          MOVABLE 118394.526  2616654886.305   \n",
       "3       DELIVERY FOR BUYER        IMMOVABLE 134894.712  4026839104.200   \n",
       "4       DELIVERY FOR BUYER          MOVABLE 130406.377  3053817626.486   \n",
       "...                    ...              ...        ...             ...   \n",
       "248728  DELIVERY FOR BUYER          MOVABLE 262110.149 75457567637.165   \n",
       "248729  DELIVERY FOR BUYER          MOVABLE 260297.985 17749291144.247   \n",
       "248730  DELIVERY FOR BUYER          MOVABLE 210815.198  4476463090.061   \n",
       "248731  DELIVERY FOR BUYER          MOVABLE 233222.152  9210805154.981   \n",
       "248732  DELIVERY FOR BUYER          MOVABLE 262110.149 75457567637.165   \n",
       "\n",
       "        Moment_3  Moment_4  \n",
       "0          1.187     2.986  \n",
       "1          1.105     2.083  \n",
       "2          1.105     2.083  \n",
       "3          1.215     2.632  \n",
       "4          0.896     1.075  \n",
       "...          ...       ...  \n",
       "248728     3.113    12.685  \n",
       "248729     0.814     0.491  \n",
       "248730    -0.055    -0.371  \n",
       "248731     0.735     0.501  \n",
       "248732     3.113    12.685  \n",
       "\n",
       "[248733 rows x 19 columns]"
      ]
     },
     "execution_count": 639,
     "metadata": {},
     "output_type": "execute_result"
    }
   ],
   "source": [
    "Model_data=Model_moment.copy()\n",
    "Model_data"
   ]
  },
  {
   "cell_type": "code",
   "execution_count": 640,
   "metadata": {},
   "outputs": [],
   "source": [
    "Model_data['num_Weight']=Model_data['num_Weight'].fillna(Model_data['num_Weight'].mean())# \"Mean\"\n"
   ]
  },
  {
   "cell_type": "code",
   "execution_count": 641,
   "metadata": {},
   "outputs": [],
   "source": [
    "Model_data['num_METER_READING_cleaned']=Model_data['num_METER_READING_cleaned'].fillna(Model_data['num_METER_READING_cleaned'].mean())# \"Mean\""
   ]
  },
  {
   "cell_type": "code",
   "execution_count": 642,
   "metadata": {},
   "outputs": [],
   "source": [
    "Model_data['PERMIT_MAPPED']=Model_data['PERMIT_MAPPED'].fillna(Model_data['PERMIT_MAPPED'].mode()[0]) # \"Mode\"\n"
   ]
  },
  {
   "cell_type": "code",
   "execution_count": 643,
   "metadata": {},
   "outputs": [],
   "source": [
    "Model_data['GP_PURPOSE_CLEANED']=Model_data['GP_PURPOSE_CLEANED'].fillna(Model_data['GP_PURPOSE_CLEANED'].mode()[0]) # \"Mode\""
   ]
  },
  {
   "cell_type": "code",
   "execution_count": 644,
   "metadata": {},
   "outputs": [],
   "source": [
    "Model_data['VEHICLECONDITION']=Model_data['VEHICLECONDITION'].fillna(Model_data['VEHICLECONDITION'].mode()[0]) # \"Mode\""
   ]
  },
  {
   "cell_type": "code",
   "execution_count": 645,
   "metadata": {},
   "outputs": [
    {
     "data": {
      "text/plain": [
       "Index(['MMV', 'Fuel_Clean', 'BodyType', 'MAKE_YEAR', 'num_SOLD_AMOUNT',\n",
       "       'CV_State_Clean', 'SHROT COND_MAPPED', 'num_Weight', 'num_CV_Age',\n",
       "       'PERMIT_MAPPED', 'INV_H_CATEGORY_mapping', 'num_METER_READING_cleaned',\n",
       "       'INV_H_RC_STATUS_CLEANED_MAPPED', 'GP_PURPOSE_CLEANED',\n",
       "       'VEHICLECONDITION', 'Moment_1', 'Moment_2', 'Moment_3', 'Moment_4'],\n",
       "      dtype='object')"
      ]
     },
     "execution_count": 645,
     "metadata": {},
     "output_type": "execute_result"
    }
   ],
   "source": [
    "Model_data.columns"
   ]
  },
  {
   "cell_type": "code",
   "execution_count": 646,
   "metadata": {},
   "outputs": [
    {
     "data": {
      "text/plain": [
       "MMV                               0\n",
       "Fuel_Clean                        0\n",
       "BodyType                          0\n",
       "MAKE_YEAR                         0\n",
       "num_SOLD_AMOUNT                   0\n",
       "CV_State_Clean                    0\n",
       "SHROT COND_MAPPED                 0\n",
       "num_Weight                        0\n",
       "num_CV_Age                        0\n",
       "PERMIT_MAPPED                     0\n",
       "INV_H_CATEGORY_mapping            0\n",
       "num_METER_READING_cleaned         0\n",
       "INV_H_RC_STATUS_CLEANED_MAPPED    0\n",
       "GP_PURPOSE_CLEANED                0\n",
       "VEHICLECONDITION                  0\n",
       "Moment_1                          0\n",
       "Moment_2                          0\n",
       "Moment_3                          0\n",
       "Moment_4                          0\n",
       "dtype: int64"
      ]
     },
     "execution_count": 646,
     "metadata": {},
     "output_type": "execute_result"
    }
   ],
   "source": [
    "Model_data.isnull().sum()"
   ]
  },
  {
   "cell_type": "code",
   "execution_count": 647,
   "metadata": {},
   "outputs": [],
   "source": [
    "Model_data_=Model_data[['MMV', 'Fuel_Clean', 'BodyType', 'MAKE_YEAR', 'num_SOLD_AMOUNT',\n",
    "       'CV_State_Clean', 'SHROT COND_MAPPED', 'num_Weight', 'num_CV_Age',\n",
    "       'PERMIT_MAPPED', 'INV_H_CATEGORY_mapping', 'num_METER_READING_cleaned',\n",
    "       'INV_H_RC_STATUS_CLEANED_MAPPED', 'GP_PURPOSE_CLEANED',\n",
    "       'VEHICLECONDITION', 'Moment_1', 'Moment_2', 'Moment_3', 'Moment_4']]"
   ]
  },
  {
   "cell_type": "code",
   "execution_count": 648,
   "metadata": {},
   "outputs": [],
   "source": [
    "X=Model_data_.drop(['num_SOLD_AMOUNT'],axis=1)\n",
    "y=Model_data_[['num_SOLD_AMOUNT']]"
   ]
  },
  {
   "cell_type": "code",
   "execution_count": 649,
   "metadata": {},
   "outputs": [],
   "source": [
    "from sklearn.model_selection import train_test_split\n",
    "X_train,X_test,y_train,y_test=train_test_split(X,y,test_size=0.2,random_state=42)"
   ]
  },
  {
   "cell_type": "code",
   "execution_count": 650,
   "metadata": {},
   "outputs": [],
   "source": [
    "from sklearn.preprocessing import OneHotEncoder\n",
    "from sklearn.compose import make_column_transformer\n",
    "from sklearn.pipeline import make_pipeline\n",
    "from sklearn.metrics import r2_score"
   ]
  },
  {
   "cell_type": "code",
   "execution_count": 651,
   "metadata": {},
   "outputs": [
    {
     "data": {
      "text/html": [
       "<div>\n",
       "<style scoped>\n",
       "    .dataframe tbody tr th:only-of-type {\n",
       "        vertical-align: middle;\n",
       "    }\n",
       "\n",
       "    .dataframe tbody tr th {\n",
       "        vertical-align: top;\n",
       "    }\n",
       "\n",
       "    .dataframe thead th {\n",
       "        text-align: right;\n",
       "    }\n",
       "</style>\n",
       "<table border=\"1\" class=\"dataframe\">\n",
       "  <thead>\n",
       "    <tr style=\"text-align: right;\">\n",
       "      <th></th>\n",
       "      <th>MMV</th>\n",
       "      <th>Fuel_Clean</th>\n",
       "      <th>BodyType</th>\n",
       "      <th>MAKE_YEAR</th>\n",
       "      <th>num_SOLD_AMOUNT</th>\n",
       "      <th>CV_State_Clean</th>\n",
       "      <th>SHROT COND_MAPPED</th>\n",
       "      <th>num_Weight</th>\n",
       "      <th>num_CV_Age</th>\n",
       "      <th>PERMIT_MAPPED</th>\n",
       "      <th>INV_H_CATEGORY_mapping</th>\n",
       "      <th>num_METER_READING_cleaned</th>\n",
       "      <th>INV_H_RC_STATUS_CLEANED_MAPPED</th>\n",
       "      <th>GP_PURPOSE_CLEANED</th>\n",
       "      <th>VEHICLECONDITION</th>\n",
       "      <th>Moment_1</th>\n",
       "      <th>Moment_2</th>\n",
       "      <th>Moment_3</th>\n",
       "      <th>Moment_4</th>\n",
       "    </tr>\n",
       "  </thead>\n",
       "  <tbody>\n",
       "    <tr>\n",
       "      <th>0</th>\n",
       "      <td>TATAMAGIC4X2MINIBUS</td>\n",
       "      <td>DIESEL</td>\n",
       "      <td>MINI BUS</td>\n",
       "      <td>2008</td>\n",
       "      <td>87000</td>\n",
       "      <td>ANDHRAPRADESH</td>\n",
       "      <td>FAIR</td>\n",
       "      <td>6243.347</td>\n",
       "      <td>7</td>\n",
       "      <td>NOT AVAILABLE</td>\n",
       "      <td>CV</td>\n",
       "      <td>144776.150</td>\n",
       "      <td>ORIGINAL RC</td>\n",
       "      <td>DELIVERY FOR BUYER</td>\n",
       "      <td>MOVABLE</td>\n",
       "      <td>110539.986</td>\n",
       "      <td>2259516545.104</td>\n",
       "      <td>1.187</td>\n",
       "      <td>2.986</td>\n",
       "    </tr>\n",
       "    <tr>\n",
       "      <th>1</th>\n",
       "      <td>TATAACE4X2PICKUP</td>\n",
       "      <td>DIESEL</td>\n",
       "      <td>SCV</td>\n",
       "      <td>2008</td>\n",
       "      <td>125000</td>\n",
       "      <td>ANDHRAPRADESH</td>\n",
       "      <td>INVALID DETAILS</td>\n",
       "      <td>1300.000</td>\n",
       "      <td>7</td>\n",
       "      <td>NOT AVAILABLE</td>\n",
       "      <td>CV</td>\n",
       "      <td>144776.150</td>\n",
       "      <td>ORIGINAL RC</td>\n",
       "      <td>DELIVERY FOR BUYER</td>\n",
       "      <td>IMMOVABLE</td>\n",
       "      <td>118394.526</td>\n",
       "      <td>2616654886.305</td>\n",
       "      <td>1.105</td>\n",
       "      <td>2.083</td>\n",
       "    </tr>\n",
       "  </tbody>\n",
       "</table>\n",
       "</div>"
      ],
      "text/plain": [
       "                   MMV Fuel_Clean  BodyType  MAKE_YEAR  num_SOLD_AMOUNT  \\\n",
       "0  TATAMAGIC4X2MINIBUS     DIESEL  MINI BUS       2008            87000   \n",
       "1     TATAACE4X2PICKUP     DIESEL       SCV       2008           125000   \n",
       "\n",
       "  CV_State_Clean SHROT COND_MAPPED  num_Weight  num_CV_Age  PERMIT_MAPPED  \\\n",
       "0  ANDHRAPRADESH              FAIR    6243.347           7  NOT AVAILABLE   \n",
       "1  ANDHRAPRADESH   INVALID DETAILS    1300.000           7  NOT AVAILABLE   \n",
       "\n",
       "  INV_H_CATEGORY_mapping  num_METER_READING_cleaned  \\\n",
       "0                     CV                 144776.150   \n",
       "1                     CV                 144776.150   \n",
       "\n",
       "  INV_H_RC_STATUS_CLEANED_MAPPED  GP_PURPOSE_CLEANED VEHICLECONDITION  \\\n",
       "0                    ORIGINAL RC  DELIVERY FOR BUYER          MOVABLE   \n",
       "1                    ORIGINAL RC  DELIVERY FOR BUYER        IMMOVABLE   \n",
       "\n",
       "    Moment_1       Moment_2  Moment_3  Moment_4  \n",
       "0 110539.986 2259516545.104     1.187     2.986  \n",
       "1 118394.526 2616654886.305     1.105     2.083  "
      ]
     },
     "execution_count": 651,
     "metadata": {},
     "output_type": "execute_result"
    }
   ],
   "source": [
    "Model_data.head(2)"
   ]
  },
  {
   "cell_type": "code",
   "execution_count": 652,
   "metadata": {},
   "outputs": [
    {
     "data": {
      "text/plain": [
       "DELIVERY FOR BUYER               246051\n",
       "0                                  2663\n",
       "DELIVERY DUE TO UNSOLD STATUS        19\n",
       "Name: GP_PURPOSE_CLEANED, dtype: int64"
      ]
     },
     "execution_count": 652,
     "metadata": {},
     "output_type": "execute_result"
    }
   ],
   "source": [
    "Model_data['GP_PURPOSE_CLEANED'].value_counts()"
   ]
  },
  {
   "cell_type": "code",
   "execution_count": 653,
   "metadata": {},
   "outputs": [
    {
     "data": {
      "text/plain": [
       "MOVABLE         154915\n",
       "IMMOVABLE        91143\n",
       "PHOTOAUCTION      2675\n",
       "Name: VEHICLECONDITION, dtype: int64"
      ]
     },
     "execution_count": 653,
     "metadata": {},
     "output_type": "execute_result"
    }
   ],
   "source": [
    "Model_data['VEHICLECONDITION'].value_counts()"
   ]
  },
  {
   "cell_type": "code",
   "execution_count": 654,
   "metadata": {},
   "outputs": [
    {
     "name": "stdout",
     "output_type": "stream",
     "text": [
      "<class 'pandas.core.frame.DataFrame'>\n",
      "Int64Index: 248733 entries, 0 to 248732\n",
      "Data columns (total 19 columns):\n",
      " #   Column                          Non-Null Count   Dtype  \n",
      "---  ------                          --------------   -----  \n",
      " 0   MMV                             248733 non-null  object \n",
      " 1   Fuel_Clean                      248733 non-null  object \n",
      " 2   BodyType                        248733 non-null  object \n",
      " 3   MAKE_YEAR                       248733 non-null  int64  \n",
      " 4   num_SOLD_AMOUNT                 248733 non-null  int64  \n",
      " 5   CV_State_Clean                  248733 non-null  object \n",
      " 6   SHROT COND_MAPPED               248733 non-null  object \n",
      " 7   num_Weight                      248733 non-null  float64\n",
      " 8   num_CV_Age                      248733 non-null  int64  \n",
      " 9   PERMIT_MAPPED                   248733 non-null  object \n",
      " 10  INV_H_CATEGORY_mapping          248733 non-null  object \n",
      " 11  num_METER_READING_cleaned       248733 non-null  float64\n",
      " 12  INV_H_RC_STATUS_CLEANED_MAPPED  248733 non-null  object \n",
      " 13  GP_PURPOSE_CLEANED              248733 non-null  object \n",
      " 14  VEHICLECONDITION                248733 non-null  object \n",
      " 15  Moment_1                        248733 non-null  float64\n",
      " 16  Moment_2                        248733 non-null  float64\n",
      " 17  Moment_3                        248733 non-null  float64\n",
      " 18  Moment_4                        248733 non-null  float64\n",
      "dtypes: float64(6), int64(3), object(10)\n",
      "memory usage: 38.0+ MB\n"
     ]
    }
   ],
   "source": [
    "Model_data.info()"
   ]
  },
  {
   "cell_type": "code",
   "execution_count": 655,
   "metadata": {},
   "outputs": [
    {
     "data": {
      "text/plain": [
       "OneHotEncoder(categories='auto', drop=None, dtype=<class 'numpy.float64'>,\n",
       "              handle_unknown='error', sparse=True)"
      ]
     },
     "execution_count": 655,
     "metadata": {},
     "output_type": "execute_result"
    }
   ],
   "source": [
    "ohe=OneHotEncoder()\n",
    "ohe.fit(X[['MMV', 'Fuel_Clean', 'BodyType',\n",
    "       'CV_State_Clean', 'SHROT COND_MAPPED',\n",
    "       'PERMIT_MAPPED', 'INV_H_CATEGORY_mapping',\n",
    "       'INV_H_RC_STATUS_CLEANED_MAPPED', 'GP_PURPOSE_CLEANED',\n",
    "       'VEHICLECONDITION']])"
   ]
  },
  {
   "cell_type": "code",
   "execution_count": 656,
   "metadata": {},
   "outputs": [],
   "source": [
    "column_trans=make_column_transformer((OneHotEncoder(categories=ohe.categories_),['MMV', 'Fuel_Clean', 'BodyType',\n",
    "       'CV_State_Clean', 'SHROT COND_MAPPED',\n",
    "       'PERMIT_MAPPED', 'INV_H_CATEGORY_mapping',\n",
    "       'INV_H_RC_STATUS_CLEANED_MAPPED', 'GP_PURPOSE_CLEANED',\n",
    "       'VEHICLECONDITION']),remainder='passthrough')"
   ]
  },
  {
   "cell_type": "code",
   "execution_count": 657,
   "metadata": {},
   "outputs": [
    {
     "data": {
      "text/plain": [
       "ColumnTransformer(n_jobs=None, remainder='passthrough', sparse_threshold=0.3,\n",
       "                  transformer_weights=None,\n",
       "                  transformers=[('onehotencoder',\n",
       "                                 OneHotEncoder(categories=[array(['ASHOKLEYLAND1611COMET4X2CARGOTRUCK',\n",
       "       'ASHOKLEYLAND2214/1S6X2CARGOTRUCK',\n",
       "       'ASHOKLEYLAND22146X2CARGOTRUCK', 'ASHOKLEYLAND25166X2CARGOTRUCK',\n",
       "       'ASHOKLEYLAND31168X2CARGOTRUCK', 'ASHOKLEYLANDDOST4...\n",
       "                                                           array(['0', 'DELIVERY DUE TO UNSOLD STATUS', 'DELIVERY FOR BUYER'],\n",
       "      dtype=object),\n",
       "                                                           array(['IMMOVABLE', 'MOVABLE', 'PHOTOAUCTION'], dtype=object)],\n",
       "                                               drop=None,\n",
       "                                               dtype=<class 'numpy.float64'>,\n",
       "                                               handle_unknown='error',\n",
       "                                               sparse=True),\n",
       "                                 ['MMV', 'Fuel_Clean', 'BodyType',\n",
       "                                  'CV_State_Clean', 'SHROT COND_MAPPED',\n",
       "                                  'PERMIT_MAPPED', 'INV_H_CATEGORY_mapping',\n",
       "                                  'INV_H_RC_STATUS_CLEANED_MAPPED',\n",
       "                                  'GP_PURPOSE_CLEANED', 'VEHICLECONDITION'])],\n",
       "                  verbose=False)"
      ]
     },
     "execution_count": 657,
     "metadata": {},
     "output_type": "execute_result"
    }
   ],
   "source": [
    "column_trans"
   ]
  },
  {
   "cell_type": "code",
   "execution_count": 658,
   "metadata": {},
   "outputs": [
    {
     "name": "stdout",
     "output_type": "stream",
     "text": [
      "Requirement already satisfied: xgboost in /opt/conda/lib/python3.7/site-packages (1.6.2)\n",
      "Requirement already satisfied: scipy in /opt/conda/lib/python3.7/site-packages (from xgboost) (1.4.1)\n",
      "Requirement already satisfied: numpy in /opt/conda/lib/python3.7/site-packages (from xgboost) (1.21.6)\n",
      "\u001b[33mWARNING: Running pip as the 'root' user can result in broken permissions and conflicting behaviour with the system package manager. It is recommended to use a virtual environment instead: https://pip.pypa.io/warnings/venv\u001b[0m\u001b[33m\n",
      "\u001b[0m\n",
      "\u001b[1m[\u001b[0m\u001b[34;49mnotice\u001b[0m\u001b[1;39;49m]\u001b[0m\u001b[39;49m A new release of pip is available: \u001b[0m\u001b[31;49m23.0\u001b[0m\u001b[39;49m -> \u001b[0m\u001b[32;49m23.0.1\u001b[0m\n",
      "\u001b[1m[\u001b[0m\u001b[34;49mnotice\u001b[0m\u001b[1;39;49m]\u001b[0m\u001b[39;49m To update, run: \u001b[0m\u001b[32;49mpip install --upgrade pip\u001b[0m\n"
     ]
    }
   ],
   "source": [
    "#!pip install xgboost"
   ]
  },
  {
   "cell_type": "code",
   "execution_count": 659,
   "metadata": {},
   "outputs": [],
   "source": [
    "from sklearn import model_selection\n",
    "from xgboost import XGBRegressor"
   ]
  },
  {
   "cell_type": "code",
   "execution_count": 660,
   "metadata": {},
   "outputs": [],
   "source": [
    "regressor=XGBRegressor(max_depth=10,learning_rate=0.01,\n",
    "                   n_estimators=2000,\n",
    "                   objective='reg:squarederror',\n",
    "                   booster='gbtree')"
   ]
  },
  {
   "cell_type": "code",
   "execution_count": 661,
   "metadata": {},
   "outputs": [],
   "source": [
    "#regressor = XGBRegressor(base_score=0.25, booster='gbtree', colsample_bylevel=1,\n",
    "#       colsample_bytree=0.1, gamma=0, learning_rate=0.001, max_delta_step=0.7,\n",
    "#       max_depth=10, min_child_num_Weight=2, missing=1, n_estimators=850,\n",
    "#       n_jobs=1, nthread=None, objective='reg:squarederror', random_state=707,\n",
    "#       reg_alpha=10, reg_lambda=300, scale_pos_num_Weight=0.1, seed=42,\n",
    "#       silent=True, subsample=0.1)"
   ]
  },
  {
   "cell_type": "code",
   "execution_count": 662,
   "metadata": {},
   "outputs": [],
   "source": [
    "pipe=make_pipeline(column_trans,regressor)"
   ]
  },
  {
   "cell_type": "code",
   "execution_count": 663,
   "metadata": {},
   "outputs": [
    {
     "data": {
      "text/plain": [
       "Pipeline(memory=None,\n",
       "         steps=[('columntransformer',\n",
       "                 ColumnTransformer(n_jobs=None, remainder='passthrough',\n",
       "                                   sparse_threshold=0.3,\n",
       "                                   transformer_weights=None,\n",
       "                                   transformers=[('onehotencoder',\n",
       "                                                  OneHotEncoder(categories=[array(['ASHOKLEYLAND1611COMET4X2CARGOTRUCK',\n",
       "       'ASHOKLEYLAND2214/1S6X2CARGOTRUCK',\n",
       "       'ASHOKLEYLAND22146X2CARGOTRUCK', 'ASHOKLEYLAND25166X2CARGOTRUCK',\n",
       "       '...\n",
       "                              gamma=0, gpu_id=-1, grow_policy='depthwise',\n",
       "                              importance_type=None, interaction_constraints='',\n",
       "                              learning_rate=0.01, max_bin=256,\n",
       "                              max_cat_to_onehot=4, max_delta_step=0,\n",
       "                              max_depth=10, max_leaves=0, min_child_weight=1,\n",
       "                              missing=nan, monotone_constraints='()',\n",
       "                              n_estimators=2000, n_jobs=0, num_parallel_tree=1,\n",
       "                              objective='reg:squarederror', predictor='auto',\n",
       "                              random_state=0, reg_alpha=0, ...))],\n",
       "         verbose=False)"
      ]
     },
     "execution_count": 663,
     "metadata": {},
     "output_type": "execute_result"
    }
   ],
   "source": [
    "pipe.fit(X_train,y_train)"
   ]
  },
  {
   "cell_type": "code",
   "execution_count": 664,
   "metadata": {},
   "outputs": [
    {
     "data": {
      "text/plain": [
       "array([136439.69, 194199.16, 147862.36, ..., 144476.55, 260886.72,\n",
       "       101113.49], dtype=float32)"
      ]
     },
     "execution_count": 664,
     "metadata": {},
     "output_type": "execute_result"
    }
   ],
   "source": [
    "y_pred=pipe.predict(X_test)\n",
    "y_pred"
   ]
  },
  {
   "cell_type": "code",
   "execution_count": 665,
   "metadata": {},
   "outputs": [
    {
     "data": {
      "text/plain": [
       "array([260781.23, 223179.56, 152728.38, ...,  79743.44, 213459.16,\n",
       "       204535.39], dtype=float32)"
      ]
     },
     "execution_count": 665,
     "metadata": {},
     "output_type": "execute_result"
    }
   ],
   "source": [
    "y_train_pred=pipe.predict(X_train)\n",
    "y_train_pred"
   ]
  },
  {
   "cell_type": "code",
   "execution_count": 666,
   "metadata": {},
   "outputs": [
    {
     "data": {
      "text/plain": [
       "0.8827288989542158"
      ]
     },
     "execution_count": 666,
     "metadata": {},
     "output_type": "execute_result"
    }
   ],
   "source": [
    "r2_score(y_train,y_train_pred)"
   ]
  },
  {
   "cell_type": "code",
   "execution_count": 667,
   "metadata": {},
   "outputs": [
    {
     "data": {
      "text/plain": [
       "0.8114273513398685"
      ]
     },
     "execution_count": 667,
     "metadata": {},
     "output_type": "execute_result"
    }
   ],
   "source": [
    "r2_score(y_test,y_pred)"
   ]
  },
  {
   "cell_type": "code",
   "execution_count": 668,
   "metadata": {},
   "outputs": [],
   "source": [
    "import pickle"
   ]
  },
  {
   "cell_type": "code",
   "execution_count": 669,
   "metadata": {},
   "outputs": [],
   "source": [
    "pickle.dump(pipe,open('FInal_regressor_CV_CS_NEW_00.pkl','wb'))"
   ]
  },
  {
   "cell_type": "code",
   "execution_count": 670,
   "metadata": {},
   "outputs": [
    {
     "data": {
      "text/html": [
       "<div>\n",
       "<style scoped>\n",
       "    .dataframe tbody tr th:only-of-type {\n",
       "        vertical-align: middle;\n",
       "    }\n",
       "\n",
       "    .dataframe tbody tr th {\n",
       "        vertical-align: top;\n",
       "    }\n",
       "\n",
       "    .dataframe thead th {\n",
       "        text-align: right;\n",
       "    }\n",
       "</style>\n",
       "<table border=\"1\" class=\"dataframe\">\n",
       "  <thead>\n",
       "    <tr style=\"text-align: right;\">\n",
       "      <th></th>\n",
       "      <th>MMV</th>\n",
       "      <th>Fuel_Clean</th>\n",
       "      <th>BodyType</th>\n",
       "      <th>MAKE_YEAR</th>\n",
       "      <th>num_SOLD_AMOUNT</th>\n",
       "      <th>CV_State_Clean</th>\n",
       "      <th>SHROT COND_MAPPED</th>\n",
       "      <th>num_Weight</th>\n",
       "      <th>num_CV_Age</th>\n",
       "      <th>PERMIT_MAPPED</th>\n",
       "      <th>INV_H_CATEGORY_mapping</th>\n",
       "      <th>num_METER_READING_cleaned</th>\n",
       "      <th>INV_H_RC_STATUS_CLEANED_MAPPED</th>\n",
       "      <th>GP_PURPOSE_CLEANED</th>\n",
       "      <th>VEHICLECONDITION</th>\n",
       "      <th>Moment_1</th>\n",
       "      <th>Moment_2</th>\n",
       "      <th>Moment_3</th>\n",
       "      <th>Moment_4</th>\n",
       "    </tr>\n",
       "  </thead>\n",
       "  <tbody>\n",
       "    <tr>\n",
       "      <th>0</th>\n",
       "      <td>TATAMAGIC4X2MINIBUS</td>\n",
       "      <td>DIESEL</td>\n",
       "      <td>MINI BUS</td>\n",
       "      <td>2008</td>\n",
       "      <td>87000</td>\n",
       "      <td>ANDHRAPRADESH</td>\n",
       "      <td>FAIR</td>\n",
       "      <td>6243.347</td>\n",
       "      <td>7</td>\n",
       "      <td>NOT AVAILABLE</td>\n",
       "      <td>CV</td>\n",
       "      <td>144776.150</td>\n",
       "      <td>ORIGINAL RC</td>\n",
       "      <td>DELIVERY FOR BUYER</td>\n",
       "      <td>MOVABLE</td>\n",
       "      <td>110539.986</td>\n",
       "      <td>2259516545.104</td>\n",
       "      <td>1.187</td>\n",
       "      <td>2.986</td>\n",
       "    </tr>\n",
       "    <tr>\n",
       "      <th>1</th>\n",
       "      <td>TATAACE4X2PICKUP</td>\n",
       "      <td>DIESEL</td>\n",
       "      <td>SCV</td>\n",
       "      <td>2008</td>\n",
       "      <td>125000</td>\n",
       "      <td>ANDHRAPRADESH</td>\n",
       "      <td>INVALID DETAILS</td>\n",
       "      <td>1300.000</td>\n",
       "      <td>7</td>\n",
       "      <td>NOT AVAILABLE</td>\n",
       "      <td>CV</td>\n",
       "      <td>144776.150</td>\n",
       "      <td>ORIGINAL RC</td>\n",
       "      <td>DELIVERY FOR BUYER</td>\n",
       "      <td>IMMOVABLE</td>\n",
       "      <td>118394.526</td>\n",
       "      <td>2616654886.305</td>\n",
       "      <td>1.105</td>\n",
       "      <td>2.083</td>\n",
       "    </tr>\n",
       "    <tr>\n",
       "      <th>2</th>\n",
       "      <td>TATAACE4X2PICKUP</td>\n",
       "      <td>DIESEL</td>\n",
       "      <td>SCV</td>\n",
       "      <td>2009</td>\n",
       "      <td>76000</td>\n",
       "      <td>ANDHRAPRADESH</td>\n",
       "      <td>FAIR</td>\n",
       "      <td>1300.000</td>\n",
       "      <td>6</td>\n",
       "      <td>NOT AVAILABLE</td>\n",
       "      <td>CV</td>\n",
       "      <td>144776.150</td>\n",
       "      <td>NOT AVAILABLE</td>\n",
       "      <td>DELIVERY FOR BUYER</td>\n",
       "      <td>MOVABLE</td>\n",
       "      <td>118394.526</td>\n",
       "      <td>2616654886.305</td>\n",
       "      <td>1.105</td>\n",
       "      <td>2.083</td>\n",
       "    </tr>\n",
       "    <tr>\n",
       "      <th>3</th>\n",
       "      <td>MAHINDRAMAXX4X2PICKUP</td>\n",
       "      <td>DIESEL</td>\n",
       "      <td>PICKUP</td>\n",
       "      <td>2008</td>\n",
       "      <td>115000</td>\n",
       "      <td>ANDHRAPRADESH</td>\n",
       "      <td>INVALID DETAILS</td>\n",
       "      <td>2930.000</td>\n",
       "      <td>7</td>\n",
       "      <td>NOT AVAILABLE</td>\n",
       "      <td>CV</td>\n",
       "      <td>144776.150</td>\n",
       "      <td>NOT AVAILABLE</td>\n",
       "      <td>DELIVERY FOR BUYER</td>\n",
       "      <td>IMMOVABLE</td>\n",
       "      <td>134894.712</td>\n",
       "      <td>4026839104.200</td>\n",
       "      <td>1.215</td>\n",
       "      <td>2.632</td>\n",
       "    </tr>\n",
       "    <tr>\n",
       "      <th>4</th>\n",
       "      <td>TATAACEHT4X2PICKUP</td>\n",
       "      <td>DIESEL</td>\n",
       "      <td>SCV</td>\n",
       "      <td>2010</td>\n",
       "      <td>88000</td>\n",
       "      <td>ANDHRAPRADESH</td>\n",
       "      <td>FAIR</td>\n",
       "      <td>1300.000</td>\n",
       "      <td>5</td>\n",
       "      <td>NOT AVAILABLE</td>\n",
       "      <td>CV</td>\n",
       "      <td>144776.150</td>\n",
       "      <td>ORIGINAL RC</td>\n",
       "      <td>DELIVERY FOR BUYER</td>\n",
       "      <td>MOVABLE</td>\n",
       "      <td>130406.377</td>\n",
       "      <td>3053817626.486</td>\n",
       "      <td>0.896</td>\n",
       "      <td>1.075</td>\n",
       "    </tr>\n",
       "  </tbody>\n",
       "</table>\n",
       "</div>"
      ],
      "text/plain": [
       "                     MMV Fuel_Clean  BodyType  MAKE_YEAR  num_SOLD_AMOUNT  \\\n",
       "0    TATAMAGIC4X2MINIBUS     DIESEL  MINI BUS       2008            87000   \n",
       "1       TATAACE4X2PICKUP     DIESEL       SCV       2008           125000   \n",
       "2       TATAACE4X2PICKUP     DIESEL       SCV       2009            76000   \n",
       "3  MAHINDRAMAXX4X2PICKUP     DIESEL    PICKUP       2008           115000   \n",
       "4     TATAACEHT4X2PICKUP     DIESEL       SCV       2010            88000   \n",
       "\n",
       "  CV_State_Clean SHROT COND_MAPPED  num_Weight  num_CV_Age  PERMIT_MAPPED  \\\n",
       "0  ANDHRAPRADESH              FAIR    6243.347           7  NOT AVAILABLE   \n",
       "1  ANDHRAPRADESH   INVALID DETAILS    1300.000           7  NOT AVAILABLE   \n",
       "2  ANDHRAPRADESH              FAIR    1300.000           6  NOT AVAILABLE   \n",
       "3  ANDHRAPRADESH   INVALID DETAILS    2930.000           7  NOT AVAILABLE   \n",
       "4  ANDHRAPRADESH              FAIR    1300.000           5  NOT AVAILABLE   \n",
       "\n",
       "  INV_H_CATEGORY_mapping  num_METER_READING_cleaned  \\\n",
       "0                     CV                 144776.150   \n",
       "1                     CV                 144776.150   \n",
       "2                     CV                 144776.150   \n",
       "3                     CV                 144776.150   \n",
       "4                     CV                 144776.150   \n",
       "\n",
       "  INV_H_RC_STATUS_CLEANED_MAPPED  GP_PURPOSE_CLEANED VEHICLECONDITION  \\\n",
       "0                    ORIGINAL RC  DELIVERY FOR BUYER          MOVABLE   \n",
       "1                    ORIGINAL RC  DELIVERY FOR BUYER        IMMOVABLE   \n",
       "2                  NOT AVAILABLE  DELIVERY FOR BUYER          MOVABLE   \n",
       "3                  NOT AVAILABLE  DELIVERY FOR BUYER        IMMOVABLE   \n",
       "4                    ORIGINAL RC  DELIVERY FOR BUYER          MOVABLE   \n",
       "\n",
       "    Moment_1       Moment_2  Moment_3  Moment_4  \n",
       "0 110539.986 2259516545.104     1.187     2.986  \n",
       "1 118394.526 2616654886.305     1.105     2.083  \n",
       "2 118394.526 2616654886.305     1.105     2.083  \n",
       "3 134894.712 4026839104.200     1.215     2.632  \n",
       "4 130406.377 3053817626.486     0.896     1.075  "
      ]
     },
     "execution_count": 670,
     "metadata": {},
     "output_type": "execute_result"
    }
   ],
   "source": [
    "Model_data.head(5)"
   ]
  },
  {
   "cell_type": "code",
   "execution_count": 671,
   "metadata": {},
   "outputs": [
    {
     "data": {
      "text/plain": [
       "array([79405.74], dtype=float32)"
      ]
     },
     "execution_count": 671,
     "metadata": {},
     "output_type": "execute_result"
    }
   ],
   "source": [
    "pipe.predict(pd.DataFrame(columns=['MMV', 'Fuel_Clean', 'BodyType', 'MAKE_YEAR',\n",
    "       'CV_State_Clean', 'SHROT COND_MAPPED', 'num_Weight', 'num_CV_Age',\n",
    "       'PERMIT_MAPPED', 'INV_H_CATEGORY_mapping', 'num_METER_READING_cleaned',\n",
    "       'INV_H_RC_STATUS_CLEANED_MAPPED', 'GP_PURPOSE_CLEANED',\n",
    "       'VEHICLECONDITION', 'Moment_1', 'Moment_2', 'Moment_3', 'Moment_4'],data=np.array(['TATAMAGIC4X2MINIBUS','DIESEL','MINI BUS',2008,'ANDHRAPRADESH','FAIR',6243.347,7,'NOT AVAILABLE','CV',144776.150,'ORIGINAL RC','DELIVERY FOR BUYER','MOVABLE',110539.986,2259516545.104,1.187,2.986]).reshape(1,18)))"
   ]
  },
  {
   "cell_type": "code",
   "execution_count": 672,
   "metadata": {},
   "outputs": [],
   "source": [
    "X_train_copy=X_train.copy()"
   ]
  },
  {
   "cell_type": "code",
   "execution_count": 673,
   "metadata": {},
   "outputs": [],
   "source": [
    "X_train_copy['Predicted']=y_train_pred"
   ]
  },
  {
   "cell_type": "code",
   "execution_count": 674,
   "metadata": {},
   "outputs": [],
   "source": [
    "X_train_copy['Actual']=y_train"
   ]
  },
  {
   "cell_type": "code",
   "execution_count": 675,
   "metadata": {},
   "outputs": [
    {
     "data": {
      "text/plain": [
       "222119   260781.234\n",
       "163445   223179.562\n",
       "19897    152728.375\n",
       "154656   206325.703\n",
       "65932    126654.430\n",
       "            ...    \n",
       "119879   640693.500\n",
       "103694    88750.195\n",
       "131932    79743.438\n",
       "146867   213459.156\n",
       "121958   204535.391\n",
       "Name: Predicted, Length: 198986, dtype: float32"
      ]
     },
     "execution_count": 675,
     "metadata": {},
     "output_type": "execute_result"
    }
   ],
   "source": [
    "X_train_copy['Predicted']"
   ]
  },
  {
   "cell_type": "code",
   "execution_count": 676,
   "metadata": {},
   "outputs": [
    {
     "data": {
      "text/html": [
       "<div>\n",
       "<style scoped>\n",
       "    .dataframe tbody tr th:only-of-type {\n",
       "        vertical-align: middle;\n",
       "    }\n",
       "\n",
       "    .dataframe tbody tr th {\n",
       "        vertical-align: top;\n",
       "    }\n",
       "\n",
       "    .dataframe thead th {\n",
       "        text-align: right;\n",
       "    }\n",
       "</style>\n",
       "<table border=\"1\" class=\"dataframe\">\n",
       "  <thead>\n",
       "    <tr style=\"text-align: right;\">\n",
       "      <th></th>\n",
       "      <th>MMV</th>\n",
       "      <th>Fuel_Clean</th>\n",
       "      <th>BodyType</th>\n",
       "      <th>MAKE_YEAR</th>\n",
       "      <th>CV_State_Clean</th>\n",
       "      <th>SHROT COND_MAPPED</th>\n",
       "      <th>num_Weight</th>\n",
       "      <th>num_CV_Age</th>\n",
       "      <th>PERMIT_MAPPED</th>\n",
       "      <th>INV_H_CATEGORY_mapping</th>\n",
       "      <th>num_METER_READING_cleaned</th>\n",
       "      <th>INV_H_RC_STATUS_CLEANED_MAPPED</th>\n",
       "      <th>GP_PURPOSE_CLEANED</th>\n",
       "      <th>VEHICLECONDITION</th>\n",
       "      <th>Moment_1</th>\n",
       "      <th>Moment_2</th>\n",
       "      <th>Moment_3</th>\n",
       "      <th>Moment_4</th>\n",
       "      <th>Predicted</th>\n",
       "      <th>Actual</th>\n",
       "    </tr>\n",
       "  </thead>\n",
       "  <tbody>\n",
       "    <tr>\n",
       "      <th>222119</th>\n",
       "      <td>ASHOKLEYLANDDOST4X2PICKUP</td>\n",
       "      <td>DIESEL</td>\n",
       "      <td>SCV</td>\n",
       "      <td>2015</td>\n",
       "      <td>ANDHRAPRADESH</td>\n",
       "      <td>POOR</td>\n",
       "      <td>1300.000</td>\n",
       "      <td>4</td>\n",
       "      <td>NOT AVAILABLE</td>\n",
       "      <td>CV</td>\n",
       "      <td>191824.000</td>\n",
       "      <td>ORIGINAL RC</td>\n",
       "      <td>DELIVERY FOR BUYER</td>\n",
       "      <td>MOVABLE</td>\n",
       "      <td>215710.629</td>\n",
       "      <td>9290270772.099</td>\n",
       "      <td>0.983</td>\n",
       "      <td>1.374</td>\n",
       "      <td>260781.234</td>\n",
       "      <td>270000</td>\n",
       "    </tr>\n",
       "    <tr>\n",
       "      <th>163445</th>\n",
       "      <td>EICHER10.954X2CARGOTRUCK</td>\n",
       "      <td>DIESEL</td>\n",
       "      <td>INTERMEDIATE COMMERCIAL VEHICLE</td>\n",
       "      <td>2008</td>\n",
       "      <td>KARNATAKA</td>\n",
       "      <td>INVALID DETAILS</td>\n",
       "      <td>11990.000</td>\n",
       "      <td>9</td>\n",
       "      <td>NOT AVAILABLE</td>\n",
       "      <td>CV</td>\n",
       "      <td>144776.150</td>\n",
       "      <td>NOT AVAILABLE</td>\n",
       "      <td>DELIVERY FOR BUYER</td>\n",
       "      <td>IMMOVABLE</td>\n",
       "      <td>257590.002</td>\n",
       "      <td>26380930763.369</td>\n",
       "      <td>1.090</td>\n",
       "      <td>0.973</td>\n",
       "      <td>223179.562</td>\n",
       "      <td>260000</td>\n",
       "    </tr>\n",
       "    <tr>\n",
       "      <th>19897</th>\n",
       "      <td>TATAACEEX4X2PICKUP</td>\n",
       "      <td>DIESEL</td>\n",
       "      <td>SCV</td>\n",
       "      <td>2012</td>\n",
       "      <td>ANDHRAPRADESH</td>\n",
       "      <td>INVALID DETAILS</td>\n",
       "      <td>1300.000</td>\n",
       "      <td>3</td>\n",
       "      <td>NOT APPLICABLE</td>\n",
       "      <td>CV</td>\n",
       "      <td>144776.150</td>\n",
       "      <td>DRC</td>\n",
       "      <td>DELIVERY FOR BUYER</td>\n",
       "      <td>IMMOVABLE</td>\n",
       "      <td>112627.727</td>\n",
       "      <td>1882079391.095</td>\n",
       "      <td>0.939</td>\n",
       "      <td>1.475</td>\n",
       "      <td>152728.375</td>\n",
       "      <td>85000</td>\n",
       "    </tr>\n",
       "    <tr>\n",
       "      <th>154656</th>\n",
       "      <td>TATA207DI4X2PICKUP</td>\n",
       "      <td>DIESEL</td>\n",
       "      <td>CAB AND CREW PICK UP</td>\n",
       "      <td>2012</td>\n",
       "      <td>UTTARPRADESH</td>\n",
       "      <td>POOR</td>\n",
       "      <td>2960.000</td>\n",
       "      <td>2</td>\n",
       "      <td>NOT APPLICABLE</td>\n",
       "      <td>CV</td>\n",
       "      <td>144776.150</td>\n",
       "      <td>ORIGINAL RC</td>\n",
       "      <td>DELIVERY FOR BUYER</td>\n",
       "      <td>IMMOVABLE</td>\n",
       "      <td>125440.401</td>\n",
       "      <td>4760610766.852</td>\n",
       "      <td>1.109</td>\n",
       "      <td>0.962</td>\n",
       "      <td>206325.703</td>\n",
       "      <td>173000</td>\n",
       "    </tr>\n",
       "    <tr>\n",
       "      <th>65932</th>\n",
       "      <td>TATAMAGIC4X2MINIBUS</td>\n",
       "      <td>DIESEL</td>\n",
       "      <td>MINI BUS</td>\n",
       "      <td>2010</td>\n",
       "      <td>ANDHRAPRADESH</td>\n",
       "      <td>FAIR</td>\n",
       "      <td>6243.347</td>\n",
       "      <td>3</td>\n",
       "      <td>NOT AVAILABLE</td>\n",
       "      <td>CV</td>\n",
       "      <td>12764.000</td>\n",
       "      <td>FRC</td>\n",
       "      <td>DELIVERY FOR BUYER</td>\n",
       "      <td>MOVABLE</td>\n",
       "      <td>110539.986</td>\n",
       "      <td>2259516545.104</td>\n",
       "      <td>1.187</td>\n",
       "      <td>2.986</td>\n",
       "      <td>126654.430</td>\n",
       "      <td>150000</td>\n",
       "    </tr>\n",
       "    <tr>\n",
       "      <th>202947</th>\n",
       "      <td>TATASUPERACE4X2PICKUP</td>\n",
       "      <td>DIESEL</td>\n",
       "      <td>SCV</td>\n",
       "      <td>2013</td>\n",
       "      <td>TAMILNADU</td>\n",
       "      <td>FAIR</td>\n",
       "      <td>1300.000</td>\n",
       "      <td>6</td>\n",
       "      <td>NOT AVAILABLE</td>\n",
       "      <td>CV</td>\n",
       "      <td>144776.150</td>\n",
       "      <td>ORIGINAL RC</td>\n",
       "      <td>DELIVERY FOR BUYER</td>\n",
       "      <td>MOVABLE</td>\n",
       "      <td>145445.578</td>\n",
       "      <td>3567293745.465</td>\n",
       "      <td>0.495</td>\n",
       "      <td>-0.229</td>\n",
       "      <td>126337.125</td>\n",
       "      <td>180000</td>\n",
       "    </tr>\n",
       "    <tr>\n",
       "      <th>143365</th>\n",
       "      <td>ASHOKLEYLAND22146X2CARGOTRUCK</td>\n",
       "      <td>DIESEL</td>\n",
       "      <td>HAULAGE TRUCK</td>\n",
       "      <td>2003</td>\n",
       "      <td>ANDHRAPRADESH</td>\n",
       "      <td>GOOD</td>\n",
       "      <td>16200.000</td>\n",
       "      <td>9</td>\n",
       "      <td>NOT AVAILABLE</td>\n",
       "      <td>CV</td>\n",
       "      <td>144776.150</td>\n",
       "      <td>FRC</td>\n",
       "      <td>DELIVERY FOR BUYER</td>\n",
       "      <td>MOVABLE</td>\n",
       "      <td>329776.120</td>\n",
       "      <td>26032929286.824</td>\n",
       "      <td>1.237</td>\n",
       "      <td>1.532</td>\n",
       "      <td>327619.750</td>\n",
       "      <td>225000</td>\n",
       "    </tr>\n",
       "    <tr>\n",
       "      <th>164743</th>\n",
       "      <td>ASHOKLEYLANDDOSTLS4X2PICKUP</td>\n",
       "      <td>DIESEL</td>\n",
       "      <td>SCV</td>\n",
       "      <td>2012</td>\n",
       "      <td>TAMILNADU</td>\n",
       "      <td>FAIR</td>\n",
       "      <td>1300.000</td>\n",
       "      <td>4</td>\n",
       "      <td>NOT AVAILABLE</td>\n",
       "      <td>CV</td>\n",
       "      <td>144776.150</td>\n",
       "      <td>ORIGINAL RC</td>\n",
       "      <td>DELIVERY FOR BUYER</td>\n",
       "      <td>MOVABLE</td>\n",
       "      <td>233222.152</td>\n",
       "      <td>9210805154.981</td>\n",
       "      <td>0.735</td>\n",
       "      <td>0.501</td>\n",
       "      <td>209826.328</td>\n",
       "      <td>190000</td>\n",
       "    </tr>\n",
       "    <tr>\n",
       "      <th>220796</th>\n",
       "      <td>other</td>\n",
       "      <td>DIESEL</td>\n",
       "      <td>BUS</td>\n",
       "      <td>2016</td>\n",
       "      <td>other</td>\n",
       "      <td>AVERAGE</td>\n",
       "      <td>6243.347</td>\n",
       "      <td>3</td>\n",
       "      <td>NOT AVAILABLE</td>\n",
       "      <td>CV</td>\n",
       "      <td>63760.000</td>\n",
       "      <td>NOT AVAILABLE</td>\n",
       "      <td>DELIVERY FOR BUYER</td>\n",
       "      <td>MOVABLE</td>\n",
       "      <td>262110.149</td>\n",
       "      <td>75457567637.165</td>\n",
       "      <td>3.113</td>\n",
       "      <td>12.685</td>\n",
       "      <td>476960.781</td>\n",
       "      <td>550000</td>\n",
       "    </tr>\n",
       "    <tr>\n",
       "      <th>101289</th>\n",
       "      <td>ASHOKLEYLAND1611COMET4X2CARGOTRUCK</td>\n",
       "      <td>DIESEL</td>\n",
       "      <td>INTERMEDIATE COMMERCIAL VEHICLE</td>\n",
       "      <td>1998</td>\n",
       "      <td>KARNATAKA</td>\n",
       "      <td>INVALID DETAILS</td>\n",
       "      <td>11990.000</td>\n",
       "      <td>17</td>\n",
       "      <td>NOT AVAILABLE</td>\n",
       "      <td>CV</td>\n",
       "      <td>144776.150</td>\n",
       "      <td>FRC</td>\n",
       "      <td>DELIVERY FOR BUYER</td>\n",
       "      <td>IMMOVABLE</td>\n",
       "      <td>146927.885</td>\n",
       "      <td>6660743365.287</td>\n",
       "      <td>4.290</td>\n",
       "      <td>32.366</td>\n",
       "      <td>126048.203</td>\n",
       "      <td>130000</td>\n",
       "    </tr>\n",
       "    <tr>\n",
       "      <th>125333</th>\n",
       "      <td>MAHINDRAMAXX4X2PICKUP</td>\n",
       "      <td>DIESEL</td>\n",
       "      <td>PICKUP</td>\n",
       "      <td>2009</td>\n",
       "      <td>TAMILNADU</td>\n",
       "      <td>FAIR</td>\n",
       "      <td>2930.000</td>\n",
       "      <td>5</td>\n",
       "      <td>NOT AVAILABLE</td>\n",
       "      <td>CV</td>\n",
       "      <td>3361.000</td>\n",
       "      <td>ORIGINAL RC</td>\n",
       "      <td>DELIVERY FOR BUYER</td>\n",
       "      <td>MOVABLE</td>\n",
       "      <td>134894.712</td>\n",
       "      <td>4026839104.200</td>\n",
       "      <td>1.215</td>\n",
       "      <td>2.632</td>\n",
       "      <td>163935.125</td>\n",
       "      <td>135000</td>\n",
       "    </tr>\n",
       "    <tr>\n",
       "      <th>190248</th>\n",
       "      <td>other</td>\n",
       "      <td>DIESEL</td>\n",
       "      <td>HAULAGE TRUCK</td>\n",
       "      <td>2013</td>\n",
       "      <td>GUJARAT</td>\n",
       "      <td>INVALID DETAILS</td>\n",
       "      <td>16200.000</td>\n",
       "      <td>7</td>\n",
       "      <td>NOT AVAILABLE</td>\n",
       "      <td>CV</td>\n",
       "      <td>144776.150</td>\n",
       "      <td>NOT AVAILABLE</td>\n",
       "      <td>DELIVERY FOR BUYER</td>\n",
       "      <td>IMMOVABLE</td>\n",
       "      <td>262110.149</td>\n",
       "      <td>75457567637.165</td>\n",
       "      <td>3.113</td>\n",
       "      <td>12.685</td>\n",
       "      <td>564845.875</td>\n",
       "      <td>800000</td>\n",
       "    </tr>\n",
       "    <tr>\n",
       "      <th>92872</th>\n",
       "      <td>MAHINDRAMAXITRUCK4X2PICKUP</td>\n",
       "      <td>DIESEL</td>\n",
       "      <td>PICKUP</td>\n",
       "      <td>2010</td>\n",
       "      <td>TAMILNADU</td>\n",
       "      <td>POOR</td>\n",
       "      <td>2930.000</td>\n",
       "      <td>4</td>\n",
       "      <td>NOT APPLICABLE</td>\n",
       "      <td>CV</td>\n",
       "      <td>65834.000</td>\n",
       "      <td>NOT AVAILABLE</td>\n",
       "      <td>DELIVERY FOR BUYER</td>\n",
       "      <td>IMMOVABLE</td>\n",
       "      <td>160752.648</td>\n",
       "      <td>6878638997.527</td>\n",
       "      <td>1.478</td>\n",
       "      <td>3.395</td>\n",
       "      <td>135264.609</td>\n",
       "      <td>75000</td>\n",
       "    </tr>\n",
       "    <tr>\n",
       "      <th>147458</th>\n",
       "      <td>TATAACE4X2PICKUP</td>\n",
       "      <td>DIESEL</td>\n",
       "      <td>SCV</td>\n",
       "      <td>2010</td>\n",
       "      <td>ANDHRAPRADESH</td>\n",
       "      <td>AVERAGE</td>\n",
       "      <td>1300.000</td>\n",
       "      <td>2</td>\n",
       "      <td>NOT APPLICABLE</td>\n",
       "      <td>CV</td>\n",
       "      <td>53263.000</td>\n",
       "      <td>DRC</td>\n",
       "      <td>DELIVERY FOR BUYER</td>\n",
       "      <td>MOVABLE</td>\n",
       "      <td>118394.526</td>\n",
       "      <td>2616654886.305</td>\n",
       "      <td>1.105</td>\n",
       "      <td>2.083</td>\n",
       "      <td>167906.906</td>\n",
       "      <td>190000</td>\n",
       "    </tr>\n",
       "    <tr>\n",
       "      <th>161690</th>\n",
       "      <td>MAHINDRABOLEROCREWCABPICKUP</td>\n",
       "      <td>DIESEL</td>\n",
       "      <td>PICKUP</td>\n",
       "      <td>2011</td>\n",
       "      <td>PUNJAB</td>\n",
       "      <td>FAIR</td>\n",
       "      <td>2930.000</td>\n",
       "      <td>2</td>\n",
       "      <td>NOT AVAILABLE</td>\n",
       "      <td>CV</td>\n",
       "      <td>144776.150</td>\n",
       "      <td>ORIGINAL RC</td>\n",
       "      <td>DELIVERY FOR BUYER</td>\n",
       "      <td>MOVABLE</td>\n",
       "      <td>243144.843</td>\n",
       "      <td>11090475710.938</td>\n",
       "      <td>0.451</td>\n",
       "      <td>-0.086</td>\n",
       "      <td>335327.656</td>\n",
       "      <td>500000</td>\n",
       "    </tr>\n",
       "    <tr>\n",
       "      <th>121961</th>\n",
       "      <td>TATAACE4X2PICKUP</td>\n",
       "      <td>DIESEL</td>\n",
       "      <td>SCV</td>\n",
       "      <td>2009</td>\n",
       "      <td>TAMILNADU</td>\n",
       "      <td>FAIR</td>\n",
       "      <td>1300.000</td>\n",
       "      <td>9</td>\n",
       "      <td>NOT AVAILABLE</td>\n",
       "      <td>CV</td>\n",
       "      <td>120968.000</td>\n",
       "      <td>ORIGINAL RC</td>\n",
       "      <td>DELIVERY FOR BUYER</td>\n",
       "      <td>MOVABLE</td>\n",
       "      <td>118394.526</td>\n",
       "      <td>2616654886.305</td>\n",
       "      <td>1.105</td>\n",
       "      <td>2.083</td>\n",
       "      <td>92224.609</td>\n",
       "      <td>124000</td>\n",
       "    </tr>\n",
       "    <tr>\n",
       "      <th>191557</th>\n",
       "      <td>other</td>\n",
       "      <td>DIESEL</td>\n",
       "      <td>HAULAGE TRUCK</td>\n",
       "      <td>2008</td>\n",
       "      <td>ANDHRAPRADESH</td>\n",
       "      <td>INVALID DETAILS</td>\n",
       "      <td>16200.000</td>\n",
       "      <td>12</td>\n",
       "      <td>NOT AVAILABLE</td>\n",
       "      <td>CV</td>\n",
       "      <td>144776.150</td>\n",
       "      <td>NOT AVAILABLE</td>\n",
       "      <td>DELIVERY FOR BUYER</td>\n",
       "      <td>IMMOVABLE</td>\n",
       "      <td>262110.149</td>\n",
       "      <td>75457567637.165</td>\n",
       "      <td>3.113</td>\n",
       "      <td>12.685</td>\n",
       "      <td>257684.062</td>\n",
       "      <td>170000</td>\n",
       "    </tr>\n",
       "    <tr>\n",
       "      <th>201903</th>\n",
       "      <td>ASHOKLEYLANDDOST4X2PICKUP</td>\n",
       "      <td>DIESEL</td>\n",
       "      <td>SCV</td>\n",
       "      <td>2012</td>\n",
       "      <td>ANDHRAPRADESH</td>\n",
       "      <td>FAIR</td>\n",
       "      <td>1300.000</td>\n",
       "      <td>7</td>\n",
       "      <td>NOT AVAILABLE</td>\n",
       "      <td>CV</td>\n",
       "      <td>256383.000</td>\n",
       "      <td>ORIGINAL RC</td>\n",
       "      <td>DELIVERY FOR BUYER</td>\n",
       "      <td>MOVABLE</td>\n",
       "      <td>215710.629</td>\n",
       "      <td>9290270772.099</td>\n",
       "      <td>0.983</td>\n",
       "      <td>1.374</td>\n",
       "      <td>153468.859</td>\n",
       "      <td>145000</td>\n",
       "    </tr>\n",
       "    <tr>\n",
       "      <th>19143</th>\n",
       "      <td>TATAACEHT4X2PICKUP</td>\n",
       "      <td>DIESEL</td>\n",
       "      <td>SCV</td>\n",
       "      <td>2011</td>\n",
       "      <td>ANDHRAPRADESH</td>\n",
       "      <td>AVERAGE</td>\n",
       "      <td>1300.000</td>\n",
       "      <td>5</td>\n",
       "      <td>NOT AVAILABLE</td>\n",
       "      <td>CV</td>\n",
       "      <td>144776.150</td>\n",
       "      <td>ORIGINAL RC</td>\n",
       "      <td>DELIVERY FOR BUYER</td>\n",
       "      <td>MOVABLE</td>\n",
       "      <td>130406.377</td>\n",
       "      <td>3053817626.486</td>\n",
       "      <td>0.896</td>\n",
       "      <td>1.075</td>\n",
       "      <td>111051.969</td>\n",
       "      <td>119000</td>\n",
       "    </tr>\n",
       "    <tr>\n",
       "      <th>125661</th>\n",
       "      <td>TATAACE4X2PICKUP</td>\n",
       "      <td>DIESEL</td>\n",
       "      <td>SCV</td>\n",
       "      <td>2008</td>\n",
       "      <td>other</td>\n",
       "      <td>FAIR</td>\n",
       "      <td>1300.000</td>\n",
       "      <td>5</td>\n",
       "      <td>NOT AVAILABLE</td>\n",
       "      <td>CV</td>\n",
       "      <td>144776.150</td>\n",
       "      <td>NOT AVAILABLE</td>\n",
       "      <td>DELIVERY FOR BUYER</td>\n",
       "      <td>MOVABLE</td>\n",
       "      <td>118394.526</td>\n",
       "      <td>2616654886.305</td>\n",
       "      <td>1.105</td>\n",
       "      <td>2.083</td>\n",
       "      <td>84819.703</td>\n",
       "      <td>130000</td>\n",
       "    </tr>\n",
       "  </tbody>\n",
       "</table>\n",
       "</div>"
      ],
      "text/plain": [
       "                                       MMV Fuel_Clean  \\\n",
       "222119           ASHOKLEYLANDDOST4X2PICKUP     DIESEL   \n",
       "163445            EICHER10.954X2CARGOTRUCK     DIESEL   \n",
       "19897                   TATAACEEX4X2PICKUP     DIESEL   \n",
       "154656                  TATA207DI4X2PICKUP     DIESEL   \n",
       "65932                  TATAMAGIC4X2MINIBUS     DIESEL   \n",
       "202947               TATASUPERACE4X2PICKUP     DIESEL   \n",
       "143365       ASHOKLEYLAND22146X2CARGOTRUCK     DIESEL   \n",
       "164743         ASHOKLEYLANDDOSTLS4X2PICKUP     DIESEL   \n",
       "220796                               other     DIESEL   \n",
       "101289  ASHOKLEYLAND1611COMET4X2CARGOTRUCK     DIESEL   \n",
       "125333               MAHINDRAMAXX4X2PICKUP     DIESEL   \n",
       "190248                               other     DIESEL   \n",
       "92872           MAHINDRAMAXITRUCK4X2PICKUP     DIESEL   \n",
       "147458                    TATAACE4X2PICKUP     DIESEL   \n",
       "161690         MAHINDRABOLEROCREWCABPICKUP     DIESEL   \n",
       "121961                    TATAACE4X2PICKUP     DIESEL   \n",
       "191557                               other     DIESEL   \n",
       "201903           ASHOKLEYLANDDOST4X2PICKUP     DIESEL   \n",
       "19143                   TATAACEHT4X2PICKUP     DIESEL   \n",
       "125661                    TATAACE4X2PICKUP     DIESEL   \n",
       "\n",
       "                               BodyType  MAKE_YEAR CV_State_Clean  \\\n",
       "222119                              SCV       2015  ANDHRAPRADESH   \n",
       "163445  INTERMEDIATE COMMERCIAL VEHICLE       2008      KARNATAKA   \n",
       "19897                               SCV       2012  ANDHRAPRADESH   \n",
       "154656             CAB AND CREW PICK UP       2012   UTTARPRADESH   \n",
       "65932                          MINI BUS       2010  ANDHRAPRADESH   \n",
       "202947                              SCV       2013      TAMILNADU   \n",
       "143365                    HAULAGE TRUCK       2003  ANDHRAPRADESH   \n",
       "164743                              SCV       2012      TAMILNADU   \n",
       "220796                              BUS       2016          other   \n",
       "101289  INTERMEDIATE COMMERCIAL VEHICLE       1998      KARNATAKA   \n",
       "125333                           PICKUP       2009      TAMILNADU   \n",
       "190248                    HAULAGE TRUCK       2013        GUJARAT   \n",
       "92872                            PICKUP       2010      TAMILNADU   \n",
       "147458                              SCV       2010  ANDHRAPRADESH   \n",
       "161690                           PICKUP       2011         PUNJAB   \n",
       "121961                              SCV       2009      TAMILNADU   \n",
       "191557                    HAULAGE TRUCK       2008  ANDHRAPRADESH   \n",
       "201903                              SCV       2012  ANDHRAPRADESH   \n",
       "19143                               SCV       2011  ANDHRAPRADESH   \n",
       "125661                              SCV       2008          other   \n",
       "\n",
       "       SHROT COND_MAPPED  num_Weight  num_CV_Age   PERMIT_MAPPED  \\\n",
       "222119              POOR    1300.000           4   NOT AVAILABLE   \n",
       "163445   INVALID DETAILS   11990.000           9   NOT AVAILABLE   \n",
       "19897    INVALID DETAILS    1300.000           3  NOT APPLICABLE   \n",
       "154656              POOR    2960.000           2  NOT APPLICABLE   \n",
       "65932               FAIR    6243.347           3   NOT AVAILABLE   \n",
       "202947              FAIR    1300.000           6   NOT AVAILABLE   \n",
       "143365              GOOD   16200.000           9   NOT AVAILABLE   \n",
       "164743              FAIR    1300.000           4   NOT AVAILABLE   \n",
       "220796           AVERAGE    6243.347           3   NOT AVAILABLE   \n",
       "101289   INVALID DETAILS   11990.000          17   NOT AVAILABLE   \n",
       "125333              FAIR    2930.000           5   NOT AVAILABLE   \n",
       "190248   INVALID DETAILS   16200.000           7   NOT AVAILABLE   \n",
       "92872               POOR    2930.000           4  NOT APPLICABLE   \n",
       "147458           AVERAGE    1300.000           2  NOT APPLICABLE   \n",
       "161690              FAIR    2930.000           2   NOT AVAILABLE   \n",
       "121961              FAIR    1300.000           9   NOT AVAILABLE   \n",
       "191557   INVALID DETAILS   16200.000          12   NOT AVAILABLE   \n",
       "201903              FAIR    1300.000           7   NOT AVAILABLE   \n",
       "19143            AVERAGE    1300.000           5   NOT AVAILABLE   \n",
       "125661              FAIR    1300.000           5   NOT AVAILABLE   \n",
       "\n",
       "       INV_H_CATEGORY_mapping  num_METER_READING_cleaned  \\\n",
       "222119                     CV                 191824.000   \n",
       "163445                     CV                 144776.150   \n",
       "19897                      CV                 144776.150   \n",
       "154656                     CV                 144776.150   \n",
       "65932                      CV                  12764.000   \n",
       "202947                     CV                 144776.150   \n",
       "143365                     CV                 144776.150   \n",
       "164743                     CV                 144776.150   \n",
       "220796                     CV                  63760.000   \n",
       "101289                     CV                 144776.150   \n",
       "125333                     CV                   3361.000   \n",
       "190248                     CV                 144776.150   \n",
       "92872                      CV                  65834.000   \n",
       "147458                     CV                  53263.000   \n",
       "161690                     CV                 144776.150   \n",
       "121961                     CV                 120968.000   \n",
       "191557                     CV                 144776.150   \n",
       "201903                     CV                 256383.000   \n",
       "19143                      CV                 144776.150   \n",
       "125661                     CV                 144776.150   \n",
       "\n",
       "       INV_H_RC_STATUS_CLEANED_MAPPED  GP_PURPOSE_CLEANED VEHICLECONDITION  \\\n",
       "222119                    ORIGINAL RC  DELIVERY FOR BUYER          MOVABLE   \n",
       "163445                  NOT AVAILABLE  DELIVERY FOR BUYER        IMMOVABLE   \n",
       "19897                             DRC  DELIVERY FOR BUYER        IMMOVABLE   \n",
       "154656                    ORIGINAL RC  DELIVERY FOR BUYER        IMMOVABLE   \n",
       "65932                             FRC  DELIVERY FOR BUYER          MOVABLE   \n",
       "202947                    ORIGINAL RC  DELIVERY FOR BUYER          MOVABLE   \n",
       "143365                            FRC  DELIVERY FOR BUYER          MOVABLE   \n",
       "164743                    ORIGINAL RC  DELIVERY FOR BUYER          MOVABLE   \n",
       "220796                  NOT AVAILABLE  DELIVERY FOR BUYER          MOVABLE   \n",
       "101289                            FRC  DELIVERY FOR BUYER        IMMOVABLE   \n",
       "125333                    ORIGINAL RC  DELIVERY FOR BUYER          MOVABLE   \n",
       "190248                  NOT AVAILABLE  DELIVERY FOR BUYER        IMMOVABLE   \n",
       "92872                   NOT AVAILABLE  DELIVERY FOR BUYER        IMMOVABLE   \n",
       "147458                            DRC  DELIVERY FOR BUYER          MOVABLE   \n",
       "161690                    ORIGINAL RC  DELIVERY FOR BUYER          MOVABLE   \n",
       "121961                    ORIGINAL RC  DELIVERY FOR BUYER          MOVABLE   \n",
       "191557                  NOT AVAILABLE  DELIVERY FOR BUYER        IMMOVABLE   \n",
       "201903                    ORIGINAL RC  DELIVERY FOR BUYER          MOVABLE   \n",
       "19143                     ORIGINAL RC  DELIVERY FOR BUYER          MOVABLE   \n",
       "125661                  NOT AVAILABLE  DELIVERY FOR BUYER          MOVABLE   \n",
       "\n",
       "         Moment_1        Moment_2  Moment_3  Moment_4  Predicted  Actual  \n",
       "222119 215710.629  9290270772.099     0.983     1.374 260781.234  270000  \n",
       "163445 257590.002 26380930763.369     1.090     0.973 223179.562  260000  \n",
       "19897  112627.727  1882079391.095     0.939     1.475 152728.375   85000  \n",
       "154656 125440.401  4760610766.852     1.109     0.962 206325.703  173000  \n",
       "65932  110539.986  2259516545.104     1.187     2.986 126654.430  150000  \n",
       "202947 145445.578  3567293745.465     0.495    -0.229 126337.125  180000  \n",
       "143365 329776.120 26032929286.824     1.237     1.532 327619.750  225000  \n",
       "164743 233222.152  9210805154.981     0.735     0.501 209826.328  190000  \n",
       "220796 262110.149 75457567637.165     3.113    12.685 476960.781  550000  \n",
       "101289 146927.885  6660743365.287     4.290    32.366 126048.203  130000  \n",
       "125333 134894.712  4026839104.200     1.215     2.632 163935.125  135000  \n",
       "190248 262110.149 75457567637.165     3.113    12.685 564845.875  800000  \n",
       "92872  160752.648  6878638997.527     1.478     3.395 135264.609   75000  \n",
       "147458 118394.526  2616654886.305     1.105     2.083 167906.906  190000  \n",
       "161690 243144.843 11090475710.938     0.451    -0.086 335327.656  500000  \n",
       "121961 118394.526  2616654886.305     1.105     2.083  92224.609  124000  \n",
       "191557 262110.149 75457567637.165     3.113    12.685 257684.062  170000  \n",
       "201903 215710.629  9290270772.099     0.983     1.374 153468.859  145000  \n",
       "19143  130406.377  3053817626.486     0.896     1.075 111051.969  119000  \n",
       "125661 118394.526  2616654886.305     1.105     2.083  84819.703  130000  "
      ]
     },
     "execution_count": 676,
     "metadata": {},
     "output_type": "execute_result"
    }
   ],
   "source": [
    "X_train_copy.head(20)"
   ]
  },
  {
   "cell_type": "code",
   "execution_count": 677,
   "metadata": {},
   "outputs": [],
   "source": [
    "MAPE=abs((X_train_copy['Actual']-X_train_copy['Predicted'])/X_train_copy['Actual']).mean()*100"
   ]
  },
  {
   "cell_type": "code",
   "execution_count": 678,
   "metadata": {},
   "outputs": [
    {
     "data": {
      "text/plain": [
       "25.41057845184127"
      ]
     },
     "execution_count": 678,
     "metadata": {},
     "output_type": "execute_result"
    }
   ],
   "source": [
    "MAPE"
   ]
  },
  {
   "cell_type": "code",
   "execution_count": 679,
   "metadata": {},
   "outputs": [
    {
     "data": {
      "image/png": "[encoded data removed]",
      "text/plain": [
       "<Figure size 640x480 with 1 Axes>"
      ]
     },
     "metadata": {},
     "output_type": "display_data"
    }
   ],
   "source": [
    "# Plot the histogram of the error terms\n",
    "import matplotlib.pyplot as plt\n",
    "import seaborn as sns\n",
    "fig = plt.figure()\n",
    "sns.distplot((X_train_copy['Actual'] - X_train_copy['Predicted']), bins = 20)\n",
    "fig.suptitle('Error Terms', fontsize = 20)                  \n",
    "plt.xlabel('Errors', fontsize = 18)  \n",
    "plt.show()"
   ]
  },
  {
   "cell_type": "code",
   "execution_count": 680,
   "metadata": {},
   "outputs": [
    {
     "data": {
      "image/png": "[encoded data removed]",
      "text/plain": [
       "<Figure size 1000x1000 with 1 Axes>"
      ]
     },
     "metadata": {},
     "output_type": "display_data"
    }
   ],
   "source": [
    "plt.figure(figsize=(10,10))\n",
    "plt.scatter(X_train_copy['Actual'], X_train_copy['Predicted'], c='crimson')\n",
    "# plt.yscale('log')\n",
    "# plt.xscale('log')\n",
    "\n",
    "p1 = max(max(X_train_copy['Predicted']), max(X_train_copy['Actual']))\n",
    "p2 = min(min(X_train_copy['Predicted']), min(X_train_copy['Actual']))\n",
    "plt.plot([p1, p2], [p1, p2])\n",
    "plt.xlabel('Actual', fontsize=15)\n",
    "plt.ylabel('Predicted', fontsize=15)\n",
    "plt.axis('equal')\n",
    "plt.show()"
   ]
  },
  {
   "cell_type": "code",
   "execution_count": 681,
   "metadata": {},
   "outputs": [],
   "source": [
    "X_test_copy=X_test.copy()\n",
    "X_test_copy['Predicted']=y_pred\n",
    "X_test_copy['Actual']=y_test\n"
   ]
  },
  {
   "cell_type": "code",
   "execution_count": 682,
   "metadata": {},
   "outputs": [
    {
     "data": {
      "text/plain": [
       "67481    136439.688\n",
       "89039    194199.156\n",
       "12528    147862.359\n",
       "68530     94856.625\n",
       "236860    78985.172\n",
       "            ...    \n",
       "103006    77659.016\n",
       "52415    288561.344\n",
       "28387    144476.547\n",
       "89189    260886.719\n",
       "164717   101113.492\n",
       "Name: Predicted, Length: 49747, dtype: float32"
      ]
     },
     "execution_count": 682,
     "metadata": {},
     "output_type": "execute_result"
    }
   ],
   "source": [
    "X_test_copy['Predicted']"
   ]
  },
  {
   "cell_type": "code",
   "execution_count": 683,
   "metadata": {},
   "outputs": [
    {
     "data": {
      "text/html": [
       "<div>\n",
       "<style scoped>\n",
       "    .dataframe tbody tr th:only-of-type {\n",
       "        vertical-align: middle;\n",
       "    }\n",
       "\n",
       "    .dataframe tbody tr th {\n",
       "        vertical-align: top;\n",
       "    }\n",
       "\n",
       "    .dataframe thead th {\n",
       "        text-align: right;\n",
       "    }\n",
       "</style>\n",
       "<table border=\"1\" class=\"dataframe\">\n",
       "  <thead>\n",
       "    <tr style=\"text-align: right;\">\n",
       "      <th></th>\n",
       "      <th>MMV</th>\n",
       "      <th>Fuel_Clean</th>\n",
       "      <th>BodyType</th>\n",
       "      <th>MAKE_YEAR</th>\n",
       "      <th>CV_State_Clean</th>\n",
       "      <th>SHROT COND_MAPPED</th>\n",
       "      <th>num_Weight</th>\n",
       "      <th>num_CV_Age</th>\n",
       "      <th>PERMIT_MAPPED</th>\n",
       "      <th>INV_H_CATEGORY_mapping</th>\n",
       "      <th>num_METER_READING_cleaned</th>\n",
       "      <th>INV_H_RC_STATUS_CLEANED_MAPPED</th>\n",
       "      <th>GP_PURPOSE_CLEANED</th>\n",
       "      <th>VEHICLECONDITION</th>\n",
       "      <th>Moment_1</th>\n",
       "      <th>Moment_2</th>\n",
       "      <th>Moment_3</th>\n",
       "      <th>Moment_4</th>\n",
       "      <th>Predicted</th>\n",
       "      <th>Actual</th>\n",
       "    </tr>\n",
       "  </thead>\n",
       "  <tbody>\n",
       "    <tr>\n",
       "      <th>67481</th>\n",
       "      <td>TATAACEZIP4X2PICKUP</td>\n",
       "      <td>DIESEL</td>\n",
       "      <td>SCV</td>\n",
       "      <td>2014</td>\n",
       "      <td>MAHARASHTRA</td>\n",
       "      <td>INVALID DETAILS</td>\n",
       "      <td>1300.000</td>\n",
       "      <td>2</td>\n",
       "      <td>NOT AVAILABLE</td>\n",
       "      <td>CV</td>\n",
       "      <td>144776.150</td>\n",
       "      <td>ORIGINAL RC</td>\n",
       "      <td>DELIVERY FOR BUYER</td>\n",
       "      <td>IMMOVABLE</td>\n",
       "      <td>85448.943</td>\n",
       "      <td>970614449.150</td>\n",
       "      <td>1.532</td>\n",
       "      <td>5.048</td>\n",
       "      <td>136439.688</td>\n",
       "      <td>160000</td>\n",
       "    </tr>\n",
       "    <tr>\n",
       "      <th>89039</th>\n",
       "      <td>ASHOKLEYLANDDOST4X2PICKUP</td>\n",
       "      <td>DIESEL</td>\n",
       "      <td>SCV</td>\n",
       "      <td>2012</td>\n",
       "      <td>KARNATAKA</td>\n",
       "      <td>FAIR</td>\n",
       "      <td>1300.000</td>\n",
       "      <td>6</td>\n",
       "      <td>NOT AVAILABLE</td>\n",
       "      <td>CV</td>\n",
       "      <td>151753.000</td>\n",
       "      <td>ORIGINAL RC</td>\n",
       "      <td>DELIVERY FOR BUYER</td>\n",
       "      <td>MOVABLE</td>\n",
       "      <td>215710.629</td>\n",
       "      <td>9290270772.099</td>\n",
       "      <td>0.983</td>\n",
       "      <td>1.374</td>\n",
       "      <td>194199.156</td>\n",
       "      <td>125000</td>\n",
       "    </tr>\n",
       "    <tr>\n",
       "      <th>12528</th>\n",
       "      <td>MAHINDRAMAXXIMO4X2PICKUP</td>\n",
       "      <td>DIESEL</td>\n",
       "      <td>SCV</td>\n",
       "      <td>2011</td>\n",
       "      <td>KERALA</td>\n",
       "      <td>FAIR</td>\n",
       "      <td>1300.000</td>\n",
       "      <td>2</td>\n",
       "      <td>NOT AVAILABLE</td>\n",
       "      <td>CV</td>\n",
       "      <td>144776.150</td>\n",
       "      <td>ORIGINAL RC</td>\n",
       "      <td>DELIVERY FOR BUYER</td>\n",
       "      <td>MOVABLE</td>\n",
       "      <td>99881.365</td>\n",
       "      <td>1593247544.607</td>\n",
       "      <td>1.129</td>\n",
       "      <td>1.780</td>\n",
       "      <td>147862.359</td>\n",
       "      <td>178000</td>\n",
       "    </tr>\n",
       "    <tr>\n",
       "      <th>68530</th>\n",
       "      <td>TATAACE4X2PICKUP</td>\n",
       "      <td>DIESEL</td>\n",
       "      <td>SCV</td>\n",
       "      <td>2007</td>\n",
       "      <td>MAHARASHTRA</td>\n",
       "      <td>FAIR</td>\n",
       "      <td>1300.000</td>\n",
       "      <td>7</td>\n",
       "      <td>NOT AVAILABLE</td>\n",
       "      <td>CV</td>\n",
       "      <td>89032.000</td>\n",
       "      <td>ORIGINAL RC</td>\n",
       "      <td>DELIVERY FOR BUYER</td>\n",
       "      <td>MOVABLE</td>\n",
       "      <td>118394.526</td>\n",
       "      <td>2616654886.305</td>\n",
       "      <td>1.105</td>\n",
       "      <td>2.083</td>\n",
       "      <td>94856.625</td>\n",
       "      <td>75000</td>\n",
       "    </tr>\n",
       "    <tr>\n",
       "      <th>236860</th>\n",
       "      <td>TATAACEMEGA4X2PICKUP</td>\n",
       "      <td>DIESEL</td>\n",
       "      <td>SCV</td>\n",
       "      <td>2016</td>\n",
       "      <td>WESTBENGAL</td>\n",
       "      <td>other</td>\n",
       "      <td>1300.000</td>\n",
       "      <td>5</td>\n",
       "      <td>NOT APPLICABLE</td>\n",
       "      <td>CV</td>\n",
       "      <td>144776.150</td>\n",
       "      <td>Not available</td>\n",
       "      <td>0</td>\n",
       "      <td>MOVABLE</td>\n",
       "      <td>210815.198</td>\n",
       "      <td>4476463090.061</td>\n",
       "      <td>-0.055</td>\n",
       "      <td>-0.371</td>\n",
       "      <td>78985.172</td>\n",
       "      <td>110000</td>\n",
       "    </tr>\n",
       "    <tr>\n",
       "      <th>95313</th>\n",
       "      <td>TATAACE4X2PICKUP</td>\n",
       "      <td>DIESEL</td>\n",
       "      <td>SCV</td>\n",
       "      <td>2010</td>\n",
       "      <td>TAMILNADU</td>\n",
       "      <td>INVALID DETAILS</td>\n",
       "      <td>1300.000</td>\n",
       "      <td>7</td>\n",
       "      <td>NOT AVAILABLE</td>\n",
       "      <td>CV</td>\n",
       "      <td>144776.150</td>\n",
       "      <td>ORIGINAL RC</td>\n",
       "      <td>DELIVERY FOR BUYER</td>\n",
       "      <td>IMMOVABLE</td>\n",
       "      <td>118394.526</td>\n",
       "      <td>2616654886.305</td>\n",
       "      <td>1.105</td>\n",
       "      <td>2.083</td>\n",
       "      <td>100751.805</td>\n",
       "      <td>80000</td>\n",
       "    </tr>\n",
       "    <tr>\n",
       "      <th>224679</th>\n",
       "      <td>other</td>\n",
       "      <td>DIESEL</td>\n",
       "      <td>BUS</td>\n",
       "      <td>2008</td>\n",
       "      <td>ANDHRAPRADESH</td>\n",
       "      <td>POOR</td>\n",
       "      <td>6243.347</td>\n",
       "      <td>11</td>\n",
       "      <td>NOT AVAILABLE</td>\n",
       "      <td>CV</td>\n",
       "      <td>144776.150</td>\n",
       "      <td>NOT AVAILABLE</td>\n",
       "      <td>DELIVERY FOR BUYER</td>\n",
       "      <td>MOVABLE</td>\n",
       "      <td>262110.149</td>\n",
       "      <td>75457567637.165</td>\n",
       "      <td>3.113</td>\n",
       "      <td>12.685</td>\n",
       "      <td>136338.688</td>\n",
       "      <td>130000</td>\n",
       "    </tr>\n",
       "    <tr>\n",
       "      <th>6738</th>\n",
       "      <td>MAHINDRAMAXXIMO4X2PICKUP</td>\n",
       "      <td>DIESEL</td>\n",
       "      <td>SCV</td>\n",
       "      <td>2012</td>\n",
       "      <td>MADHYAPRADESH</td>\n",
       "      <td>INVALID DETAILS</td>\n",
       "      <td>1300.000</td>\n",
       "      <td>3</td>\n",
       "      <td>NOT AVAILABLE</td>\n",
       "      <td>CV</td>\n",
       "      <td>144776.150</td>\n",
       "      <td>NOT AVAILABLE</td>\n",
       "      <td>DELIVERY FOR BUYER</td>\n",
       "      <td>IMMOVABLE</td>\n",
       "      <td>99881.365</td>\n",
       "      <td>1593247544.607</td>\n",
       "      <td>1.129</td>\n",
       "      <td>1.780</td>\n",
       "      <td>90474.359</td>\n",
       "      <td>90000</td>\n",
       "    </tr>\n",
       "    <tr>\n",
       "      <th>213094</th>\n",
       "      <td>other</td>\n",
       "      <td>DIESEL</td>\n",
       "      <td>BUS</td>\n",
       "      <td>2012</td>\n",
       "      <td>ANDHRAPRADESH</td>\n",
       "      <td>FAIR</td>\n",
       "      <td>6243.347</td>\n",
       "      <td>8</td>\n",
       "      <td>NOT AVAILABLE</td>\n",
       "      <td>CV</td>\n",
       "      <td>144776.150</td>\n",
       "      <td>ORIGINAL RC</td>\n",
       "      <td>DELIVERY FOR BUYER</td>\n",
       "      <td>MOVABLE</td>\n",
       "      <td>262110.149</td>\n",
       "      <td>75457567637.165</td>\n",
       "      <td>3.113</td>\n",
       "      <td>12.685</td>\n",
       "      <td>321751.188</td>\n",
       "      <td>280000</td>\n",
       "    </tr>\n",
       "    <tr>\n",
       "      <th>187364</th>\n",
       "      <td>TATALPT25186X2CARGOTRUCK</td>\n",
       "      <td>DIESEL</td>\n",
       "      <td>HAULAGE TRUCK</td>\n",
       "      <td>2012</td>\n",
       "      <td>UTTARPRADESH</td>\n",
       "      <td>POOR</td>\n",
       "      <td>16200.000</td>\n",
       "      <td>9</td>\n",
       "      <td>NOT AVAILABLE</td>\n",
       "      <td>CV</td>\n",
       "      <td>144776.150</td>\n",
       "      <td>NOT AVAILABLE</td>\n",
       "      <td>DELIVERY FOR BUYER</td>\n",
       "      <td>IMMOVABLE</td>\n",
       "      <td>337494.983</td>\n",
       "      <td>30978575161.995</td>\n",
       "      <td>2.368</td>\n",
       "      <td>10.164</td>\n",
       "      <td>277292.156</td>\n",
       "      <td>290000</td>\n",
       "    </tr>\n",
       "    <tr>\n",
       "      <th>158714</th>\n",
       "      <td>EICHER11.14X2CARGOTRUCK</td>\n",
       "      <td>DIESEL</td>\n",
       "      <td>INTERMEDIATE COMMERCIAL VEHICLE</td>\n",
       "      <td>2007</td>\n",
       "      <td>KARNATAKA</td>\n",
       "      <td>FAIR</td>\n",
       "      <td>11990.000</td>\n",
       "      <td>10</td>\n",
       "      <td>NOT AVAILABLE</td>\n",
       "      <td>CV</td>\n",
       "      <td>475140.000</td>\n",
       "      <td>ORIGINAL RC</td>\n",
       "      <td>DELIVERY FOR BUYER</td>\n",
       "      <td>MOVABLE</td>\n",
       "      <td>308833.876</td>\n",
       "      <td>37282059012.170</td>\n",
       "      <td>1.110</td>\n",
       "      <td>1.082</td>\n",
       "      <td>227108.938</td>\n",
       "      <td>170000</td>\n",
       "    </tr>\n",
       "    <tr>\n",
       "      <th>171531</th>\n",
       "      <td>TATALPT25156X2CARGOTRUCK</td>\n",
       "      <td>DIESEL</td>\n",
       "      <td>HAULAGE TRUCK</td>\n",
       "      <td>2011</td>\n",
       "      <td>UTTARPRADESH</td>\n",
       "      <td>POOR</td>\n",
       "      <td>16200.000</td>\n",
       "      <td>10</td>\n",
       "      <td>NOT AVAILABLE</td>\n",
       "      <td>CV</td>\n",
       "      <td>144776.150</td>\n",
       "      <td>NOT AVAILABLE</td>\n",
       "      <td>DELIVERY FOR BUYER</td>\n",
       "      <td>IMMOVABLE</td>\n",
       "      <td>222329.921</td>\n",
       "      <td>6146576004.434</td>\n",
       "      <td>1.439</td>\n",
       "      <td>4.965</td>\n",
       "      <td>238317.000</td>\n",
       "      <td>235000</td>\n",
       "    </tr>\n",
       "    <tr>\n",
       "      <th>228218</th>\n",
       "      <td>TATAACE4X2PICKUP</td>\n",
       "      <td>DIESEL</td>\n",
       "      <td>SCV</td>\n",
       "      <td>2017</td>\n",
       "      <td>TELANGANA</td>\n",
       "      <td>GOOD</td>\n",
       "      <td>1300.000</td>\n",
       "      <td>2</td>\n",
       "      <td>NOT AVAILABLE</td>\n",
       "      <td>CV</td>\n",
       "      <td>22043.000</td>\n",
       "      <td>ORIGINAL RC</td>\n",
       "      <td>DELIVERY FOR BUYER</td>\n",
       "      <td>MOVABLE</td>\n",
       "      <td>118394.526</td>\n",
       "      <td>2616654886.305</td>\n",
       "      <td>1.105</td>\n",
       "      <td>2.083</td>\n",
       "      <td>260211.719</td>\n",
       "      <td>295000</td>\n",
       "    </tr>\n",
       "    <tr>\n",
       "      <th>20802</th>\n",
       "      <td>TATAACE4X2PICKUP</td>\n",
       "      <td>DIESEL</td>\n",
       "      <td>SCV</td>\n",
       "      <td>2009</td>\n",
       "      <td>TAMILNADU</td>\n",
       "      <td>FAIR</td>\n",
       "      <td>1300.000</td>\n",
       "      <td>5</td>\n",
       "      <td>NOT AVAILABLE</td>\n",
       "      <td>CV</td>\n",
       "      <td>144776.150</td>\n",
       "      <td>ORIGINAL RC</td>\n",
       "      <td>DELIVERY FOR BUYER</td>\n",
       "      <td>MOVABLE</td>\n",
       "      <td>118394.526</td>\n",
       "      <td>2616654886.305</td>\n",
       "      <td>1.105</td>\n",
       "      <td>2.083</td>\n",
       "      <td>117776.508</td>\n",
       "      <td>128000</td>\n",
       "    </tr>\n",
       "    <tr>\n",
       "      <th>72868</th>\n",
       "      <td>other</td>\n",
       "      <td>DIESEL</td>\n",
       "      <td>BUS</td>\n",
       "      <td>2004</td>\n",
       "      <td>TAMILNADU</td>\n",
       "      <td>FAIR</td>\n",
       "      <td>6243.347</td>\n",
       "      <td>13</td>\n",
       "      <td>NOT AVAILABLE</td>\n",
       "      <td>CV</td>\n",
       "      <td>67753.000</td>\n",
       "      <td>ORIGINAL RC</td>\n",
       "      <td>DELIVERY FOR BUYER</td>\n",
       "      <td>MOVABLE</td>\n",
       "      <td>262110.149</td>\n",
       "      <td>75457567637.165</td>\n",
       "      <td>3.113</td>\n",
       "      <td>12.685</td>\n",
       "      <td>114090.008</td>\n",
       "      <td>85000</td>\n",
       "    </tr>\n",
       "    <tr>\n",
       "      <th>245955</th>\n",
       "      <td>other</td>\n",
       "      <td>DIESEL</td>\n",
       "      <td>other</td>\n",
       "      <td>2002</td>\n",
       "      <td>MADHYAPRADESH</td>\n",
       "      <td>AVERAGE</td>\n",
       "      <td>5950.000</td>\n",
       "      <td>19</td>\n",
       "      <td>NOT AVAILABLE</td>\n",
       "      <td>CV</td>\n",
       "      <td>144776.150</td>\n",
       "      <td>Not available</td>\n",
       "      <td>DELIVERY FOR BUYER</td>\n",
       "      <td>MOVABLE</td>\n",
       "      <td>262110.149</td>\n",
       "      <td>75457567637.165</td>\n",
       "      <td>3.113</td>\n",
       "      <td>12.685</td>\n",
       "      <td>82739.117</td>\n",
       "      <td>100000</td>\n",
       "    </tr>\n",
       "    <tr>\n",
       "      <th>27800</th>\n",
       "      <td>TATAACEPICKUP</td>\n",
       "      <td>DIESEL</td>\n",
       "      <td>SCV</td>\n",
       "      <td>2011</td>\n",
       "      <td>MAHARASHTRA</td>\n",
       "      <td>INVALID DETAILS</td>\n",
       "      <td>1300.000</td>\n",
       "      <td>6</td>\n",
       "      <td>NOT AVAILABLE</td>\n",
       "      <td>CV</td>\n",
       "      <td>144776.150</td>\n",
       "      <td>ORIGINAL RC</td>\n",
       "      <td>DELIVERY FOR BUYER</td>\n",
       "      <td>IMMOVABLE</td>\n",
       "      <td>117828.500</td>\n",
       "      <td>2873250226.949</td>\n",
       "      <td>1.198</td>\n",
       "      <td>3.360</td>\n",
       "      <td>116966.211</td>\n",
       "      <td>119000</td>\n",
       "    </tr>\n",
       "    <tr>\n",
       "      <th>39094</th>\n",
       "      <td>TATAACE4X2PICKUP</td>\n",
       "      <td>DIESEL</td>\n",
       "      <td>SCV</td>\n",
       "      <td>2008</td>\n",
       "      <td>ANDHRAPRADESH</td>\n",
       "      <td>POOR</td>\n",
       "      <td>1300.000</td>\n",
       "      <td>5</td>\n",
       "      <td>NOT APPLICABLE</td>\n",
       "      <td>CV</td>\n",
       "      <td>205329.000</td>\n",
       "      <td>ORIGINAL RC</td>\n",
       "      <td>DELIVERY FOR BUYER</td>\n",
       "      <td>IMMOVABLE</td>\n",
       "      <td>118394.526</td>\n",
       "      <td>2616654886.305</td>\n",
       "      <td>1.105</td>\n",
       "      <td>2.083</td>\n",
       "      <td>88481.750</td>\n",
       "      <td>102000</td>\n",
       "    </tr>\n",
       "    <tr>\n",
       "      <th>235126</th>\n",
       "      <td>ASHOKLEYLANDDOSTLS4X2PICKUP</td>\n",
       "      <td>DIESEL</td>\n",
       "      <td>SCV</td>\n",
       "      <td>2014</td>\n",
       "      <td>KERALA</td>\n",
       "      <td>FAIR</td>\n",
       "      <td>1300.000</td>\n",
       "      <td>8</td>\n",
       "      <td>NOT AVAILABLE</td>\n",
       "      <td>CV</td>\n",
       "      <td>126983.000</td>\n",
       "      <td>other</td>\n",
       "      <td>DELIVERY FOR BUYER</td>\n",
       "      <td>MOVABLE</td>\n",
       "      <td>233222.152</td>\n",
       "      <td>9210805154.981</td>\n",
       "      <td>0.735</td>\n",
       "      <td>0.501</td>\n",
       "      <td>223533.938</td>\n",
       "      <td>298000</td>\n",
       "    </tr>\n",
       "    <tr>\n",
       "      <th>233475</th>\n",
       "      <td>ASHOKLEYLANDTUSKERSUPER22146X2CARGOTRUCK</td>\n",
       "      <td>DIESEL</td>\n",
       "      <td>HAULAGE TRUCK</td>\n",
       "      <td>2003</td>\n",
       "      <td>ANDHRAPRADESH</td>\n",
       "      <td>AVERAGE</td>\n",
       "      <td>16200.000</td>\n",
       "      <td>16</td>\n",
       "      <td>NOT AVAILABLE</td>\n",
       "      <td>CV</td>\n",
       "      <td>144776.150</td>\n",
       "      <td>ORIGINAL RC</td>\n",
       "      <td>DELIVERY FOR BUYER</td>\n",
       "      <td>MOVABLE</td>\n",
       "      <td>314132.870</td>\n",
       "      <td>24408090338.507</td>\n",
       "      <td>1.376</td>\n",
       "      <td>2.155</td>\n",
       "      <td>212883.844</td>\n",
       "      <td>165000</td>\n",
       "    </tr>\n",
       "  </tbody>\n",
       "</table>\n",
       "</div>"
      ],
      "text/plain": [
       "                                             MMV Fuel_Clean  \\\n",
       "67481                        TATAACEZIP4X2PICKUP     DIESEL   \n",
       "89039                  ASHOKLEYLANDDOST4X2PICKUP     DIESEL   \n",
       "12528                   MAHINDRAMAXXIMO4X2PICKUP     DIESEL   \n",
       "68530                           TATAACE4X2PICKUP     DIESEL   \n",
       "236860                      TATAACEMEGA4X2PICKUP     DIESEL   \n",
       "95313                           TATAACE4X2PICKUP     DIESEL   \n",
       "224679                                     other     DIESEL   \n",
       "6738                    MAHINDRAMAXXIMO4X2PICKUP     DIESEL   \n",
       "213094                                     other     DIESEL   \n",
       "187364                  TATALPT25186X2CARGOTRUCK     DIESEL   \n",
       "158714                   EICHER11.14X2CARGOTRUCK     DIESEL   \n",
       "171531                  TATALPT25156X2CARGOTRUCK     DIESEL   \n",
       "228218                          TATAACE4X2PICKUP     DIESEL   \n",
       "20802                           TATAACE4X2PICKUP     DIESEL   \n",
       "72868                                      other     DIESEL   \n",
       "245955                                     other     DIESEL   \n",
       "27800                              TATAACEPICKUP     DIESEL   \n",
       "39094                           TATAACE4X2PICKUP     DIESEL   \n",
       "235126               ASHOKLEYLANDDOSTLS4X2PICKUP     DIESEL   \n",
       "233475  ASHOKLEYLANDTUSKERSUPER22146X2CARGOTRUCK     DIESEL   \n",
       "\n",
       "                               BodyType  MAKE_YEAR CV_State_Clean  \\\n",
       "67481                               SCV       2014    MAHARASHTRA   \n",
       "89039                               SCV       2012      KARNATAKA   \n",
       "12528                               SCV       2011         KERALA   \n",
       "68530                               SCV       2007    MAHARASHTRA   \n",
       "236860                              SCV       2016     WESTBENGAL   \n",
       "95313                               SCV       2010      TAMILNADU   \n",
       "224679                              BUS       2008  ANDHRAPRADESH   \n",
       "6738                                SCV       2012  MADHYAPRADESH   \n",
       "213094                              BUS       2012  ANDHRAPRADESH   \n",
       "187364                    HAULAGE TRUCK       2012   UTTARPRADESH   \n",
       "158714  INTERMEDIATE COMMERCIAL VEHICLE       2007      KARNATAKA   \n",
       "171531                    HAULAGE TRUCK       2011   UTTARPRADESH   \n",
       "228218                              SCV       2017      TELANGANA   \n",
       "20802                               SCV       2009      TAMILNADU   \n",
       "72868                               BUS       2004      TAMILNADU   \n",
       "245955                            other       2002  MADHYAPRADESH   \n",
       "27800                               SCV       2011    MAHARASHTRA   \n",
       "39094                               SCV       2008  ANDHRAPRADESH   \n",
       "235126                              SCV       2014         KERALA   \n",
       "233475                    HAULAGE TRUCK       2003  ANDHRAPRADESH   \n",
       "\n",
       "       SHROT COND_MAPPED  num_Weight  num_CV_Age   PERMIT_MAPPED  \\\n",
       "67481    INVALID DETAILS    1300.000           2   NOT AVAILABLE   \n",
       "89039               FAIR    1300.000           6   NOT AVAILABLE   \n",
       "12528               FAIR    1300.000           2   NOT AVAILABLE   \n",
       "68530               FAIR    1300.000           7   NOT AVAILABLE   \n",
       "236860             other    1300.000           5  NOT APPLICABLE   \n",
       "95313    INVALID DETAILS    1300.000           7   NOT AVAILABLE   \n",
       "224679              POOR    6243.347          11   NOT AVAILABLE   \n",
       "6738     INVALID DETAILS    1300.000           3   NOT AVAILABLE   \n",
       "213094              FAIR    6243.347           8   NOT AVAILABLE   \n",
       "187364              POOR   16200.000           9   NOT AVAILABLE   \n",
       "158714              FAIR   11990.000          10   NOT AVAILABLE   \n",
       "171531              POOR   16200.000          10   NOT AVAILABLE   \n",
       "228218              GOOD    1300.000           2   NOT AVAILABLE   \n",
       "20802               FAIR    1300.000           5   NOT AVAILABLE   \n",
       "72868               FAIR    6243.347          13   NOT AVAILABLE   \n",
       "245955           AVERAGE    5950.000          19   NOT AVAILABLE   \n",
       "27800    INVALID DETAILS    1300.000           6   NOT AVAILABLE   \n",
       "39094               POOR    1300.000           5  NOT APPLICABLE   \n",
       "235126              FAIR    1300.000           8   NOT AVAILABLE   \n",
       "233475           AVERAGE   16200.000          16   NOT AVAILABLE   \n",
       "\n",
       "       INV_H_CATEGORY_mapping  num_METER_READING_cleaned  \\\n",
       "67481                      CV                 144776.150   \n",
       "89039                      CV                 151753.000   \n",
       "12528                      CV                 144776.150   \n",
       "68530                      CV                  89032.000   \n",
       "236860                     CV                 144776.150   \n",
       "95313                      CV                 144776.150   \n",
       "224679                     CV                 144776.150   \n",
       "6738                       CV                 144776.150   \n",
       "213094                     CV                 144776.150   \n",
       "187364                     CV                 144776.150   \n",
       "158714                     CV                 475140.000   \n",
       "171531                     CV                 144776.150   \n",
       "228218                     CV                  22043.000   \n",
       "20802                      CV                 144776.150   \n",
       "72868                      CV                  67753.000   \n",
       "245955                     CV                 144776.150   \n",
       "27800                      CV                 144776.150   \n",
       "39094                      CV                 205329.000   \n",
       "235126                     CV                 126983.000   \n",
       "233475                     CV                 144776.150   \n",
       "\n",
       "       INV_H_RC_STATUS_CLEANED_MAPPED  GP_PURPOSE_CLEANED VEHICLECONDITION  \\\n",
       "67481                     ORIGINAL RC  DELIVERY FOR BUYER        IMMOVABLE   \n",
       "89039                     ORIGINAL RC  DELIVERY FOR BUYER          MOVABLE   \n",
       "12528                     ORIGINAL RC  DELIVERY FOR BUYER          MOVABLE   \n",
       "68530                     ORIGINAL RC  DELIVERY FOR BUYER          MOVABLE   \n",
       "236860                  Not available                   0          MOVABLE   \n",
       "95313                     ORIGINAL RC  DELIVERY FOR BUYER        IMMOVABLE   \n",
       "224679                  NOT AVAILABLE  DELIVERY FOR BUYER          MOVABLE   \n",
       "6738                    NOT AVAILABLE  DELIVERY FOR BUYER        IMMOVABLE   \n",
       "213094                    ORIGINAL RC  DELIVERY FOR BUYER          MOVABLE   \n",
       "187364                  NOT AVAILABLE  DELIVERY FOR BUYER        IMMOVABLE   \n",
       "158714                    ORIGINAL RC  DELIVERY FOR BUYER          MOVABLE   \n",
       "171531                  NOT AVAILABLE  DELIVERY FOR BUYER        IMMOVABLE   \n",
       "228218                    ORIGINAL RC  DELIVERY FOR BUYER          MOVABLE   \n",
       "20802                     ORIGINAL RC  DELIVERY FOR BUYER          MOVABLE   \n",
       "72868                     ORIGINAL RC  DELIVERY FOR BUYER          MOVABLE   \n",
       "245955                  Not available  DELIVERY FOR BUYER          MOVABLE   \n",
       "27800                     ORIGINAL RC  DELIVERY FOR BUYER        IMMOVABLE   \n",
       "39094                     ORIGINAL RC  DELIVERY FOR BUYER        IMMOVABLE   \n",
       "235126                          other  DELIVERY FOR BUYER          MOVABLE   \n",
       "233475                    ORIGINAL RC  DELIVERY FOR BUYER          MOVABLE   \n",
       "\n",
       "         Moment_1        Moment_2  Moment_3  Moment_4  Predicted  Actual  \n",
       "67481   85448.943   970614449.150     1.532     5.048 136439.688  160000  \n",
       "89039  215710.629  9290270772.099     0.983     1.374 194199.156  125000  \n",
       "12528   99881.365  1593247544.607     1.129     1.780 147862.359  178000  \n",
       "68530  118394.526  2616654886.305     1.105     2.083  94856.625   75000  \n",
       "236860 210815.198  4476463090.061    -0.055    -0.371  78985.172  110000  \n",
       "95313  118394.526  2616654886.305     1.105     2.083 100751.805   80000  \n",
       "224679 262110.149 75457567637.165     3.113    12.685 136338.688  130000  \n",
       "6738    99881.365  1593247544.607     1.129     1.780  90474.359   90000  \n",
       "213094 262110.149 75457567637.165     3.113    12.685 321751.188  280000  \n",
       "187364 337494.983 30978575161.995     2.368    10.164 277292.156  290000  \n",
       "158714 308833.876 37282059012.170     1.110     1.082 227108.938  170000  \n",
       "171531 222329.921  6146576004.434     1.439     4.965 238317.000  235000  \n",
       "228218 118394.526  2616654886.305     1.105     2.083 260211.719  295000  \n",
       "20802  118394.526  2616654886.305     1.105     2.083 117776.508  128000  \n",
       "72868  262110.149 75457567637.165     3.113    12.685 114090.008   85000  \n",
       "245955 262110.149 75457567637.165     3.113    12.685  82739.117  100000  \n",
       "27800  117828.500  2873250226.949     1.198     3.360 116966.211  119000  \n",
       "39094  118394.526  2616654886.305     1.105     2.083  88481.750  102000  \n",
       "235126 233222.152  9210805154.981     0.735     0.501 223533.938  298000  \n",
       "233475 314132.870 24408090338.507     1.376     2.155 212883.844  165000  "
      ]
     },
     "execution_count": 683,
     "metadata": {},
     "output_type": "execute_result"
    }
   ],
   "source": [
    "X_test_copy.head(20)"
   ]
  },
  {
   "cell_type": "code",
   "execution_count": 684,
   "metadata": {},
   "outputs": [],
   "source": [
    "MAPE_test=abs((X_test_copy['Actual']-X_test_copy['Predicted'])/X_test_copy['Actual']).mean()*100"
   ]
  },
  {
   "cell_type": "code",
   "execution_count": 685,
   "metadata": {},
   "outputs": [
    {
     "data": {
      "text/plain": [
       "28.146796690735737"
      ]
     },
     "execution_count": 685,
     "metadata": {},
     "output_type": "execute_result"
    }
   ],
   "source": [
    "MAPE_test"
   ]
  },
  {
   "cell_type": "code",
   "execution_count": 686,
   "metadata": {},
   "outputs": [
    {
     "data": {
      "image/png": "[encoded data removed]",
      "text/plain": [
       "<Figure size 1000x1000 with 1 Axes>"
      ]
     },
     "metadata": {},
     "output_type": "display_data"
    }
   ],
   "source": [
    "plt.figure(figsize=(10,10))\n",
    "plt.scatter(X_test_copy['Actual'], X_test_copy['Predicted'], c='crimson')\n",
    "# plt.yscale('log')\n",
    "# plt.xscale('log')\n",
    "\n",
    "p1 = max(max(X_test_copy['Predicted']), max(X_test_copy['Actual']))\n",
    "p2 = min(min(X_test_copy['Predicted']), min(X_test_copy['Actual']))\n",
    "plt.plot([p1, p2], [p1, p2])\n",
    "plt.xlabel('Actual', fontsize=15)\n",
    "plt.ylabel('Predicted', fontsize=15)\n",
    "plt.axis('equal')\n",
    "plt.show()"
   ]
  },
  {
   "cell_type": "code",
   "execution_count": 687,
   "metadata": {},
   "outputs": [
    {
     "data": {
      "image/png": "[encoded data removed]",
      "text/plain": [
       "<Figure size 640x480 with 1 Axes>"
      ]
     },
     "metadata": {},
     "output_type": "display_data"
    }
   ],
   "source": [
    "plt.plot(X_test_copy['Actual'],label='Actual')\n",
    "#plt.plot(X_test_copy['Predicted'],label='Predicted')\n",
    "plt.legend()\n",
    "plt.grid()\n",
    "plt.show()"
   ]
  },
  {
   "cell_type": "code",
   "execution_count": 688,
   "metadata": {},
   "outputs": [
    {
     "ename": "OverflowError",
     "evalue": "Exceeded cell block limit (set 'agg.path.chunksize' rcparam)",
     "output_type": "error",
     "traceback": [
      "\u001b[0;31m---------------------------------------------------------------------------\u001b[0m",
      "\u001b[0;31mOverflowError\u001b[0m                             Traceback (most recent call last)",
      "\u001b[0;32m/opt/conda/lib/python3.7/site-packages/matplotlib/backends/backend_agg.py\u001b[0m in \u001b[0;36mdraw_path\u001b[0;34m(self, gc, path, transform, rgbFace)\u001b[0m\n\u001b[1;32m    145\u001b[0m             \u001b[0;32mtry\u001b[0m\u001b[0;34m:\u001b[0m\u001b[0;34m\u001b[0m\u001b[0;34m\u001b[0m\u001b[0m\n\u001b[0;32m--> 146\u001b[0;31m                 \u001b[0mself\u001b[0m\u001b[0;34m.\u001b[0m\u001b[0m_renderer\u001b[0m\u001b[0;34m.\u001b[0m\u001b[0mdraw_path\u001b[0m\u001b[0;34m(\u001b[0m\u001b[0mgc\u001b[0m\u001b[0;34m,\u001b[0m \u001b[0mpath\u001b[0m\u001b[0;34m,\u001b[0m \u001b[0mtransform\u001b[0m\u001b[0;34m,\u001b[0m \u001b[0mrgbFace\u001b[0m\u001b[0;34m)\u001b[0m\u001b[0;34m\u001b[0m\u001b[0;34m\u001b[0m\u001b[0m\n\u001b[0m\u001b[1;32m    147\u001b[0m             \u001b[0;32mexcept\u001b[0m \u001b[0mOverflowError\u001b[0m\u001b[0;34m:\u001b[0m\u001b[0;34m\u001b[0m\u001b[0;34m\u001b[0m\u001b[0m\n",
      "\u001b[0;31mOverflowError\u001b[0m: In draw_path: Exceeded cell block limit",
      "\nDuring handling of the above exception, another exception occurred:\n",
      "\u001b[0;31mOverflowError\u001b[0m                             Traceback (most recent call last)",
      "\u001b[0;32m/opt/conda/lib/python3.7/site-packages/IPython/core/formatters.py\u001b[0m in \u001b[0;36m__call__\u001b[0;34m(self, obj)\u001b[0m\n\u001b[1;32m    339\u001b[0m                 \u001b[0;32mpass\u001b[0m\u001b[0;34m\u001b[0m\u001b[0;34m\u001b[0m\u001b[0m\n\u001b[1;32m    340\u001b[0m             \u001b[0;32melse\u001b[0m\u001b[0;34m:\u001b[0m\u001b[0;34m\u001b[0m\u001b[0;34m\u001b[0m\u001b[0m\n\u001b[0;32m--> 341\u001b[0;31m                 \u001b[0;32mreturn\u001b[0m \u001b[0mprinter\u001b[0m\u001b[0;34m(\u001b[0m\u001b[0mobj\u001b[0m\u001b[0;34m)\u001b[0m\u001b[0;34m\u001b[0m\u001b[0;34m\u001b[0m\u001b[0m\n\u001b[0m\u001b[1;32m    342\u001b[0m             \u001b[0;31m# Finally look for special method names\u001b[0m\u001b[0;34m\u001b[0m\u001b[0;34m\u001b[0m\u001b[0;34m\u001b[0m\u001b[0m\n\u001b[1;32m    343\u001b[0m             \u001b[0mmethod\u001b[0m \u001b[0;34m=\u001b[0m \u001b[0mget_real_method\u001b[0m\u001b[0;34m(\u001b[0m\u001b[0mobj\u001b[0m\u001b[0;34m,\u001b[0m \u001b[0mself\u001b[0m\u001b[0;34m.\u001b[0m\u001b[0mprint_method\u001b[0m\u001b[0;34m)\u001b[0m\u001b[0;34m\u001b[0m\u001b[0;34m\u001b[0m\u001b[0m\n",
      "\u001b[0;32m/opt/conda/lib/python3.7/site-packages/IPython/core/pylabtools.py\u001b[0m in \u001b[0;36mprint_figure\u001b[0;34m(fig, fmt, bbox_inches, base64, **kwargs)\u001b[0m\n\u001b[1;32m    149\u001b[0m         \u001b[0mFigureCanvasBase\u001b[0m\u001b[0;34m(\u001b[0m\u001b[0mfig\u001b[0m\u001b[0;34m)\u001b[0m\u001b[0;34m\u001b[0m\u001b[0;34m\u001b[0m\u001b[0m\n\u001b[1;32m    150\u001b[0m \u001b[0;34m\u001b[0m\u001b[0m\n\u001b[0;32m--> 151\u001b[0;31m     \u001b[0mfig\u001b[0m\u001b[0;34m.\u001b[0m\u001b[0mcanvas\u001b[0m\u001b[0;34m.\u001b[0m\u001b[0mprint_figure\u001b[0m\u001b[0;34m(\u001b[0m\u001b[0mbytes_io\u001b[0m\u001b[0;34m,\u001b[0m \u001b[0;34m**\u001b[0m\u001b[0mkw\u001b[0m\u001b[0;34m)\u001b[0m\u001b[0;34m\u001b[0m\u001b[0;34m\u001b[0m\u001b[0m\n\u001b[0m\u001b[1;32m    152\u001b[0m     \u001b[0mdata\u001b[0m \u001b[0;34m=\u001b[0m \u001b[0mbytes_io\u001b[0m\u001b[0;34m.\u001b[0m\u001b[0mgetvalue\u001b[0m\u001b[0;34m(\u001b[0m\u001b[0;34m)\u001b[0m\u001b[0;34m\u001b[0m\u001b[0;34m\u001b[0m\u001b[0m\n\u001b[1;32m    153\u001b[0m     \u001b[0;32mif\u001b[0m \u001b[0mfmt\u001b[0m \u001b[0;34m==\u001b[0m \u001b[0;34m'svg'\u001b[0m\u001b[0;34m:\u001b[0m\u001b[0;34m\u001b[0m\u001b[0;34m\u001b[0m\u001b[0m\n",
      "\u001b[0;32m/opt/conda/lib/python3.7/site-packages/matplotlib/backend_bases.py\u001b[0m in \u001b[0;36mprint_figure\u001b[0;34m(self, filename, dpi, facecolor, edgecolor, orientation, format, bbox_inches, **kwargs)\u001b[0m\n\u001b[1;32m   2063\u001b[0m                         \u001b[0morientation\u001b[0m\u001b[0;34m=\u001b[0m\u001b[0morientation\u001b[0m\u001b[0;34m,\u001b[0m\u001b[0;34m\u001b[0m\u001b[0;34m\u001b[0m\u001b[0m\n\u001b[1;32m   2064\u001b[0m                         \u001b[0mdryrun\u001b[0m\u001b[0;34m=\u001b[0m\u001b[0;32mTrue\u001b[0m\u001b[0;34m,\u001b[0m\u001b[0;34m\u001b[0m\u001b[0;34m\u001b[0m\u001b[0m\n\u001b[0;32m-> 2065\u001b[0;31m                         **kwargs)\n\u001b[0m\u001b[1;32m   2066\u001b[0m                     \u001b[0mrenderer\u001b[0m \u001b[0;34m=\u001b[0m \u001b[0mself\u001b[0m\u001b[0;34m.\u001b[0m\u001b[0mfigure\u001b[0m\u001b[0;34m.\u001b[0m\u001b[0m_cachedRenderer\u001b[0m\u001b[0;34m\u001b[0m\u001b[0;34m\u001b[0m\u001b[0m\n\u001b[1;32m   2067\u001b[0m                     \u001b[0mbbox_artists\u001b[0m \u001b[0;34m=\u001b[0m \u001b[0mkwargs\u001b[0m\u001b[0;34m.\u001b[0m\u001b[0mpop\u001b[0m\u001b[0;34m(\u001b[0m\u001b[0;34m\"bbox_extra_artists\"\u001b[0m\u001b[0;34m,\u001b[0m \u001b[0;32mNone\u001b[0m\u001b[0;34m)\u001b[0m\u001b[0;34m\u001b[0m\u001b[0;34m\u001b[0m\u001b[0m\n",
      "\u001b[0;32m/opt/conda/lib/python3.7/site-packages/matplotlib/backends/backend_agg.py\u001b[0m in \u001b[0;36mprint_png\u001b[0;34m(self, filename_or_obj, metadata, pil_kwargs, *args, **kwargs)\u001b[0m\n\u001b[1;32m    525\u001b[0m \u001b[0;34m\u001b[0m\u001b[0m\n\u001b[1;32m    526\u001b[0m         \u001b[0;32melse\u001b[0m\u001b[0;34m:\u001b[0m\u001b[0;34m\u001b[0m\u001b[0;34m\u001b[0m\u001b[0m\n\u001b[0;32m--> 527\u001b[0;31m             \u001b[0mFigureCanvasAgg\u001b[0m\u001b[0;34m.\u001b[0m\u001b[0mdraw\u001b[0m\u001b[0;34m(\u001b[0m\u001b[0mself\u001b[0m\u001b[0;34m)\u001b[0m\u001b[0;34m\u001b[0m\u001b[0;34m\u001b[0m\u001b[0m\n\u001b[0m\u001b[1;32m    528\u001b[0m             \u001b[0mrenderer\u001b[0m \u001b[0;34m=\u001b[0m \u001b[0mself\u001b[0m\u001b[0;34m.\u001b[0m\u001b[0mget_renderer\u001b[0m\u001b[0;34m(\u001b[0m\u001b[0;34m)\u001b[0m\u001b[0;34m\u001b[0m\u001b[0;34m\u001b[0m\u001b[0m\n\u001b[1;32m    529\u001b[0m             \u001b[0;32mwith\u001b[0m \u001b[0mcbook\u001b[0m\u001b[0;34m.\u001b[0m\u001b[0m_setattr_cm\u001b[0m\u001b[0;34m(\u001b[0m\u001b[0mrenderer\u001b[0m\u001b[0;34m,\u001b[0m \u001b[0mdpi\u001b[0m\u001b[0;34m=\u001b[0m\u001b[0mself\u001b[0m\u001b[0;34m.\u001b[0m\u001b[0mfigure\u001b[0m\u001b[0;34m.\u001b[0m\u001b[0mdpi\u001b[0m\u001b[0;34m)\u001b[0m\u001b[0;34m,\u001b[0m\u001b[0;31m \u001b[0m\u001b[0;31m\\\u001b[0m\u001b[0;34m\u001b[0m\u001b[0;34m\u001b[0m\u001b[0m\n",
      "\u001b[0;32m/opt/conda/lib/python3.7/site-packages/matplotlib/backends/backend_agg.py\u001b[0m in \u001b[0;36mdraw\u001b[0;34m(self)\u001b[0m\n\u001b[1;32m    386\u001b[0m         \u001b[0mself\u001b[0m\u001b[0;34m.\u001b[0m\u001b[0mrenderer\u001b[0m \u001b[0;34m=\u001b[0m \u001b[0mself\u001b[0m\u001b[0;34m.\u001b[0m\u001b[0mget_renderer\u001b[0m\u001b[0;34m(\u001b[0m\u001b[0mcleared\u001b[0m\u001b[0;34m=\u001b[0m\u001b[0;32mTrue\u001b[0m\u001b[0;34m)\u001b[0m\u001b[0;34m\u001b[0m\u001b[0;34m\u001b[0m\u001b[0m\n\u001b[1;32m    387\u001b[0m         \u001b[0;32mwith\u001b[0m \u001b[0mRendererAgg\u001b[0m\u001b[0;34m.\u001b[0m\u001b[0mlock\u001b[0m\u001b[0;34m:\u001b[0m\u001b[0;34m\u001b[0m\u001b[0;34m\u001b[0m\u001b[0m\n\u001b[0;32m--> 388\u001b[0;31m             \u001b[0mself\u001b[0m\u001b[0;34m.\u001b[0m\u001b[0mfigure\u001b[0m\u001b[0;34m.\u001b[0m\u001b[0mdraw\u001b[0m\u001b[0;34m(\u001b[0m\u001b[0mself\u001b[0m\u001b[0;34m.\u001b[0m\u001b[0mrenderer\u001b[0m\u001b[0;34m)\u001b[0m\u001b[0;34m\u001b[0m\u001b[0;34m\u001b[0m\u001b[0m\n\u001b[0m\u001b[1;32m    389\u001b[0m             \u001b[0;31m# A GUI class may be need to update a window using this draw, so\u001b[0m\u001b[0;34m\u001b[0m\u001b[0;34m\u001b[0m\u001b[0;34m\u001b[0m\u001b[0m\n\u001b[1;32m    390\u001b[0m             \u001b[0;31m# don't forget to call the superclass.\u001b[0m\u001b[0;34m\u001b[0m\u001b[0;34m\u001b[0m\u001b[0;34m\u001b[0m\u001b[0m\n",
      "\u001b[0;32m/opt/conda/lib/python3.7/site-packages/matplotlib/artist.py\u001b[0m in \u001b[0;36mdraw_wrapper\u001b[0;34m(artist, renderer, *args, **kwargs)\u001b[0m\n\u001b[1;32m     36\u001b[0m                 \u001b[0mrenderer\u001b[0m\u001b[0;34m.\u001b[0m\u001b[0mstart_filter\u001b[0m\u001b[0;34m(\u001b[0m\u001b[0;34m)\u001b[0m\u001b[0;34m\u001b[0m\u001b[0;34m\u001b[0m\u001b[0m\n\u001b[1;32m     37\u001b[0m \u001b[0;34m\u001b[0m\u001b[0m\n\u001b[0;32m---> 38\u001b[0;31m             \u001b[0;32mreturn\u001b[0m \u001b[0mdraw\u001b[0m\u001b[0;34m(\u001b[0m\u001b[0martist\u001b[0m\u001b[0;34m,\u001b[0m \u001b[0mrenderer\u001b[0m\u001b[0;34m,\u001b[0m \u001b[0;34m*\u001b[0m\u001b[0margs\u001b[0m\u001b[0;34m,\u001b[0m \u001b[0;34m**\u001b[0m\u001b[0mkwargs\u001b[0m\u001b[0;34m)\u001b[0m\u001b[0;34m\u001b[0m\u001b[0;34m\u001b[0m\u001b[0m\n\u001b[0m\u001b[1;32m     39\u001b[0m         \u001b[0;32mfinally\u001b[0m\u001b[0;34m:\u001b[0m\u001b[0;34m\u001b[0m\u001b[0;34m\u001b[0m\u001b[0m\n\u001b[1;32m     40\u001b[0m             \u001b[0;32mif\u001b[0m \u001b[0martist\u001b[0m\u001b[0;34m.\u001b[0m\u001b[0mget_agg_filter\u001b[0m\u001b[0;34m(\u001b[0m\u001b[0;34m)\u001b[0m \u001b[0;32mis\u001b[0m \u001b[0;32mnot\u001b[0m \u001b[0;32mNone\u001b[0m\u001b[0;34m:\u001b[0m\u001b[0;34m\u001b[0m\u001b[0;34m\u001b[0m\u001b[0m\n",
      "\u001b[0;32m/opt/conda/lib/python3.7/site-packages/matplotlib/figure.py\u001b[0m in \u001b[0;36mdraw\u001b[0;34m(self, renderer)\u001b[0m\n\u001b[1;32m   1707\u001b[0m             \u001b[0mself\u001b[0m\u001b[0;34m.\u001b[0m\u001b[0mpatch\u001b[0m\u001b[0;34m.\u001b[0m\u001b[0mdraw\u001b[0m\u001b[0;34m(\u001b[0m\u001b[0mrenderer\u001b[0m\u001b[0;34m)\u001b[0m\u001b[0;34m\u001b[0m\u001b[0;34m\u001b[0m\u001b[0m\n\u001b[1;32m   1708\u001b[0m             mimage._draw_list_compositing_images(\n\u001b[0;32m-> 1709\u001b[0;31m                 renderer, self, artists, self.suppressComposite)\n\u001b[0m\u001b[1;32m   1710\u001b[0m \u001b[0;34m\u001b[0m\u001b[0m\n\u001b[1;32m   1711\u001b[0m             \u001b[0mrenderer\u001b[0m\u001b[0;34m.\u001b[0m\u001b[0mclose_group\u001b[0m\u001b[0;34m(\u001b[0m\u001b[0;34m'figure'\u001b[0m\u001b[0;34m)\u001b[0m\u001b[0;34m\u001b[0m\u001b[0;34m\u001b[0m\u001b[0m\n",
      "\u001b[0;32m/opt/conda/lib/python3.7/site-packages/matplotlib/image.py\u001b[0m in \u001b[0;36m_draw_list_compositing_images\u001b[0;34m(renderer, parent, artists, suppress_composite)\u001b[0m\n\u001b[1;32m    133\u001b[0m     \u001b[0;32mif\u001b[0m \u001b[0mnot_composite\u001b[0m \u001b[0;32mor\u001b[0m \u001b[0;32mnot\u001b[0m \u001b[0mhas_images\u001b[0m\u001b[0;34m:\u001b[0m\u001b[0;34m\u001b[0m\u001b[0;34m\u001b[0m\u001b[0m\n\u001b[1;32m    134\u001b[0m         \u001b[0;32mfor\u001b[0m \u001b[0ma\u001b[0m \u001b[0;32min\u001b[0m \u001b[0martists\u001b[0m\u001b[0;34m:\u001b[0m\u001b[0;34m\u001b[0m\u001b[0;34m\u001b[0m\u001b[0m\n\u001b[0;32m--> 135\u001b[0;31m             \u001b[0ma\u001b[0m\u001b[0;34m.\u001b[0m\u001b[0mdraw\u001b[0m\u001b[0;34m(\u001b[0m\u001b[0mrenderer\u001b[0m\u001b[0;34m)\u001b[0m\u001b[0;34m\u001b[0m\u001b[0;34m\u001b[0m\u001b[0m\n\u001b[0m\u001b[1;32m    136\u001b[0m     \u001b[0;32melse\u001b[0m\u001b[0;34m:\u001b[0m\u001b[0;34m\u001b[0m\u001b[0;34m\u001b[0m\u001b[0m\n\u001b[1;32m    137\u001b[0m         \u001b[0;31m# Composite any adjacent images together\u001b[0m\u001b[0;34m\u001b[0m\u001b[0;34m\u001b[0m\u001b[0;34m\u001b[0m\u001b[0m\n",
      "\u001b[0;32m/opt/conda/lib/python3.7/site-packages/matplotlib/artist.py\u001b[0m in \u001b[0;36mdraw_wrapper\u001b[0;34m(artist, renderer, *args, **kwargs)\u001b[0m\n\u001b[1;32m     36\u001b[0m                 \u001b[0mrenderer\u001b[0m\u001b[0;34m.\u001b[0m\u001b[0mstart_filter\u001b[0m\u001b[0;34m(\u001b[0m\u001b[0;34m)\u001b[0m\u001b[0;34m\u001b[0m\u001b[0;34m\u001b[0m\u001b[0m\n\u001b[1;32m     37\u001b[0m \u001b[0;34m\u001b[0m\u001b[0m\n\u001b[0;32m---> 38\u001b[0;31m             \u001b[0;32mreturn\u001b[0m \u001b[0mdraw\u001b[0m\u001b[0;34m(\u001b[0m\u001b[0martist\u001b[0m\u001b[0;34m,\u001b[0m \u001b[0mrenderer\u001b[0m\u001b[0;34m,\u001b[0m \u001b[0;34m*\u001b[0m\u001b[0margs\u001b[0m\u001b[0;34m,\u001b[0m \u001b[0;34m**\u001b[0m\u001b[0mkwargs\u001b[0m\u001b[0;34m)\u001b[0m\u001b[0;34m\u001b[0m\u001b[0;34m\u001b[0m\u001b[0m\n\u001b[0m\u001b[1;32m     39\u001b[0m         \u001b[0;32mfinally\u001b[0m\u001b[0;34m:\u001b[0m\u001b[0;34m\u001b[0m\u001b[0;34m\u001b[0m\u001b[0m\n\u001b[1;32m     40\u001b[0m             \u001b[0;32mif\u001b[0m \u001b[0martist\u001b[0m\u001b[0;34m.\u001b[0m\u001b[0mget_agg_filter\u001b[0m\u001b[0;34m(\u001b[0m\u001b[0;34m)\u001b[0m \u001b[0;32mis\u001b[0m \u001b[0;32mnot\u001b[0m \u001b[0;32mNone\u001b[0m\u001b[0;34m:\u001b[0m\u001b[0;34m\u001b[0m\u001b[0;34m\u001b[0m\u001b[0m\n",
      "\u001b[0;32m/opt/conda/lib/python3.7/site-packages/matplotlib/axes/_base.py\u001b[0m in \u001b[0;36mdraw\u001b[0;34m(self, renderer, inframe)\u001b[0m\n\u001b[1;32m   2645\u001b[0m             \u001b[0mrenderer\u001b[0m\u001b[0;34m.\u001b[0m\u001b[0mstop_rasterizing\u001b[0m\u001b[0;34m(\u001b[0m\u001b[0;34m)\u001b[0m\u001b[0;34m\u001b[0m\u001b[0;34m\u001b[0m\u001b[0m\n\u001b[1;32m   2646\u001b[0m \u001b[0;34m\u001b[0m\u001b[0m\n\u001b[0;32m-> 2647\u001b[0;31m         \u001b[0mmimage\u001b[0m\u001b[0;34m.\u001b[0m\u001b[0m_draw_list_compositing_images\u001b[0m\u001b[0;34m(\u001b[0m\u001b[0mrenderer\u001b[0m\u001b[0;34m,\u001b[0m \u001b[0mself\u001b[0m\u001b[0;34m,\u001b[0m \u001b[0martists\u001b[0m\u001b[0;34m)\u001b[0m\u001b[0;34m\u001b[0m\u001b[0;34m\u001b[0m\u001b[0m\n\u001b[0m\u001b[1;32m   2648\u001b[0m \u001b[0;34m\u001b[0m\u001b[0m\n\u001b[1;32m   2649\u001b[0m         \u001b[0mrenderer\u001b[0m\u001b[0;34m.\u001b[0m\u001b[0mclose_group\u001b[0m\u001b[0;34m(\u001b[0m\u001b[0;34m'axes'\u001b[0m\u001b[0;34m)\u001b[0m\u001b[0;34m\u001b[0m\u001b[0;34m\u001b[0m\u001b[0m\n",
      "\u001b[0;32m/opt/conda/lib/python3.7/site-packages/matplotlib/image.py\u001b[0m in \u001b[0;36m_draw_list_compositing_images\u001b[0;34m(renderer, parent, artists, suppress_composite)\u001b[0m\n\u001b[1;32m    133\u001b[0m     \u001b[0;32mif\u001b[0m \u001b[0mnot_composite\u001b[0m \u001b[0;32mor\u001b[0m \u001b[0;32mnot\u001b[0m \u001b[0mhas_images\u001b[0m\u001b[0;34m:\u001b[0m\u001b[0;34m\u001b[0m\u001b[0;34m\u001b[0m\u001b[0m\n\u001b[1;32m    134\u001b[0m         \u001b[0;32mfor\u001b[0m \u001b[0ma\u001b[0m \u001b[0;32min\u001b[0m \u001b[0martists\u001b[0m\u001b[0;34m:\u001b[0m\u001b[0;34m\u001b[0m\u001b[0;34m\u001b[0m\u001b[0m\n\u001b[0;32m--> 135\u001b[0;31m             \u001b[0ma\u001b[0m\u001b[0;34m.\u001b[0m\u001b[0mdraw\u001b[0m\u001b[0;34m(\u001b[0m\u001b[0mrenderer\u001b[0m\u001b[0;34m)\u001b[0m\u001b[0;34m\u001b[0m\u001b[0;34m\u001b[0m\u001b[0m\n\u001b[0m\u001b[1;32m    136\u001b[0m     \u001b[0;32melse\u001b[0m\u001b[0;34m:\u001b[0m\u001b[0;34m\u001b[0m\u001b[0;34m\u001b[0m\u001b[0m\n\u001b[1;32m    137\u001b[0m         \u001b[0;31m# Composite any adjacent images together\u001b[0m\u001b[0;34m\u001b[0m\u001b[0;34m\u001b[0m\u001b[0;34m\u001b[0m\u001b[0m\n",
      "\u001b[0;32m/opt/conda/lib/python3.7/site-packages/matplotlib/artist.py\u001b[0m in \u001b[0;36mdraw_wrapper\u001b[0;34m(artist, renderer, *args, **kwargs)\u001b[0m\n\u001b[1;32m     36\u001b[0m                 \u001b[0mrenderer\u001b[0m\u001b[0;34m.\u001b[0m\u001b[0mstart_filter\u001b[0m\u001b[0;34m(\u001b[0m\u001b[0;34m)\u001b[0m\u001b[0;34m\u001b[0m\u001b[0;34m\u001b[0m\u001b[0m\n\u001b[1;32m     37\u001b[0m \u001b[0;34m\u001b[0m\u001b[0m\n\u001b[0;32m---> 38\u001b[0;31m             \u001b[0;32mreturn\u001b[0m \u001b[0mdraw\u001b[0m\u001b[0;34m(\u001b[0m\u001b[0martist\u001b[0m\u001b[0;34m,\u001b[0m \u001b[0mrenderer\u001b[0m\u001b[0;34m,\u001b[0m \u001b[0;34m*\u001b[0m\u001b[0margs\u001b[0m\u001b[0;34m,\u001b[0m \u001b[0;34m**\u001b[0m\u001b[0mkwargs\u001b[0m\u001b[0;34m)\u001b[0m\u001b[0;34m\u001b[0m\u001b[0;34m\u001b[0m\u001b[0m\n\u001b[0m\u001b[1;32m     39\u001b[0m         \u001b[0;32mfinally\u001b[0m\u001b[0;34m:\u001b[0m\u001b[0;34m\u001b[0m\u001b[0;34m\u001b[0m\u001b[0m\n\u001b[1;32m     40\u001b[0m             \u001b[0;32mif\u001b[0m \u001b[0martist\u001b[0m\u001b[0;34m.\u001b[0m\u001b[0mget_agg_filter\u001b[0m\u001b[0;34m(\u001b[0m\u001b[0;34m)\u001b[0m \u001b[0;32mis\u001b[0m \u001b[0;32mnot\u001b[0m \u001b[0;32mNone\u001b[0m\u001b[0;34m:\u001b[0m\u001b[0;34m\u001b[0m\u001b[0;34m\u001b[0m\u001b[0m\n",
      "\u001b[0;32m/opt/conda/lib/python3.7/site-packages/matplotlib/lines.py\u001b[0m in \u001b[0;36mdraw\u001b[0;34m(self, renderer)\u001b[0m\n\u001b[1;32m    800\u001b[0m \u001b[0;34m\u001b[0m\u001b[0m\n\u001b[1;32m    801\u001b[0m                 \u001b[0mgc\u001b[0m\u001b[0;34m.\u001b[0m\u001b[0mset_dashes\u001b[0m\u001b[0;34m(\u001b[0m\u001b[0mself\u001b[0m\u001b[0;34m.\u001b[0m\u001b[0m_dashOffset\u001b[0m\u001b[0;34m,\u001b[0m \u001b[0mself\u001b[0m\u001b[0;34m.\u001b[0m\u001b[0m_dashSeq\u001b[0m\u001b[0;34m)\u001b[0m\u001b[0;34m\u001b[0m\u001b[0;34m\u001b[0m\u001b[0m\n\u001b[0;32m--> 802\u001b[0;31m                 \u001b[0mrenderer\u001b[0m\u001b[0;34m.\u001b[0m\u001b[0mdraw_path\u001b[0m\u001b[0;34m(\u001b[0m\u001b[0mgc\u001b[0m\u001b[0;34m,\u001b[0m \u001b[0mtpath\u001b[0m\u001b[0;34m,\u001b[0m \u001b[0maffine\u001b[0m\u001b[0;34m.\u001b[0m\u001b[0mfrozen\u001b[0m\u001b[0;34m(\u001b[0m\u001b[0;34m)\u001b[0m\u001b[0;34m)\u001b[0m\u001b[0;34m\u001b[0m\u001b[0;34m\u001b[0m\u001b[0m\n\u001b[0m\u001b[1;32m    803\u001b[0m                 \u001b[0mgc\u001b[0m\u001b[0;34m.\u001b[0m\u001b[0mrestore\u001b[0m\u001b[0;34m(\u001b[0m\u001b[0;34m)\u001b[0m\u001b[0;34m\u001b[0m\u001b[0;34m\u001b[0m\u001b[0m\n\u001b[1;32m    804\u001b[0m \u001b[0;34m\u001b[0m\u001b[0m\n",
      "\u001b[0;32m/opt/conda/lib/python3.7/site-packages/matplotlib/backends/backend_agg.py\u001b[0m in \u001b[0;36mdraw_path\u001b[0;34m(self, gc, path, transform, rgbFace)\u001b[0m\n\u001b[1;32m    146\u001b[0m                 \u001b[0mself\u001b[0m\u001b[0;34m.\u001b[0m\u001b[0m_renderer\u001b[0m\u001b[0;34m.\u001b[0m\u001b[0mdraw_path\u001b[0m\u001b[0;34m(\u001b[0m\u001b[0mgc\u001b[0m\u001b[0;34m,\u001b[0m \u001b[0mpath\u001b[0m\u001b[0;34m,\u001b[0m \u001b[0mtransform\u001b[0m\u001b[0;34m,\u001b[0m \u001b[0mrgbFace\u001b[0m\u001b[0;34m)\u001b[0m\u001b[0;34m\u001b[0m\u001b[0;34m\u001b[0m\u001b[0m\n\u001b[1;32m    147\u001b[0m             \u001b[0;32mexcept\u001b[0m \u001b[0mOverflowError\u001b[0m\u001b[0;34m:\u001b[0m\u001b[0;34m\u001b[0m\u001b[0;34m\u001b[0m\u001b[0m\n\u001b[0;32m--> 148\u001b[0;31m                 raise OverflowError(\"Exceeded cell block limit (set \"\n\u001b[0m\u001b[1;32m    149\u001b[0m                                     \"'agg.path.chunksize' rcparam)\")\n\u001b[1;32m    150\u001b[0m \u001b[0;34m\u001b[0m\u001b[0m\n",
      "\u001b[0;31mOverflowError\u001b[0m: Exceeded cell block limit (set 'agg.path.chunksize' rcparam)"
     ]
    },
    {
     "data": {
      "text/plain": [
       "<Figure size 640x480 with 1 Axes>"
      ]
     },
     "metadata": {},
     "output_type": "display_data"
    }
   ],
   "source": [
    "plt.plot(X_train_copy['Actual'],label='Actual')\n",
    "plt.plot(X_train_copy['Predicted'],label='Predicted')\n",
    "plt.legend()\n",
    "plt.grid()\n",
    "plt.show()"
   ]
  },
  {
   "cell_type": "code",
   "execution_count": null,
   "metadata": {},
   "outputs": [],
   "source": []
  },
  {
   "cell_type": "code",
   "execution_count": null,
   "metadata": {},
   "outputs": [],
   "source": []
  },
  {
   "cell_type": "code",
   "execution_count": null,
   "metadata": {},
   "outputs": [],
   "source": []
  },
  {
   "cell_type": "code",
   "execution_count": 689,
   "metadata": {},
   "outputs": [],
   "source": [
    "#Model_data_moment4=Model_data.groupby('MMV', as_index=False)['num_SOLD_AMOUNT']\n",
    "#profile = pp.ProfileReport(Model_data)\n",
    "#profile.to_file(\"output.html\")"
   ]
  },
  {
   "cell_type": "code",
   "execution_count": 690,
   "metadata": {},
   "outputs": [],
   "source": [
    "#from statsmodels.stats.outliers_influence import variance_inflation_factor as vif"
   ]
  },
  {
   "cell_type": "code",
   "execution_count": 691,
   "metadata": {},
   "outputs": [],
   "source": [
    "#for i in range(len(Model_data.columns[:-1])):\n",
    "#    v=vif(np.matrix(Model_data[:-1]),i)\n",
    "#    print('Varince {}:{}'.format(Model_data[i],round(v,2)))"
   ]
  },
  {
   "cell_type": "code",
   "execution_count": 692,
   "metadata": {},
   "outputs": [],
   "source": [
    "#Model_data.merge(Model_data_moment1,on='MMV',how='left')\n",
    "#Model_data.merge(Model_data_moment2,on='MMV',how='left')\n",
    "#Model_data.merge(Model_data_moment3,on='MMV',how='left')\n",
    "#Model_data.merge(Model_data_moment4,on='MMV',how='left')\n",
    "#Model_data.head()"
   ]
  },
  {
   "cell_type": "code",
   "execution_count": 693,
   "metadata": {},
   "outputs": [],
   "source": [
    "#one_hot_encoded_data = pd.get_dummies(Model_data, columns = ['MMV','Fuel_Clean', 'BodyType',\n",
    "#       'CV_State_Clean','SHROT COND_MAPPED', \n",
    "#       'PERMIT_MAPPED', 'INV_H_CATEGORY_mapping',\n",
    "#       'INV_H_RC_STATUS_CLEANED_MAPPED', 'GP_PURPOSE_CLEANED',\n",
    "#       'VEHICLECONDITION'])"
   ]
  },
  {
   "cell_type": "code",
   "execution_count": 694,
   "metadata": {},
   "outputs": [],
   "source": [
    "#one_hot_encoded_data.shape"
   ]
  },
  {
   "cell_type": "code",
   "execution_count": 695,
   "metadata": {},
   "outputs": [],
   "source": [
    "#Model_data=one_hot_encoded_data.copy()"
   ]
  },
  {
   "cell_type": "code",
   "execution_count": 696,
   "metadata": {},
   "outputs": [
    {
     "data": {
      "text/html": [
       "<div>\n",
       "<style scoped>\n",
       "    .dataframe tbody tr th:only-of-type {\n",
       "        vertical-align: middle;\n",
       "    }\n",
       "\n",
       "    .dataframe tbody tr th {\n",
       "        vertical-align: top;\n",
       "    }\n",
       "\n",
       "    .dataframe thead th {\n",
       "        text-align: right;\n",
       "    }\n",
       "</style>\n",
       "<table border=\"1\" class=\"dataframe\">\n",
       "  <thead>\n",
       "    <tr style=\"text-align: right;\">\n",
       "      <th></th>\n",
       "      <th>MMV</th>\n",
       "      <th>Fuel_Clean</th>\n",
       "      <th>BodyType</th>\n",
       "      <th>MAKE_YEAR</th>\n",
       "      <th>num_SOLD_AMOUNT</th>\n",
       "      <th>CV_State_Clean</th>\n",
       "      <th>SHROT COND_MAPPED</th>\n",
       "      <th>num_Weight</th>\n",
       "      <th>num_CV_Age</th>\n",
       "      <th>PERMIT_MAPPED</th>\n",
       "      <th>INV_H_CATEGORY_mapping</th>\n",
       "      <th>num_METER_READING_cleaned</th>\n",
       "      <th>INV_H_RC_STATUS_CLEANED_MAPPED</th>\n",
       "      <th>GP_PURPOSE_CLEANED</th>\n",
       "      <th>VEHICLECONDITION</th>\n",
       "      <th>Moment_1</th>\n",
       "      <th>Moment_2</th>\n",
       "      <th>Moment_3</th>\n",
       "      <th>Moment_4</th>\n",
       "    </tr>\n",
       "  </thead>\n",
       "  <tbody>\n",
       "    <tr>\n",
       "      <th>0</th>\n",
       "      <td>TATAMAGIC4X2MINIBUS</td>\n",
       "      <td>DIESEL</td>\n",
       "      <td>MINI BUS</td>\n",
       "      <td>2008</td>\n",
       "      <td>87000</td>\n",
       "      <td>ANDHRAPRADESH</td>\n",
       "      <td>FAIR</td>\n",
       "      <td>6243.347</td>\n",
       "      <td>7</td>\n",
       "      <td>NOT AVAILABLE</td>\n",
       "      <td>CV</td>\n",
       "      <td>144776.150</td>\n",
       "      <td>ORIGINAL RC</td>\n",
       "      <td>DELIVERY FOR BUYER</td>\n",
       "      <td>MOVABLE</td>\n",
       "      <td>110539.986</td>\n",
       "      <td>2259516545.104</td>\n",
       "      <td>1.187</td>\n",
       "      <td>2.986</td>\n",
       "    </tr>\n",
       "    <tr>\n",
       "      <th>1</th>\n",
       "      <td>TATAACE4X2PICKUP</td>\n",
       "      <td>DIESEL</td>\n",
       "      <td>SCV</td>\n",
       "      <td>2008</td>\n",
       "      <td>125000</td>\n",
       "      <td>ANDHRAPRADESH</td>\n",
       "      <td>INVALID DETAILS</td>\n",
       "      <td>1300.000</td>\n",
       "      <td>7</td>\n",
       "      <td>NOT AVAILABLE</td>\n",
       "      <td>CV</td>\n",
       "      <td>144776.150</td>\n",
       "      <td>ORIGINAL RC</td>\n",
       "      <td>DELIVERY FOR BUYER</td>\n",
       "      <td>IMMOVABLE</td>\n",
       "      <td>118394.526</td>\n",
       "      <td>2616654886.305</td>\n",
       "      <td>1.105</td>\n",
       "      <td>2.083</td>\n",
       "    </tr>\n",
       "    <tr>\n",
       "      <th>2</th>\n",
       "      <td>TATAACE4X2PICKUP</td>\n",
       "      <td>DIESEL</td>\n",
       "      <td>SCV</td>\n",
       "      <td>2009</td>\n",
       "      <td>76000</td>\n",
       "      <td>ANDHRAPRADESH</td>\n",
       "      <td>FAIR</td>\n",
       "      <td>1300.000</td>\n",
       "      <td>6</td>\n",
       "      <td>NOT AVAILABLE</td>\n",
       "      <td>CV</td>\n",
       "      <td>144776.150</td>\n",
       "      <td>NOT AVAILABLE</td>\n",
       "      <td>DELIVERY FOR BUYER</td>\n",
       "      <td>MOVABLE</td>\n",
       "      <td>118394.526</td>\n",
       "      <td>2616654886.305</td>\n",
       "      <td>1.105</td>\n",
       "      <td>2.083</td>\n",
       "    </tr>\n",
       "    <tr>\n",
       "      <th>3</th>\n",
       "      <td>MAHINDRAMAXX4X2PICKUP</td>\n",
       "      <td>DIESEL</td>\n",
       "      <td>PICKUP</td>\n",
       "      <td>2008</td>\n",
       "      <td>115000</td>\n",
       "      <td>ANDHRAPRADESH</td>\n",
       "      <td>INVALID DETAILS</td>\n",
       "      <td>2930.000</td>\n",
       "      <td>7</td>\n",
       "      <td>NOT AVAILABLE</td>\n",
       "      <td>CV</td>\n",
       "      <td>144776.150</td>\n",
       "      <td>NOT AVAILABLE</td>\n",
       "      <td>DELIVERY FOR BUYER</td>\n",
       "      <td>IMMOVABLE</td>\n",
       "      <td>134894.712</td>\n",
       "      <td>4026839104.200</td>\n",
       "      <td>1.215</td>\n",
       "      <td>2.632</td>\n",
       "    </tr>\n",
       "    <tr>\n",
       "      <th>4</th>\n",
       "      <td>TATAACEHT4X2PICKUP</td>\n",
       "      <td>DIESEL</td>\n",
       "      <td>SCV</td>\n",
       "      <td>2010</td>\n",
       "      <td>88000</td>\n",
       "      <td>ANDHRAPRADESH</td>\n",
       "      <td>FAIR</td>\n",
       "      <td>1300.000</td>\n",
       "      <td>5</td>\n",
       "      <td>NOT AVAILABLE</td>\n",
       "      <td>CV</td>\n",
       "      <td>144776.150</td>\n",
       "      <td>ORIGINAL RC</td>\n",
       "      <td>DELIVERY FOR BUYER</td>\n",
       "      <td>MOVABLE</td>\n",
       "      <td>130406.377</td>\n",
       "      <td>3053817626.486</td>\n",
       "      <td>0.896</td>\n",
       "      <td>1.075</td>\n",
       "    </tr>\n",
       "  </tbody>\n",
       "</table>\n",
       "</div>"
      ],
      "text/plain": [
       "                     MMV Fuel_Clean  BodyType  MAKE_YEAR  num_SOLD_AMOUNT  \\\n",
       "0    TATAMAGIC4X2MINIBUS     DIESEL  MINI BUS       2008            87000   \n",
       "1       TATAACE4X2PICKUP     DIESEL       SCV       2008           125000   \n",
       "2       TATAACE4X2PICKUP     DIESEL       SCV       2009            76000   \n",
       "3  MAHINDRAMAXX4X2PICKUP     DIESEL    PICKUP       2008           115000   \n",
       "4     TATAACEHT4X2PICKUP     DIESEL       SCV       2010            88000   \n",
       "\n",
       "  CV_State_Clean SHROT COND_MAPPED  num_Weight  num_CV_Age  PERMIT_MAPPED  \\\n",
       "0  ANDHRAPRADESH              FAIR    6243.347           7  NOT AVAILABLE   \n",
       "1  ANDHRAPRADESH   INVALID DETAILS    1300.000           7  NOT AVAILABLE   \n",
       "2  ANDHRAPRADESH              FAIR    1300.000           6  NOT AVAILABLE   \n",
       "3  ANDHRAPRADESH   INVALID DETAILS    2930.000           7  NOT AVAILABLE   \n",
       "4  ANDHRAPRADESH              FAIR    1300.000           5  NOT AVAILABLE   \n",
       "\n",
       "  INV_H_CATEGORY_mapping  num_METER_READING_cleaned  \\\n",
       "0                     CV                 144776.150   \n",
       "1                     CV                 144776.150   \n",
       "2                     CV                 144776.150   \n",
       "3                     CV                 144776.150   \n",
       "4                     CV                 144776.150   \n",
       "\n",
       "  INV_H_RC_STATUS_CLEANED_MAPPED  GP_PURPOSE_CLEANED VEHICLECONDITION  \\\n",
       "0                    ORIGINAL RC  DELIVERY FOR BUYER          MOVABLE   \n",
       "1                    ORIGINAL RC  DELIVERY FOR BUYER        IMMOVABLE   \n",
       "2                  NOT AVAILABLE  DELIVERY FOR BUYER          MOVABLE   \n",
       "3                  NOT AVAILABLE  DELIVERY FOR BUYER        IMMOVABLE   \n",
       "4                    ORIGINAL RC  DELIVERY FOR BUYER          MOVABLE   \n",
       "\n",
       "    Moment_1       Moment_2  Moment_3  Moment_4  \n",
       "0 110539.986 2259516545.104     1.187     2.986  \n",
       "1 118394.526 2616654886.305     1.105     2.083  \n",
       "2 118394.526 2616654886.305     1.105     2.083  \n",
       "3 134894.712 4026839104.200     1.215     2.632  \n",
       "4 130406.377 3053817626.486     0.896     1.075  "
      ]
     },
     "execution_count": 696,
     "metadata": {},
     "output_type": "execute_result"
    }
   ],
   "source": [
    "Model_data.head()"
   ]
  },
  {
   "cell_type": "code",
   "execution_count": 697,
   "metadata": {},
   "outputs": [],
   "source": [
    "num_features=['num_Weight', 'num_CV_Age',\n",
    "       'num_METER_READING_cleaned']"
   ]
  },
  {
   "cell_type": "code",
   "execution_count": 698,
   "metadata": {},
   "outputs": [],
   "source": [
    "#Q1 = num_f.quantile(0.25)\n",
    "#Q3 = num_f.quantile(0.75)\n",
    "#IQR = Q3 - Q1\n",
    "#print(IQR)"
   ]
  },
  {
   "cell_type": "code",
   "execution_count": 699,
   "metadata": {},
   "outputs": [],
   "source": [
    "from sklearn.preprocessing import StandardScaler\n",
    "from sklearn.preprocessing import MinMaxScaler\n",
    "scaler = MinMaxScaler()\n",
    "# scaler = StandardScaler()\n",
    "Model_data[num_features]=scaler.fit_transform(Model_data[num_features])"
   ]
  },
  {
   "cell_type": "code",
   "execution_count": 700,
   "metadata": {},
   "outputs": [
    {
     "data": {
      "text/html": [
       "<div>\n",
       "<style scoped>\n",
       "    .dataframe tbody tr th:only-of-type {\n",
       "        vertical-align: middle;\n",
       "    }\n",
       "\n",
       "    .dataframe tbody tr th {\n",
       "        vertical-align: top;\n",
       "    }\n",
       "\n",
       "    .dataframe thead th {\n",
       "        text-align: right;\n",
       "    }\n",
       "</style>\n",
       "<table border=\"1\" class=\"dataframe\">\n",
       "  <thead>\n",
       "    <tr style=\"text-align: right;\">\n",
       "      <th></th>\n",
       "      <th>MMV</th>\n",
       "      <th>Fuel_Clean</th>\n",
       "      <th>BodyType</th>\n",
       "      <th>MAKE_YEAR</th>\n",
       "      <th>num_SOLD_AMOUNT</th>\n",
       "      <th>CV_State_Clean</th>\n",
       "      <th>SHROT COND_MAPPED</th>\n",
       "      <th>num_Weight</th>\n",
       "      <th>num_CV_Age</th>\n",
       "      <th>PERMIT_MAPPED</th>\n",
       "      <th>INV_H_CATEGORY_mapping</th>\n",
       "      <th>num_METER_READING_cleaned</th>\n",
       "      <th>INV_H_RC_STATUS_CLEANED_MAPPED</th>\n",
       "      <th>GP_PURPOSE_CLEANED</th>\n",
       "      <th>VEHICLECONDITION</th>\n",
       "      <th>Moment_1</th>\n",
       "      <th>Moment_2</th>\n",
       "      <th>Moment_3</th>\n",
       "      <th>Moment_4</th>\n",
       "    </tr>\n",
       "  </thead>\n",
       "  <tbody>\n",
       "    <tr>\n",
       "      <th>0</th>\n",
       "      <td>TATAMAGIC4X2MINIBUS</td>\n",
       "      <td>DIESEL</td>\n",
       "      <td>MINI BUS</td>\n",
       "      <td>2008</td>\n",
       "      <td>87000</td>\n",
       "      <td>ANDHRAPRADESH</td>\n",
       "      <td>FAIR</td>\n",
       "      <td>0.127</td>\n",
       "      <td>0.231</td>\n",
       "      <td>NOT AVAILABLE</td>\n",
       "      <td>CV</td>\n",
       "      <td>0.036</td>\n",
       "      <td>ORIGINAL RC</td>\n",
       "      <td>DELIVERY FOR BUYER</td>\n",
       "      <td>MOVABLE</td>\n",
       "      <td>110539.986</td>\n",
       "      <td>2259516545.104</td>\n",
       "      <td>1.187</td>\n",
       "      <td>2.986</td>\n",
       "    </tr>\n",
       "    <tr>\n",
       "      <th>1</th>\n",
       "      <td>TATAACE4X2PICKUP</td>\n",
       "      <td>DIESEL</td>\n",
       "      <td>SCV</td>\n",
       "      <td>2008</td>\n",
       "      <td>125000</td>\n",
       "      <td>ANDHRAPRADESH</td>\n",
       "      <td>INVALID DETAILS</td>\n",
       "      <td>0.000</td>\n",
       "      <td>0.231</td>\n",
       "      <td>NOT AVAILABLE</td>\n",
       "      <td>CV</td>\n",
       "      <td>0.036</td>\n",
       "      <td>ORIGINAL RC</td>\n",
       "      <td>DELIVERY FOR BUYER</td>\n",
       "      <td>IMMOVABLE</td>\n",
       "      <td>118394.526</td>\n",
       "      <td>2616654886.305</td>\n",
       "      <td>1.105</td>\n",
       "      <td>2.083</td>\n",
       "    </tr>\n",
       "    <tr>\n",
       "      <th>2</th>\n",
       "      <td>TATAACE4X2PICKUP</td>\n",
       "      <td>DIESEL</td>\n",
       "      <td>SCV</td>\n",
       "      <td>2009</td>\n",
       "      <td>76000</td>\n",
       "      <td>ANDHRAPRADESH</td>\n",
       "      <td>FAIR</td>\n",
       "      <td>0.000</td>\n",
       "      <td>0.192</td>\n",
       "      <td>NOT AVAILABLE</td>\n",
       "      <td>CV</td>\n",
       "      <td>0.036</td>\n",
       "      <td>NOT AVAILABLE</td>\n",
       "      <td>DELIVERY FOR BUYER</td>\n",
       "      <td>MOVABLE</td>\n",
       "      <td>118394.526</td>\n",
       "      <td>2616654886.305</td>\n",
       "      <td>1.105</td>\n",
       "      <td>2.083</td>\n",
       "    </tr>\n",
       "    <tr>\n",
       "      <th>3</th>\n",
       "      <td>MAHINDRAMAXX4X2PICKUP</td>\n",
       "      <td>DIESEL</td>\n",
       "      <td>PICKUP</td>\n",
       "      <td>2008</td>\n",
       "      <td>115000</td>\n",
       "      <td>ANDHRAPRADESH</td>\n",
       "      <td>INVALID DETAILS</td>\n",
       "      <td>0.042</td>\n",
       "      <td>0.231</td>\n",
       "      <td>NOT AVAILABLE</td>\n",
       "      <td>CV</td>\n",
       "      <td>0.036</td>\n",
       "      <td>NOT AVAILABLE</td>\n",
       "      <td>DELIVERY FOR BUYER</td>\n",
       "      <td>IMMOVABLE</td>\n",
       "      <td>134894.712</td>\n",
       "      <td>4026839104.200</td>\n",
       "      <td>1.215</td>\n",
       "      <td>2.632</td>\n",
       "    </tr>\n",
       "    <tr>\n",
       "      <th>4</th>\n",
       "      <td>TATAACEHT4X2PICKUP</td>\n",
       "      <td>DIESEL</td>\n",
       "      <td>SCV</td>\n",
       "      <td>2010</td>\n",
       "      <td>88000</td>\n",
       "      <td>ANDHRAPRADESH</td>\n",
       "      <td>FAIR</td>\n",
       "      <td>0.000</td>\n",
       "      <td>0.154</td>\n",
       "      <td>NOT AVAILABLE</td>\n",
       "      <td>CV</td>\n",
       "      <td>0.036</td>\n",
       "      <td>ORIGINAL RC</td>\n",
       "      <td>DELIVERY FOR BUYER</td>\n",
       "      <td>MOVABLE</td>\n",
       "      <td>130406.377</td>\n",
       "      <td>3053817626.486</td>\n",
       "      <td>0.896</td>\n",
       "      <td>1.075</td>\n",
       "    </tr>\n",
       "  </tbody>\n",
       "</table>\n",
       "</div>"
      ],
      "text/plain": [
       "                     MMV Fuel_Clean  BodyType  MAKE_YEAR  num_SOLD_AMOUNT  \\\n",
       "0    TATAMAGIC4X2MINIBUS     DIESEL  MINI BUS       2008            87000   \n",
       "1       TATAACE4X2PICKUP     DIESEL       SCV       2008           125000   \n",
       "2       TATAACE4X2PICKUP     DIESEL       SCV       2009            76000   \n",
       "3  MAHINDRAMAXX4X2PICKUP     DIESEL    PICKUP       2008           115000   \n",
       "4     TATAACEHT4X2PICKUP     DIESEL       SCV       2010            88000   \n",
       "\n",
       "  CV_State_Clean SHROT COND_MAPPED  num_Weight  num_CV_Age  PERMIT_MAPPED  \\\n",
       "0  ANDHRAPRADESH              FAIR       0.127       0.231  NOT AVAILABLE   \n",
       "1  ANDHRAPRADESH   INVALID DETAILS       0.000       0.231  NOT AVAILABLE   \n",
       "2  ANDHRAPRADESH              FAIR       0.000       0.192  NOT AVAILABLE   \n",
       "3  ANDHRAPRADESH   INVALID DETAILS       0.042       0.231  NOT AVAILABLE   \n",
       "4  ANDHRAPRADESH              FAIR       0.000       0.154  NOT AVAILABLE   \n",
       "\n",
       "  INV_H_CATEGORY_mapping  num_METER_READING_cleaned  \\\n",
       "0                     CV                      0.036   \n",
       "1                     CV                      0.036   \n",
       "2                     CV                      0.036   \n",
       "3                     CV                      0.036   \n",
       "4                     CV                      0.036   \n",
       "\n",
       "  INV_H_RC_STATUS_CLEANED_MAPPED  GP_PURPOSE_CLEANED VEHICLECONDITION  \\\n",
       "0                    ORIGINAL RC  DELIVERY FOR BUYER          MOVABLE   \n",
       "1                    ORIGINAL RC  DELIVERY FOR BUYER        IMMOVABLE   \n",
       "2                  NOT AVAILABLE  DELIVERY FOR BUYER          MOVABLE   \n",
       "3                  NOT AVAILABLE  DELIVERY FOR BUYER        IMMOVABLE   \n",
       "4                    ORIGINAL RC  DELIVERY FOR BUYER          MOVABLE   \n",
       "\n",
       "    Moment_1       Moment_2  Moment_3  Moment_4  \n",
       "0 110539.986 2259516545.104     1.187     2.986  \n",
       "1 118394.526 2616654886.305     1.105     2.083  \n",
       "2 118394.526 2616654886.305     1.105     2.083  \n",
       "3 134894.712 4026839104.200     1.215     2.632  \n",
       "4 130406.377 3053817626.486     0.896     1.075  "
      ]
     },
     "execution_count": 700,
     "metadata": {},
     "output_type": "execute_result"
    }
   ],
   "source": [
    "Model_data.head()"
   ]
  },
  {
   "cell_type": "code",
   "execution_count": 701,
   "metadata": {},
   "outputs": [],
   "source": [
    "Model_data1=Model_data.copy()"
   ]
  },
  {
   "cell_type": "code",
   "execution_count": 702,
   "metadata": {},
   "outputs": [],
   "source": [
    "#from scipy import stats\n",
    "#import numpy as np\n",
    "#z = np.abs(stats.zscore(model_data1))\n",
    "#print(z)"
   ]
  },
  {
   "cell_type": "code",
   "execution_count": 703,
   "metadata": {},
   "outputs": [],
   "source": [
    "#threshold = 3\n",
    "#print(np.where(z > 3))"
   ]
  },
  {
   "cell_type": "code",
   "execution_count": 704,
   "metadata": {},
   "outputs": [],
   "source": [
    "#Q1 = model_data1.quantile(0.25)\n",
    "#Q3 = model_data1.quantile(0.75)\n",
    "#IQR = Q3 - Q1\n",
    "#print(IQR)"
   ]
  },
  {
   "cell_type": "code",
   "execution_count": 705,
   "metadata": {},
   "outputs": [],
   "source": [
    "#print(model_data1 < (Q1 - 1.5 * IQR)) |(model_data1 > (Q3 + 1.5 * IQR))"
   ]
  },
  {
   "cell_type": "code",
   "execution_count": 706,
   "metadata": {},
   "outputs": [],
   "source": [
    "#model_data.info()\n",
    "#Model_data=model_data.reset_index()"
   ]
  },
  {
   "cell_type": "code",
   "execution_count": 707,
   "metadata": {},
   "outputs": [],
   "source": [
    "X=Model_data.drop(['num_SOLD_AMOUNT'],axis=1)\n",
    "y=Model_data[['num_SOLD_AMOUNT']]"
   ]
  },
  {
   "cell_type": "code",
   "execution_count": 708,
   "metadata": {},
   "outputs": [
    {
     "name": "stdout",
     "output_type": "stream",
     "text": [
      "248733\n",
      "186549\n",
      "62184\n"
     ]
    }
   ],
   "source": [
    "from sklearn import model_selection\n",
    "\n",
    "X_train, X_test, y_train, y_test = model_selection.train_test_split(X,\n",
    "                                                                    y,\n",
    "                                                                    test_size=0.25,\n",
    "                                                                    shuffle=True,\n",
    "                                                                    random_state=0)\n",
    "print(y.shape[0])\n",
    "print(y_train.shape[0])\n",
    "print(y_test.shape[0])"
   ]
  },
  {
   "cell_type": "code",
   "execution_count": 709,
   "metadata": {},
   "outputs": [
    {
     "name": "stdout",
     "output_type": "stream",
     "text": [
      "Requirement already satisfied: xgboost in /opt/conda/lib/python3.7/site-packages (1.6.2)\n",
      "Requirement already satisfied: scipy in /opt/conda/lib/python3.7/site-packages (from xgboost) (1.4.1)\n",
      "Requirement already satisfied: numpy in /opt/conda/lib/python3.7/site-packages (from xgboost) (1.21.6)\n",
      "\u001b[33mWARNING: Running pip as the 'root' user can result in broken permissions and conflicting behaviour with the system package manager. It is recommended to use a virtual environment instead: https://pip.pypa.io/warnings/venv\u001b[0m\u001b[33m\n",
      "\u001b[0m\n",
      "\u001b[1m[\u001b[0m\u001b[34;49mnotice\u001b[0m\u001b[1;39;49m]\u001b[0m\u001b[39;49m A new release of pip is available: \u001b[0m\u001b[31;49m23.0\u001b[0m\u001b[39;49m -> \u001b[0m\u001b[32;49m23.0.1\u001b[0m\n",
      "\u001b[1m[\u001b[0m\u001b[34;49mnotice\u001b[0m\u001b[1;39;49m]\u001b[0m\u001b[39;49m To update, run: \u001b[0m\u001b[32;49mpip install --upgrade pip\u001b[0m\n"
     ]
    }
   ],
   "source": [
    "!pip install xgboost\n"
   ]
  },
  {
   "cell_type": "code",
   "execution_count": 710,
   "metadata": {},
   "outputs": [],
   "source": [
    "import xgboost\n",
    "regressor=xgboost.XGBRegressor()"
   ]
  },
  {
   "cell_type": "code",
   "execution_count": 711,
   "metadata": {},
   "outputs": [],
   "source": [
    "clf = xgboost.XGBRegressor(base_score=0.25, booster='gbtree', colsample_bylevel=1,\n",
    "       colsample_bytree=0.1, gamma=0, learning_rate=0.001, max_delta_step=0.7,\n",
    "       max_depth=10, min_child_num_Weight=2, missing=1, n_estimators=850,\n",
    "       n_jobs=1, nthread=None, objective='reg:linear', random_state=707,\n",
    "       reg_alpha=10, reg_lambda=300, scale_pos_num_Weight=0.1, seed=42,\n",
    "       silent=True, subsample=0.1)"
   ]
  },
  {
   "cell_type": "code",
   "execution_count": 712,
   "metadata": {},
   "outputs": [
    {
     "ename": "ValueError",
     "evalue": "DataFrame.dtypes for data must be int, float, bool or category.  When\ncategorical type is supplied, DMatrix parameter `enable_categorical` must\nbe set to `True`. Invalid columns:MMV, Fuel_Clean, BodyType, CV_State_Clean, SHROT COND_MAPPED, PERMIT_MAPPED, INV_H_CATEGORY_mapping, INV_H_RC_STATUS_CLEANED_MAPPED, GP_PURPOSE_CLEANED, VEHICLECONDITION",
     "output_type": "error",
     "traceback": [
      "\u001b[0;31m---------------------------------------------------------------------------\u001b[0m",
      "\u001b[0;31mValueError\u001b[0m                                Traceback (most recent call last)",
      "\u001b[0;32m<ipython-input-712-e52c8bffe1d8>\u001b[0m in \u001b[0;36m<module>\u001b[0;34m\u001b[0m\n\u001b[1;32m      1\u001b[0m clf.fit(X_train, y_train, early_stopping_rounds=900, eval_metric=[\"mape\",'error','logloss'],\n\u001b[0;32m----> 2\u001b[0;31m         eval_set=[(X_train, y_train), (X_test, y_test)],verbose=0)\n\u001b[0m",
      "\u001b[0;32m/opt/conda/lib/python3.7/site-packages/xgboost/core.py\u001b[0m in \u001b[0;36minner_f\u001b[0;34m(*args, **kwargs)\u001b[0m\n\u001b[1;32m    573\u001b[0m         \u001b[0;32mfor\u001b[0m \u001b[0mk\u001b[0m\u001b[0;34m,\u001b[0m \u001b[0marg\u001b[0m \u001b[0;32min\u001b[0m \u001b[0mzip\u001b[0m\u001b[0;34m(\u001b[0m\u001b[0msig\u001b[0m\u001b[0;34m.\u001b[0m\u001b[0mparameters\u001b[0m\u001b[0;34m,\u001b[0m \u001b[0margs\u001b[0m\u001b[0;34m)\u001b[0m\u001b[0;34m:\u001b[0m\u001b[0;34m\u001b[0m\u001b[0;34m\u001b[0m\u001b[0m\n\u001b[1;32m    574\u001b[0m             \u001b[0mkwargs\u001b[0m\u001b[0;34m[\u001b[0m\u001b[0mk\u001b[0m\u001b[0;34m]\u001b[0m \u001b[0;34m=\u001b[0m \u001b[0marg\u001b[0m\u001b[0;34m\u001b[0m\u001b[0;34m\u001b[0m\u001b[0m\n\u001b[0;32m--> 575\u001b[0;31m         \u001b[0;32mreturn\u001b[0m \u001b[0mf\u001b[0m\u001b[0;34m(\u001b[0m\u001b[0;34m**\u001b[0m\u001b[0mkwargs\u001b[0m\u001b[0;34m)\u001b[0m\u001b[0;34m\u001b[0m\u001b[0;34m\u001b[0m\u001b[0m\n\u001b[0m\u001b[1;32m    576\u001b[0m \u001b[0;34m\u001b[0m\u001b[0m\n\u001b[1;32m    577\u001b[0m     \u001b[0;32mreturn\u001b[0m \u001b[0minner_f\u001b[0m\u001b[0;34m\u001b[0m\u001b[0;34m\u001b[0m\u001b[0m\n",
      "\u001b[0;32m/opt/conda/lib/python3.7/site-packages/xgboost/sklearn.py\u001b[0m in \u001b[0;36mfit\u001b[0;34m(self, X, y, sample_weight, base_margin, eval_set, eval_metric, early_stopping_rounds, verbose, xgb_model, sample_weight_eval_set, base_margin_eval_set, feature_weights, callbacks)\u001b[0m\n\u001b[1;32m    944\u001b[0m             \u001b[0meval_qid\u001b[0m\u001b[0;34m=\u001b[0m\u001b[0;32mNone\u001b[0m\u001b[0;34m,\u001b[0m\u001b[0;34m\u001b[0m\u001b[0;34m\u001b[0m\u001b[0m\n\u001b[1;32m    945\u001b[0m             \u001b[0mcreate_dmatrix\u001b[0m\u001b[0;34m=\u001b[0m\u001b[0;32mlambda\u001b[0m \u001b[0;34m**\u001b[0m\u001b[0mkwargs\u001b[0m\u001b[0;34m:\u001b[0m \u001b[0mDMatrix\u001b[0m\u001b[0;34m(\u001b[0m\u001b[0mnthread\u001b[0m\u001b[0;34m=\u001b[0m\u001b[0mself\u001b[0m\u001b[0;34m.\u001b[0m\u001b[0mn_jobs\u001b[0m\u001b[0;34m,\u001b[0m \u001b[0;34m**\u001b[0m\u001b[0mkwargs\u001b[0m\u001b[0;34m)\u001b[0m\u001b[0;34m,\u001b[0m\u001b[0;34m\u001b[0m\u001b[0;34m\u001b[0m\u001b[0m\n\u001b[0;32m--> 946\u001b[0;31m             \u001b[0menable_categorical\u001b[0m\u001b[0;34m=\u001b[0m\u001b[0mself\u001b[0m\u001b[0;34m.\u001b[0m\u001b[0menable_categorical\u001b[0m\u001b[0;34m,\u001b[0m\u001b[0;34m\u001b[0m\u001b[0;34m\u001b[0m\u001b[0m\n\u001b[0m\u001b[1;32m    947\u001b[0m         )\n\u001b[1;32m    948\u001b[0m         \u001b[0mparams\u001b[0m \u001b[0;34m=\u001b[0m \u001b[0mself\u001b[0m\u001b[0;34m.\u001b[0m\u001b[0mget_xgb_params\u001b[0m\u001b[0;34m(\u001b[0m\u001b[0;34m)\u001b[0m\u001b[0;34m\u001b[0m\u001b[0;34m\u001b[0m\u001b[0m\n",
      "\u001b[0;32m/opt/conda/lib/python3.7/site-packages/xgboost/sklearn.py\u001b[0m in \u001b[0;36m_wrap_evaluation_matrices\u001b[0;34m(missing, X, y, group, qid, sample_weight, base_margin, feature_weights, eval_set, sample_weight_eval_set, base_margin_eval_set, eval_group, eval_qid, create_dmatrix, enable_categorical)\u001b[0m\n\u001b[1;32m    408\u001b[0m         \u001b[0mfeature_weights\u001b[0m\u001b[0;34m=\u001b[0m\u001b[0mfeature_weights\u001b[0m\u001b[0;34m,\u001b[0m\u001b[0;34m\u001b[0m\u001b[0;34m\u001b[0m\u001b[0m\n\u001b[1;32m    409\u001b[0m         \u001b[0mmissing\u001b[0m\u001b[0;34m=\u001b[0m\u001b[0mmissing\u001b[0m\u001b[0;34m,\u001b[0m\u001b[0;34m\u001b[0m\u001b[0;34m\u001b[0m\u001b[0m\n\u001b[0;32m--> 410\u001b[0;31m         \u001b[0menable_categorical\u001b[0m\u001b[0;34m=\u001b[0m\u001b[0menable_categorical\u001b[0m\u001b[0;34m,\u001b[0m\u001b[0;34m\u001b[0m\u001b[0;34m\u001b[0m\u001b[0m\n\u001b[0m\u001b[1;32m    411\u001b[0m     )\n\u001b[1;32m    412\u001b[0m \u001b[0;34m\u001b[0m\u001b[0m\n",
      "\u001b[0;32m/opt/conda/lib/python3.7/site-packages/xgboost/sklearn.py\u001b[0m in \u001b[0;36m<lambda>\u001b[0;34m(**kwargs)\u001b[0m\n\u001b[1;32m    943\u001b[0m             \u001b[0meval_group\u001b[0m\u001b[0;34m=\u001b[0m\u001b[0;32mNone\u001b[0m\u001b[0;34m,\u001b[0m\u001b[0;34m\u001b[0m\u001b[0;34m\u001b[0m\u001b[0m\n\u001b[1;32m    944\u001b[0m             \u001b[0meval_qid\u001b[0m\u001b[0;34m=\u001b[0m\u001b[0;32mNone\u001b[0m\u001b[0;34m,\u001b[0m\u001b[0;34m\u001b[0m\u001b[0;34m\u001b[0m\u001b[0m\n\u001b[0;32m--> 945\u001b[0;31m             \u001b[0mcreate_dmatrix\u001b[0m\u001b[0;34m=\u001b[0m\u001b[0;32mlambda\u001b[0m \u001b[0;34m**\u001b[0m\u001b[0mkwargs\u001b[0m\u001b[0;34m:\u001b[0m \u001b[0mDMatrix\u001b[0m\u001b[0;34m(\u001b[0m\u001b[0mnthread\u001b[0m\u001b[0;34m=\u001b[0m\u001b[0mself\u001b[0m\u001b[0;34m.\u001b[0m\u001b[0mn_jobs\u001b[0m\u001b[0;34m,\u001b[0m \u001b[0;34m**\u001b[0m\u001b[0mkwargs\u001b[0m\u001b[0;34m)\u001b[0m\u001b[0;34m,\u001b[0m\u001b[0;34m\u001b[0m\u001b[0;34m\u001b[0m\u001b[0m\n\u001b[0m\u001b[1;32m    946\u001b[0m             \u001b[0menable_categorical\u001b[0m\u001b[0;34m=\u001b[0m\u001b[0mself\u001b[0m\u001b[0;34m.\u001b[0m\u001b[0menable_categorical\u001b[0m\u001b[0;34m,\u001b[0m\u001b[0;34m\u001b[0m\u001b[0;34m\u001b[0m\u001b[0m\n\u001b[1;32m    947\u001b[0m         )\n",
      "\u001b[0;32m/opt/conda/lib/python3.7/site-packages/xgboost/core.py\u001b[0m in \u001b[0;36minner_f\u001b[0;34m(*args, **kwargs)\u001b[0m\n\u001b[1;32m    573\u001b[0m         \u001b[0;32mfor\u001b[0m \u001b[0mk\u001b[0m\u001b[0;34m,\u001b[0m \u001b[0marg\u001b[0m \u001b[0;32min\u001b[0m \u001b[0mzip\u001b[0m\u001b[0;34m(\u001b[0m\u001b[0msig\u001b[0m\u001b[0;34m.\u001b[0m\u001b[0mparameters\u001b[0m\u001b[0;34m,\u001b[0m \u001b[0margs\u001b[0m\u001b[0;34m)\u001b[0m\u001b[0;34m:\u001b[0m\u001b[0;34m\u001b[0m\u001b[0;34m\u001b[0m\u001b[0m\n\u001b[1;32m    574\u001b[0m             \u001b[0mkwargs\u001b[0m\u001b[0;34m[\u001b[0m\u001b[0mk\u001b[0m\u001b[0;34m]\u001b[0m \u001b[0;34m=\u001b[0m \u001b[0marg\u001b[0m\u001b[0;34m\u001b[0m\u001b[0;34m\u001b[0m\u001b[0m\n\u001b[0;32m--> 575\u001b[0;31m         \u001b[0;32mreturn\u001b[0m \u001b[0mf\u001b[0m\u001b[0;34m(\u001b[0m\u001b[0;34m**\u001b[0m\u001b[0mkwargs\u001b[0m\u001b[0;34m)\u001b[0m\u001b[0;34m\u001b[0m\u001b[0;34m\u001b[0m\u001b[0m\n\u001b[0m\u001b[1;32m    576\u001b[0m \u001b[0;34m\u001b[0m\u001b[0m\n\u001b[1;32m    577\u001b[0m     \u001b[0;32mreturn\u001b[0m \u001b[0minner_f\u001b[0m\u001b[0;34m\u001b[0m\u001b[0;34m\u001b[0m\u001b[0m\n",
      "\u001b[0;32m/opt/conda/lib/python3.7/site-packages/xgboost/core.py\u001b[0m in \u001b[0;36m__init__\u001b[0;34m(self, data, label, weight, base_margin, missing, silent, feature_names, feature_types, nthread, group, qid, label_lower_bound, label_upper_bound, feature_weights, enable_categorical)\u001b[0m\n\u001b[1;32m    690\u001b[0m             \u001b[0mfeature_names\u001b[0m\u001b[0;34m=\u001b[0m\u001b[0mfeature_names\u001b[0m\u001b[0;34m,\u001b[0m\u001b[0;34m\u001b[0m\u001b[0;34m\u001b[0m\u001b[0m\n\u001b[1;32m    691\u001b[0m             \u001b[0mfeature_types\u001b[0m\u001b[0;34m=\u001b[0m\u001b[0mfeature_types\u001b[0m\u001b[0;34m,\u001b[0m\u001b[0;34m\u001b[0m\u001b[0;34m\u001b[0m\u001b[0m\n\u001b[0;32m--> 692\u001b[0;31m             \u001b[0menable_categorical\u001b[0m\u001b[0;34m=\u001b[0m\u001b[0menable_categorical\u001b[0m\u001b[0;34m,\u001b[0m\u001b[0;34m\u001b[0m\u001b[0;34m\u001b[0m\u001b[0m\n\u001b[0m\u001b[1;32m    693\u001b[0m         )\n\u001b[1;32m    694\u001b[0m         \u001b[0;32massert\u001b[0m \u001b[0mhandle\u001b[0m \u001b[0;32mis\u001b[0m \u001b[0;32mnot\u001b[0m \u001b[0;32mNone\u001b[0m\u001b[0;34m\u001b[0m\u001b[0;34m\u001b[0m\u001b[0m\n",
      "\u001b[0;32m/opt/conda/lib/python3.7/site-packages/xgboost/data.py\u001b[0m in \u001b[0;36mdispatch_data_backend\u001b[0;34m(data, missing, threads, feature_names, feature_types, enable_categorical)\u001b[0m\n\u001b[1;32m    888\u001b[0m     \u001b[0;32mif\u001b[0m \u001b[0m_is_pandas_df\u001b[0m\u001b[0;34m(\u001b[0m\u001b[0mdata\u001b[0m\u001b[0;34m)\u001b[0m\u001b[0;34m:\u001b[0m\u001b[0;34m\u001b[0m\u001b[0;34m\u001b[0m\u001b[0m\n\u001b[1;32m    889\u001b[0m         return _from_pandas_df(data, enable_categorical, missing, threads,\n\u001b[0;32m--> 890\u001b[0;31m                                feature_names, feature_types)\n\u001b[0m\u001b[1;32m    891\u001b[0m     \u001b[0;32mif\u001b[0m \u001b[0m_is_pandas_series\u001b[0m\u001b[0;34m(\u001b[0m\u001b[0mdata\u001b[0m\u001b[0;34m)\u001b[0m\u001b[0;34m:\u001b[0m\u001b[0;34m\u001b[0m\u001b[0;34m\u001b[0m\u001b[0m\n\u001b[1;32m    892\u001b[0m         return _from_pandas_series(\n",
      "\u001b[0;32m/opt/conda/lib/python3.7/site-packages/xgboost/data.py\u001b[0m in \u001b[0;36m_from_pandas_df\u001b[0;34m(data, enable_categorical, missing, nthread, feature_names, feature_types)\u001b[0m\n\u001b[1;32m    343\u001b[0m ) -> Tuple[ctypes.c_void_p, FeatureNames, Optional[List[str]]]:\n\u001b[1;32m    344\u001b[0m     data, feature_names, feature_types = _transform_pandas_df(\n\u001b[0;32m--> 345\u001b[0;31m         \u001b[0mdata\u001b[0m\u001b[0;34m,\u001b[0m \u001b[0menable_categorical\u001b[0m\u001b[0;34m,\u001b[0m \u001b[0mfeature_names\u001b[0m\u001b[0;34m,\u001b[0m \u001b[0mfeature_types\u001b[0m\u001b[0;34m\u001b[0m\u001b[0;34m\u001b[0m\u001b[0m\n\u001b[0m\u001b[1;32m    346\u001b[0m     )\n\u001b[1;32m    347\u001b[0m     \u001b[0;32mreturn\u001b[0m \u001b[0m_from_numpy_array\u001b[0m\u001b[0;34m(\u001b[0m\u001b[0mdata\u001b[0m\u001b[0;34m,\u001b[0m \u001b[0mmissing\u001b[0m\u001b[0;34m,\u001b[0m \u001b[0mnthread\u001b[0m\u001b[0;34m,\u001b[0m \u001b[0mfeature_names\u001b[0m\u001b[0;34m,\u001b[0m \u001b[0mfeature_types\u001b[0m\u001b[0;34m)\u001b[0m\u001b[0;34m\u001b[0m\u001b[0;34m\u001b[0m\u001b[0m\n",
      "\u001b[0;32m/opt/conda/lib/python3.7/site-packages/xgboost/data.py\u001b[0m in \u001b[0;36m_transform_pandas_df\u001b[0;34m(data, enable_categorical, feature_names, feature_types, meta, meta_type)\u001b[0m\n\u001b[1;32m    280\u001b[0m         \u001b[0;32mfor\u001b[0m \u001b[0mdtype\u001b[0m \u001b[0;32min\u001b[0m \u001b[0mdata\u001b[0m\u001b[0;34m.\u001b[0m\u001b[0mdtypes\u001b[0m\u001b[0;34m\u001b[0m\u001b[0;34m\u001b[0m\u001b[0m\n\u001b[1;32m    281\u001b[0m     ):\n\u001b[0;32m--> 282\u001b[0;31m         \u001b[0m_invalid_dataframe_dtype\u001b[0m\u001b[0;34m(\u001b[0m\u001b[0mdata\u001b[0m\u001b[0;34m)\u001b[0m\u001b[0;34m\u001b[0m\u001b[0;34m\u001b[0m\u001b[0m\n\u001b[0m\u001b[1;32m    283\u001b[0m \u001b[0;34m\u001b[0m\u001b[0m\n\u001b[1;32m    284\u001b[0m     \u001b[0;31m# handle feature names\u001b[0m\u001b[0;34m\u001b[0m\u001b[0;34m\u001b[0m\u001b[0;34m\u001b[0m\u001b[0m\n",
      "\u001b[0;32m/opt/conda/lib/python3.7/site-packages/xgboost/data.py\u001b[0m in \u001b[0;36m_invalid_dataframe_dtype\u001b[0;34m(data)\u001b[0m\n\u001b[1;32m    244\u001b[0m \u001b[0mcategorical\u001b[0m \u001b[0mtype\u001b[0m \u001b[0;32mis\u001b[0m \u001b[0msupplied\u001b[0m\u001b[0;34m,\u001b[0m \u001b[0mDMatrix\u001b[0m \u001b[0mparameter\u001b[0m\u001b[0;31m \u001b[0m\u001b[0;31m`\u001b[0m\u001b[0menable_categorical\u001b[0m\u001b[0;31m`\u001b[0m \u001b[0mmust\u001b[0m\u001b[0;34m\u001b[0m\u001b[0;34m\u001b[0m\u001b[0m\n\u001b[1;32m    245\u001b[0m be set to `True`.\"\"\" + err\n\u001b[0;32m--> 246\u001b[0;31m     \u001b[0;32mraise\u001b[0m \u001b[0mValueError\u001b[0m\u001b[0;34m(\u001b[0m\u001b[0mmsg\u001b[0m\u001b[0;34m)\u001b[0m\u001b[0;34m\u001b[0m\u001b[0;34m\u001b[0m\u001b[0m\n\u001b[0m\u001b[1;32m    247\u001b[0m \u001b[0;34m\u001b[0m\u001b[0m\n\u001b[1;32m    248\u001b[0m \u001b[0;34m\u001b[0m\u001b[0m\n",
      "\u001b[0;31mValueError\u001b[0m: DataFrame.dtypes for data must be int, float, bool or category.  When\ncategorical type is supplied, DMatrix parameter `enable_categorical` must\nbe set to `True`. Invalid columns:MMV, Fuel_Clean, BodyType, CV_State_Clean, SHROT COND_MAPPED, PERMIT_MAPPED, INV_H_CATEGORY_mapping, INV_H_RC_STATUS_CLEANED_MAPPED, GP_PURPOSE_CLEANED, VEHICLECONDITION"
     ]
    }
   ],
   "source": [
    "clf.fit(X_train, y_train, early_stopping_rounds=900, eval_metric=[\"mape\",'error','logloss'],\n",
    "        eval_set=[(X_train, y_train), (X_test, y_test)],verbose=0)"
   ]
  },
  {
   "cell_type": "code",
   "execution_count": null,
   "metadata": {},
   "outputs": [],
   "source": [
    "#clf.fit(X_train, y_train)\n",
    "results = clf.evals_result()\n",
    "\n",
    "plt.figure(figsize=(8,5))\n",
    "plt.plot(results[\"validation_0\"][\"mape\"], label=\"Training loss\")\n",
    "plt.plot(results[\"validation_1\"][\"mape\"], label=\"Test loss\")\n",
    "plt.axvline(21, color=\"gray\", label=\"Base\")\n",
    "plt.xlabel(\"Number of rounds\")\n",
    "plt.ylabel(\"Loss\")\n",
    "plt.legend()\n",
    "\n"
   ]
  },
  {
   "cell_type": "code",
   "execution_count": null,
   "metadata": {},
   "outputs": [],
   "source": [
    "clf.best_ntree_limit"
   ]
  },
  {
   "cell_type": "code",
   "execution_count": null,
   "metadata": {},
   "outputs": [],
   "source": [
    "booster=['gbtree','gblinear']\n",
    "base_score=[0.25,0.5,0.75,1]"
   ]
  },
  {
   "cell_type": "code",
   "execution_count": null,
   "metadata": {},
   "outputs": [],
   "source": [
    "n_estimators = [100, 500, 900, 1100, 1500]\n",
    "#n_estimators = [100, 500]\n",
    "max_depth = [2, 3, 5, 8, 10, 12, 15]\n",
    "learning_rate=[0.001,0.01,0.05,0.1,0.15,0.20,0.30]\n",
    "min_child_num_Weight=[1,2,3,4,5,7]\n",
    "#'min_child_weight': np.arange(0.1, 10.1, 0.1)\n",
    "#gamma=[7,10]\n",
    "\n",
    "# Define the grid of hyperparameters to search\n",
    "hyperparameter_grid = {\n",
    "    'n_estimators': n_estimators,\n",
    "    'max_depth':max_depth,\n",
    "    'learning_rate':learning_rate,\n",
    "    'min_child_num_Weight':min_child_num_Weight,\n",
    "    #'min_child_weight': np.arange(0.1, 10.1, 0.1),\n",
    "    'booster':booster,\n",
    "    'base_score':base_score,\n",
    "    #'gamma':gamma\n",
    "    }#"
   ]
  },
  {
   "cell_type": "code",
   "execution_count": null,
   "metadata": {},
   "outputs": [],
   "source": [
    "# Set up the random search with 2-fold cross validation\n",
    "random_cv = RandomizedSearchCV(estimator=regressor,\n",
    "            param_distributions=hyperparameter_grid,\n",
    "            cv=5, n_iter=2,\n",
    "            scoring = 'neg_mean_absolute_error',n_jobs = 4,\n",
    "            verbose = 5, \n",
    "            return_train_score = True,\n",
    "            random_state=42,\n",
    "            refit=True)"
   ]
  },
  {
   "cell_type": "code",
   "execution_count": null,
   "metadata": {},
   "outputs": [],
   "source": [
    "#i=1\n",
    "#kf = StratifiedKFold(n_splits=10,random_state=1,shuffle=True)\n",
    "#for train_index,test_index in kf.split(X,y):\n",
    "#     print('\\n{} of kfold {}'.format(i,kf.n_splits))\n",
    "#     xtr,xvl = X.loc[train_index],X.loc[test_index]\n",
    "#     ytr,yvl = y[train_index],y[test_index]\n",
    "#     model = GridSearchCV(XGBClassifier() ,param_distributions=hyperparameter_grid, cv=10, scoring= 'f1',iid=True)\n",
    "#     model.fit(xtr, ytr)\n",
    "#     print (model.best_params_)\n",
    "#     pred=model.predict(xvl)\n",
    "#     print('accuracy_score',accuracy_score(yvl,pred))\n",
    "#     i+=1"
   ]
  },
  {
   "cell_type": "code",
   "execution_count": null,
   "metadata": {},
   "outputs": [],
   "source": [
    "random_cv.fit(X_train,y_train)\n"
   ]
  },
  {
   "cell_type": "code",
   "execution_count": null,
   "metadata": {},
   "outputs": [],
   "source": [
    " random_cv.best_params_, random_cv.best_score_, random_cv.best_estimator_"
   ]
  },
  {
   "cell_type": "code",
   "execution_count": null,
   "metadata": {},
   "outputs": [],
   "source": [
    "y_train_pred=random_cv.predict(X_train)"
   ]
  },
  {
   "cell_type": "code",
   "execution_count": null,
   "metadata": {},
   "outputs": [],
   "source": [
    "from sklearn.metrics import r2_score"
   ]
  },
  {
   "cell_type": "code",
   "execution_count": null,
   "metadata": {},
   "outputs": [],
   "source": [
    "r2_score(y_train,y_train_pred)"
   ]
  },
  {
   "cell_type": "code",
   "execution_count": null,
   "metadata": {},
   "outputs": [],
   "source": [
    "X_train_copy=X_train.copy()"
   ]
  },
  {
   "cell_type": "code",
   "execution_count": null,
   "metadata": {},
   "outputs": [],
   "source": [
    "X_train_copy['Predicted']=y_train_pred"
   ]
  },
  {
   "cell_type": "code",
   "execution_count": null,
   "metadata": {},
   "outputs": [],
   "source": [
    "X_train_copy['Actual']=y_train"
   ]
  },
  {
   "cell_type": "code",
   "execution_count": null,
   "metadata": {},
   "outputs": [],
   "source": [
    "X_train_copy['Predicted']"
   ]
  },
  {
   "cell_type": "code",
   "execution_count": null,
   "metadata": {},
   "outputs": [],
   "source": [
    "X_train_copy.head()"
   ]
  },
  {
   "cell_type": "code",
   "execution_count": null,
   "metadata": {},
   "outputs": [],
   "source": [
    "MAPE=abs((X_train_copy['Actual']-X_train_copy['Predicted'])/X_train_copy['Actual']).mean()*100"
   ]
  },
  {
   "cell_type": "code",
   "execution_count": null,
   "metadata": {},
   "outputs": [],
   "source": [
    "MAPE"
   ]
  },
  {
   "cell_type": "code",
   "execution_count": null,
   "metadata": {},
   "outputs": [],
   "source": [
    "# Plot the histogram of the error terms\n",
    "import matplotlib.pyplot as plt\n",
    "import seaborn as sns\n",
    "fig = plt.figure()\n",
    "sns.distplot((X_train_copy['Actual'] - X_train_copy['Predicted']), bins = 20)\n",
    "fig.suptitle('Error Terms', fontsize = 20)                  \n",
    "plt.xlabel('Errors', fontsize = 18)  \n",
    "plt.show()"
   ]
  },
  {
   "cell_type": "code",
   "execution_count": null,
   "metadata": {},
   "outputs": [],
   "source": [
    "plt.ion()\n",
    "plt.figure(figsize=(10,10))\n",
    "plt.scatter(X_train_copy['Actual'], X_train_copy['Predicted'], c='crimson')\n",
    "#plt.yscale('log')\n",
    "#plt.xscale('log')\n",
    "\n",
    "p1 = max(max(X_train_copy['Predicted']), max(X_train_copy['Actual']))\n",
    "p2 = min(min(X_train_copy['Predicted']), min(X_train_copy['Actual']))\n",
    "plt.plot([p1, p2], [p1, p2])\n",
    "plt.xlabel('Actual', fontsize=15)\n",
    "plt.ylabel('Predicted', fontsize=15)\n",
    "plt.axis('equal')\n",
    "plt.ion()\n",
    "plt.show()"
   ]
  },
  {
   "cell_type": "code",
   "execution_count": null,
   "metadata": {},
   "outputs": [],
   "source": [
    "plt.figure(figsize=(10,8))\n",
    "sns.set_context(\"notebook\")\n",
    "ax1 = sns.distplot(X_train_copy['Actual'], hist=False, color=\"r\", label=\"Actual Value\")\n",
    "sns.distplot(X_train_copy['Predicted'], hist=False, color=\"b\", label=\"Fitted Values\" , ax=ax1)\n",
    "plt.show()"
   ]
  },
  {
   "cell_type": "code",
   "execution_count": null,
   "metadata": {},
   "outputs": [],
   "source": [
    "import plotly.express as px\n",
    "import plotly.graph_objects as go"
   ]
  },
  {
   "cell_type": "code",
   "execution_count": null,
   "metadata": {},
   "outputs": [],
   "source": [
    "p1 = max(max(X_train_copy['Predicted']), max(X_train_copy['Actual']))\n",
    "p2 = min(min(X_train_copy['Predicted']), min(X_train_copy['Actual']))\n",
    "#px.plot([p1, p2], [p1, p2])\n",
    "#px.xlabel('Actual', fontsize=15)\n",
    "#px.ylabel('Predicted', fontsize=15)\n",
    "#px.axis('equal')\n",
    "#px.show()\n",
    "#df = px.data.tips()\n",
    "fig = px.scatter(X_train_copy, x = \"Actual\", y = \"Predicted\")\n",
    "fig.add_traces(go.Scatter(x=[p1,p2], y=[p1,p2], name='Regression Fit'))\n",
    "fig.show()"
   ]
  },
  {
   "cell_type": "code",
   "execution_count": null,
   "metadata": {},
   "outputs": [],
   "source": [
    "y_test_pred=random_cv.predict(X_test)"
   ]
  },
  {
   "cell_type": "code",
   "execution_count": null,
   "metadata": {},
   "outputs": [],
   "source": [
    "from sklearn.metrics import accuracy_score"
   ]
  },
  {
   "cell_type": "code",
   "execution_count": null,
   "metadata": {},
   "outputs": [],
   "source": [
    "\n",
    "predictions = [round(value) for value in y_test_pred]\n",
    "# evaluate predictions\n",
    "accuracy = accuracy_score(y_test, predictions)\n",
    "print(\"Accuracy: %.2f%%\" % (accuracy * 100.0))\n",
    "# retrieve performance metrics\n",
    "results = clf.evals_result()\n",
    "epochs = len(results['validation_0']['error'])\n",
    "x_axis = range(0, epochs)\n",
    "# plot log loss\n",
    "fig, ax = plt.subplots()\n",
    "ax.plot(x_axis, results['validation_0']['logloss'], label='Train')\n",
    "ax.plot(x_axis, results['validation_1']['logloss'], label='Test')\n",
    "ax.legend()\n",
    "plt.ylabel('Log Loss')\n",
    "plt.title('XGBoost Log Loss')\n",
    "plt.show()\n",
    "# plot classification error\n",
    "fig, ax = plt.subplots()\n",
    "ax.plot(x_axis, results['validation_0']['error'], label='Train')\n",
    "ax.plot(x_axis, results['validation_1']['error'], label='Test')\n",
    "ax.legend()\n",
    "plt.ylabel('Classification Error')\n",
    "plt.title('XGBoost Classification Error')\n",
    "plt.show()"
   ]
  },
  {
   "cell_type": "code",
   "execution_count": null,
   "metadata": {},
   "outputs": [],
   "source": [
    "r2_score(y_test,y_test_pred)"
   ]
  },
  {
   "cell_type": "code",
   "execution_count": null,
   "metadata": {},
   "outputs": [],
   "source": [
    "X_test_copy=X_test.copy()\n",
    "X_test_copy['Predicted']=y_test_pred\n",
    "X_test_copy['Actual']=y_test\n"
   ]
  },
  {
   "cell_type": "code",
   "execution_count": null,
   "metadata": {},
   "outputs": [],
   "source": [
    "X_test_copy['Predicted']"
   ]
  },
  {
   "cell_type": "code",
   "execution_count": null,
   "metadata": {},
   "outputs": [],
   "source": [
    "X_test_copy.head()"
   ]
  },
  {
   "cell_type": "code",
   "execution_count": null,
   "metadata": {},
   "outputs": [],
   "source": [
    "X_test = Model_data.transform(X_test)"
   ]
  },
  {
   "cell_type": "code",
   "execution_count": null,
   "metadata": {},
   "outputs": [],
   "source": [
    "MAPE_test=abs((X_test_copy['Actual']-X_test_copy['Predicted'])/X_test_copy['Actual']).mean()*100"
   ]
  },
  {
   "cell_type": "code",
   "execution_count": null,
   "metadata": {},
   "outputs": [],
   "source": [
    "MAPE_test"
   ]
  },
  {
   "cell_type": "code",
   "execution_count": null,
   "metadata": {},
   "outputs": [],
   "source": [
    "plt.figure(figsize=(10,8))\n",
    "sns.set_context(\"notebook\")\n",
    "ax1 = sns.distplot(X_test_copy['Actual'], hist=False, color=\"r\", label=\"Actual Value\")\n",
    "sns.distplot(X_test_copy['Predicted'], hist=False, color=\"b\", label=\"Fitted Values\" , ax=ax1)\n",
    "plt.show()"
   ]
  },
  {
   "cell_type": "code",
   "execution_count": null,
   "metadata": {},
   "outputs": [],
   "source": [
    "# Plot the histogram of the error terms\n",
    "import matplotlib.pyplot as plt\n",
    "import seaborn as sns\n",
    "fig = plt.figure()\n",
    "sns.distplot((X_test_copy['Actual'] - X_test_copy['Predicted']), bins = 20)\n",
    "fig.suptitle('Error Terms', fontsize = 20)                  \n",
    "plt.xlabel('Errors', fontsize = 18)  \n",
    "plt.show()"
   ]
  },
  {
   "cell_type": "code",
   "execution_count": null,
   "metadata": {},
   "outputs": [],
   "source": [
    "# Fit the model\n",
    "#_model_ = smf.ols(\"outcome ~ predictor\", data=Model_data).fit()\n",
    "\n"
   ]
  },
  {
   "cell_type": "code",
   "execution_count": null,
   "metadata": {},
   "outputs": [],
   "source": [
    "# Print the summary statistics\n",
    "#print(_model_.summary())\n",
    "\n",
    "# Make predictions\n",
    "#predictions = model.predict(Model_data)"
   ]
  },
  {
   "cell_type": "code",
   "execution_count": null,
   "metadata": {},
   "outputs": [],
   "source": [
    "plt.figure(figsize=(10,10))\n",
    "plt.scatter(X_test_copy['Actual'], X_test_copy['Predicted'], c='crimson')\n",
    "#plt.yscale('log')\n",
    "#plt.xscale('log')\n",
    "\n",
    "p1 = max(max(X_test_copy['Predicted']), max(X_test_copy['Actual']))\n",
    "p2 = min(min(X_test_copy['Predicted']), min(X_test_copy['Actual']))\n",
    "plt.plot([p1, p2], [p1, p2])\n",
    "plt.xlabel('Actual', fontsize=15)\n",
    "plt.ylabel('Predicted', fontsize=15)\n",
    "plt.axis('equal')\n",
    "plt.show()"
   ]
  },
  {
   "cell_type": "code",
   "execution_count": null,
   "metadata": {},
   "outputs": [],
   "source": [
    "%matplotlib inline\n",
    "%config InlineBackend.figure_format = 'svg'\n",
    "def plot_metric(history, metric):\n",
    "    train_metrics = history.history[metric]\n",
    "    val_metrics = history.history['val_'+metric]\n",
    "    early_stopping_rounds = range(1, len(train_metrics) + 1)\n",
    "    plt.plot(early_stopping_rounds, train_metrics)\n",
    "    plt.plot(early_stopping_rounds, val_metrics)\n",
    "    plt.title('Training and validation '+ metric)\n",
    "    plt.xlabel(\"Epochs\")\n",
    "    plt.ylabel(metric)\n",
    "    plt.legend([\"train_\"+metric, 'val_'+metric])\n",
    "    plt.show()"
   ]
  },
  {
   "cell_type": "code",
   "execution_count": null,
   "metadata": {},
   "outputs": [],
   "source": [
    "plot_metric(history, 'loss')"
   ]
  },
  {
   "cell_type": "code",
   "execution_count": null,
   "metadata": {},
   "outputs": [],
   "source": [
    "\n",
    "import statsmodels.formula.api as smf\n",
    "\n",
    "# Load the data\n",
    "#df = pd.read_csv(\"data.csv\")\n",
    "\n",
    "# Fit the model\n",
    "model = smf.ols(\"outcome ~ predictor\", data=Model_data).fit()\n",
    "\n",
    "# Print the summary statistics\n",
    "print(model.summary())\n",
    "\n",
    "# Make predictions\n",
    "predictions = model.predict(Model_data)\n",
    "\n",
    "\n",
    "\n",
    "\n",
    "\n",
    "\n"
   ]
  },
  {
   "cell_type": "code",
   "execution_count": null,
   "metadata": {},
   "outputs": [],
   "source": []
  },
  {
   "cell_type": "code",
   "execution_count": null,
   "metadata": {},
   "outputs": [],
   "source": []
  },
  {
   "cell_type": "code",
   "execution_count": null,
   "metadata": {},
   "outputs": [],
   "source": []
  }
 ],
 "metadata": {
  "instance_type": "ml.t3.medium",
  "kernelspec": {
   "display_name": "Python 3 (Data Science)",
   "language": "python",
   "name": "python3__SAGEMAKER_INTERNAL__arn:aws:sagemaker:ap-south-1:394103062818:image/datascience-1.0"
  },
  "language_info": {
   "codemirror_mode": {
    "name": "ipython",
    "version": 3
   },
   "file_extension": ".py",
   "mimetype": "text/x-python",
   "name": "python",
   "nbconvert_exporter": "python",
   "pygments_lexer": "ipython3",
   "version": "3.7.10"
  }
 },
 "nbformat": 4,
 "nbformat_minor": 4
}
